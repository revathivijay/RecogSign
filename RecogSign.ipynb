{
  "nbformat": 4,
  "nbformat_minor": 0,
  "metadata": {
    "colab": {
      "name": "RecogSign.ipynb",
      "provenance": [],
      "collapsed_sections": []
    },
    "kernelspec": {
      "name": "python3",
      "display_name": "Python 3"
    }
  },
  "cells": [
    {
      "cell_type": "code",
      "metadata": {
        "id": "rlyE9JW2ttn3"
      },
      "source": [
        "from google.colab import drive\n",
        "drive.mount('/content/gdrive')"
      ],
      "execution_count": null,
      "outputs": []
    },
    {
      "cell_type": "code",
      "metadata": {
        "colab": {
          "base_uri": "https://localhost:8080/"
        },
        "id": "o8OLPlWzujz9",
        "outputId": "27d6182e-5fe2-4a7e-cd38-92037721cba3"
      },
      "source": [
        "!ls /content/gdrive"
      ],
      "execution_count": null,
      "outputs": [
        {
          "output_type": "stream",
          "text": [
            "MyDrive\n"
          ],
          "name": "stdout"
        }
      ]
    },
    {
      "cell_type": "code",
      "metadata": {
        "colab": {
          "base_uri": "https://localhost:8080/"
        },
        "id": "pG1TBbuUusCJ",
        "outputId": "ee74326f-fba0-48bd-a8b4-f152730a1a45"
      },
      "source": [
        "!ls /content/gdrive/MyDrive/RecogSign/"
      ],
      "execution_count": null,
      "outputs": [
        {
          "output_type": "stream",
          "text": [
            "Annotations  model.f5.data-00000-of-00001  Resized    train.txt\n",
            "backup\t     model.f5.index\t\t   Test       val.txt\n",
            "checkpoint   model.json\t\t\t   Test.csv   YOLO_Format\n",
            "Meta\t     NewPreprocessed\t\t   Train\n",
            "Meta.csv     Preprocessed\t\t   Train.csv\n"
          ],
          "name": "stdout"
        }
      ]
    },
    {
      "cell_type": "code",
      "metadata": {
        "colab": {
          "base_uri": "https://localhost:8080/"
        },
        "id": "jDVzwSljvBDe",
        "outputId": "faa57b87-8d6b-453c-a40a-86bdf203db5a"
      },
      "source": [
        "!ls /content/gdrive/MyDrive/RecogSign/NewPreprocessed/"
      ],
      "execution_count": null,
      "outputs": [
        {
          "output_type": "stream",
          "text": [
            "0  1  2  3  4  5  6  7\n"
          ],
          "name": "stdout"
        }
      ]
    },
    {
      "cell_type": "code",
      "metadata": {
        "id": "RRHXRNSUwyAr"
      },
      "source": [
        "#imports\n",
        "\n",
        "import numpy as np\n",
        "import pandas as pd\n",
        "\n",
        "\n",
        "import PIL\n",
        "from PIL import Image\n",
        "import cv2\n",
        "\n",
        "import matplotlib.pyplot as plt\n",
        "\n",
        "\n",
        "import tensorflow as tf\n",
        "import keras\n",
        "from sklearn.model_selection import train_test_split\n",
        "from sklearn.metrics import accuracy_score\n",
        "import time\n",
        "import os\n",
        "import warnings\n",
        "\n",
        "warnings.filterwarnings(\"ignore\")"
      ],
      "execution_count": null,
      "outputs": []
    },
    {
      "cell_type": "code",
      "metadata": {
        "id": "Qu-76GHJwyCg"
      },
      "source": [
        "## load data\n",
        "\n",
        "total_classes = 8  # preprocessed classes\n",
        "\n",
        "TRAIN_PATH='/content/gdrive/MyDrive/RecogSign/NewPreprocessed'\n",
        "\n",
        "image_data = []\n",
        "image_labels = []\n",
        "\n",
        "height = 32\n",
        "width = 32\n",
        "channels = 3"
      ],
      "execution_count": null,
      "outputs": []
    },
    {
      "cell_type": "code",
      "metadata": {
        "colab": {
          "base_uri": "https://localhost:8080/",
          "height": 498
        },
        "id": "psMF6xTJCUmJ",
        "outputId": "69d75711-3a3a-4919-e84d-be61a66a67e4"
      },
      "source": [
        "# viewing random images of class 0\n",
        "import cv2\n",
        "import matplotlib.pyplot as plt\n",
        "import glob\n",
        "from google.colab.patches import cv2_imshow #substitute for colab\n",
        "\n",
        "dir_path_temp = TRAIN_PATH + '/0/'\n",
        "images_in_path = os.listdir(dir_path_temp)\n",
        "\n",
        "# select images\n",
        "n_images = 2\n",
        "import random\n",
        "new_img_list = random.sample(images_in_path, n_images)\n",
        "\n",
        "for path_temp in new_img_list:\n",
        "  print(path_temp)\n",
        "  img_temp = cv2.imread(dir_path_temp + path_temp) \n",
        "  cv2_imshow(img_temp)"
      ],
      "execution_count": null,
      "outputs": [
        {
          "output_type": "stream",
          "text": [
            "00000_00003_00016.png\n"
          ],
          "name": "stdout"
        },
        {
          "output_type": "display_data",
          "data": {
            "image/png": "[encoded data removed]",
            "text/plain": [
              "<PIL.Image.Image image mode=RGB size=224x224 at 0x7F796F15FBD0>"
            ]
          },
          "metadata": {
            "tags": []
          }
        },
        {
          "output_type": "stream",
          "text": [
            "00000_00002_00024.png\n"
          ],
          "name": "stdout"
        },
        {
          "output_type": "display_data",
          "data": {
            "image/png": "[encoded data removed]",
            "text/plain": [
              "<PIL.Image.Image image mode=RGB size=224x224 at 0x7F796F15FC50>"
            ]
          },
          "metadata": {
            "tags": []
          }
        }
      ]
    },
    {
      "cell_type": "code",
      "metadata": {
        "colab": {
          "base_uri": "https://localhost:8080/",
          "height": 499
        },
        "id": "eBzBCwxpEOAh",
        "outputId": "1d320525-e1be-4afe-c0bb-59e6b4b278ef"
      },
      "source": [
        "# viewing random images of class 1\n",
        "import cv2\n",
        "import matplotlib.pyplot as plt\n",
        "import glob\n",
        "from google.colab.patches import cv2_imshow #substitute for colab\n",
        "\n",
        "dir_path_temp = TRAIN_PATH + '/1/'\n",
        "images_in_path = os.listdir(dir_path_temp)\n",
        "\n",
        "# select images\n",
        "n_images = 2\n",
        "import random\n",
        "new_img_list = random.sample(images_in_path, n_images)\n",
        "\n",
        "for path_temp in new_img_list:\n",
        "  print(path_temp)\n",
        "  img_temp = cv2.imread(dir_path_temp + path_temp) \n",
        "  cv2_imshow(img_temp)"
      ],
      "execution_count": null,
      "outputs": [
        {
          "output_type": "stream",
          "text": [
            "00001_00025_00028.png\n"
          ],
          "name": "stdout"
        },
        {
          "output_type": "display_data",
          "data": {
            "image/png": "[encoded data removed]",
            "text/plain": [
              "<PIL.Image.Image image mode=RGB size=224x224 at 0x7FB558086C90>"
            ]
          },
          "metadata": {
            "tags": []
          }
        },
        {
          "output_type": "stream",
          "text": [
            "00001_00069_00022.png\n"
          ],
          "name": "stdout"
        },
        {
          "output_type": "display_data",
          "data": {
            "image/png": "[encoded data removed]",
            "text/plain": [
              "<PIL.Image.Image image mode=RGB size=224x224 at 0x7FB558294790>"
            ]
          },
          "metadata": {
            "tags": []
          }
        }
      ]
    },
    {
      "cell_type": "code",
      "metadata": {
        "id": "rDIK_turETcJ"
      },
      "source": [
        "img_temp = cv2.imread(dir_path_temp + path_temp)\n",
        "cv2_imshow(img_temp) \n",
        "print(img_temp.shape)\n",
        "\n",
        "print(img_temp)\n",
        "\n",
        "image_fromarray = Image.fromarray(img_temp)\n",
        "print(image_fromarray)\n",
        "resize_image = image_fromarray.resize((height, width))\n",
        "print(resize_image)"
      ],
      "execution_count": null,
      "outputs": []
    },
    {
      "cell_type": "code",
      "metadata": {
        "colab": {
          "base_uri": "https://localhost:8080/"
        },
        "id": "RRZuHEJNwyEZ",
        "outputId": "0b4cd425-f914-492d-89e3-8d36a8748612"
      },
      "source": [
        "for i in range(total_classes):\n",
        "    path = TRAIN_PATH + '/' + str(i)\n",
        "    print(f\"Input directory {i}: {path}\")\n",
        "    images = os.listdir(path)\n",
        "    print(f\"Images: {images[:5]}\")\n",
        "    for img in images:\n",
        "        try:\n",
        "            image = cv2.imread(path + '/' + img)\n",
        "            image_fromarray = Image.fromarray(image)\n",
        "            resize_image = image_fromarray.resize((height, width))\n",
        "            image_data.append(np.array(resize_image))\n",
        "            image_labels.append(i)\n",
        "        except:\n",
        "            # print(\"Error in Image loading\")\n",
        "            print(\"Error\")\n",
        "            break\n",
        "    # print(f\"Done loading {i} folder\")  \n",
        " \n",
        "# Converting lists into numpy arrays\n",
        "image_data = np.array(image_data)\n",
        "image_labels = np.array(image_labels)"
      ],
      "execution_count": null,
      "outputs": [
        {
          "output_type": "stream",
          "text": [
            "Input directory 0: /content/gdrive/MyDrive/RecogSign/NewPreprocessed/0\n",
            "Images: ['00000_00000_00000.png', '00000_00000_00002.png', '00000_00000_00004.png', '00000_00000_00003.png', '00000_00000_00008.png']\n",
            "Input directory 1: /content/gdrive/MyDrive/RecogSign/NewPreprocessed/1\n",
            "Images: ['00001_00035_00024.png', '00001_00035_00025.png', '00001_00035_00026.png', '00001_00035_00028.png', '00001_00035_00027.png']\n",
            "Input directory 2: /content/gdrive/MyDrive/RecogSign/NewPreprocessed/2\n",
            "Images: ['00002_00033_00027.png', '00002_00033_00028.png', '00002_00033_00029.png', '00002_00034_00002.png', '00002_00034_00003.png']\n",
            "Input directory 3: /content/gdrive/MyDrive/RecogSign/NewPreprocessed/3\n",
            "Images: ['00003_00004_00015.png', '00003_00004_00016.png', '00003_00004_00017.png', '00003_00004_00019.png', '00003_00004_00018.png']\n",
            "Input directory 4: /content/gdrive/MyDrive/RecogSign/NewPreprocessed/4\n",
            "Images: ['00004_00025_00025.png', '00004_00025_00026.png', '00004_00025_00027.png', '00004_00025_00028.png', '00004_00025_00029.png']\n",
            "Input directory 5: /content/gdrive/MyDrive/RecogSign/NewPreprocessed/5\n",
            "Images: ['00005_00016_00019.png', '00005_00016_00020.png', '00005_00016_00021.png', '00005_00016_00022.png', '00005_00016_00023.png']\n",
            "Input directory 6: /content/gdrive/MyDrive/RecogSign/NewPreprocessed/6\n",
            "Images: ['00007_00005_00012.png', '00007_00005_00013.png', '00007_00005_00014.png', '00007_00005_00015.png', '00007_00005_00016.png']\n",
            "Input directory 7: /content/gdrive/MyDrive/RecogSign/NewPreprocessed/7\n",
            "Images: ['00008_00000_00000.png', '00008_00000_00001.png', '00008_00000_00002.png', '00008_00000_00005.png', '00008_00000_00004.png']\n"
          ],
          "name": "stdout"
        }
      ]
    },
    {
      "cell_type": "code",
      "metadata": {
        "colab": {
          "base_uri": "https://localhost:8080/"
        },
        "id": "6vlsa18CwyGb",
        "outputId": "b7ed4c8e-644d-4318-cb40-2e1dfd0b7a31"
      },
      "source": [
        "print(len(image_data))\n",
        "print(len(image_labels))"
      ],
      "execution_count": null,
      "outputs": [
        {
          "output_type": "stream",
          "text": [
            "10175\n",
            "10175\n"
          ],
          "name": "stdout"
        }
      ]
    },
    {
      "cell_type": "code",
      "metadata": {
        "colab": {
          "base_uri": "https://localhost:8080/"
        },
        "id": "kw8Dov7LH_YE",
        "outputId": "fbe90102-41e6-4368-aa69-cda6fea08653"
      },
      "source": [
        "print(image_data[0].shape)"
      ],
      "execution_count": null,
      "outputs": [
        {
          "output_type": "stream",
          "text": [
            "(32, 32, 3)\n"
          ],
          "name": "stdout"
        }
      ]
    },
    {
      "cell_type": "code",
      "metadata": {
        "id": "L7T9V-YN-361"
      },
      "source": [
        "# Shuffling data\n",
        "shuffle_indexes = np.arange(image_data.shape[0])\n",
        "np.random.shuffle(shuffle_indexes)\n",
        "\n",
        "image_data = image_data[shuffle_indexes]\n",
        "image_labels = image_labels[shuffle_indexes]"
      ],
      "execution_count": null,
      "outputs": []
    },
    {
      "cell_type": "code",
      "metadata": {
        "id": "q7fs_n8y-4C7"
      },
      "source": [
        "## splitting into train and validation\n",
        "x_train, x_test, y_train, y_test = train_test_split(image_data, image_labels, test_size=0.1)"
      ],
      "execution_count": null,
      "outputs": []
    },
    {
      "cell_type": "code",
      "metadata": {
        "colab": {
          "base_uri": "https://localhost:8080/"
        },
        "id": "V139lYKQ-4H9",
        "outputId": "3c11af58-6b74-4936-ab8b-0a47b4485108"
      },
      "source": [
        "# shapes of train, test\n",
        "print(f\"Shape of x_train: {x_train.shape}\")\n",
        "print(f\"Shape of x_test: {x_test.shape}\")\n",
        "print(f\"Shape of y_train: {y_train.shape}\")\n",
        "print(f\"Shape of y_test: {y_test.shape}\")"
      ],
      "execution_count": null,
      "outputs": [
        {
          "output_type": "stream",
          "text": [
            "Shape of x_train: (9157, 32, 32, 3)\n",
            "Shape of x_test: (1018, 32, 32, 3)\n",
            "Shape of y_train: (9157,)\n",
            "Shape of y_test: (1018,)\n"
          ],
          "name": "stdout"
        }
      ]
    },
    {
      "cell_type": "code",
      "metadata": {
        "colab": {
          "base_uri": "https://localhost:8080/"
        },
        "id": "Eb1N2x-e-4J5",
        "outputId": "bf650bca-a215-43e6-e7b1-9bff199a63a7"
      },
      "source": [
        "## convert labels - one hot encoding\n",
        "y_train = keras.utils.to_categorical(y_train, total_classes)\n",
        "y_test = keras.utils.to_categorical(y_test, total_classes)\n",
        "\n",
        "print(f\"Shape of y_train: {y_train.shape}\")\n",
        "print(f\"Shape of y_test: {y_test.shape}\")"
      ],
      "execution_count": null,
      "outputs": [
        {
          "output_type": "stream",
          "text": [
            "Shape of y_train: (9157, 8)\n",
            "Shape of y_test: (1018, 8)\n"
          ],
          "name": "stdout"
        }
      ]
    },
    {
      "cell_type": "code",
      "metadata": {
        "id": "CWyUg4gVwyIk"
      },
      "source": [
        "np.random.seed(42)"
      ],
      "execution_count": null,
      "outputs": []
    },
    {
      "cell_type": "code",
      "metadata": {
        "colab": {
          "base_uri": "https://localhost:8080/"
        },
        "id": "huYPVCQ5AqVN",
        "outputId": "bf49e4b9-1f86-4dff-ba54-2c0665112b52"
      },
      "source": [
        "model = keras.models.Sequential([\n",
        "    keras.layers.Conv2D(filters=18, kernel_size=(5,5), strides=1, activation=\"relu\", \n",
        "                        input_shape=(height, width, channels)),\n",
        "    keras.layers.MaxPooling2D(pool_size=(2,2), strides=2),\n",
        "    keras.layers.Conv2D(filters=36, kernel_size=(5,5), strides=1, activation=\"relu\"),\n",
        "    keras.layers.MaxPooling2D(pool_size=(2,2), strides=2),\n",
        "    keras.layers.Conv2D(filters=36, kernel_size=(5, 5), activation=\"relu\"),\n",
        "    keras.layers.MaxPooling2D(pool_size=(1,1)),\n",
        "    keras.layers.Flatten(),\n",
        "    keras.layers.Dense(units=72, activation=\"relu\"),\n",
        "    keras.layers.Dense(units=8, activation=\"softmax\"),\n",
        "])\n",
        "\n",
        "model.summary()"
      ],
      "execution_count": null,
      "outputs": [
        {
          "output_type": "stream",
          "text": [
            "Model: \"sequential_6\"\n",
            "_________________________________________________________________\n",
            "Layer (type)                 Output Shape              Param #   \n",
            "=================================================================\n",
            "conv2d_20 (Conv2D)           (None, 28, 28, 18)        1368      \n",
            "_________________________________________________________________\n",
            "max_pooling2d_20 (MaxPooling (None, 14, 14, 18)        0         \n",
            "_________________________________________________________________\n",
            "conv2d_21 (Conv2D)           (None, 10, 10, 36)        16236     \n",
            "_________________________________________________________________\n",
            "max_pooling2d_21 (MaxPooling (None, 5, 5, 36)          0         \n",
            "_________________________________________________________________\n",
            "conv2d_22 (Conv2D)           (None, 1, 1, 36)          32436     \n",
            "_________________________________________________________________\n",
            "max_pooling2d_22 (MaxPooling (None, 1, 1, 36)          0         \n",
            "_________________________________________________________________\n",
            "flatten_6 (Flatten)          (None, 36)                0         \n",
            "_________________________________________________________________\n",
            "dense_12 (Dense)             (None, 72)                2664      \n",
            "_________________________________________________________________\n",
            "dense_13 (Dense)             (None, 8)                 584       \n",
            "=================================================================\n",
            "Total params: 53,288\n",
            "Trainable params: 53,288\n",
            "Non-trainable params: 0\n",
            "_________________________________________________________________\n"
          ],
          "name": "stdout"
        }
      ]
    },
    {
      "cell_type": "code",
      "metadata": {
        "colab": {
          "base_uri": "https://localhost:8080/"
        },
        "id": "ZIEdx0iDA1Bx",
        "outputId": "45232cd0-bfcc-4561-e431-b46b1f4982c4"
      },
      "source": [
        "model.compile(loss=\"categorical_crossentropy\", optimizer=\"adam\", metrics=[\"accuracy\"])\n",
        "\n",
        "epochs = 20\n",
        "validation_data = (x_test, y_test)\n",
        "history = model.fit(x_train, y_train, batch_size=32, epochs=epochs, validation_data=(x_test, y_test))"
      ],
      "execution_count": null,
      "outputs": [
        {
          "output_type": "stream",
          "text": [
            "Epoch 1/20\n",
            "287/287 [==============================] - 11s 37ms/step - loss: 6.3136 - accuracy: 0.3226 - val_loss: 0.6621 - val_accuracy: 0.7839\n",
            "Epoch 2/20\n",
            "287/287 [==============================] - 10s 36ms/step - loss: 0.5454 - accuracy: 0.8219 - val_loss: 0.2778 - val_accuracy: 0.9175\n",
            "Epoch 3/20\n",
            "287/287 [==============================] - 10s 36ms/step - loss: 0.2285 - accuracy: 0.9275 - val_loss: 0.3131 - val_accuracy: 0.9018\n",
            "Epoch 4/20\n",
            "287/287 [==============================] - 10s 36ms/step - loss: 0.1554 - accuracy: 0.9467 - val_loss: 0.2274 - val_accuracy: 0.9411\n",
            "Epoch 5/20\n",
            "287/287 [==============================] - 10s 36ms/step - loss: 0.1139 - accuracy: 0.9635 - val_loss: 0.2273 - val_accuracy: 0.9332\n",
            "Epoch 6/20\n",
            "287/287 [==============================] - 10s 36ms/step - loss: 0.0858 - accuracy: 0.9717 - val_loss: 0.1640 - val_accuracy: 0.9499\n",
            "Epoch 7/20\n",
            "287/287 [==============================] - 10s 36ms/step - loss: 0.0799 - accuracy: 0.9724 - val_loss: 0.1579 - val_accuracy: 0.9528\n",
            "Epoch 8/20\n",
            "287/287 [==============================] - 10s 36ms/step - loss: 0.0522 - accuracy: 0.9834 - val_loss: 0.2089 - val_accuracy: 0.9499\n",
            "Epoch 9/20\n",
            "287/287 [==============================] - 10s 36ms/step - loss: 0.0627 - accuracy: 0.9803 - val_loss: 0.1546 - val_accuracy: 0.9587\n",
            "Epoch 10/20\n",
            "287/287 [==============================] - 10s 36ms/step - loss: 0.0400 - accuracy: 0.9872 - val_loss: 0.2368 - val_accuracy: 0.9538\n",
            "Epoch 11/20\n",
            "287/287 [==============================] - 10s 36ms/step - loss: 0.0695 - accuracy: 0.9775 - val_loss: 0.2454 - val_accuracy: 0.9430\n",
            "Epoch 12/20\n",
            "287/287 [==============================] - 10s 36ms/step - loss: 0.0512 - accuracy: 0.9822 - val_loss: 0.1427 - val_accuracy: 0.9617\n",
            "Epoch 13/20\n",
            "287/287 [==============================] - 10s 36ms/step - loss: 0.0455 - accuracy: 0.9850 - val_loss: 0.1942 - val_accuracy: 0.9558\n",
            "Epoch 14/20\n",
            "287/287 [==============================] - 10s 36ms/step - loss: 0.0395 - accuracy: 0.9875 - val_loss: 0.2220 - val_accuracy: 0.9460\n",
            "Epoch 15/20\n",
            "287/287 [==============================] - 10s 36ms/step - loss: 0.0592 - accuracy: 0.9828 - val_loss: 0.1685 - val_accuracy: 0.9617\n",
            "Epoch 16/20\n",
            "287/287 [==============================] - 10s 36ms/step - loss: 0.0266 - accuracy: 0.9910 - val_loss: 0.1988 - val_accuracy: 0.9509\n",
            "Epoch 17/20\n",
            "287/287 [==============================] - 10s 36ms/step - loss: 0.0517 - accuracy: 0.9834 - val_loss: 0.2530 - val_accuracy: 0.9528\n",
            "Epoch 18/20\n",
            "287/287 [==============================] - 10s 36ms/step - loss: 0.0460 - accuracy: 0.9863 - val_loss: 0.2302 - val_accuracy: 0.9597\n",
            "Epoch 19/20\n",
            "287/287 [==============================] - 10s 36ms/step - loss: 0.0514 - accuracy: 0.9816 - val_loss: 0.1957 - val_accuracy: 0.9656\n",
            "Epoch 20/20\n",
            "287/287 [==============================] - 10s 36ms/step - loss: 0.0436 - accuracy: 0.9862 - val_loss: 0.2632 - val_accuracy: 0.9489\n"
          ],
          "name": "stdout"
        }
      ]
    },
    {
      "cell_type": "code",
      "metadata": {
        "colab": {
          "base_uri": "https://localhost:8080/",
          "height": 320
        },
        "id": "a4RTBp4wA089",
        "outputId": "f9f3a0c8-8254-4400-da7a-b0fc579c069f"
      },
      "source": [
        "pd.DataFrame(history.history).plot(figsize=(8, 5))\n",
        "plt.grid(True)\n",
        "# plt.gca().set_ylim(0, 1)\n",
        "plt.show()"
      ],
      "execution_count": null,
      "outputs": [
        {
          "output_type": "display_data",
          "data": {
            "image/png": "[encoded data removed]",
            "text/plain": [
              "<Figure size 576x360 with 1 Axes>"
            ]
          },
          "metadata": {
            "tags": [],
            "needs_background": "light"
          }
        }
      ]
    },
    {
      "cell_type": "code",
      "metadata": {
        "colab": {
          "base_uri": "https://localhost:8080/"
        },
        "id": "kcdQDwSjOZba",
        "outputId": "778c84e3-619b-43d4-bbc3-b64916047409"
      },
      "source": [
        "path = '/content/gdrive/MyDrive/RecogSign/Test/PP_Test/'\n",
        "test_images = os.listdir(path)\n",
        "print(len(test_images))\n",
        "print(test_images)"
      ],
      "execution_count": null,
      "outputs": [
        {
          "output_type": "stream",
          "text": [
            "152\n",
            "['00014.png', '00013.png', '00011.png', '00023.png', '00020.png', '00030.png', '00034.png', '00036.png', '00046.png', '00049.png', '00040.png', '00056.png', '00062.png', '00068.png', '00067.png', '00086.png', '00083.png', '00074.png', '00087.png', '00092.png', '00096.png', '00105.png', '00115.png', '00121.png', '00123.png', '00122.png', '00124.png', '00138.png', '00141.png', '00150.png', '00146.png', '00162.png', '00155.png', '00159.png', '00176.png', '00179.png', '00175.png', '00180.png', '00187.png', '00181.png', '00189.png', '00195.png', '00206.png', '00202.png', '00203.png', '00213.png', '00217.png', '00218.png', '00220.png', '00221.png', '00222.png', '00223.png', '00228.png', '00227.png', '00238.png', '00246.png', '00243.png', '00247.png', '00264.png', '00252.png', '00268.png', '00279.png', '00285.png', '00284.png', '00301.png', '00295.png', '00302.png', '00307.png', '00319.png', '00316.png', '00320.png', '00321.png', '00322.png', '00328.png', '00338.png', '00329.png', '00330.png', '00343.png', '00347.png', '00351.png', '00357.png', '00366.png', '00364.png', '00375.png', '00373.png', '00383.png', '00378.png', '00390.png', '00393.png', '00403.png', '00398.png', '00408.png', '00419.png', '00420.png', '00421.png', '00472.png', '00469.png', '00481.png', '00473.png', '00495.png', '00484.png', '00508.png', '00509.png', '00510.png', '00024.png', '00091.png', '00118.png', '00128.png', '00290.png', '00409.png', '00864.png', '01007.png', '01118.png', '01226.png', '01358.png', '01645.png', '01940.png', '02594.png', '02892.png', '03110.png', '03135.png', '03420.png', '04488.png', '03451.png', '04559.png', '04493.png', '05396.png', '05598.png', '07162.png', '06367.png', '07296.png', '08536.png', '08256.png', '08745.png', '08814.png', '09605.png', '09112.png', '09028.png', '09764.png', '09900.png', '10049.png', '10071.png', '11771.png', '11790.png', '10841.png', '11804.png', '11873.png', '12272.png', '12442.png', '12273.png', '12565.png', '00001.png']\n"
          ],
          "name": "stdout"
        }
      ]
    },
    {
      "cell_type": "code",
      "metadata": {
        "colab": {
          "base_uri": "https://localhost:8080/",
          "height": 402
        },
        "id": "dttydOp13jp3",
        "outputId": "48bcc90b-cb5b-4c95-ab43-598d4cae447b"
      },
      "source": [
        "TEST_CSV_PATH = '/content/gdrive/MyDrive/RecogSign/Test.csv'\n",
        "test_df = pd.read_csv(TEST_CSV_PATH)\n",
        "test_df = test_df.drop(labels=['Width', 'Height', 'Roi.X1', 'Roi.Y1', 'Roi.X2', 'Roi.Y2'], axis=1)\n",
        "\n",
        "# removing \"Test/\" from df values\n",
        "test_df['Path'] = test_df['Path'].str[5:]\n",
        "test_df"
      ],
      "execution_count": null,
      "outputs": [
        {
          "output_type": "execute_result",
          "data": {
            "text/html": [
              "<div>\n",
              "<style scoped>\n",
              "    .dataframe tbody tr th:only-of-type {\n",
              "        vertical-align: middle;\n",
              "    }\n",
              "\n",
              "    .dataframe tbody tr th {\n",
              "        vertical-align: top;\n",
              "    }\n",
              "\n",
              "    .dataframe thead th {\n",
              "        text-align: right;\n",
              "    }\n",
              "</style>\n",
              "<table border=\"1\" class=\"dataframe\">\n",
              "  <thead>\n",
              "    <tr style=\"text-align: right;\">\n",
              "      <th></th>\n",
              "      <th>ClassId</th>\n",
              "      <th>Path</th>\n",
              "    </tr>\n",
              "  </thead>\n",
              "  <tbody>\n",
              "    <tr>\n",
              "      <th>0</th>\n",
              "      <td>16</td>\n",
              "      <td>00000.png</td>\n",
              "    </tr>\n",
              "    <tr>\n",
              "      <th>1</th>\n",
              "      <td>1</td>\n",
              "      <td>00001.png</td>\n",
              "    </tr>\n",
              "    <tr>\n",
              "      <th>2</th>\n",
              "      <td>38</td>\n",
              "      <td>00002.png</td>\n",
              "    </tr>\n",
              "    <tr>\n",
              "      <th>3</th>\n",
              "      <td>33</td>\n",
              "      <td>00003.png</td>\n",
              "    </tr>\n",
              "    <tr>\n",
              "      <th>4</th>\n",
              "      <td>11</td>\n",
              "      <td>00004.png</td>\n",
              "    </tr>\n",
              "    <tr>\n",
              "      <th>...</th>\n",
              "      <td>...</td>\n",
              "      <td>...</td>\n",
              "    </tr>\n",
              "    <tr>\n",
              "      <th>12625</th>\n",
              "      <td>12</td>\n",
              "      <td>12625.png</td>\n",
              "    </tr>\n",
              "    <tr>\n",
              "      <th>12626</th>\n",
              "      <td>33</td>\n",
              "      <td>12626.png</td>\n",
              "    </tr>\n",
              "    <tr>\n",
              "      <th>12627</th>\n",
              "      <td>6</td>\n",
              "      <td>12627.png</td>\n",
              "    </tr>\n",
              "    <tr>\n",
              "      <th>12628</th>\n",
              "      <td>7</td>\n",
              "      <td>12628.png</td>\n",
              "    </tr>\n",
              "    <tr>\n",
              "      <th>12629</th>\n",
              "      <td>10</td>\n",
              "      <td>12629.png</td>\n",
              "    </tr>\n",
              "  </tbody>\n",
              "</table>\n",
              "<p>12630 rows × 2 columns</p>\n",
              "</div>"
            ],
            "text/plain": [
              "       ClassId       Path\n",
              "0           16  00000.png\n",
              "1            1  00001.png\n",
              "2           38  00002.png\n",
              "3           33  00003.png\n",
              "4           11  00004.png\n",
              "...        ...        ...\n",
              "12625       12  12625.png\n",
              "12626       33  12626.png\n",
              "12627        6  12627.png\n",
              "12628        7  12628.png\n",
              "12629       10  12629.png\n",
              "\n",
              "[12630 rows x 2 columns]"
            ]
          },
          "metadata": {
            "tags": []
          },
          "execution_count": 15
        }
      ]
    },
    {
      "cell_type": "code",
      "metadata": {
        "id": "cjr3hKVq4w9p"
      },
      "source": [
        "#dropping rows that aren't in our test set\n",
        "for index, item in test_df.iterrows():\n",
        "  if item[1] not in test_images:\n",
        "    test_df = test_df.drop(index)"
      ],
      "execution_count": null,
      "outputs": []
    },
    {
      "cell_type": "code",
      "metadata": {
        "colab": {
          "base_uri": "https://localhost:8080/"
        },
        "id": "l76ZGVKY75Ob",
        "outputId": "aacda1b5-ba34-4c55-9bc2-34312ebbd906"
      },
      "source": [
        "print(len(test_df))"
      ],
      "execution_count": null,
      "outputs": [
        {
          "output_type": "stream",
          "text": [
            "152\n"
          ],
          "name": "stdout"
        }
      ]
    },
    {
      "cell_type": "code",
      "metadata": {
        "colab": {
          "base_uri": "https://localhost:8080/"
        },
        "id": "qXfH-njr77pu",
        "outputId": "5d60b30b-65a6-430a-9cf2-195468708b76"
      },
      "source": [
        "test_df.info()"
      ],
      "execution_count": null,
      "outputs": [
        {
          "output_type": "stream",
          "text": [
            "<class 'pandas.core.frame.DataFrame'>\n",
            "Int64Index: 152 entries, 1 to 12565\n",
            "Data columns (total 2 columns):\n",
            " #   Column   Non-Null Count  Dtype \n",
            "---  ------   --------------  ----- \n",
            " 0   ClassId  152 non-null    int64 \n",
            " 1   Path     152 non-null    object\n",
            "dtypes: int64(1), object(1)\n",
            "memory usage: 3.6+ KB\n"
          ],
          "name": "stdout"
        }
      ]
    },
    {
      "cell_type": "code",
      "metadata": {
        "id": "rzIGZQq28Roi"
      },
      "source": [
        "#change class ID 7 to 6 and 8 to 7 (as per our convention)\n",
        "# test_df = test_df.replace(to_replace=7, value=6)\n",
        "# test_df = test_df.replace(to_replace=8, value=7)"
      ],
      "execution_count": null,
      "outputs": []
    },
    {
      "cell_type": "code",
      "metadata": {
        "colab": {
          "base_uri": "https://localhost:8080/",
          "height": 402
        },
        "id": "J6fie6jG-ezZ",
        "outputId": "956e7ea8-577a-47cc-a227-48c3ab5d4621"
      },
      "source": [
        "test_df"
      ],
      "execution_count": null,
      "outputs": [
        {
          "output_type": "execute_result",
          "data": {
            "text/html": [
              "<div>\n",
              "<style scoped>\n",
              "    .dataframe tbody tr th:only-of-type {\n",
              "        vertical-align: middle;\n",
              "    }\n",
              "\n",
              "    .dataframe tbody tr th {\n",
              "        vertical-align: top;\n",
              "    }\n",
              "\n",
              "    .dataframe thead th {\n",
              "        text-align: right;\n",
              "    }\n",
              "</style>\n",
              "<table border=\"1\" class=\"dataframe\">\n",
              "  <thead>\n",
              "    <tr style=\"text-align: right;\">\n",
              "      <th></th>\n",
              "      <th>ClassId</th>\n",
              "      <th>Path</th>\n",
              "    </tr>\n",
              "  </thead>\n",
              "  <tbody>\n",
              "    <tr>\n",
              "      <th>1</th>\n",
              "      <td>1</td>\n",
              "      <td>00001.png</td>\n",
              "    </tr>\n",
              "    <tr>\n",
              "      <th>11</th>\n",
              "      <td>6</td>\n",
              "      <td>00011.png</td>\n",
              "    </tr>\n",
              "    <tr>\n",
              "      <th>13</th>\n",
              "      <td>6</td>\n",
              "      <td>00013.png</td>\n",
              "    </tr>\n",
              "    <tr>\n",
              "      <th>14</th>\n",
              "      <td>4</td>\n",
              "      <td>00014.png</td>\n",
              "    </tr>\n",
              "    <tr>\n",
              "      <th>20</th>\n",
              "      <td>4</td>\n",
              "      <td>00020.png</td>\n",
              "    </tr>\n",
              "    <tr>\n",
              "      <th>...</th>\n",
              "      <td>...</td>\n",
              "      <td>...</td>\n",
              "    </tr>\n",
              "    <tr>\n",
              "      <th>11873</th>\n",
              "      <td>0</td>\n",
              "      <td>11873.png</td>\n",
              "    </tr>\n",
              "    <tr>\n",
              "      <th>12272</th>\n",
              "      <td>4</td>\n",
              "      <td>12272.png</td>\n",
              "    </tr>\n",
              "    <tr>\n",
              "      <th>12273</th>\n",
              "      <td>7</td>\n",
              "      <td>12273.png</td>\n",
              "    </tr>\n",
              "    <tr>\n",
              "      <th>12442</th>\n",
              "      <td>3</td>\n",
              "      <td>12442.png</td>\n",
              "    </tr>\n",
              "    <tr>\n",
              "      <th>12565</th>\n",
              "      <td>2</td>\n",
              "      <td>12565.png</td>\n",
              "    </tr>\n",
              "  </tbody>\n",
              "</table>\n",
              "<p>152 rows × 2 columns</p>\n",
              "</div>"
            ],
            "text/plain": [
              "       ClassId       Path\n",
              "1            1  00001.png\n",
              "11           6  00011.png\n",
              "13           6  00013.png\n",
              "14           4  00014.png\n",
              "20           4  00020.png\n",
              "...        ...        ...\n",
              "11873        0  11873.png\n",
              "12272        4  12272.png\n",
              "12273        7  12273.png\n",
              "12442        3  12442.png\n",
              "12565        2  12565.png\n",
              "\n",
              "[152 rows x 2 columns]"
            ]
          },
          "metadata": {
            "tags": []
          },
          "execution_count": 20
        }
      ]
    },
    {
      "cell_type": "code",
      "metadata": {
        "id": "ocCuU-DmSPrq"
      },
      "source": [
        "classes = {\n",
        "    0: 'Speed limit 20',\n",
        "    1: 'Speed limit 30',\n",
        "    2: 'Speed limit 50',\n",
        "    3: 'Speed limit 60',\n",
        "    4: 'Speed limit 70',\n",
        "    5: 'Speed limit 80',\n",
        "    6: 'Speed limit 100',\n",
        "    7: 'Speed limit 120'\n",
        "}"
      ],
      "execution_count": 3,
      "outputs": []
    },
    {
      "cell_type": "code",
      "metadata": {
        "id": "w0OorNpc-vRl"
      },
      "source": [
        "labels = test_df['ClassId'].values\n",
        "imgs = test_df[\"Path\"].values\n",
        "\n",
        "test_data = []\n",
        "\n",
        "for img_temp in imgs:\n",
        "    try:\n",
        "        image = cv2.imread('/content/gdrive/MyDrive/RecogSign/Test/PP_Test/' + img_temp)\n",
        "        image_fromarray = Image.fromarray(image)\n",
        "        resize_image = image_fromarray.resize((height, width))\n",
        "        test_data.append(np.array(resize_image))\n",
        "    except:\n",
        "        print(\"Error\")\n",
        "        \n",
        "X_test = np.array(test_data)"
      ],
      "execution_count": null,
      "outputs": []
    },
    {
      "cell_type": "code",
      "metadata": {
        "id": "zp38ky5f_d6O"
      },
      "source": [
        "pred = model.predict_classes(X_test)\n",
        "\n",
        "#Accuracy with the test data\n",
        "print(\"Accuracy: \", accuracy_score(labels, pred))"
      ],
      "execution_count": null,
      "outputs": []
    },
    {
      "cell_type": "code",
      "metadata": {
        "colab": {
          "base_uri": "https://localhost:8080/",
          "height": 1000
        },
        "id": "iserMk4p5hZF",
        "outputId": "f1e2e422-98d3-483d-a0a0-249e49a5e7dd"
      },
      "source": [
        "path = '/content/gdrive/MyDrive/RecogSign/Test/PP_Test/'\n",
        "correct = 0\n",
        "total = len(test_images)\n",
        "for image_path in test_images:\n",
        "  image = cv2.imread(path + image_path)\n",
        "  cv2_imshow(image)\n",
        "\n",
        "  image_fromarray = Image.fromarray(image)\n",
        "  resize_image = image_fromarray.resize((height, width))\n",
        "  test_image = np.array(resize_image)\n",
        "  test_image = test_image.reshape(1, 32, 32, 3)\n",
        "  pred = model.predict_classes(test_image)\n",
        "  \n",
        "  print(f\"Image: {image_path}, Prediction: {pred[0]}, Class: {classes[pred[0]]}\")\n",
        "  actual_pred = test_df[test_df['Path']==image_path]['ClassId']\n",
        "  print(f\"Actual Class: {actual_pred.iloc[0]}, {classes[actual_pred.iloc[0]]}\")\n",
        "  if actual_pred.iloc[0]==pred[0]:\n",
        "    correct+=1\n",
        "    print(\"Y\")\n",
        "  else:\n",
        "    print(\"N\")"
      ],
      "execution_count": null,
      "outputs": [
        {
          "output_type": "display_data",
          "data": {
            "image/png": "[encoded data removed]",
            "text/plain": [
              "<PIL.Image.Image image mode=RGB size=224x224 at 0x7FB556001610>"
            ]
          },
          "metadata": {
            "tags": []
          }
        },
        {
          "output_type": "stream",
          "text": [
            "Image: 00014.png, Prediction: 4, Class: Speed limit 70\n",
            "Actual Class: 4, Speed limit 70\n",
            "Y\n"
          ],
          "name": "stdout"
        },
        {
          "output_type": "display_data",
          "data": {
            "image/png": "[encoded data removed]",
            "text/plain": [
              "<PIL.Image.Image image mode=RGB size=224x224 at 0x7FB555FFB550>"
            ]
          },
          "metadata": {
            "tags": []
          }
        },
        {
          "output_type": "stream",
          "text": [
            "Image: 00013.png, Prediction: 6, Class: Speed limit 100\n",
            "Actual Class: 6, Speed limit 100\n",
            "Y\n"
          ],
          "name": "stdout"
        },
        {
          "output_type": "display_data",
          "data": {
            "image/png": "[encoded data removed]",
            "text/plain": [
              "<PIL.Image.Image image mode=RGB size=224x224 at 0x7FB557C441D0>"
            ]
          },
          "metadata": {
            "tags": []
          }
        },
        {
          "output_type": "stream",
          "text": [
            "Image: 00011.png, Prediction: 6, Class: Speed limit 100\n",
            "Actual Class: 6, Speed limit 100\n",
            "Y\n"
          ],
          "name": "stdout"
        },
        {
          "output_type": "display_data",
          "data": {
            "image/png": "[encoded data removed]",
            "text/plain": [
              "<PIL.Image.Image image mode=RGB size=224x224 at 0x7FB5582F1190>"
            ]
          },
          "metadata": {
            "tags": []
          }
        },
        {
          "output_type": "stream",
          "text": [
            "Image: 00023.png, Prediction: 3, Class: Speed limit 60\n",
            "Actual Class: 3, Speed limit 60\n",
            "Y\n"
          ],
          "name": "stdout"
        },
        {
          "output_type": "display_data",
          "data": {
            "image/png": "[encoded data removed]",
            "text/plain": [
              "<PIL.Image.Image image mode=RGB size=224x224 at 0x7FB5582F1B90>"
            ]
          },
          "metadata": {
            "tags": []
          }
        },
        {
          "output_type": "stream",
          "text": [
            "Image: 00020.png, Prediction: 4, Class: Speed limit 70\n",
            "Actual Class: 4, Speed limit 70\n",
            "Y\n"
          ],
          "name": "stdout"
        },
        {
          "output_type": "display_data",
          "data": {
            "image/png": "[encoded data removed]",
            "text/plain": [
              "<PIL.Image.Image image mode=RGB size=224x224 at 0x7FB555F5A550>"
            ]
          },
          "metadata": {
            "tags": []
          }
        },
        {
          "output_type": "stream",
          "text": [
            "Image: 00030.png, Prediction: 5, Class: Speed limit 80\n",
            "Actual Class: 5, Speed limit 80\n",
            "Y\n"
          ],
          "name": "stdout"
        },
        {
          "output_type": "display_data",
          "data": {
            "image/png": "[encoded data removed]",
            "text/plain": [
              "<PIL.Image.Image image mode=RGB size=224x224 at 0x7FB555F8A290>"
            ]
          },
          "metadata": {
            "tags": []
          }
        },
        {
          "output_type": "stream",
          "text": [
            "Image: 00034.png, Prediction: 2, Class: Speed limit 50\n",
            "Actual Class: 2, Speed limit 50\n",
            "Y\n"
          ],
          "name": "stdout"
        },
        {
          "output_type": "display_data",
          "data": {
            "image/png": "[encoded data removed]",
            "text/plain": [
              "<PIL.Image.Image image mode=RGB size=224x224 at 0x7FB555F61C10>"
            ]
          },
          "metadata": {
            "tags": []
          }
        },
        {
          "output_type": "stream",
          "text": [
            "Image: 00036.png, Prediction: 3, Class: Speed limit 60\n",
            "Actual Class: 3, Speed limit 60\n",
            "Y\n"
          ],
          "name": "stdout"
        },
        {
          "output_type": "display_data",
          "data": {
            "image/png": "[encoded data removed]",
            "text/plain": [
              "<PIL.Image.Image image mode=RGB size=224x224 at 0x7FB555FF5810>"
            ]
          },
          "metadata": {
            "tags": []
          }
        },
        {
          "output_type": "stream",
          "text": [
            "Image: 00046.png, Prediction: 3, Class: Speed limit 60\n",
            "Actual Class: 3, Speed limit 60\n",
            "Y\n"
          ],
          "name": "stdout"
        },
        {
          "output_type": "display_data",
          "data": {
            "image/png": "[encoded data removed]",
            "text/plain": [
              "<PIL.Image.Image image mode=RGB size=224x224 at 0x7FB55600C790>"
            ]
          },
          "metadata": {
            "tags": []
          }
        },
        {
          "output_type": "stream",
          "text": [
            "Image: 00049.png, Prediction: 5, Class: Speed limit 80\n",
            "Actual Class: 7, Speed limit 120\n",
            "N\n"
          ],
          "name": "stdout"
        },
        {
          "output_type": "display_data",
          "data": {
            "image/png": "[encoded data removed]",
            "text/plain": [
              "<PIL.Image.Image image mode=RGB size=224x224 at 0x7FB555FB7610>"
            ]
          },
          "metadata": {
            "tags": []
          }
        },
        {
          "output_type": "stream",
          "text": [
            "Image: 00040.png, Prediction: 6, Class: Speed limit 100\n",
            "Actual Class: 6, Speed limit 100\n",
            "Y\n"
          ],
          "name": "stdout"
        },
        {
          "output_type": "display_data",
          "data": {
            "image/png": "[encoded data removed]",
            "text/plain": [
              "<PIL.Image.Image image mode=RGB size=224x224 at 0x7FB555F7FE10>"
            ]
          },
          "metadata": {
            "tags": []
          }
        },
        {
          "output_type": "stream",
          "text": [
            "Image: 00056.png, Prediction: 4, Class: Speed limit 70\n",
            "Actual Class: 5, Speed limit 80\n",
            "N\n"
          ],
          "name": "stdout"
        },
        {
          "output_type": "display_data",
          "data": {
            "image/png": "[encoded data removed]",
            "text/plain": [
              "<PIL.Image.Image image mode=RGB size=224x224 at 0x7FB555E0E190>"
            ]
          },
          "metadata": {
            "tags": []
          }
        },
        {
          "output_type": "stream",
          "text": [
            "Image: 00062.png, Prediction: 4, Class: Speed limit 70\n",
            "Actual Class: 4, Speed limit 70\n",
            "Y\n"
          ],
          "name": "stdout"
        },
        {
          "output_type": "display_data",
          "data": {
            "image/png": "[encoded data removed]",
            "text/plain": [
              "<PIL.Image.Image image mode=RGB size=224x224 at 0x7FB555FEA290>"
            ]
          },
          "metadata": {
            "tags": []
          }
        },
        {
          "output_type": "stream",
          "text": [
            "Image: 00068.png, Prediction: 1, Class: Speed limit 30\n",
            "Actual Class: 5, Speed limit 80\n",
            "N\n"
          ],
          "name": "stdout"
        },
        {
          "output_type": "display_data",
          "data": {
            "image/png": "[encoded data removed]",
            "text/plain": [
              "<PIL.Image.Image image mode=RGB size=224x224 at 0x7FB555DF9C10>"
            ]
          },
          "metadata": {
            "tags": []
          }
        },
        {
          "output_type": "stream",
          "text": [
            "Image: 00067.png, Prediction: 2, Class: Speed limit 50\n",
            "Actual Class: 2, Speed limit 50\n",
            "Y\n"
          ],
          "name": "stdout"
        },
        {
          "output_type": "display_data",
          "data": {
            "image/png": "[encoded data removed]",
            "text/plain": [
              "<PIL.Image.Image image mode=RGB size=224x224 at 0x7FB555DF9C10>"
            ]
          },
          "metadata": {
            "tags": []
          }
        },
        {
          "output_type": "stream",
          "text": [
            "Image: 00086.png, Prediction: 3, Class: Speed limit 60\n",
            "Actual Class: 3, Speed limit 60\n",
            "Y\n"
          ],
          "name": "stdout"
        },
        {
          "output_type": "display_data",
          "data": {
            "image/png": "[encoded data removed]",
            "text/plain": [
              "<PIL.Image.Image image mode=RGB size=224x224 at 0x7FB555DD1550>"
            ]
          },
          "metadata": {
            "tags": []
          }
        },
        {
          "output_type": "stream",
          "text": [
            "Image: 00083.png, Prediction: 7, Class: Speed limit 120\n",
            "Actual Class: 6, Speed limit 100\n",
            "N\n"
          ],
          "name": "stdout"
        },
        {
          "output_type": "display_data",
          "data": {
            "image/png": "[encoded data removed]",
            "text/plain": [
              "<PIL.Image.Image image mode=RGB size=224x224 at 0x7FB555DF98D0>"
            ]
          },
          "metadata": {
            "tags": []
          }
        },
        {
          "output_type": "stream",
          "text": [
            "Image: 00074.png, Prediction: 5, Class: Speed limit 80\n",
            "Actual Class: 5, Speed limit 80\n",
            "Y\n"
          ],
          "name": "stdout"
        },
        {
          "output_type": "display_data",
          "data": {
            "image/png": "[encoded data removed]",
            "text/plain": [
              "<PIL.Image.Image image mode=RGB size=224x224 at 0x7FB555E18950>"
            ]
          },
          "metadata": {
            "tags": []
          }
        },
        {
          "output_type": "stream",
          "text": [
            "Image: 00087.png, Prediction: 6, Class: Speed limit 100\n",
            "Actual Class: 6, Speed limit 100\n",
            "Y\n"
          ],
          "name": "stdout"
        },
        {
          "output_type": "display_data",
          "data": {
            "image/png": "[encoded data removed]",
            "text/plain": [
              "<PIL.Image.Image image mode=RGB size=224x224 at 0x7FB555F98F10>"
            ]
          },
          "metadata": {
            "tags": []
          }
        },
        {
          "output_type": "stream",
          "text": [
            "Image: 00092.png, Prediction: 2, Class: Speed limit 50\n",
            "Actual Class: 2, Speed limit 50\n",
            "Y\n"
          ],
          "name": "stdout"
        },
        {
          "output_type": "display_data",
          "data": {
            "image/png": "[encoded data removed]",
            "text/plain": [
              "<PIL.Image.Image image mode=RGB size=224x224 at 0x7FB555E0E650>"
            ]
          },
          "metadata": {
            "tags": []
          }
        },
        {
          "output_type": "stream",
          "text": [
            "Image: 00096.png, Prediction: 3, Class: Speed limit 60\n",
            "Actual Class: 3, Speed limit 60\n",
            "Y\n"
          ],
          "name": "stdout"
        },
        {
          "output_type": "display_data",
          "data": {
            "image/png": "[encoded data removed]",
            "text/plain": [
              "<PIL.Image.Image image mode=RGB size=224x224 at 0x7FB555FCA0D0>"
            ]
          },
          "metadata": {
            "tags": []
          }
        },
        {
          "output_type": "stream",
          "text": [
            "Image: 00105.png, Prediction: 4, Class: Speed limit 70\n",
            "Actual Class: 4, Speed limit 70\n",
            "Y\n"
          ],
          "name": "stdout"
        },
        {
          "output_type": "display_data",
          "data": {
            "image/png": "[encoded data removed]",
            "text/plain": [
              "<PIL.Image.Image image mode=RGB size=224x224 at 0x7FB555FCA0D0>"
            ]
          },
          "metadata": {
            "tags": []
          }
        },
        {
          "output_type": "stream",
          "text": [
            "Image: 00115.png, Prediction: 3, Class: Speed limit 60\n",
            "Actual Class: 3, Speed limit 60\n",
            "Y\n"
          ],
          "name": "stdout"
        },
        {
          "output_type": "display_data",
          "data": {
            "image/png": "[encoded data removed]",
            "text/plain": [
              "<PIL.Image.Image image mode=RGB size=224x224 at 0x7FB555FCA0D0>"
            ]
          },
          "metadata": {
            "tags": []
          }
        },
        {
          "output_type": "stream",
          "text": [
            "Image: 00121.png, Prediction: 6, Class: Speed limit 100\n",
            "Actual Class: 6, Speed limit 100\n",
            "Y\n"
          ],
          "name": "stdout"
        },
        {
          "output_type": "display_data",
          "data": {
            "image/png": "[encoded data removed]",
            "text/plain": [
              "<PIL.Image.Image image mode=RGB size=224x224 at 0x7FB55600A4D0>"
            ]
          },
          "metadata": {
            "tags": []
          }
        },
        {
          "output_type": "stream",
          "text": [
            "Image: 00123.png, Prediction: 7, Class: Speed limit 120\n",
            "Actual Class: 7, Speed limit 120\n",
            "Y\n"
          ],
          "name": "stdout"
        },
        {
          "output_type": "display_data",
          "data": {
            "image/png": "[encoded data removed]",
            "text/plain": [
              "<PIL.Image.Image image mode=RGB size=224x224 at 0x7FB55600A050>"
            ]
          },
          "metadata": {
            "tags": []
          }
        },
        {
          "output_type": "stream",
          "text": [
            "Image: 00122.png, Prediction: 2, Class: Speed limit 50\n",
            "Actual Class: 1, Speed limit 30\n",
            "N\n"
          ],
          "name": "stdout"
        },
        {
          "output_type": "display_data",
          "data": {
            "image/png": "[encoded data removed]",
            "text/plain": [
              "<PIL.Image.Image image mode=RGB size=224x224 at 0x7FB555F12090>"
            ]
          },
          "metadata": {
            "tags": []
          }
        },
        {
          "output_type": "stream",
          "text": [
            "Image: 00124.png, Prediction: 2, Class: Speed limit 50\n",
            "Actual Class: 2, Speed limit 50\n",
            "Y\n"
          ],
          "name": "stdout"
        },
        {
          "output_type": "display_data",
          "data": {
            "image/png": "[encoded data removed]",
            "text/plain": [
              "<PIL.Image.Image image mode=RGB size=224x224 at 0x7FB555F97590>"
            ]
          },
          "metadata": {
            "tags": []
          }
        },
        {
          "output_type": "stream",
          "text": [
            "Image: 00138.png, Prediction: 1, Class: Speed limit 30\n",
            "Actual Class: 2, Speed limit 50\n",
            "N\n"
          ],
          "name": "stdout"
        },
        {
          "output_type": "display_data",
          "data": {
            "image/png": "[encoded data removed]",
            "text/plain": [
              "<PIL.Image.Image image mode=RGB size=224x224 at 0x7FB555F85490>"
            ]
          },
          "metadata": {
            "tags": []
          }
        },
        {
          "output_type": "stream",
          "text": [
            "Image: 00141.png, Prediction: 4, Class: Speed limit 70\n",
            "Actual Class: 4, Speed limit 70\n",
            "Y\n"
          ],
          "name": "stdout"
        },
        {
          "output_type": "display_data",
          "data": {
            "image/png": "[encoded data removed]",
            "text/plain": [
              "<PIL.Image.Image image mode=RGB size=224x224 at 0x7FB555F85550>"
            ]
          },
          "metadata": {
            "tags": []
          }
        },
        {
          "output_type": "stream",
          "text": [
            "Image: 00150.png, Prediction: 6, Class: Speed limit 100\n",
            "Actual Class: 6, Speed limit 100\n",
            "Y\n"
          ],
          "name": "stdout"
        },
        {
          "output_type": "display_data",
          "data": {
            "image/png": "[encoded data removed]",
            "text/plain": [
              "<PIL.Image.Image image mode=RGB size=224x224 at 0x7FB555FF2710>"
            ]
          },
          "metadata": {
            "tags": []
          }
        },
        {
          "output_type": "stream",
          "text": [
            "Image: 00146.png, Prediction: 2, Class: Speed limit 50\n",
            "Actual Class: 2, Speed limit 50\n",
            "Y\n"
          ],
          "name": "stdout"
        },
        {
          "output_type": "display_data",
          "data": {
            "image/png": "[encoded data removed]",
            "text/plain": [
              "<PIL.Image.Image image mode=RGB size=224x224 at 0x7FB55602DB50>"
            ]
          },
          "metadata": {
            "tags": []
          }
        },
        {
          "output_type": "stream",
          "text": [
            "Image: 00162.png, Prediction: 4, Class: Speed limit 70\n",
            "Actual Class: 4, Speed limit 70\n",
            "Y\n"
          ],
          "name": "stdout"
        },
        {
          "output_type": "display_data",
          "data": {
            "image/png": "[encoded data removed]",
            "text/plain": [
              "<PIL.Image.Image image mode=RGB size=224x224 at 0x7FB555D54190>"
            ]
          },
          "metadata": {
            "tags": []
          }
        },
        {
          "output_type": "stream",
          "text": [
            "Image: 00155.png, Prediction: 3, Class: Speed limit 60\n",
            "Actual Class: 3, Speed limit 60\n",
            "Y\n"
          ],
          "name": "stdout"
        },
        {
          "output_type": "display_data",
          "data": {
            "image/png": "[encoded data removed]",
            "text/plain": [
              "<PIL.Image.Image image mode=RGB size=224x224 at 0x7FB555FBED90>"
            ]
          },
          "metadata": {
            "tags": []
          }
        },
        {
          "output_type": "stream",
          "text": [
            "Image: 00159.png, Prediction: 4, Class: Speed limit 70\n",
            "Actual Class: 4, Speed limit 70\n",
            "Y\n"
          ],
          "name": "stdout"
        },
        {
          "output_type": "display_data",
          "data": {
            "image/png": "[encoded data removed]",
            "text/plain": [
              "<PIL.Image.Image image mode=RGB size=224x224 at 0x7FB555FBE590>"
            ]
          },
          "metadata": {
            "tags": []
          }
        },
        {
          "output_type": "stream",
          "text": [
            "Image: 00176.png, Prediction: 7, Class: Speed limit 120\n",
            "Actual Class: 3, Speed limit 60\n",
            "N\n"
          ],
          "name": "stdout"
        },
        {
          "output_type": "display_data",
          "data": {
            "image/png": "[encoded data removed]",
            "text/plain": [
              "<PIL.Image.Image image mode=RGB size=224x224 at 0x7FB55607BF50>"
            ]
          },
          "metadata": {
            "tags": []
          }
        },
        {
          "output_type": "stream",
          "text": [
            "Image: 00179.png, Prediction: 2, Class: Speed limit 50\n",
            "Actual Class: 2, Speed limit 50\n",
            "Y\n"
          ],
          "name": "stdout"
        },
        {
          "output_type": "display_data",
          "data": {
            "image/png": "[encoded data removed]",
            "text/plain": [
              "<PIL.Image.Image image mode=RGB size=224x224 at 0x7FB557FF1890>"
            ]
          },
          "metadata": {
            "tags": []
          }
        },
        {
          "output_type": "stream",
          "text": [
            "Image: 00175.png, Prediction: 5, Class: Speed limit 80\n",
            "Actual Class: 1, Speed limit 30\n",
            "N\n"
          ],
          "name": "stdout"
        },
        {
          "output_type": "display_data",
          "data": {
            "image/png": "[encoded data removed]",
            "text/plain": [
              "<PIL.Image.Image image mode=RGB size=224x224 at 0x7FB55805F810>"
            ]
          },
          "metadata": {
            "tags": []
          }
        },
        {
          "output_type": "stream",
          "text": [
            "Image: 00180.png, Prediction: 7, Class: Speed limit 120\n",
            "Actual Class: 7, Speed limit 120\n",
            "Y\n"
          ],
          "name": "stdout"
        },
        {
          "output_type": "display_data",
          "data": {
            "image/png": "[encoded data removed]",
            "text/plain": [
              "<PIL.Image.Image image mode=RGB size=224x224 at 0x7FB55841B5D0>"
            ]
          },
          "metadata": {
            "tags": []
          }
        },
        {
          "output_type": "stream",
          "text": [
            "Image: 00187.png, Prediction: 1, Class: Speed limit 30\n",
            "Actual Class: 1, Speed limit 30\n",
            "Y\n"
          ],
          "name": "stdout"
        },
        {
          "output_type": "display_data",
          "data": {
            "image/png": "[encoded data removed]",
            "text/plain": [
              "<PIL.Image.Image image mode=RGB size=224x224 at 0x7FB557FF1F10>"
            ]
          },
          "metadata": {
            "tags": []
          }
        },
        {
          "output_type": "stream",
          "text": [
            "Image: 00181.png, Prediction: 4, Class: Speed limit 70\n",
            "Actual Class: 4, Speed limit 70\n",
            "Y\n"
          ],
          "name": "stdout"
        },
        {
          "output_type": "display_data",
          "data": {
            "image/png": "[encoded data removed]",
            "text/plain": [
              "<PIL.Image.Image image mode=RGB size=224x224 at 0x7FB558440150>"
            ]
          },
          "metadata": {
            "tags": []
          }
        },
        {
          "output_type": "stream",
          "text": [
            "Image: 00189.png, Prediction: 7, Class: Speed limit 120\n",
            "Actual Class: 7, Speed limit 120\n",
            "Y\n"
          ],
          "name": "stdout"
        },
        {
          "output_type": "display_data",
          "data": {
            "image/png": "[encoded data removed]",
            "text/plain": [
              "<PIL.Image.Image image mode=RGB size=224x224 at 0x7FB55829C0D0>"
            ]
          },
          "metadata": {
            "tags": []
          }
        },
        {
          "output_type": "stream",
          "text": [
            "Image: 00195.png, Prediction: 2, Class: Speed limit 50\n",
            "Actual Class: 2, Speed limit 50\n",
            "Y\n"
          ],
          "name": "stdout"
        },
        {
          "output_type": "display_data",
          "data": {
            "image/png": "[encoded data removed]",
            "text/plain": [
              "<PIL.Image.Image image mode=RGB size=224x224 at 0x7FB55950E2D0>"
            ]
          },
          "metadata": {
            "tags": []
          }
        },
        {
          "output_type": "stream",
          "text": [
            "Image: 00206.png, Prediction: 2, Class: Speed limit 50\n",
            "Actual Class: 2, Speed limit 50\n",
            "Y\n"
          ],
          "name": "stdout"
        },
        {
          "output_type": "display_data",
          "data": {
            "image/png": "[encoded data removed]",
            "text/plain": [
              "<PIL.Image.Image image mode=RGB size=224x224 at 0x7FB55823C410>"
            ]
          },
          "metadata": {
            "tags": []
          }
        },
        {
          "output_type": "stream",
          "text": [
            "Image: 00202.png, Prediction: 4, Class: Speed limit 70\n",
            "Actual Class: 4, Speed limit 70\n",
            "Y\n"
          ],
          "name": "stdout"
        },
        {
          "output_type": "display_data",
          "data": {
            "image/png": "[encoded data removed]",
            "text/plain": [
              "<PIL.Image.Image image mode=RGB size=224x224 at 0x7FB55813E9D0>"
            ]
          },
          "metadata": {
            "tags": []
          }
        },
        {
          "output_type": "stream",
          "text": [
            "Image: 00203.png, Prediction: 1, Class: Speed limit 30\n",
            "Actual Class: 1, Speed limit 30\n",
            "Y\n"
          ],
          "name": "stdout"
        },
        {
          "output_type": "display_data",
          "data": {
            "image/png": "[encoded data removed]",
            "text/plain": [
              "<PIL.Image.Image image mode=RGB size=224x224 at 0x7FB55802E450>"
            ]
          },
          "metadata": {
            "tags": []
          }
        },
        {
          "output_type": "stream",
          "text": [
            "Image: 00213.png, Prediction: 5, Class: Speed limit 80\n",
            "Actual Class: 5, Speed limit 80\n",
            "Y\n"
          ],
          "name": "stdout"
        },
        {
          "output_type": "display_data",
          "data": {
            "image/png": "[encoded data removed]",
            "text/plain": [
              "<PIL.Image.Image image mode=RGB size=224x224 at 0x7FB5594F39D0>"
            ]
          },
          "metadata": {
            "tags": []
          }
        },
        {
          "output_type": "stream",
          "text": [
            "Image: 00217.png, Prediction: 5, Class: Speed limit 80\n",
            "Actual Class: 5, Speed limit 80\n",
            "Y\n"
          ],
          "name": "stdout"
        },
        {
          "output_type": "display_data",
          "data": {
            "image/png": "[encoded data removed]",
            "text/plain": [
              "<PIL.Image.Image image mode=RGB size=224x224 at 0x7FB5594F3410>"
            ]
          },
          "metadata": {
            "tags": []
          }
        },
        {
          "output_type": "stream",
          "text": [
            "Image: 00218.png, Prediction: 4, Class: Speed limit 70\n",
            "Actual Class: 4, Speed limit 70\n",
            "Y\n"
          ],
          "name": "stdout"
        },
        {
          "output_type": "display_data",
          "data": {
            "image/png": "[encoded data removed]",
            "text/plain": [
              "<PIL.Image.Image image mode=RGB size=224x224 at 0x7FB558423A10>"
            ]
          },
          "metadata": {
            "tags": []
          }
        },
        {
          "output_type": "stream",
          "text": [
            "Image: 00220.png, Prediction: 2, Class: Speed limit 50\n",
            "Actual Class: 2, Speed limit 50\n",
            "Y\n"
          ],
          "name": "stdout"
        },
        {
          "output_type": "display_data",
          "data": {
            "image/png": "[encoded data removed]",
            "text/plain": [
              "<PIL.Image.Image image mode=RGB size=224x224 at 0x7FB55802E450>"
            ]
          },
          "metadata": {
            "tags": []
          }
        },
        {
          "output_type": "stream",
          "text": [
            "Image: 00221.png, Prediction: 4, Class: Speed limit 70\n",
            "Actual Class: 4, Speed limit 70\n",
            "Y\n"
          ],
          "name": "stdout"
        },
        {
          "output_type": "display_data",
          "data": {
            "image/png": "[encoded data removed]",
            "text/plain": [
              "<PIL.Image.Image image mode=RGB size=224x224 at 0x7FB557D45910>"
            ]
          },
          "metadata": {
            "tags": []
          }
        },
        {
          "output_type": "stream",
          "text": [
            "Image: 00222.png, Prediction: 5, Class: Speed limit 80\n",
            "Actual Class: 5, Speed limit 80\n",
            "Y\n"
          ],
          "name": "stdout"
        },
        {
          "output_type": "display_data",
          "data": {
            "image/png": "[encoded data removed]",
            "text/plain": [
              "<PIL.Image.Image image mode=RGB size=224x224 at 0x7FB55D8BE050>"
            ]
          },
          "metadata": {
            "tags": []
          }
        },
        {
          "output_type": "stream",
          "text": [
            "Image: 00223.png, Prediction: 1, Class: Speed limit 30\n",
            "Actual Class: 1, Speed limit 30\n",
            "Y\n"
          ],
          "name": "stdout"
        },
        {
          "output_type": "display_data",
          "data": {
            "image/png": "[encoded data removed]",
            "text/plain": [
              "<PIL.Image.Image image mode=RGB size=224x224 at 0x7FB55D8BE690>"
            ]
          },
          "metadata": {
            "tags": []
          }
        },
        {
          "output_type": "stream",
          "text": [
            "Image: 00228.png, Prediction: 7, Class: Speed limit 120\n",
            "Actual Class: 7, Speed limit 120\n",
            "Y\n"
          ],
          "name": "stdout"
        },
        {
          "output_type": "display_data",
          "data": {
            "image/png": "[encoded data removed]",
            "text/plain": [
              "<PIL.Image.Image image mode=RGB size=224x224 at 0x7FB557D3B550>"
            ]
          },
          "metadata": {
            "tags": []
          }
        },
        {
          "output_type": "stream",
          "text": [
            "Image: 00227.png, Prediction: 5, Class: Speed limit 80\n",
            "Actual Class: 5, Speed limit 80\n",
            "Y\n"
          ],
          "name": "stdout"
        },
        {
          "output_type": "display_data",
          "data": {
            "image/png": "[encoded data removed]",
            "text/plain": [
              "<PIL.Image.Image image mode=RGB size=224x224 at 0x7FB55D6F7590>"
            ]
          },
          "metadata": {
            "tags": []
          }
        },
        {
          "output_type": "stream",
          "text": [
            "Image: 00238.png, Prediction: 4, Class: Speed limit 70\n",
            "Actual Class: 4, Speed limit 70\n",
            "Y\n"
          ],
          "name": "stdout"
        },
        {
          "output_type": "display_data",
          "data": {
            "image/png": "[encoded data removed]",
            "text/plain": [
              "<PIL.Image.Image image mode=RGB size=224x224 at 0x7FB5581C6C50>"
            ]
          },
          "metadata": {
            "tags": []
          }
        },
        {
          "output_type": "stream",
          "text": [
            "Image: 00246.png, Prediction: 6, Class: Speed limit 100\n",
            "Actual Class: 5, Speed limit 80\n",
            "N\n"
          ],
          "name": "stdout"
        },
        {
          "output_type": "display_data",
          "data": {
            "image/png": "[encoded data removed]",
            "text/plain": [
              "<PIL.Image.Image image mode=RGB size=224x224 at 0x7FB5581C6C50>"
            ]
          },
          "metadata": {
            "tags": []
          }
        },
        {
          "output_type": "stream",
          "text": [
            "Image: 00243.png, Prediction: 0, Class: Speed limit 20\n",
            "Actual Class: 0, Speed limit 20\n",
            "Y\n"
          ],
          "name": "stdout"
        },
        {
          "output_type": "display_data",
          "data": {
            "image/png": "[encoded data removed]",
            "text/plain": [
              "<PIL.Image.Image image mode=RGB size=224x224 at 0x7FB5582FC290>"
            ]
          },
          "metadata": {
            "tags": []
          }
        },
        {
          "output_type": "stream",
          "text": [
            "Image: 00247.png, Prediction: 5, Class: Speed limit 80\n",
            "Actual Class: 7, Speed limit 120\n",
            "N\n"
          ],
          "name": "stdout"
        },
        {
          "output_type": "display_data",
          "data": {
            "image/png": "[encoded data removed]",
            "text/plain": [
              "<PIL.Image.Image image mode=RGB size=224x224 at 0x7FB557ACBC90>"
            ]
          },
          "metadata": {
            "tags": []
          }
        },
        {
          "output_type": "stream",
          "text": [
            "Image: 00264.png, Prediction: 1, Class: Speed limit 30\n",
            "Actual Class: 1, Speed limit 30\n",
            "Y\n"
          ],
          "name": "stdout"
        },
        {
          "output_type": "display_data",
          "data": {
            "image/png": "[encoded data removed]",
            "text/plain": [
              "<PIL.Image.Image image mode=RGB size=224x224 at 0x7FB558272610>"
            ]
          },
          "metadata": {
            "tags": []
          }
        },
        {
          "output_type": "stream",
          "text": [
            "Image: 00252.png, Prediction: 5, Class: Speed limit 80\n",
            "Actual Class: 0, Speed limit 20\n",
            "N\n"
          ],
          "name": "stdout"
        },
        {
          "output_type": "display_data",
          "data": {
            "image/png": "[encoded data removed]",
            "text/plain": [
              "<PIL.Image.Image image mode=RGB size=224x224 at 0x7FB5580C0650>"
            ]
          },
          "metadata": {
            "tags": []
          }
        },
        {
          "output_type": "stream",
          "text": [
            "Image: 00268.png, Prediction: 4, Class: Speed limit 70\n",
            "Actual Class: 2, Speed limit 50\n",
            "N\n"
          ],
          "name": "stdout"
        },
        {
          "output_type": "display_data",
          "data": {
            "image/png": "[encoded data removed]",
            "text/plain": [
              "<PIL.Image.Image image mode=RGB size=224x224 at 0x7FB558055BD0>"
            ]
          },
          "metadata": {
            "tags": []
          }
        },
        {
          "output_type": "stream",
          "text": [
            "Image: 00279.png, Prediction: 6, Class: Speed limit 100\n",
            "Actual Class: 1, Speed limit 30\n",
            "N\n"
          ],
          "name": "stdout"
        },
        {
          "output_type": "display_data",
          "data": {
            "image/png": "[encoded data removed]",
            "text/plain": [
              "<PIL.Image.Image image mode=RGB size=224x224 at 0x7FB5580C0650>"
            ]
          },
          "metadata": {
            "tags": []
          }
        },
        {
          "output_type": "stream",
          "text": [
            "Image: 00285.png, Prediction: 1, Class: Speed limit 30\n",
            "Actual Class: 1, Speed limit 30\n",
            "Y\n"
          ],
          "name": "stdout"
        },
        {
          "output_type": "display_data",
          "data": {
            "image/png": "[encoded data removed]",
            "text/plain": [
              "<PIL.Image.Image image mode=RGB size=224x224 at 0x7FB558025A90>"
            ]
          },
          "metadata": {
            "tags": []
          }
        },
        {
          "output_type": "stream",
          "text": [
            "Image: 00284.png, Prediction: 1, Class: Speed limit 30\n",
            "Actual Class: 1, Speed limit 30\n",
            "Y\n"
          ],
          "name": "stdout"
        },
        {
          "output_type": "display_data",
          "data": {
            "image/png": "[encoded data removed]",
            "text/plain": [
              "<PIL.Image.Image image mode=RGB size=224x224 at 0x7FB5582FC790>"
            ]
          },
          "metadata": {
            "tags": []
          }
        },
        {
          "output_type": "stream",
          "text": [
            "Image: 00301.png, Prediction: 5, Class: Speed limit 80\n",
            "Actual Class: 5, Speed limit 80\n",
            "Y\n"
          ],
          "name": "stdout"
        },
        {
          "output_type": "display_data",
          "data": {
            "image/png": "[encoded data removed]",
            "text/plain": [
              "<PIL.Image.Image image mode=RGB size=224x224 at 0x7FB5594E9310>"
            ]
          },
          "metadata": {
            "tags": []
          }
        },
        {
          "output_type": "stream",
          "text": [
            "Image: 00295.png, Prediction: 1, Class: Speed limit 30\n",
            "Actual Class: 1, Speed limit 30\n",
            "Y\n"
          ],
          "name": "stdout"
        },
        {
          "output_type": "display_data",
          "data": {
            "image/png": "[encoded data removed]",
            "text/plain": [
              "<PIL.Image.Image image mode=RGB size=224x224 at 0x7FB557ACBC10>"
            ]
          },
          "metadata": {
            "tags": []
          }
        },
        {
          "output_type": "stream",
          "text": [
            "Image: 00302.png, Prediction: 2, Class: Speed limit 50\n",
            "Actual Class: 2, Speed limit 50\n",
            "Y\n"
          ],
          "name": "stdout"
        },
        {
          "output_type": "display_data",
          "data": {
            "image/png": "[encoded data removed]",
            "text/plain": [
              "<PIL.Image.Image image mode=RGB size=224x224 at 0x7FB55D845950>"
            ]
          },
          "metadata": {
            "tags": []
          }
        },
        {
          "output_type": "stream",
          "text": [
            "Image: 00307.png, Prediction: 1, Class: Speed limit 30\n",
            "Actual Class: 1, Speed limit 30\n",
            "Y\n"
          ],
          "name": "stdout"
        },
        {
          "output_type": "display_data",
          "data": {
            "image/png": "[encoded data removed]",
            "text/plain": [
              "<PIL.Image.Image image mode=RGB size=224x224 at 0x7FB557ACB410>"
            ]
          },
          "metadata": {
            "tags": []
          }
        },
        {
          "output_type": "stream",
          "text": [
            "Image: 00319.png, Prediction: 4, Class: Speed limit 70\n",
            "Actual Class: 4, Speed limit 70\n",
            "Y\n"
          ],
          "name": "stdout"
        },
        {
          "output_type": "display_data",
          "data": {
            "image/png": "[encoded data removed]",
            "text/plain": [
              "<PIL.Image.Image image mode=RGB size=224x224 at 0x7FB55827BB50>"
            ]
          },
          "metadata": {
            "tags": []
          }
        },
        {
          "output_type": "stream",
          "text": [
            "Image: 00316.png, Prediction: 2, Class: Speed limit 50\n",
            "Actual Class: 2, Speed limit 50\n",
            "Y\n"
          ],
          "name": "stdout"
        },
        {
          "output_type": "display_data",
          "data": {
            "image/png": "[encoded data removed]",
            "text/plain": [
              "<PIL.Image.Image image mode=RGB size=224x224 at 0x7FB55D8C8E90>"
            ]
          },
          "metadata": {
            "tags": []
          }
        },
        {
          "output_type": "stream",
          "text": [
            "Image: 00320.png, Prediction: 7, Class: Speed limit 120\n",
            "Actual Class: 7, Speed limit 120\n",
            "Y\n"
          ],
          "name": "stdout"
        },
        {
          "output_type": "display_data",
          "data": {
            "image/png": "[encoded data removed]",
            "text/plain": [
              "<PIL.Image.Image image mode=RGB size=224x224 at 0x7FB5580B1090>"
            ]
          },
          "metadata": {
            "tags": []
          }
        },
        {
          "output_type": "stream",
          "text": [
            "Image: 00321.png, Prediction: 4, Class: Speed limit 70\n",
            "Actual Class: 4, Speed limit 70\n",
            "Y\n"
          ],
          "name": "stdout"
        },
        {
          "output_type": "display_data",
          "data": {
            "image/png": "[encoded data removed]",
            "text/plain": [
              "<PIL.Image.Image image mode=RGB size=224x224 at 0x7FB5584405D0>"
            ]
          },
          "metadata": {
            "tags": []
          }
        },
        {
          "output_type": "stream",
          "text": [
            "Image: 00322.png, Prediction: 5, Class: Speed limit 80\n",
            "Actual Class: 5, Speed limit 80\n",
            "Y\n"
          ],
          "name": "stdout"
        },
        {
          "output_type": "display_data",
          "data": {
            "image/png": "[encoded data removed]",
            "text/plain": [
              "<PIL.Image.Image image mode=RGB size=224x224 at 0x7FB55D8C8750>"
            ]
          },
          "metadata": {
            "tags": []
          }
        },
        {
          "output_type": "stream",
          "text": [
            "Image: 00328.png, Prediction: 6, Class: Speed limit 100\n",
            "Actual Class: 7, Speed limit 120\n",
            "N\n"
          ],
          "name": "stdout"
        },
        {
          "output_type": "display_data",
          "data": {
            "image/png": "[encoded data removed]",
            "text/plain": [
              "<PIL.Image.Image image mode=RGB size=224x224 at 0x7FB55D651DD0>"
            ]
          },
          "metadata": {
            "tags": []
          }
        },
        {
          "output_type": "stream",
          "text": [
            "Image: 00338.png, Prediction: 4, Class: Speed limit 70\n",
            "Actual Class: 4, Speed limit 70\n",
            "Y\n"
          ],
          "name": "stdout"
        },
        {
          "output_type": "display_data",
          "data": {
            "image/png": "[encoded data removed]",
            "text/plain": [
              "<PIL.Image.Image image mode=RGB size=224x224 at 0x7FB557FF1FD0>"
            ]
          },
          "metadata": {
            "tags": []
          }
        },
        {
          "output_type": "stream",
          "text": [
            "Image: 00329.png, Prediction: 2, Class: Speed limit 50\n",
            "Actual Class: 2, Speed limit 50\n",
            "Y\n"
          ],
          "name": "stdout"
        },
        {
          "output_type": "display_data",
          "data": {
            "image/png": "[encoded data removed]",
            "text/plain": [
              "<PIL.Image.Image image mode=RGB size=224x224 at 0x7FB55841A650>"
            ]
          },
          "metadata": {
            "tags": []
          }
        },
        {
          "output_type": "stream",
          "text": [
            "Image: 00330.png, Prediction: 3, Class: Speed limit 60\n",
            "Actual Class: 4, Speed limit 70\n",
            "N\n"
          ],
          "name": "stdout"
        },
        {
          "output_type": "display_data",
          "data": {
            "image/png": "[encoded data removed]",
            "text/plain": [
              "<PIL.Image.Image image mode=RGB size=224x224 at 0x7FB561B6BF90>"
            ]
          },
          "metadata": {
            "tags": []
          }
        },
        {
          "output_type": "stream",
          "text": [
            "Image: 00343.png, Prediction: 2, Class: Speed limit 50\n",
            "Actual Class: 2, Speed limit 50\n",
            "Y\n"
          ],
          "name": "stdout"
        },
        {
          "output_type": "display_data",
          "data": {
            "image/png": "[encoded data removed]",
            "text/plain": [
              "<PIL.Image.Image image mode=RGB size=224x224 at 0x7FB557D46090>"
            ]
          },
          "metadata": {
            "tags": []
          }
        },
        {
          "output_type": "stream",
          "text": [
            "Image: 00347.png, Prediction: 6, Class: Speed limit 100\n",
            "Actual Class: 6, Speed limit 100\n",
            "Y\n"
          ],
          "name": "stdout"
        },
        {
          "output_type": "display_data",
          "data": {
            "image/png": "[encoded data removed]",
            "text/plain": [
              "<PIL.Image.Image image mode=RGB size=224x224 at 0x7FB561B5B510>"
            ]
          },
          "metadata": {
            "tags": []
          }
        },
        {
          "output_type": "stream",
          "text": [
            "Image: 00351.png, Prediction: 2, Class: Speed limit 50\n",
            "Actual Class: 2, Speed limit 50\n",
            "Y\n"
          ],
          "name": "stdout"
        },
        {
          "output_type": "display_data",
          "data": {
            "image/png": "[encoded data removed]",
            "text/plain": [
              "<PIL.Image.Image image mode=RGB size=224x224 at 0x7FB557D32C10>"
            ]
          },
          "metadata": {
            "tags": []
          }
        },
        {
          "output_type": "stream",
          "text": [
            "Image: 00357.png, Prediction: 3, Class: Speed limit 60\n",
            "Actual Class: 3, Speed limit 60\n",
            "Y\n"
          ],
          "name": "stdout"
        },
        {
          "output_type": "display_data",
          "data": {
            "image/png": "[encoded data removed]",
            "text/plain": [
              "<PIL.Image.Image image mode=RGB size=224x224 at 0x7FB558139C90>"
            ]
          },
          "metadata": {
            "tags": []
          }
        },
        {
          "output_type": "stream",
          "text": [
            "Image: 00366.png, Prediction: 6, Class: Speed limit 100\n",
            "Actual Class: 6, Speed limit 100\n",
            "Y\n"
          ],
          "name": "stdout"
        },
        {
          "output_type": "display_data",
          "data": {
            "image/png": "[encoded data removed]",
            "text/plain": [
              "<PIL.Image.Image image mode=RGB size=224x224 at 0x7FB558423510>"
            ]
          },
          "metadata": {
            "tags": []
          }
        },
        {
          "output_type": "stream",
          "text": [
            "Image: 00364.png, Prediction: 3, Class: Speed limit 60\n",
            "Actual Class: 3, Speed limit 60\n",
            "Y\n"
          ],
          "name": "stdout"
        },
        {
          "output_type": "display_data",
          "data": {
            "image/png": "[encoded data removed]",
            "text/plain": [
              "<PIL.Image.Image image mode=RGB size=224x224 at 0x7FB55807FB50>"
            ]
          },
          "metadata": {
            "tags": []
          }
        },
        {
          "output_type": "stream",
          "text": [
            "Image: 00375.png, Prediction: 5, Class: Speed limit 80\n",
            "Actual Class: 1, Speed limit 30\n",
            "N\n"
          ],
          "name": "stdout"
        },
        {
          "output_type": "display_data",
          "data": {
            "image/png": "[encoded data removed]",
            "text/plain": [
              "<PIL.Image.Image image mode=RGB size=224x224 at 0x7FB55D8BE8D0>"
            ]
          },
          "metadata": {
            "tags": []
          }
        },
        {
          "output_type": "stream",
          "text": [
            "Image: 00373.png, Prediction: 5, Class: Speed limit 80\n",
            "Actual Class: 5, Speed limit 80\n",
            "Y\n"
          ],
          "name": "stdout"
        },
        {
          "output_type": "display_data",
          "data": {
            "image/png": "[encoded data removed]",
            "text/plain": [
              "<PIL.Image.Image image mode=RGB size=224x224 at 0x7FB55A8ECD50>"
            ]
          },
          "metadata": {
            "tags": []
          }
        },
        {
          "output_type": "stream",
          "text": [
            "Image: 00383.png, Prediction: 4, Class: Speed limit 70\n",
            "Actual Class: 4, Speed limit 70\n",
            "Y\n"
          ],
          "name": "stdout"
        },
        {
          "output_type": "display_data",
          "data": {
            "image/png": "[encoded data removed]",
            "text/plain": [
              "<PIL.Image.Image image mode=RGB size=224x224 at 0x7FB55D7F9290>"
            ]
          },
          "metadata": {
            "tags": []
          }
        },
        {
          "output_type": "stream",
          "text": [
            "Image: 00378.png, Prediction: 1, Class: Speed limit 30\n",
            "Actual Class: 1, Speed limit 30\n",
            "Y\n"
          ],
          "name": "stdout"
        },
        {
          "output_type": "display_data",
          "data": {
            "image/png": "[encoded data removed]",
            "text/plain": [
              "<PIL.Image.Image image mode=RGB size=224x224 at 0x7FB55D8B0E10>"
            ]
          },
          "metadata": {
            "tags": []
          }
        },
        {
          "output_type": "stream",
          "text": [
            "Image: 00390.png, Prediction: 4, Class: Speed limit 70\n",
            "Actual Class: 4, Speed limit 70\n",
            "Y\n"
          ],
          "name": "stdout"
        },
        {
          "output_type": "display_data",
          "data": {
            "image/png": "[encoded data removed]",
            "text/plain": [
              "<PIL.Image.Image image mode=RGB size=224x224 at 0x7FB55D8B0F10>"
            ]
          },
          "metadata": {
            "tags": []
          }
        },
        {
          "output_type": "stream",
          "text": [
            "Image: 00393.png, Prediction: 6, Class: Speed limit 100\n",
            "Actual Class: 2, Speed limit 50\n",
            "N\n"
          ],
          "name": "stdout"
        },
        {
          "output_type": "display_data",
          "data": {
            "image/png": "[encoded data removed]",
            "text/plain": [
              "<PIL.Image.Image image mode=RGB size=224x224 at 0x7FB55D8B0E10>"
            ]
          },
          "metadata": {
            "tags": []
          }
        },
        {
          "output_type": "stream",
          "text": [
            "Image: 00403.png, Prediction: 0, Class: Speed limit 20\n",
            "Actual Class: 0, Speed limit 20\n",
            "Y\n"
          ],
          "name": "stdout"
        },
        {
          "output_type": "display_data",
          "data": {
            "image/png": "[encoded data removed]",
            "text/plain": [
              "<PIL.Image.Image image mode=RGB size=224x224 at 0x7FB55D8B0D50>"
            ]
          },
          "metadata": {
            "tags": []
          }
        },
        {
          "output_type": "stream",
          "text": [
            "Image: 00398.png, Prediction: 4, Class: Speed limit 70\n",
            "Actual Class: 4, Speed limit 70\n",
            "Y\n"
          ],
          "name": "stdout"
        },
        {
          "output_type": "display_data",
          "data": {
            "image/png": "[encoded data removed]",
            "text/plain": [
              "<PIL.Image.Image image mode=RGB size=224x224 at 0x7FB5581EE050>"
            ]
          },
          "metadata": {
            "tags": []
          }
        },
        {
          "output_type": "stream",
          "text": [
            "Image: 00408.png, Prediction: 5, Class: Speed limit 80\n",
            "Actual Class: 5, Speed limit 80\n",
            "Y\n"
          ],
          "name": "stdout"
        },
        {
          "output_type": "display_data",
          "data": {
            "image/png": "[encoded data removed]",
            "text/plain": [
              "<PIL.Image.Image image mode=RGB size=224x224 at 0x7FB55D800BD0>"
            ]
          },
          "metadata": {
            "tags": []
          }
        },
        {
          "output_type": "stream",
          "text": [
            "Image: 00419.png, Prediction: 2, Class: Speed limit 50\n",
            "Actual Class: 2, Speed limit 50\n",
            "Y\n"
          ],
          "name": "stdout"
        },
        {
          "output_type": "display_data",
          "data": {
            "image/png": "[encoded data removed]",
            "text/plain": [
              "<PIL.Image.Image image mode=RGB size=224x224 at 0x7FB557A64850>"
            ]
          },
          "metadata": {
            "tags": []
          }
        },
        {
          "output_type": "stream",
          "text": [
            "Image: 00420.png, Prediction: 3, Class: Speed limit 60\n",
            "Actual Class: 3, Speed limit 60\n",
            "Y\n"
          ],
          "name": "stdout"
        },
        {
          "output_type": "display_data",
          "data": {
            "image/png": "[encoded data removed]",
            "text/plain": [
              "<PIL.Image.Image image mode=RGB size=224x224 at 0x7FB55D6FDBD0>"
            ]
          },
          "metadata": {
            "tags": []
          }
        },
        {
          "output_type": "stream",
          "text": [
            "Image: 00421.png, Prediction: 2, Class: Speed limit 50\n",
            "Actual Class: 4, Speed limit 70\n",
            "N\n"
          ],
          "name": "stdout"
        },
        {
          "output_type": "display_data",
          "data": {
            "image/png": "[encoded data removed]",
            "text/plain": [
              "<PIL.Image.Image image mode=RGB size=224x224 at 0x7FB55D778550>"
            ]
          },
          "metadata": {
            "tags": []
          }
        },
        {
          "output_type": "stream",
          "text": [
            "Image: 00472.png, Prediction: 3, Class: Speed limit 60\n",
            "Actual Class: 3, Speed limit 60\n",
            "Y\n"
          ],
          "name": "stdout"
        },
        {
          "output_type": "display_data",
          "data": {
            "image/png": "[encoded data removed]",
            "text/plain": [
              "<PIL.Image.Image image mode=RGB size=224x224 at 0x7FB55D909210>"
            ]
          },
          "metadata": {
            "tags": []
          }
        },
        {
          "output_type": "stream",
          "text": [
            "Image: 00469.png, Prediction: 6, Class: Speed limit 100\n",
            "Actual Class: 6, Speed limit 100\n",
            "Y\n"
          ],
          "name": "stdout"
        },
        {
          "output_type": "display_data",
          "data": {
            "image/png": "[encoded data removed]",
            "text/plain": [
              "<PIL.Image.Image image mode=RGB size=224x224 at 0x7FB561AD3990>"
            ]
          },
          "metadata": {
            "tags": []
          }
        },
        {
          "output_type": "stream",
          "text": [
            "Image: 00481.png, Prediction: 2, Class: Speed limit 50\n",
            "Actual Class: 2, Speed limit 50\n",
            "Y\n"
          ],
          "name": "stdout"
        },
        {
          "output_type": "display_data",
          "data": {
            "image/png": "[encoded data removed]",
            "text/plain": [
              "<PIL.Image.Image image mode=RGB size=224x224 at 0x7FB5580E5710>"
            ]
          },
          "metadata": {
            "tags": []
          }
        },
        {
          "output_type": "stream",
          "text": [
            "Image: 00473.png, Prediction: 4, Class: Speed limit 70\n",
            "Actual Class: 1, Speed limit 30\n",
            "N\n"
          ],
          "name": "stdout"
        },
        {
          "output_type": "display_data",
          "data": {
            "image/png": "[encoded data removed]",
            "text/plain": [
              "<PIL.Image.Image image mode=RGB size=224x224 at 0x7FB55D77DD50>"
            ]
          },
          "metadata": {
            "tags": []
          }
        },
        {
          "output_type": "stream",
          "text": [
            "Image: 00495.png, Prediction: 6, Class: Speed limit 100\n",
            "Actual Class: 5, Speed limit 80\n",
            "N\n"
          ],
          "name": "stdout"
        },
        {
          "output_type": "display_data",
          "data": {
            "image/png": "[encoded data removed]",
            "text/plain": [
              "<PIL.Image.Image image mode=RGB size=224x224 at 0x7FB55D85A490>"
            ]
          },
          "metadata": {
            "tags": []
          }
        },
        {
          "output_type": "stream",
          "text": [
            "Image: 00484.png, Prediction: 2, Class: Speed limit 50\n",
            "Actual Class: 2, Speed limit 50\n",
            "Y\n"
          ],
          "name": "stdout"
        },
        {
          "output_type": "display_data",
          "data": {
            "image/png": "[encoded data removed]",
            "text/plain": [
              "<PIL.Image.Image image mode=RGB size=224x224 at 0x7FB55D80B890>"
            ]
          },
          "metadata": {
            "tags": []
          }
        },
        {
          "output_type": "stream",
          "text": [
            "Image: 00508.png, Prediction: 1, Class: Speed limit 30\n",
            "Actual Class: 1, Speed limit 30\n",
            "Y\n"
          ],
          "name": "stdout"
        },
        {
          "output_type": "display_data",
          "data": {
            "image/png": "[encoded data removed]",
            "text/plain": [
              "<PIL.Image.Image image mode=RGB size=224x224 at 0x7FB55950EE90>"
            ]
          },
          "metadata": {
            "tags": []
          }
        },
        {
          "output_type": "stream",
          "text": [
            "Image: 00509.png, Prediction: 3, Class: Speed limit 60\n",
            "Actual Class: 3, Speed limit 60\n",
            "Y\n"
          ],
          "name": "stdout"
        },
        {
          "output_type": "display_data",
          "data": {
            "image/png": "[encoded data removed]",
            "text/plain": [
              "<PIL.Image.Image image mode=RGB size=224x224 at 0x7FB55D80B910>"
            ]
          },
          "metadata": {
            "tags": []
          }
        },
        {
          "output_type": "stream",
          "text": [
            "Image: 00510.png, Prediction: 7, Class: Speed limit 120\n",
            "Actual Class: 7, Speed limit 120\n",
            "Y\n"
          ],
          "name": "stdout"
        },
        {
          "output_type": "display_data",
          "data": {
            "image/png": "[encoded data removed]",
            "text/plain": [
              "<PIL.Image.Image image mode=RGB size=224x224 at 0x7FB557990610>"
            ]
          },
          "metadata": {
            "tags": []
          }
        },
        {
          "output_type": "stream",
          "text": [
            "Image: 00024.png, Prediction: 1, Class: Speed limit 30\n",
            "Actual Class: 1, Speed limit 30\n",
            "Y\n"
          ],
          "name": "stdout"
        },
        {
          "output_type": "display_data",
          "data": {
            "image/png": "[encoded data removed]",
            "text/plain": [
              "<PIL.Image.Image image mode=RGB size=224x224 at 0x7FB565B24FD0>"
            ]
          },
          "metadata": {
            "tags": []
          }
        },
        {
          "output_type": "stream",
          "text": [
            "Image: 00091.png, Prediction: 1, Class: Speed limit 30\n",
            "Actual Class: 1, Speed limit 30\n",
            "Y\n"
          ],
          "name": "stdout"
        },
        {
          "output_type": "display_data",
          "data": {
            "image/png": "[encoded data removed]",
            "text/plain": [
              "<PIL.Image.Image image mode=RGB size=224x224 at 0x7FB565B24110>"
            ]
          },
          "metadata": {
            "tags": []
          }
        },
        {
          "output_type": "stream",
          "text": [
            "Image: 00118.png, Prediction: 1, Class: Speed limit 30\n",
            "Actual Class: 1, Speed limit 30\n",
            "Y\n"
          ],
          "name": "stdout"
        },
        {
          "output_type": "display_data",
          "data": {
            "image/png": "[encoded data removed]",
            "text/plain": [
              "<PIL.Image.Image image mode=RGB size=224x224 at 0x7FB565B24E90>"
            ]
          },
          "metadata": {
            "tags": []
          }
        },
        {
          "output_type": "stream",
          "text": [
            "Image: 00128.png, Prediction: 1, Class: Speed limit 30\n",
            "Actual Class: 1, Speed limit 30\n",
            "Y\n"
          ],
          "name": "stdout"
        },
        {
          "output_type": "display_data",
          "data": {
            "image/png": "[encoded data removed]",
            "text/plain": [
              "<PIL.Image.Image image mode=RGB size=224x224 at 0x7FB558294D10>"
            ]
          },
          "metadata": {
            "tags": []
          }
        },
        {
          "output_type": "stream",
          "text": [
            "Image: 00290.png, Prediction: 1, Class: Speed limit 30\n",
            "Actual Class: 1, Speed limit 30\n",
            "Y\n"
          ],
          "name": "stdout"
        },
        {
          "output_type": "display_data",
          "data": {
            "image/png": "[encoded data removed]",
            "text/plain": [
              "<PIL.Image.Image image mode=RGB size=224x224 at 0x7FB55A8E9390>"
            ]
          },
          "metadata": {
            "tags": []
          }
        },
        {
          "output_type": "stream",
          "text": [
            "Image: 00409.png, Prediction: 2, Class: Speed limit 50\n",
            "Actual Class: 2, Speed limit 50\n",
            "Y\n"
          ],
          "name": "stdout"
        },
        {
          "output_type": "display_data",
          "data": {
            "image/png": "[encoded data removed]",
            "text/plain": [
              "<PIL.Image.Image image mode=RGB size=224x224 at 0x7FB55D926ED0>"
            ]
          },
          "metadata": {
            "tags": []
          }
        },
        {
          "output_type": "stream",
          "text": [
            "Image: 00864.png, Prediction: 1, Class: Speed limit 30\n",
            "Actual Class: 1, Speed limit 30\n",
            "Y\n"
          ],
          "name": "stdout"
        },
        {
          "output_type": "display_data",
          "data": {
            "image/png": "[encoded data removed]",
            "text/plain": [
              "<PIL.Image.Image image mode=RGB size=224x224 at 0x7FB55D926E10>"
            ]
          },
          "metadata": {
            "tags": []
          }
        },
        {
          "output_type": "stream",
          "text": [
            "Image: 01007.png, Prediction: 3, Class: Speed limit 60\n",
            "Actual Class: 3, Speed limit 60\n",
            "Y\n"
          ],
          "name": "stdout"
        },
        {
          "output_type": "display_data",
          "data": {
            "image/png": "[encoded data removed]",
            "text/plain": [
              "<PIL.Image.Image image mode=RGB size=224x224 at 0x7FB55D800190>"
            ]
          },
          "metadata": {
            "tags": []
          }
        },
        {
          "output_type": "stream",
          "text": [
            "Image: 01118.png, Prediction: 3, Class: Speed limit 60\n",
            "Actual Class: 3, Speed limit 60\n",
            "Y\n"
          ],
          "name": "stdout"
        },
        {
          "output_type": "display_data",
          "data": {
            "image/png": "[encoded data removed]",
            "text/plain": [
              "<PIL.Image.Image image mode=RGB size=224x224 at 0x7FB561B571D0>"
            ]
          },
          "metadata": {
            "tags": []
          }
        },
        {
          "output_type": "stream",
          "text": [
            "Image: 01226.png, Prediction: 1, Class: Speed limit 30\n",
            "Actual Class: 1, Speed limit 30\n",
            "Y\n"
          ],
          "name": "stdout"
        },
        {
          "output_type": "display_data",
          "data": {
            "image/png": "[encoded data removed]",
            "text/plain": [
              "<PIL.Image.Image image mode=RGB size=224x224 at 0x7FB561B57990>"
            ]
          },
          "metadata": {
            "tags": []
          }
        },
        {
          "output_type": "stream",
          "text": [
            "Image: 01358.png, Prediction: 2, Class: Speed limit 50\n",
            "Actual Class: 2, Speed limit 50\n",
            "Y\n"
          ],
          "name": "stdout"
        },
        {
          "output_type": "display_data",
          "data": {
            "image/png": "[encoded data removed]",
            "text/plain": [
              "<PIL.Image.Image image mode=RGB size=224x224 at 0x7FB55841BE90>"
            ]
          },
          "metadata": {
            "tags": []
          }
        },
        {
          "output_type": "stream",
          "text": [
            "Image: 01645.png, Prediction: 5, Class: Speed limit 80\n",
            "Actual Class: 5, Speed limit 80\n",
            "Y\n"
          ],
          "name": "stdout"
        },
        {
          "output_type": "display_data",
          "data": {
            "image/png": "[encoded data removed]",
            "text/plain": [
              "<PIL.Image.Image image mode=RGB size=224x224 at 0x7FB55D77DA50>"
            ]
          },
          "metadata": {
            "tags": []
          }
        },
        {
          "output_type": "stream",
          "text": [
            "Image: 01940.png, Prediction: 5, Class: Speed limit 80\n",
            "Actual Class: 5, Speed limit 80\n",
            "Y\n"
          ],
          "name": "stdout"
        },
        {
          "output_type": "display_data",
          "data": {
            "image/png": "[encoded data removed]",
            "text/plain": [
              "<PIL.Image.Image image mode=RGB size=224x224 at 0x7FB55D76DD50>"
            ]
          },
          "metadata": {
            "tags": []
          }
        },
        {
          "output_type": "stream",
          "text": [
            "Image: 02594.png, Prediction: 2, Class: Speed limit 50\n",
            "Actual Class: 2, Speed limit 50\n",
            "Y\n"
          ],
          "name": "stdout"
        },
        {
          "output_type": "display_data",
          "data": {
            "image/png": "[encoded data removed]",
            "text/plain": [
              "<PIL.Image.Image image mode=RGB size=224x224 at 0x7FB5580B1150>"
            ]
          },
          "metadata": {
            "tags": []
          }
        },
        {
          "output_type": "stream",
          "text": [
            "Image: 02892.png, Prediction: 6, Class: Speed limit 100\n",
            "Actual Class: 6, Speed limit 100\n",
            "Y\n"
          ],
          "name": "stdout"
        },
        {
          "output_type": "display_data",
          "data": {
            "image/png": "[encoded data removed]",
            "text/plain": [
              "<PIL.Image.Image image mode=RGB size=224x224 at 0x7FB565B54350>"
            ]
          },
          "metadata": {
            "tags": []
          }
        },
        {
          "output_type": "stream",
          "text": [
            "Image: 03110.png, Prediction: 2, Class: Speed limit 50\n",
            "Actual Class: 2, Speed limit 50\n",
            "Y\n"
          ],
          "name": "stdout"
        },
        {
          "output_type": "display_data",
          "data": {
            "image/png": "[encoded data removed]",
            "text/plain": [
              "<PIL.Image.Image image mode=RGB size=224x224 at 0x7FB55F276490>"
            ]
          },
          "metadata": {
            "tags": []
          }
        },
        {
          "output_type": "stream",
          "text": [
            "Image: 03135.png, Prediction: 1, Class: Speed limit 30\n",
            "Actual Class: 1, Speed limit 30\n",
            "Y\n"
          ],
          "name": "stdout"
        },
        {
          "output_type": "display_data",
          "data": {
            "image/png": "[encoded data removed]",
            "text/plain": [
              "<PIL.Image.Image image mode=RGB size=224x224 at 0x7FB55D84E350>"
            ]
          },
          "metadata": {
            "tags": []
          }
        },
        {
          "output_type": "stream",
          "text": [
            "Image: 03420.png, Prediction: 0, Class: Speed limit 20\n",
            "Actual Class: 0, Speed limit 20\n",
            "Y\n"
          ],
          "name": "stdout"
        },
        {
          "output_type": "display_data",
          "data": {
            "image/png": "[encoded data removed]",
            "text/plain": [
              "<PIL.Image.Image image mode=RGB size=224x224 at 0x7FB5610F05D0>"
            ]
          },
          "metadata": {
            "tags": []
          }
        },
        {
          "output_type": "stream",
          "text": [
            "Image: 04488.png, Prediction: 7, Class: Speed limit 120\n",
            "Actual Class: 7, Speed limit 120\n",
            "Y\n"
          ],
          "name": "stdout"
        },
        {
          "output_type": "display_data",
          "data": {
            "image/png": "[encoded data removed]",
            "text/plain": [
              "<PIL.Image.Image image mode=RGB size=224x224 at 0x7FB55D926910>"
            ]
          },
          "metadata": {
            "tags": []
          }
        },
        {
          "output_type": "stream",
          "text": [
            "Image: 03451.png, Prediction: 2, Class: Speed limit 50\n",
            "Actual Class: 2, Speed limit 50\n",
            "Y\n"
          ],
          "name": "stdout"
        },
        {
          "output_type": "display_data",
          "data": {
            "image/png": "[encoded data removed]",
            "text/plain": [
              "<PIL.Image.Image image mode=RGB size=224x224 at 0x7FB55D926110>"
            ]
          },
          "metadata": {
            "tags": []
          }
        },
        {
          "output_type": "stream",
          "text": [
            "Image: 04559.png, Prediction: 5, Class: Speed limit 80\n",
            "Actual Class: 5, Speed limit 80\n",
            "Y\n"
          ],
          "name": "stdout"
        },
        {
          "output_type": "display_data",
          "data": {
            "image/png": "[encoded data removed]",
            "text/plain": [
              "<PIL.Image.Image image mode=RGB size=224x224 at 0x7FB55827B410>"
            ]
          },
          "metadata": {
            "tags": []
          }
        },
        {
          "output_type": "stream",
          "text": [
            "Image: 04493.png, Prediction: 4, Class: Speed limit 70\n",
            "Actual Class: 4, Speed limit 70\n",
            "Y\n"
          ],
          "name": "stdout"
        },
        {
          "output_type": "display_data",
          "data": {
            "image/png": "[encoded data removed]",
            "text/plain": [
              "<PIL.Image.Image image mode=RGB size=224x224 at 0x7FB55F206650>"
            ]
          },
          "metadata": {
            "tags": []
          }
        },
        {
          "output_type": "stream",
          "text": [
            "Image: 05396.png, Prediction: 7, Class: Speed limit 120\n",
            "Actual Class: 7, Speed limit 120\n",
            "Y\n"
          ],
          "name": "stdout"
        },
        {
          "output_type": "display_data",
          "data": {
            "image/png": "[encoded data removed]",
            "text/plain": [
              "<PIL.Image.Image image mode=RGB size=224x224 at 0x7FB55D926910>"
            ]
          },
          "metadata": {
            "tags": []
          }
        },
        {
          "output_type": "stream",
          "text": [
            "Image: 05598.png, Prediction: 5, Class: Speed limit 80\n",
            "Actual Class: 5, Speed limit 80\n",
            "Y\n"
          ],
          "name": "stdout"
        },
        {
          "output_type": "display_data",
          "data": {
            "image/png": "[encoded data removed]",
            "text/plain": [
              "<PIL.Image.Image image mode=RGB size=224x224 at 0x7FB55D926110>"
            ]
          },
          "metadata": {
            "tags": []
          }
        },
        {
          "output_type": "stream",
          "text": [
            "Image: 07162.png, Prediction: 6, Class: Speed limit 100\n",
            "Actual Class: 6, Speed limit 100\n",
            "Y\n"
          ],
          "name": "stdout"
        },
        {
          "output_type": "display_data",
          "data": {
            "image/png": "[encoded data removed]",
            "text/plain": [
              "<PIL.Image.Image image mode=RGB size=224x224 at 0x7FB55F1E0DD0>"
            ]
          },
          "metadata": {
            "tags": []
          }
        },
        {
          "output_type": "stream",
          "text": [
            "Image: 06367.png, Prediction: 4, Class: Speed limit 70\n",
            "Actual Class: 4, Speed limit 70\n",
            "Y\n"
          ],
          "name": "stdout"
        },
        {
          "output_type": "display_data",
          "data": {
            "image/png": "[encoded data removed]",
            "text/plain": [
              "<PIL.Image.Image image mode=RGB size=224x224 at 0x7FB55D6C17D0>"
            ]
          },
          "metadata": {
            "tags": []
          }
        },
        {
          "output_type": "stream",
          "text": [
            "Image: 07296.png, Prediction: 2, Class: Speed limit 50\n",
            "Actual Class: 2, Speed limit 50\n",
            "Y\n"
          ],
          "name": "stdout"
        },
        {
          "output_type": "display_data",
          "data": {
            "image/png": "[encoded data removed]",
            "text/plain": [
              "<PIL.Image.Image image mode=RGB size=224x224 at 0x7FB55D8622D0>"
            ]
          },
          "metadata": {
            "tags": []
          }
        },
        {
          "output_type": "stream",
          "text": [
            "Image: 08536.png, Prediction: 1, Class: Speed limit 30\n",
            "Actual Class: 1, Speed limit 30\n",
            "Y\n"
          ],
          "name": "stdout"
        },
        {
          "output_type": "display_data",
          "data": {
            "image/png": "[encoded data removed]",
            "text/plain": [
              "<PIL.Image.Image image mode=RGB size=224x224 at 0x7FB5580B1610>"
            ]
          },
          "metadata": {
            "tags": []
          }
        },
        {
          "output_type": "stream",
          "text": [
            "Image: 08256.png, Prediction: 2, Class: Speed limit 50\n",
            "Actual Class: 2, Speed limit 50\n",
            "Y\n"
          ],
          "name": "stdout"
        },
        {
          "output_type": "display_data",
          "data": {
            "image/png": "[encoded data removed]",
            "text/plain": [
              "<PIL.Image.Image image mode=RGB size=224x224 at 0x7FB558099690>"
            ]
          },
          "metadata": {
            "tags": []
          }
        },
        {
          "output_type": "stream",
          "text": [
            "Image: 08745.png, Prediction: 2, Class: Speed limit 50\n",
            "Actual Class: 7, Speed limit 120\n",
            "N\n"
          ],
          "name": "stdout"
        },
        {
          "output_type": "display_data",
          "data": {
            "image/png": "[encoded data removed]",
            "text/plain": [
              "<PIL.Image.Image image mode=RGB size=224x224 at 0x7FB565B244D0>"
            ]
          },
          "metadata": {
            "tags": []
          }
        },
        {
          "output_type": "stream",
          "text": [
            "Image: 08814.png, Prediction: 4, Class: Speed limit 70\n",
            "Actual Class: 4, Speed limit 70\n",
            "Y\n"
          ],
          "name": "stdout"
        },
        {
          "output_type": "display_data",
          "data": {
            "image/png": "[encoded data removed]",
            "text/plain": [
              "<PIL.Image.Image image mode=RGB size=224x224 at 0x7FB55D6C1510>"
            ]
          },
          "metadata": {
            "tags": []
          }
        },
        {
          "output_type": "stream",
          "text": [
            "Image: 09605.png, Prediction: 4, Class: Speed limit 70\n",
            "Actual Class: 4, Speed limit 70\n",
            "Y\n"
          ],
          "name": "stdout"
        },
        {
          "output_type": "display_data",
          "data": {
            "image/png": "[encoded data removed]",
            "text/plain": [
              "<PIL.Image.Image image mode=RGB size=224x224 at 0x7FB55DA20A10>"
            ]
          },
          "metadata": {
            "tags": []
          }
        },
        {
          "output_type": "stream",
          "text": [
            "Image: 09112.png, Prediction: 3, Class: Speed limit 60\n",
            "Actual Class: 3, Speed limit 60\n",
            "Y\n"
          ],
          "name": "stdout"
        },
        {
          "output_type": "display_data",
          "data": {
            "image/png": "[encoded data removed]",
            "text/plain": [
              "<PIL.Image.Image image mode=RGB size=224x224 at 0x7FB55D719C10>"
            ]
          },
          "metadata": {
            "tags": []
          }
        },
        {
          "output_type": "stream",
          "text": [
            "Image: 09028.png, Prediction: 2, Class: Speed limit 50\n",
            "Actual Class: 1, Speed limit 30\n",
            "N\n"
          ],
          "name": "stdout"
        },
        {
          "output_type": "display_data",
          "data": {
            "image/png": "[encoded data removed]",
            "text/plain": [
              "<PIL.Image.Image image mode=RGB size=224x224 at 0x7FB55D97D650>"
            ]
          },
          "metadata": {
            "tags": []
          }
        },
        {
          "output_type": "stream",
          "text": [
            "Image: 09764.png, Prediction: 7, Class: Speed limit 120\n",
            "Actual Class: 7, Speed limit 120\n",
            "Y\n"
          ],
          "name": "stdout"
        },
        {
          "output_type": "display_data",
          "data": {
            "image/png": "[encoded data removed]",
            "text/plain": [
              "<PIL.Image.Image image mode=RGB size=224x224 at 0x7FB55D6CD190>"
            ]
          },
          "metadata": {
            "tags": []
          }
        },
        {
          "output_type": "stream",
          "text": [
            "Image: 09900.png, Prediction: 5, Class: Speed limit 80\n",
            "Actual Class: 5, Speed limit 80\n",
            "Y\n"
          ],
          "name": "stdout"
        },
        {
          "output_type": "display_data",
          "data": {
            "image/png": "[encoded data removed]",
            "text/plain": [
              "<PIL.Image.Image image mode=RGB size=224x224 at 0x7FB5594F13D0>"
            ]
          },
          "metadata": {
            "tags": []
          }
        },
        {
          "output_type": "stream",
          "text": [
            "Image: 10049.png, Prediction: 0, Class: Speed limit 20\n",
            "Actual Class: 0, Speed limit 20\n",
            "Y\n"
          ],
          "name": "stdout"
        },
        {
          "output_type": "display_data",
          "data": {
            "image/png": "[encoded data removed]",
            "text/plain": [
              "<PIL.Image.Image image mode=RGB size=224x224 at 0x7FB5594F10D0>"
            ]
          },
          "metadata": {
            "tags": []
          }
        },
        {
          "output_type": "stream",
          "text": [
            "Image: 10071.png, Prediction: 4, Class: Speed limit 70\n",
            "Actual Class: 4, Speed limit 70\n",
            "Y\n"
          ],
          "name": "stdout"
        },
        {
          "output_type": "display_data",
          "data": {
            "image/png": "[encoded data removed]",
            "text/plain": [
              "<PIL.Image.Image image mode=RGB size=224x224 at 0x7FB55D720550>"
            ]
          },
          "metadata": {
            "tags": []
          }
        },
        {
          "output_type": "stream",
          "text": [
            "Image: 11771.png, Prediction: 0, Class: Speed limit 20\n",
            "Actual Class: 0, Speed limit 20\n",
            "Y\n"
          ],
          "name": "stdout"
        },
        {
          "output_type": "display_data",
          "data": {
            "image/png": "[encoded data removed]",
            "text/plain": [
              "<PIL.Image.Image image mode=RGB size=224x224 at 0x7FB5594F10D0>"
            ]
          },
          "metadata": {
            "tags": []
          }
        },
        {
          "output_type": "stream",
          "text": [
            "Image: 11790.png, Prediction: 0, Class: Speed limit 20\n",
            "Actual Class: 0, Speed limit 20\n",
            "Y\n"
          ],
          "name": "stdout"
        },
        {
          "output_type": "display_data",
          "data": {
            "image/png": "[encoded data removed]",
            "text/plain": [
              "<PIL.Image.Image image mode=RGB size=224x224 at 0x7FB55841B8D0>"
            ]
          },
          "metadata": {
            "tags": []
          }
        },
        {
          "output_type": "stream",
          "text": [
            "Image: 10841.png, Prediction: 2, Class: Speed limit 50\n",
            "Actual Class: 1, Speed limit 30\n",
            "N\n"
          ],
          "name": "stdout"
        },
        {
          "output_type": "display_data",
          "data": {
            "image/png": "[encoded data removed]",
            "text/plain": [
              "<PIL.Image.Image image mode=RGB size=224x224 at 0x7FB55D7AC350>"
            ]
          },
          "metadata": {
            "tags": []
          }
        },
        {
          "output_type": "stream",
          "text": [
            "Image: 11804.png, Prediction: 0, Class: Speed limit 20\n",
            "Actual Class: 0, Speed limit 20\n",
            "Y\n"
          ],
          "name": "stdout"
        },
        {
          "output_type": "display_data",
          "data": {
            "image/png": "[encoded data removed]",
            "text/plain": [
              "<PIL.Image.Image image mode=RGB size=224x224 at 0x7FB5582D2710>"
            ]
          },
          "metadata": {
            "tags": []
          }
        },
        {
          "output_type": "stream",
          "text": [
            "Image: 11873.png, Prediction: 0, Class: Speed limit 20\n",
            "Actual Class: 0, Speed limit 20\n",
            "Y\n"
          ],
          "name": "stdout"
        },
        {
          "output_type": "display_data",
          "data": {
            "image/png": "[encoded data removed]",
            "text/plain": [
              "<PIL.Image.Image image mode=RGB size=224x224 at 0x7FB55F1EEED0>"
            ]
          },
          "metadata": {
            "tags": []
          }
        },
        {
          "output_type": "stream",
          "text": [
            "Image: 12272.png, Prediction: 4, Class: Speed limit 70\n",
            "Actual Class: 4, Speed limit 70\n",
            "Y\n"
          ],
          "name": "stdout"
        },
        {
          "output_type": "display_data",
          "data": {
            "image/png": "[encoded data removed]",
            "text/plain": [
              "<PIL.Image.Image image mode=RGB size=224x224 at 0x7FB5611A1090>"
            ]
          },
          "metadata": {
            "tags": []
          }
        },
        {
          "output_type": "stream",
          "text": [
            "Image: 12442.png, Prediction: 3, Class: Speed limit 60\n",
            "Actual Class: 3, Speed limit 60\n",
            "Y\n"
          ],
          "name": "stdout"
        },
        {
          "output_type": "display_data",
          "data": {
            "image/png": "[encoded data removed]",
            "text/plain": [
              "<PIL.Image.Image image mode=RGB size=224x224 at 0x7FB55D9A7A10>"
            ]
          },
          "metadata": {
            "tags": []
          }
        },
        {
          "output_type": "stream",
          "text": [
            "Image: 12273.png, Prediction: 7, Class: Speed limit 120\n",
            "Actual Class: 7, Speed limit 120\n",
            "Y\n"
          ],
          "name": "stdout"
        },
        {
          "output_type": "display_data",
          "data": {
            "image/png": "[encoded data removed]",
            "text/plain": [
              "<PIL.Image.Image image mode=RGB size=224x224 at 0x7FB55D9A7A10>"
            ]
          },
          "metadata": {
            "tags": []
          }
        },
        {
          "output_type": "stream",
          "text": [
            "Image: 12565.png, Prediction: 2, Class: Speed limit 50\n",
            "Actual Class: 2, Speed limit 50\n",
            "Y\n"
          ],
          "name": "stdout"
        },
        {
          "output_type": "display_data",
          "data": {
            "image/png": "[encoded data removed]",
            "text/plain": [
              "<PIL.Image.Image image mode=RGB size=224x224 at 0x7FB55D9A7A10>"
            ]
          },
          "metadata": {
            "tags": []
          }
        },
        {
          "output_type": "stream",
          "text": [
            "Image: 00001.png, Prediction: 1, Class: Speed limit 30\n",
            "Actual Class: 1, Speed limit 30\n",
            "Y\n"
          ],
          "name": "stdout"
        }
      ]
    },
    {
      "cell_type": "code",
      "metadata": {
        "colab": {
          "base_uri": "https://localhost:8080/"
        },
        "id": "BhacRxSMEL4x",
        "outputId": "28dbf35a-cf9f-4e67-ed2e-fa6fa29e900b"
      },
      "source": [
        "print(f\"Correctly Classified: {correct}\")\n",
        "print(f\"Accuracy: {correct/total*100}\")"
      ],
      "execution_count": null,
      "outputs": [
        {
          "output_type": "stream",
          "text": [
            "Correctly Classified: 129\n",
            "Accuracy: 84.86842105263158\n"
          ],
          "name": "stdout"
        }
      ]
    },
    {
      "cell_type": "code",
      "metadata": {
        "id": "O2_OH90Gm7IY"
      },
      "source": [
        "##model paths\n",
        "MODEL_JSON_PATH = '/content/gdrive/MyDrive/RecogSign/model.json'\n",
        "MODEL_WEIGHTS_PATH = '/content/gdrive/MyDrive/RecogSign/model.f5'"
      ],
      "execution_count": null,
      "outputs": []
    },
    {
      "cell_type": "code",
      "metadata": {
        "colab": {
          "base_uri": "https://localhost:8080/",
          "height": 229
        },
        "id": "CRNCSxGahtGI",
        "outputId": "1c28d110-c701-48e3-f6f5-c49fab22d4c0"
      },
      "source": [
        "## SAVING THE MODEL\n",
        "MODEL_JSON_PATH = '/content/gdrive/MyDrive/RecogSign/model.json'\n",
        "MODEL_WEIGHTS_PATH = '/content/gdrive/MyDrive/RecogSign/model.f5'\n",
        "\n",
        "# serialize model to JSON\n",
        "model_json = model.to_json()\n",
        "with open(MODEL_JSON_PATH, \"w\") as json_file:\n",
        "    json_file.write(model_json)\n",
        "\n",
        "# serialize weights to HDF5\n",
        "model.save_weights(MODEL_WEIGHTS_PATH)\n",
        "print(\"Saved model to disk\")"
      ],
      "execution_count": null,
      "outputs": [
        {
          "output_type": "error",
          "ename": "NameError",
          "evalue": "ignored",
          "traceback": [
            "\u001b[0;31m---------------------------------------------------------------------------\u001b[0m",
            "\u001b[0;31mNameError\u001b[0m                                 Traceback (most recent call last)",
            "\u001b[0;32m<ipython-input-30-dc3ec73fc0d4>\u001b[0m in \u001b[0;36m<module>\u001b[0;34m()\u001b[0m\n\u001b[1;32m      4\u001b[0m \u001b[0;34m\u001b[0m\u001b[0m\n\u001b[1;32m      5\u001b[0m \u001b[0;31m# serialize model to JSON\u001b[0m\u001b[0;34m\u001b[0m\u001b[0;34m\u001b[0m\u001b[0;34m\u001b[0m\u001b[0m\n\u001b[0;32m----> 6\u001b[0;31m \u001b[0mmodel_json\u001b[0m \u001b[0;34m=\u001b[0m \u001b[0mmodel\u001b[0m\u001b[0;34m.\u001b[0m\u001b[0mto_json\u001b[0m\u001b[0;34m(\u001b[0m\u001b[0;34m)\u001b[0m\u001b[0;34m\u001b[0m\u001b[0;34m\u001b[0m\u001b[0m\n\u001b[0m\u001b[1;32m      7\u001b[0m \u001b[0;32mwith\u001b[0m \u001b[0mopen\u001b[0m\u001b[0;34m(\u001b[0m\u001b[0mMODEL_JSON_PATH\u001b[0m\u001b[0;34m,\u001b[0m \u001b[0;34m\"w\"\u001b[0m\u001b[0;34m)\u001b[0m \u001b[0;32mas\u001b[0m \u001b[0mjson_file\u001b[0m\u001b[0;34m:\u001b[0m\u001b[0;34m\u001b[0m\u001b[0;34m\u001b[0m\u001b[0m\n\u001b[1;32m      8\u001b[0m     \u001b[0mjson_file\u001b[0m\u001b[0;34m.\u001b[0m\u001b[0mwrite\u001b[0m\u001b[0;34m(\u001b[0m\u001b[0mmodel_json\u001b[0m\u001b[0;34m)\u001b[0m\u001b[0;34m\u001b[0m\u001b[0;34m\u001b[0m\u001b[0m\n",
            "\u001b[0;31mNameError\u001b[0m: name 'model' is not defined"
          ]
        }
      ]
    },
    {
      "cell_type": "code",
      "metadata": {
        "colab": {
          "base_uri": "https://localhost:8080/"
        },
        "id": "zIaSvR8DiBxo",
        "outputId": "10e06dec-5148-4738-8634-c5174696276c"
      },
      "source": [
        "## LOADING SAVED MODEL\n",
        "MODEL_JSON_PATH = '/content/gdrive/MyDrive/RecogSign/model.json'\n",
        "MODEL_WEIGHTS_PATH = '/content/gdrive/MyDrive/RecogSign/model.f5'\n",
        "\n",
        "from keras.models import model_from_json\n",
        "\n",
        "json_file = open(MODEL_JSON_PATH, 'r')\n",
        "loaded_model_json = json_file.read()\n",
        "json_file.close()\n",
        "loaded_model = model_from_json(loaded_model_json)\n",
        "# load weights into new model\n",
        "loaded_model.load_weights(MODEL_WEIGHTS_PATH)\n",
        "print(\"Loaded model from disk\")"
      ],
      "execution_count": null,
      "outputs": [
        {
          "output_type": "stream",
          "text": [
            "Loaded model from disk\n"
          ],
          "name": "stdout"
        }
      ]
    },
    {
      "cell_type": "code",
      "metadata": {
        "colab": {
          "base_uri": "https://localhost:8080/"
        },
        "id": "RZ2PicHKiH7B",
        "outputId": "88e5b5ab-a1da-42ba-f632-246beafe1c0f"
      },
      "source": [
        "## TESTING SAVED MODEL\n",
        "pred = loaded_model.predict_classes(X_test)\n",
        "\n",
        "#Accuracy with the test data\n",
        "print(\"Accuracy: \", accuracy_score(labels, pred))"
      ],
      "execution_count": null,
      "outputs": [
        {
          "output_type": "stream",
          "text": [
            "Accuracy:  0.8486842105263158\n"
          ],
          "name": "stdout"
        }
      ]
    },
    {
      "cell_type": "code",
      "metadata": {
        "id": "9PODjQkrl6uS",
        "colab": {
          "base_uri": "https://localhost:8080/",
          "height": 1000
        },
        "outputId": "a803f3c3-cda5-4bb7-df27-fcd761995ef1"
      },
      "source": [
        "path = '/content/gdrive/MyDrive/RecogSign/Test/PP_Test/'\n",
        "correct = 0\n",
        "total = len(test_images)\n",
        "for image_path in test_images:\n",
        "  image = cv2.imread(path + image_path)\n",
        "  # cv2_imshow(image)\n",
        "\n",
        "  image_fromarray = Image.fromarray(image)\n",
        "  resize_image = image_fromarray.resize((height, width))\n",
        "  test_image = np.array(resize_image)\n",
        "  test_image = test_image.reshape(1, 32, 32, 3)\n",
        "  pred = loaded_model.predict_classes(test_image)\n",
        "  \n",
        "  # print(f\"Image: {image_path}, Prediction: {pred[0]}, Class: {classes[pred[0]]}\")\n",
        "  # actual_pred = test_df[test_df['Path']==image_path]['ClassId']\n",
        "  # print(f\"Actual Class: {actual_pred.iloc[0]}, {classes[actual_pred.iloc[0]]}\")\n",
        "  actual_pred = test_df[test_df['Path']==image_path]['ClassId']\n",
        "\n",
        "  if actual_pred.iloc[0]==pred[0]:\n",
        "    correct+=1\n",
        "    # print(\"Y\")\n",
        "  else:\n",
        "    cv2_imshow(image)\n",
        "    print(\"N\")\n",
        "    print(f\"Image: {image_path}, Prediction: {pred[0]}, Class: {classes[pred[0]]}\")\n",
        "\n",
        "    print(f\"Actual Class: {actual_pred.iloc[0]}, {classes[actual_pred.iloc[0]]}\")\n",
        "\n",
        "print(total-correct)"
      ],
      "execution_count": null,
      "outputs": [
        {
          "output_type": "display_data",
          "data": {
            "image/png": "[encoded data removed]",
            "text/plain": [
              "<PIL.Image.Image image mode=RGB size=224x224 at 0x7F79684A5AD0>"
            ]
          },
          "metadata": {
            "tags": []
          }
        },
        {
          "output_type": "stream",
          "text": [
            "N\n",
            "Image: 00049.png, Prediction: 5, Class: Speed limit 80\n",
            "Actual Class: 7, Speed limit 120\n"
          ],
          "name": "stdout"
        },
        {
          "output_type": "display_data",
          "data": {
            "image/png": "[encoded data removed]",
            "text/plain": [
              "<PIL.Image.Image image mode=RGB size=224x224 at 0x7F796AC9EAD0>"
            ]
          },
          "metadata": {
            "tags": []
          }
        },
        {
          "output_type": "stream",
          "text": [
            "N\n",
            "Image: 00056.png, Prediction: 4, Class: Speed limit 70\n",
            "Actual Class: 5, Speed limit 80\n"
          ],
          "name": "stdout"
        },
        {
          "output_type": "display_data",
          "data": {
            "image/png": "[encoded data removed]",
            "text/plain": [
              "<PIL.Image.Image image mode=RGB size=224x224 at 0x7F7967E8ED50>"
            ]
          },
          "metadata": {
            "tags": []
          }
        },
        {
          "output_type": "stream",
          "text": [
            "N\n",
            "Image: 00068.png, Prediction: 1, Class: Speed limit 30\n",
            "Actual Class: 5, Speed limit 80\n"
          ],
          "name": "stdout"
        },
        {
          "output_type": "display_data",
          "data": {
            "image/png": "[encoded data removed]",
            "text/plain": [
              "<PIL.Image.Image image mode=RGB size=224x224 at 0x7F79681B5110>"
            ]
          },
          "metadata": {
            "tags": []
          }
        },
        {
          "output_type": "stream",
          "text": [
            "N\n",
            "Image: 00083.png, Prediction: 7, Class: Speed limit 120\n",
            "Actual Class: 6, Speed limit 100\n"
          ],
          "name": "stdout"
        },
        {
          "output_type": "display_data",
          "data": {
            "image/png": "[encoded data removed]",
            "text/plain": [
              "<PIL.Image.Image image mode=RGB size=224x224 at 0x7F7967DF2190>"
            ]
          },
          "metadata": {
            "tags": []
          }
        },
        {
          "output_type": "stream",
          "text": [
            "N\n",
            "Image: 00122.png, Prediction: 2, Class: Speed limit 50\n",
            "Actual Class: 1, Speed limit 30\n"
          ],
          "name": "stdout"
        },
        {
          "output_type": "display_data",
          "data": {
            "image/png": "[encoded data removed]",
            "text/plain": [
              "<PIL.Image.Image image mode=RGB size=224x224 at 0x7F7967E10250>"
            ]
          },
          "metadata": {
            "tags": []
          }
        },
        {
          "output_type": "stream",
          "text": [
            "N\n",
            "Image: 00138.png, Prediction: 1, Class: Speed limit 30\n",
            "Actual Class: 2, Speed limit 50\n"
          ],
          "name": "stdout"
        },
        {
          "output_type": "display_data",
          "data": {
            "image/png": "[encoded data removed]",
            "text/plain": [
              "<PIL.Image.Image image mode=RGB size=224x224 at 0x7F7968314850>"
            ]
          },
          "metadata": {
            "tags": []
          }
        },
        {
          "output_type": "stream",
          "text": [
            "N\n",
            "Image: 00176.png, Prediction: 7, Class: Speed limit 120\n",
            "Actual Class: 3, Speed limit 60\n"
          ],
          "name": "stdout"
        },
        {
          "output_type": "display_data",
          "data": {
            "image/png": "[encoded data removed]",
            "text/plain": [
              "<PIL.Image.Image image mode=RGB size=224x224 at 0x7F7968366C10>"
            ]
          },
          "metadata": {
            "tags": []
          }
        },
        {
          "output_type": "stream",
          "text": [
            "N\n",
            "Image: 00175.png, Prediction: 5, Class: Speed limit 80\n",
            "Actual Class: 1, Speed limit 30\n"
          ],
          "name": "stdout"
        },
        {
          "output_type": "display_data",
          "data": {
            "image/png": "[encoded data removed]",
            "text/plain": [
              "<PIL.Image.Image image mode=RGB size=224x224 at 0x7F79684B2ED0>"
            ]
          },
          "metadata": {
            "tags": []
          }
        },
        {
          "output_type": "stream",
          "text": [
            "N\n",
            "Image: 00246.png, Prediction: 6, Class: Speed limit 100\n",
            "Actual Class: 5, Speed limit 80\n"
          ],
          "name": "stdout"
        },
        {
          "output_type": "display_data",
          "data": {
            "image/png": "[encoded data removed]",
            "text/plain": [
              "<PIL.Image.Image image mode=RGB size=224x224 at 0x7F796AC1E910>"
            ]
          },
          "metadata": {
            "tags": []
          }
        },
        {
          "output_type": "stream",
          "text": [
            "N\n",
            "Image: 00247.png, Prediction: 5, Class: Speed limit 80\n",
            "Actual Class: 7, Speed limit 120\n"
          ],
          "name": "stdout"
        },
        {
          "output_type": "display_data",
          "data": {
            "image/png": "[encoded data removed]",
            "text/plain": [
              "<PIL.Image.Image image mode=RGB size=224x224 at 0x7F796814AC90>"
            ]
          },
          "metadata": {
            "tags": []
          }
        },
        {
          "output_type": "stream",
          "text": [
            "N\n",
            "Image: 00252.png, Prediction: 5, Class: Speed limit 80\n",
            "Actual Class: 0, Speed limit 20\n"
          ],
          "name": "stdout"
        },
        {
          "output_type": "display_data",
          "data": {
            "image/png": "[encoded data removed]",
            "text/plain": [
              "<PIL.Image.Image image mode=RGB size=224x224 at 0x7F7967FE4490>"
            ]
          },
          "metadata": {
            "tags": []
          }
        },
        {
          "output_type": "stream",
          "text": [
            "N\n",
            "Image: 00268.png, Prediction: 4, Class: Speed limit 70\n",
            "Actual Class: 2, Speed limit 50\n"
          ],
          "name": "stdout"
        },
        {
          "output_type": "display_data",
          "data": {
            "image/png": "[encoded data removed]",
            "text/plain": [
              "<PIL.Image.Image image mode=RGB size=224x224 at 0x7F79682BEE90>"
            ]
          },
          "metadata": {
            "tags": []
          }
        },
        {
          "output_type": "stream",
          "text": [
            "N\n",
            "Image: 00279.png, Prediction: 6, Class: Speed limit 100\n",
            "Actual Class: 1, Speed limit 30\n"
          ],
          "name": "stdout"
        },
        {
          "output_type": "display_data",
          "data": {
            "image/png": "[encoded data removed]",
            "text/plain": [
              "<PIL.Image.Image image mode=RGB size=224x224 at 0x7F7967FA7ED0>"
            ]
          },
          "metadata": {
            "tags": []
          }
        },
        {
          "output_type": "stream",
          "text": [
            "N\n",
            "Image: 00328.png, Prediction: 6, Class: Speed limit 100\n",
            "Actual Class: 7, Speed limit 120\n"
          ],
          "name": "stdout"
        },
        {
          "output_type": "display_data",
          "data": {
            "image/png": "[encoded data removed]",
            "text/plain": [
              "<PIL.Image.Image image mode=RGB size=224x224 at 0x7F7967DFD250>"
            ]
          },
          "metadata": {
            "tags": []
          }
        },
        {
          "output_type": "stream",
          "text": [
            "N\n",
            "Image: 00330.png, Prediction: 3, Class: Speed limit 60\n",
            "Actual Class: 4, Speed limit 70\n"
          ],
          "name": "stdout"
        },
        {
          "output_type": "display_data",
          "data": {
            "image/png": "[encoded data removed]",
            "text/plain": [
              "<PIL.Image.Image image mode=RGB size=224x224 at 0x7F7967E0C050>"
            ]
          },
          "metadata": {
            "tags": []
          }
        },
        {
          "output_type": "stream",
          "text": [
            "N\n",
            "Image: 00375.png, Prediction: 5, Class: Speed limit 80\n",
            "Actual Class: 1, Speed limit 30\n"
          ],
          "name": "stdout"
        },
        {
          "output_type": "display_data",
          "data": {
            "image/png": "[encoded data removed]",
            "text/plain": [
              "<PIL.Image.Image image mode=RGB size=224x224 at 0x7F7967DF20D0>"
            ]
          },
          "metadata": {
            "tags": []
          }
        },
        {
          "output_type": "stream",
          "text": [
            "N\n",
            "Image: 00393.png, Prediction: 6, Class: Speed limit 100\n",
            "Actual Class: 2, Speed limit 50\n"
          ],
          "name": "stdout"
        },
        {
          "output_type": "display_data",
          "data": {
            "image/png": "[encoded data removed]",
            "text/plain": [
              "<PIL.Image.Image image mode=RGB size=224x224 at 0x7F7968353050>"
            ]
          },
          "metadata": {
            "tags": []
          }
        },
        {
          "output_type": "stream",
          "text": [
            "N\n",
            "Image: 00421.png, Prediction: 2, Class: Speed limit 50\n",
            "Actual Class: 4, Speed limit 70\n"
          ],
          "name": "stdout"
        },
        {
          "output_type": "display_data",
          "data": {
            "image/png": "[encoded data removed]",
            "text/plain": [
              "<PIL.Image.Image image mode=RGB size=224x224 at 0x7F7967D11C50>"
            ]
          },
          "metadata": {
            "tags": []
          }
        },
        {
          "output_type": "stream",
          "text": [
            "N\n",
            "Image: 00473.png, Prediction: 4, Class: Speed limit 70\n",
            "Actual Class: 1, Speed limit 30\n"
          ],
          "name": "stdout"
        },
        {
          "output_type": "display_data",
          "data": {
            "image/png": "[encoded data removed]",
            "text/plain": [
              "<PIL.Image.Image image mode=RGB size=224x224 at 0x7F7967DFD7D0>"
            ]
          },
          "metadata": {
            "tags": []
          }
        },
        {
          "output_type": "stream",
          "text": [
            "N\n",
            "Image: 00495.png, Prediction: 6, Class: Speed limit 100\n",
            "Actual Class: 5, Speed limit 80\n"
          ],
          "name": "stdout"
        },
        {
          "output_type": "display_data",
          "data": {
            "image/png": "[encoded data removed]",
            "text/plain": [
              "<PIL.Image.Image image mode=RGB size=224x224 at 0x7F7967D1DD50>"
            ]
          },
          "metadata": {
            "tags": []
          }
        },
        {
          "output_type": "stream",
          "text": [
            "N\n",
            "Image: 08745.png, Prediction: 2, Class: Speed limit 50\n",
            "Actual Class: 7, Speed limit 120\n"
          ],
          "name": "stdout"
        },
        {
          "output_type": "display_data",
          "data": {
            "image/png": "[encoded data removed]",
            "text/plain": [
              "<PIL.Image.Image image mode=RGB size=224x224 at 0x7F7967F95CD0>"
            ]
          },
          "metadata": {
            "tags": []
          }
        },
        {
          "output_type": "stream",
          "text": [
            "N\n",
            "Image: 09028.png, Prediction: 2, Class: Speed limit 50\n",
            "Actual Class: 1, Speed limit 30\n"
          ],
          "name": "stdout"
        },
        {
          "output_type": "display_data",
          "data": {
            "image/png": "[encoded data removed]",
            "text/plain": [
              "<PIL.Image.Image image mode=RGB size=224x224 at 0x7F79680FF8D0>"
            ]
          },
          "metadata": {
            "tags": []
          }
        },
        {
          "output_type": "stream",
          "text": [
            "N\n",
            "Image: 10841.png, Prediction: 2, Class: Speed limit 50\n",
            "Actual Class: 1, Speed limit 30\n",
            "23\n"
          ],
          "name": "stdout"
        }
      ]
    },
    {
      "cell_type": "code",
      "metadata": {
        "id": "YETa-JpZxUZi"
      },
      "source": [
        "import numpy as np, pandas as pd\n",
        "import cv2\n",
        "from tqdm import tqdm_notebook, tqdm # Iteration visualization\n",
        "tqdm.pandas(desc=\"Loading\") # to do progress_apply for pandas"
      ],
      "execution_count": null,
      "outputs": []
    },
    {
      "cell_type": "code",
      "metadata": {
        "colab": {
          "base_uri": "https://localhost:8080/"
        },
        "id": "lkMilDSp9Dyq",
        "outputId": "51a989d6-2f1c-4629-dd13-9e2d53b1c526"
      },
      "source": [
        "!ls /content/gdrive/MyDrive/RecogSign/Annotations/"
      ],
      "execution_count": null,
      "outputs": [
        {
          "output_type": "stream",
          "text": [
            "annotClass0.csv     annotClass2.csv  annotClass5.csv\n",
            "annotClass1.csv     annotClass3.csv  annotClass7.csv\n",
            "annotClass1.gsheet  annotClass4.csv  annotClass8.csv\n"
          ],
          "name": "stdout"
        }
      ]
    },
    {
      "cell_type": "code",
      "metadata": {
        "colab": {
          "base_uri": "https://localhost:8080/"
        },
        "id": "7bkNBMBuAVc5",
        "outputId": "f710abf9-a8ab-4ecc-d802-8f92358fb75d"
      },
      "source": [
        "for i in range(8):\n",
        "\n",
        "  ANNOTATION_PATH2 = f'/content/gdrive/MyDrive/RecogSign/YOLO_Format/{i}'\n",
        "  print(f'Folder {i}:', len(os.listdir(ANNOTATION_PATH2)))"
      ],
      "execution_count": null,
      "outputs": [
        {
          "output_type": "stream",
          "text": [
            "Folder 0: 210\n",
            "Folder 1: 2219\n",
            "Folder 2: 2249\n",
            "Folder 3: 1410\n",
            "Folder 4: 1979\n",
            "Folder 5: 1859\n",
            "Folder 6: 1439\n",
            "Folder 7: 2848\n"
          ],
          "name": "stdout"
        }
      ]
    },
    {
      "cell_type": "code",
      "metadata": {
        "colab": {
          "base_uri": "https://localhost:8080/"
        },
        "id": "eJrd7r3YxtPV",
        "outputId": "8fcc0a46-de51-4af5-adce-795e523ffd49"
      },
      "source": [
        "def convert(size, box):\n",
        "  dw = 1./size[0]\n",
        "  dh = 1./size[1]\n",
        "  x = (box[0] + box[1])/2.0\n",
        "  y = (box[2] + box[3])/2.0\n",
        "  w = box[1] - box[0]\n",
        "  h = box[3] - box[2]\n",
        "  x = x*dw\n",
        "  w = w*dw\n",
        "  y = y*dh\n",
        "  h = h*dh\n",
        "  return (x,y,w,h)\n",
        "\n",
        "ANNOTATION_PATH = '/content/gdrive/MyDrive/RecogSign/Annotations/'\n",
        "OUTPUT_YOLO = '/content/gdrive/MyDrive/RecogSign/YOLO_Format/'\n",
        "\n",
        "print(os.listdir(ANNOTATION_PATH))\n",
        "for f in os.listdir(ANNOTATION_PATH):\n",
        "  print(f)\n",
        "  if f[-6:]=='gsheet':\n",
        "    continue\n",
        "  df = pd.read_csv(ANNOTATION_PATH + f)\n",
        "  cls = int(f[-5])\n",
        "  print(f\"Class read: {cls}\")\n",
        "\n",
        "  ## cheap fix\n",
        "  if cls == 7:\n",
        "    cls = 6\n",
        "  elif cls ==8:\n",
        "    cls = 7\n",
        "  print(f\"Class final: {cls}\")\n",
        "  for index, item in df.iterrows():\n",
        "    if pd.isna(item['filename']):\n",
        "      continue\n",
        "    image_path = item['filename'][:-4]\n",
        "    # print(f\"{OUTPUT_YOLO}{cls}/{image_path}.txt\")\n",
        "    fout = open(f\"{OUTPUT_YOLO}{image_path}.txt\", \"w\")\n",
        "    w = 224\n",
        "    h = 224\n",
        "    size = (w,h)\n",
        "    xmin = item['xmin'] if item['xmin']>=0 else 0\n",
        "    ymin = item['ymin'] if item['ymin']>=0 else 0\n",
        "    box = (xmin, ymin, item['xmax'], item['ymax'])\n",
        "    bb = convert(size, box)\n",
        "    # print(bb)\n",
        "    ncls = str(cls)\n",
        "    fout.write(ncls + \" \" + \" \".join([str(a) for a in bb]) + '\\n')\n",
        "    fout.close()\n",
        "  print(f\"Data written for class {cls}\\n\")\n",
        "print(\"all done\")"
      ],
      "execution_count": null,
      "outputs": [
        {
          "output_type": "stream",
          "text": [
            "['annotClass0.csv', 'annotClass1.csv', 'annotClass2.csv', 'annotClass3.csv', 'annotClass4.csv', 'annotClass5.csv', 'annotClass6.csv', 'annotClass7.csv']\n",
            "annotClass0.csv\n",
            "Class read: 0\n",
            "Class final: 0\n",
            "Data written for class 0\n",
            "\n",
            "annotClass1.csv\n",
            "Class read: 1\n",
            "Class final: 1\n",
            "Data written for class 1\n",
            "\n",
            "annotClass2.csv\n",
            "Class read: 2\n",
            "Class final: 2\n",
            "Data written for class 2\n",
            "\n",
            "annotClass3.csv\n",
            "Class read: 3\n",
            "Class final: 3\n",
            "Data written for class 3\n",
            "\n",
            "annotClass4.csv\n",
            "Class read: 4\n",
            "Class final: 4\n",
            "Data written for class 4\n",
            "\n",
            "annotClass5.csv\n",
            "Class read: 5\n",
            "Class final: 5\n",
            "Data written for class 5\n",
            "\n",
            "annotClass6.csv\n",
            "Class read: 6\n",
            "Class final: 6\n",
            "Data written for class 6\n",
            "\n",
            "annotClass7.csv\n",
            "Class read: 7\n",
            "Class final: 6\n",
            "Data written for class 6\n",
            "\n",
            "all done\n"
          ],
          "name": "stdout"
        }
      ]
    },
    {
      "cell_type": "code",
      "metadata": {
        "colab": {
          "base_uri": "https://localhost:8080/"
        },
        "id": "b39j7QzjwpYr",
        "outputId": "9b37f1fa-c9b8-4240-d96c-61d33db8a0a7"
      },
      "source": [
        "TRAIN_TEXT_FILE = '/content/gdrive/MyDrive/RecogSign/train.txt'\n",
        "VAL_TEXT_FILE = '/content/gdrive/MyDrive/RecogSign/val.txt'\n",
        "TRAIN_IMAGES_PATH_OLD = '/content/gdrive/MyDrive/RecogSign/NewPreprocessed/' ##for getting image file names\n",
        "TRAIN_IMAGES_PATH_NEW = 'data/images/'\n",
        "\n",
        "image_data = []\n",
        "\n",
        "ftrain = open(TRAIN_TEXT_FILE, 'w')\n",
        "fval = open(VAL_TEXT_FILE, \"w\")\n",
        "\n",
        "for folder in os.listdir(TRAIN_IMAGES_PATH_OLD):\n",
        "  for image_file in os.listdir(TRAIN_IMAGES_PATH_OLD + folder):\n",
        "    path_to_be_written = TRAIN_IMAGES_PATH_NEW + image_file\n",
        "    # print(path_to_be_written)\n",
        "    image_data.append(path_to_be_written)\n",
        "  print(f'Done for folder {folder}')\n",
        "\n",
        "import random\n",
        "\n",
        "random.shuffle(image_data)\n",
        "idx = int(0.8 * len(image_data)) #80% for training\n",
        "print(idx)\n",
        "\n",
        "train_data = image_data[:idx]\n",
        "test_data = image_data[idx:]\n",
        "\n",
        "for item in train_data:\n",
        "  ftrain.write(item+\"\\n\")\n",
        "print(\"Train written\")\n",
        "ftrain.close()\n",
        "\n",
        "for item in test_data:\n",
        "  fval.write(item+\"\\n\")\n",
        "print(\"Val written\")\n",
        "fval.close()\n",
        "\n",
        "print('All done')\n",
        "\n"
      ],
      "execution_count": null,
      "outputs": [
        {
          "output_type": "stream",
          "text": [
            "Done for folder 3\n",
            "Done for folder 0\n",
            "Done for folder 1\n",
            "Done for folder 2\n",
            "Done for folder 4\n",
            "Done for folder 5\n",
            "Done for folder 6\n",
            "Done for folder 7\n",
            "8140\n",
            "Train written\n",
            "Val written\n",
            "All done\n"
          ],
          "name": "stdout"
        }
      ]
    },
    {
      "cell_type": "code",
      "metadata": {
        "colab": {
          "base_uri": "https://localhost:8080/"
        },
        "id": "mhRZ9PcXysq-",
        "outputId": "b2cd54fc-4a38-44f2-928e-b241e80a3d15"
      },
      "source": [
        "print(os.listdir('/content/gdrive/MyDrive/RecogSign/'))"
      ],
      "execution_count": null,
      "outputs": [
        {
          "output_type": "stream",
          "text": [
            "['Meta.csv', 'Test.csv', 'Train.csv', 'Meta', 'Train', 'Preprocessed', 'Test', 'NewPreprocessed', 'model.f5.data-00000-of-00001', 'model.f5.index', 'checkpoint', 'model.json', 'Annotations', 'YOLO_Format', 'Resized', 'train.txt']\n"
          ],
          "name": "stdout"
        }
      ]
    },
    {
      "cell_type": "code",
      "metadata": {
        "colab": {
          "base_uri": "https://localhost:8080/"
        },
        "id": "cYoMqS-qyzFK",
        "outputId": "7ca539dc-3c92-4461-ae10-b9ccde92b2d3"
      },
      "source": [
        "f = open(TRAIN_TEXT_FILE, 'r')\n",
        "print(f.readlines())"
      ],
      "execution_count": null,
      "outputs": [
        {
          "output_type": "stream",
          "text": [
            "['data/images/00001_00027_00010.png\\n', 'data/images/00001_00066_00002.png\\n', 'data/images/00004_00034_00022.png\\n', 'data/images/00004_00062_00008.png\\n', 'data/images/00002_00020_00003.png\\n', 'data/images/00002_00025_00028.png\\n', 'data/images/00000_00006_00016.png\\n', 'data/images/00008_00037_00029.png\\n', 'data/images/00003_00020_00025.png\\n', 'data/images/00004_00038_00014.png\\n', 'data/images/00003_00004_00000.png\\n', 'data/images/00004_00060_00021.png\\n', 'data/images/00002_00050_00016.png\\n', 'data/images/00007_00020_00006.png\\n', 'data/images/00002_00007_00007.png\\n', 'data/images/00007_00014_00009.png\\n', 'data/images/00005_00004_00010.png\\n', 'data/images/00003_00037_00020.png\\n', 'data/images/00002_00048_00013.png\\n', 'data/images/00004_00029_00016.png\\n', 'data/images/00004_00054_00013.png\\n', 'data/images/00001_00041_00028.png\\n', 'data/images/00003_00021_00015.png\\n', 'data/images/00007_00017_00015.png\\n', 'data/images/00005_00014_00021.png\\n', 'data/images/00002_00060_00000.png\\n', 'data/images/00004_00028_00024.png\\n', 'data/images/00004_00020_00025.png\\n', 'data/images/00004_00020_00016.png\\n', 'data/images/00007_00038_00021.png\\n', 'data/images/00002_00051_00019.png\\n', 'data/images/00004_00060_00024.png\\n', 'data/images/00004_00023_00028.png\\n', 'data/images/00001_00065_00020.png\\n', 'data/images/00003_00030_00014.png\\n', 'data/images/00004_00018_00017.png\\n', 'data/images/00005_00045_00001.png\\n', 'data/images/00005_00049_00022.png\\n', 'data/images/00002_00068_00009.png\\n', 'data/images/00001_00026_00024.png\\n', 'data/images/00001_00016_00001.png\\n', 'data/images/00008_00020_00014.png\\n', 'data/images/00008_00035_00017.png\\n', 'data/images/00005_00046_00007.png\\n', 'data/images/00003_00005_00020.png\\n', 'data/images/00005_00041_00008.png\\n', 'data/images/00004_00032_00013.png\\n', 'data/images/00004_00041_00018.png\\n', 'data/images/00003_00007_00000.png\\n', 'data/images/00008_00012_00007.png\\n', 'data/images/00002_00060_00017.png\\n', 'data/images/00004_00059_00020.png\\n', 'data/images/00001_00007_00005.png\\n', 'data/images/00004_00061_00018.png\\n', 'data/images/00004_00003_00025.png\\n', 'data/images/00005_00022_00000.png\\n', 'data/images/00007_00015_00006.png\\n', 'data/images/00002_00054_00016.png\\n', 'data/images/00007_00018_00024.png\\n', 'data/images/00007_00031_00021.png\\n', 'data/images/00004_00042_00023.png\\n', 'data/images/00003_00004_00013.png\\n', 'data/images/00001_00044_00004.png\\n', 'data/images/00005_00042_00021.png\\n', 'data/images/00002_00052_00003.png\\n', 'data/images/00003_00034_00023.png\\n', 'data/images/00002_00072_00018.png\\n', 'data/images/00007_00037_00027.png\\n', 'data/images/00007_00029_00020.png\\n', 'data/images/00001_00065_00019.png\\n', 'data/images/00007_00022_00015.png\\n', 'data/images/00004_00049_00022.png\\n', 'data/images/00008_00032_00011.png\\n', 'data/images/00002_00058_00016.png\\n', 'data/images/00007_00042_00017.png\\n', 'data/images/00001_00014_00011.png\\n', 'data/images/00004_00039_00003.png\\n', 'data/images/00004_00029_00002.png\\n', 'data/images/00003_00042_00019.png\\n', 'data/images/00001_00018_00002.png\\n', 'data/images/00002_00041_00013.png\\n', 'data/images/00001_00029_00004.png\\n', 'data/images/00005_00014_00029.png\\n', 'data/images/00002_00027_00006.png\\n', 'data/images/00004_00026_00020.png\\n', 'data/images/00005_00009_00016.png\\n', 'data/images/00002_00009_00009.png\\n', 'data/images/00000_00004_00003.png\\n', 'data/images/00005_00009_00020.png\\n', 'data/images/00001_00018_00006.png\\n', 'data/images/00005_00003_00026.png\\n', 'data/images/00004_00049_00018.png\\n', 'data/images/00001_00067_00014.png\\n', 'data/images/00005_00017_00029.png\\n', 'data/images/00000_00002_00029.png\\n', 'data/images/00005_00037_00019.png\\n', 'data/images/00004_00040_00023.png\\n', 'data/images/00001_00051_00011.png\\n', 'data/images/00008_00003_00024.png\\n', 'data/images/00002_00022_00003.png\\n', 'data/images/00001_00013_00011.png\\n', 'data/images/00003_00023_00028.png\\n', 'data/images/00005_00029_00025.png\\n', 'data/images/00007_00023_00027.png\\n', 'data/images/00004_00055_00026.png\\n', 'data/images/00005_00048_00023.png\\n', 'data/images/00001_00065_00007.png\\n', 'data/images/00007_00042_00014.png\\n', 'data/images/00007_00034_00025.png\\n', 'data/images/00004_00012_00018.png\\n', 'data/images/00008_00017_00011.png\\n', 'data/images/00004_00035_00027.png\\n', 'data/images/00002_00049_00007.png\\n', 'data/images/00007_00004_00027.png\\n', 'data/images/00001_00015_00007.png\\n', 'data/images/00002_00039_00009.png\\n', 'data/images/00003_00027_00023.png\\n', 'data/images/00002_00031_00019.png\\n', 'data/images/00005_00017_00005.png\\n', 'data/images/00008_00033_00017.png\\n', 'data/images/00005_00047_00009.png\\n', 'data/images/00003_00021_00008.png\\n', 'data/images/00005_00030_00005.png\\n', 'data/images/00001_00029_00023.png\\n', 'data/images/00001_00066_00026.png\\n', 'data/images/00001_00047_00008.png\\n', 'data/images/00005_00002_00029.png\\n', 'data/images/00008_00019_00027.png\\n', 'data/images/00001_00008_00017.png\\n', 'data/images/00004_00040_00018.png\\n', 'data/images/00002_00028_00010.png\\n', 'data/images/00007_00025_00026.png\\n', 'data/images/00003_00020_00023.png\\n', 'data/images/00001_00027_00012.png\\n', 'data/images/00007_00043_00015.png\\n', 'data/images/00004_00003_00007.png\\n', 'data/images/00007_00002_00012.png\\n', 'data/images/00003_00018_00006.png\\n', 'data/images/00001_00013_00013.png\\n', 'data/images/00005_00017_00010.png\\n', 'data/images/00005_00019_00000.png\\n', 'data/images/00003_00043_00029.png\\n', 'data/images/00004_00005_00018.png\\n', 'data/images/00001_00041_00011.png\\n', 'data/images/00001_00002_00000.png\\n', 'data/images/00001_00040_00020.png\\n', 'data/images/00001_00073_00019.png\\n', 'data/images/00003_00016_00012.png\\n', 'data/images/00001_00055_00003.png\\n', 'data/images/00001_00013_00017.png\\n', 'data/images/00001_00062_00021.png\\n', 'data/images/00003_00021_00014.png\\n', 'data/images/00004_00032_00021.png\\n', 'data/images/00007_00023_00022.png\\n', 'data/images/00004_00032_00026.png\\n', 'data/images/00005_00007_00013.png\\n', 'data/images/00007_00014_00006.png\\n', 'data/images/00002_00019_00012.png\\n', 'data/images/00007_00040_00021.png\\n', 'data/images/00001_00049_00024.png\\n', 'data/images/00004_00016_00007.png\\n', 'data/images/00005_00029_00013.png\\n', 'data/images/00003_00023_00014.png\\n', 'data/images/00003_00046_00020.png\\n', 'data/images/00002_00068_00016.png\\n', 'data/images/00007_00047_00010.png\\n', 'data/images/00007_00019_00022.png\\n', 'data/images/00005_00052_00011.png\\n', 'data/images/00004_00021_00018.png\\n', 'data/images/00004_00000_00012.png\\n', 'data/images/00004_00010_00021.png\\n', 'data/images/00003_00015_00013.png\\n', 'data/images/00004_00045_00017.png\\n', 'data/images/00001_00045_00003.png\\n', 'data/images/00005_00029_00001.png\\n', 'data/images/00005_00060_00018.png\\n', 'data/images/00002_00056_00015.png\\n', 'data/images/00002_00044_00026.png\\n', 'data/images/00004_00011_00023.png\\n', 'data/images/00002_00050_00011.png\\n', 'data/images/00004_00051_00006.png\\n', 'data/images/00002_00026_00020.png\\n', 'data/images/00003_00029_00006.png\\n', 'data/images/00007_00036_00005.png\\n', 'data/images/00001_00073_00015.png\\n', 'data/images/00001_00052_00024.png\\n', 'data/images/00004_00000_00007.png\\n', 'data/images/00005_00040_00005.png\\n', 'data/images/00007_00033_00014.png\\n', 'data/images/00002_00039_00011.png\\n', 'data/images/00003_00038_00019.png\\n', 'data/images/00005_00046_00001.png\\n', 'data/images/00005_00051_00013.png\\n', 'data/images/00007_00004_00026.png\\n', 'data/images/00007_00029_00012.png\\n', 'data/images/00005_00004_00017.png\\n', 'data/images/00002_00028_00026.png\\n', 'data/images/00002_00021_00016.png\\n', 'data/images/00002_00005_00012.png\\n', 'data/images/00004_00052_00011.png\\n', 'data/images/00005_00030_00018.png\\n', 'data/images/00002_00003_00029.png\\n', 'data/images/00004_00045_00026.png\\n', 'data/images/00002_00005_00014.png\\n', 'data/images/00001_00057_00022.png\\n', 'data/images/00005_00048_00008.png\\n', 'data/images/00005_00013_00010.png\\n', 'data/images/00001_00067_00003.png\\n', 'data/images/00002_00042_00011.png\\n', 'data/images/00007_00024_00010.png\\n', 'data/images/00003_00018_00008.png\\n', 'data/images/00002_00006_00015.png\\n', 'data/images/00003_00011_00021.png\\n', 'data/images/00008_00030_00013.png\\n', 'data/images/00004_00060_00019.png\\n', 'data/images/00002_00000_00021.png\\n', 'data/images/00008_00011_00009.png\\n', 'data/images/00007_00008_00014.png\\n', 'data/images/00001_00034_00023.png\\n', 'data/images/00007_00032_00028.png\\n', 'data/images/00008_00000_00002.png\\n', 'data/images/00003_00012_00028.png\\n', 'data/images/00001_00007_00016.png\\n', 'data/images/00002_00025_00003.png\\n', 'data/images/00002_00047_00023.png\\n', 'data/images/00002_00052_00005.png\\n', 'data/images/00004_00057_00018.png\\n', 'data/images/00002_00066_00000.png\\n', 'data/images/00002_00021_00002.png\\n', 'data/images/00000_00000_00026.png\\n', 'data/images/00005_00024_00005.png\\n', 'data/images/00005_00058_00025.png\\n', 'data/images/00002_00038_00023.png\\n', 'data/images/00002_00031_00018.png\\n', 'data/images/00008_00042_00005.png\\n', 'data/images/00004_00004_00002.png\\n', 'data/images/00004_00053_00028.png\\n', 'data/images/00002_00037_00015.png\\n', 'data/images/00005_00056_00028.png\\n', 'data/images/00002_00070_00021.png\\n', 'data/images/00007_00043_00008.png\\n', 'data/images/00001_00069_00016.png\\n', 'data/images/00004_00060_00020.png\\n', 'data/images/00003_00044_00009.png\\n', 'data/images/00003_00025_00003.png\\n', 'data/images/00004_00053_00021.png\\n', 'data/images/00001_00057_00015.png\\n', 'data/images/00004_00005_00027.png\\n', 'data/images/00001_00051_00021.png\\n', 'data/images/00002_00009_00006.png\\n', 'data/images/00003_00000_00021.png\\n', 'data/images/00003_00002_00001.png\\n', 'data/images/00002_00058_00014.png\\n', 'data/images/00001_00016_00018.png\\n', 'data/images/00002_00056_00011.png\\n', 'data/images/00001_00016_00004.png\\n', 'data/images/00002_00057_00021.png\\n', 'data/images/00008_00025_00022.png\\n', 'data/images/00001_00051_00026.png\\n', 'data/images/00008_00017_00018.png\\n', 'data/images/00003_00011_00012.png\\n', 'data/images/00002_00059_00028.png\\n', 'data/images/00008_00024_00028.png\\n', 'data/images/00002_00024_00005.png\\n', 'data/images/00005_00040_00018.png\\n', 'data/images/00008_00018_00018.png\\n', 'data/images/00005_00036_00015.png\\n', 'data/images/00008_00018_00028.png\\n', 'data/images/00005_00051_00025.png\\n', 'data/images/00004_00032_00008.png\\n', 'data/images/00002_00066_00011.png\\n', 'data/images/00003_00014_00027.png\\n', 'data/images/00003_00025_00026.png\\n', 'data/images/00003_00014_00008.png\\n', 'data/images/00007_00044_00020.png\\n', 'data/images/00005_00017_00009.png\\n', 'data/images/00002_00056_00000.png\\n', 'data/images/00002_00052_00016.png\\n', 'data/images/00004_00036_00013.png\\n', 'data/images/00007_00036_00027.png\\n', 'data/images/00005_00040_00016.png\\n', 'data/images/00005_00061_00022.png\\n', 'data/images/00003_00012_00016.png\\n', 'data/images/00002_00049_00022.png\\n', 'data/images/00001_00006_00024.png\\n', 'data/images/00007_00043_00028.png\\n', 'data/images/00007_00028_00005.png\\n', 'data/images/00005_00041_00006.png\\n', 'data/images/00002_00029_00003.png\\n', 'data/images/00003_00036_00023.png\\n', 'data/images/00007_00012_00026.png\\n', 'data/images/00001_00020_00000.png\\n', 'data/images/00004_00037_00014.png\\n', 'data/images/00003_00001_00023.png\\n', 'data/images/00003_00024_00026.png\\n', 'data/images/00002_00065_00015.png\\n', 'data/images/00004_00025_00019.png\\n', 'data/images/00005_00059_00007.png\\n', 'data/images/00007_00009_00017.png\\n', 'data/images/00003_00019_00017.png\\n', 'data/images/00003_00009_00029.png\\n', 'data/images/00002_00011_00019.png\\n', 'data/images/00008_00012_00010.png\\n', 'data/images/00007_00013_00011.png\\n', 'data/images/00003_00005_00026.png\\n', 'data/images/00004_00036_00028.png\\n', 'data/images/00001_00071_00016.png\\n', 'data/images/00002_00062_00010.png\\n', 'data/images/00008_00031_00019.png\\n', 'data/images/00002_00055_00015.png\\n', 'data/images/00007_00045_00021.png\\n', 'data/images/00004_00002_00020.png\\n', 'data/images/00001_00037_00016.png\\n', 'data/images/00003_00008_00021.png\\n', 'data/images/00005_00027_00013.png\\n', 'data/images/00002_00032_00014.png\\n', 'data/images/00008_00014_00024.png\\n', 'data/images/00001_00019_00015.png\\n', 'data/images/00001_00031_00010.png\\n', 'data/images/00001_00014_00018.png\\n', 'data/images/00008_00045_00009.png\\n', 'data/images/00004_00022_00019.png\\n', 'data/images/00003_00020_00024.png\\n', 'data/images/00007_00037_00009.png\\n', 'data/images/00005_00058_00028.png\\n', 'data/images/00001_00034_00029.png\\n', 'data/images/00002_00014_00027.png\\n', 'data/images/00002_00030_00024.png\\n', 'data/images/00002_00053_00027.png\\n', 'data/images/00008_00022_00019.png\\n', 'data/images/00004_00009_00028.png\\n', 'data/images/00004_00028_00014.png\\n', 'data/images/00001_00016_00000.png\\n', 'data/images/00007_00006_00009.png\\n', 'data/images/00005_00034_00004.png\\n', 'data/images/00005_00032_00019.png\\n', 'data/images/00002_00049_00028.png\\n', 'data/images/00004_00062_00021.png\\n', 'data/images/00002_00022_00005.png\\n', 'data/images/00003_00003_00003.png\\n', 'data/images/00004_00015_00006.png\\n', 'data/images/00005_00021_00028.png\\n', 'data/images/00008_00041_00007.png\\n', 'data/images/00003_00000_00028.png\\n', 'data/images/00001_00042_00008.png\\n', 'data/images/00008_00033_00018.png\\n', 'data/images/00002_00018_00017.png\\n', 'data/images/00007_00025_00022.png\\n', 'data/images/00007_00019_00018.png\\n', 'data/images/00001_00056_00003.png\\n', 'data/images/00004_00055_00019.png\\n', 'data/images/00001_00054_00013.png\\n', 'data/images/00001_00046_00014.png\\n', 'data/images/00008_00011_00016.png\\n', 'data/images/00004_00058_00021.png\\n', 'data/images/00001_00038_00016.png\\n', 'data/images/00004_00054_00016.png\\n', 'data/images/00005_00054_00016.png\\n', 'data/images/00005_00013_00020.png\\n', 'data/images/00005_00002_00021.png\\n', 'data/images/00002_00048_00029.png\\n', 'data/images/00001_00041_00016.png\\n', 'data/images/00003_00019_00026.png\\n', 'data/images/00002_00029_00025.png\\n', 'data/images/00004_00056_00010.png\\n', 'data/images/00005_00047_00018.png\\n', 'data/images/00005_00013_00018.png\\n', 'data/images/00001_00035_00013.png\\n', 'data/images/00008_00044_00005.png\\n', 'data/images/00004_00013_00016.png\\n', 'data/images/00004_00064_00005.png\\n', 'data/images/00004_00043_00009.png\\n', 'data/images/00001_00019_00023.png\\n', 'data/images/00007_00035_00023.png\\n', 'data/images/00008_00030_00018.png\\n', 'data/images/00002_00061_00016.png\\n', 'data/images/00002_00014_00023.png\\n', 'data/images/00000_00003_00009.png\\n', 'data/images/00005_00059_00023.png\\n', 'data/images/00001_00060_00029.png\\n', 'data/images/00004_00043_00010.png\\n', 'data/images/00003_00030_00024.png\\n', 'data/images/00002_00041_00022.png\\n', 'data/images/00008_00021_00029.png\\n', 'data/images/00003_00036_00029.png\\n', 'data/images/00002_00059_00011.png\\n', 'data/images/00001_00032_00018.png\\n', 'data/images/00002_00055_00017.png\\n', 'data/images/00001_00029_00009.png\\n', 'data/images/00002_00050_00012.png\\n', 'data/images/00005_00036_00001.png\\n', 'data/images/00005_00045_00024.png\\n', 'data/images/00001_00009_00022.png\\n', 'data/images/00005_00007_00012.png\\n', 'data/images/00007_00029_00003.png\\n', 'data/images/00007_00011_00006.png\\n', 'data/images/00002_00064_00029.png\\n', 'data/images/00004_00025_00023.png\\n', 'data/images/00007_00021_00028.png\\n', 'data/images/00004_00049_00005.png\\n', 'data/images/00002_00062_00009.png\\n', 'data/images/00001_00066_00020.png\\n', 'data/images/00003_00044_00023.png\\n', 'data/images/00008_00007_00016.png\\n', 'data/images/00001_00050_00017.png\\n', 'data/images/00008_00009_00029.png\\n', 'data/images/00001_00047_00009.png\\n', 'data/images/00005_00009_00024.png\\n', 'data/images/00004_00002_00012.png\\n', 'data/images/00003_00043_00028.png\\n', 'data/images/00004_00064_00029.png\\n', 'data/images/00003_00042_00026.png\\n', 'data/images/00005_00046_00020.png\\n', 'data/images/00005_00034_00027.png\\n', 'data/images/00007_00013_00029.png\\n', 'data/images/00003_00029_00028.png\\n', 'data/images/00008_00039_00012.png\\n', 'data/images/00005_00004_00018.png\\n', 'data/images/00001_00072_00004.png\\n', 'data/images/00005_00001_00012.png\\n', 'data/images/00004_00026_00022.png\\n', 'data/images/00004_00065_00029.png\\n', 'data/images/00008_00029_00023.png\\n', 'data/images/00005_00038_00016.png\\n', 'data/images/00001_00042_00012.png\\n', 'data/images/00008_00010_00014.png\\n', 'data/images/00005_00051_00015.png\\n', 'data/images/00002_00052_00018.png\\n', 'data/images/00002_00011_00028.png\\n', 'data/images/00001_00056_00026.png\\n', 'data/images/00004_00048_00029.png\\n', 'data/images/00003_00023_00019.png\\n', 'data/images/00002_00037_00027.png\\n', 'data/images/00004_00022_00025.png\\n', 'data/images/00007_00014_00017.png\\n', 'data/images/00007_00037_00029.png\\n', 'data/images/00001_00010_00013.png\\n', 'data/images/00004_00001_00025.png\\n', 'data/images/00004_00023_00021.png\\n', 'data/images/00008_00012_00012.png\\n', 'data/images/00001_00017_00028.png\\n', 'data/images/00001_00017_00024.png\\n', 'data/images/00003_00027_00025.png\\n', 'data/images/00004_00008_00020.png\\n', 'data/images/00001_00030_00026.png\\n', 'data/images/00002_00013_00015.png\\n', 'data/images/00007_00003_00015.png\\n', 'data/images/00005_00029_00000.png\\n', 'data/images/00002_00000_00003.png\\n', 'data/images/00005_00054_00017.png\\n', 'data/images/00004_00061_00008.png\\n', 'data/images/00007_00024_00027.png\\n', 'data/images/00000_00006_00024.png\\n', 'data/images/00008_00039_00015.png\\n', 'data/images/00004_00011_00020.png\\n', 'data/images/00001_00064_00029.png\\n', 'data/images/00008_00014_00015.png\\n', 'data/images/00002_00036_00015.png\\n', 'data/images/00005_00004_00007.png\\n', 'data/images/00005_00025_00021.png\\n', 'data/images/00003_00031_00016.png\\n', 'data/images/00001_00051_00023.png\\n', 'data/images/00004_00021_00013.png\\n', 'data/images/00005_00054_00027.png\\n', 'data/images/00004_00031_00016.png\\n', 'data/images/00003_00014_00014.png\\n', 'data/images/00004_00021_00010.png\\n', 'data/images/00002_00013_00010.png\\n', 'data/images/00001_00051_00024.png\\n', 'data/images/00001_00067_00004.png\\n', 'data/images/00001_00007_00001.png\\n', 'data/images/00002_00013_00003.png\\n', 'data/images/00005_00053_00011.png\\n', 'data/images/00008_00011_00015.png\\n', 'data/images/00007_00038_00029.png\\n', 'data/images/00004_00015_00018.png\\n', 'data/images/00007_00032_00014.png\\n', 'data/images/00002_00056_00006.png\\n', 'data/images/00002_00029_00002.png\\n', 'data/images/00002_00060_00005.png\\n', 'data/images/00002_00010_00020.png\\n', 'data/images/00004_00000_00017.png\\n', 'data/images/00002_00060_00001.png\\n', 'data/images/00005_00043_00016.png\\n', 'data/images/00005_00000_00022.png\\n', 'data/images/00005_00017_00014.png\\n', 'data/images/00002_00046_00013.png\\n', 'data/images/00002_00038_00022.png\\n', 'data/images/00001_00016_00002.png\\n', 'data/images/00001_00016_00007.png\\n', 'data/images/00004_00052_00007.png\\n', 'data/images/00007_00005_00000.png\\n', 'data/images/00002_00053_00018.png\\n', 'data/images/00003_00018_00021.png\\n', 'data/images/00000_00000_00017.png\\n', 'data/images/00003_00031_00026.png\\n', 'data/images/00002_00035_00012.png\\n', 'data/images/00007_00047_00015.png\\n', 'data/images/00004_00050_00000.png\\n', 'data/images/00003_00036_00012.png\\n', 'data/images/00001_00004_00027.png\\n', 'data/images/00007_00019_00028.png\\n', 'data/images/00004_00000_00025.png\\n', 'data/images/00004_00065_00009.png\\n', 'data/images/00002_00037_00021.png\\n', 'data/images/00003_00021_00017.png\\n', 'data/images/00001_00057_00027.png\\n', 'data/images/00007_00027_00017.png\\n', 'data/images/00005_00009_00007.png\\n', 'data/images/00005_00004_00024.png\\n', 'data/images/00002_00049_00025.png\\n', 'data/images/00002_00056_00001.png\\n', 'data/images/00000_00001_00012.png\\n', 'data/images/00001_00017_00016.png\\n', 'data/images/00002_00016_00028.png\\n', 'data/images/00008_00006_00013.png\\n', 'data/images/00001_00043_00004.png\\n', 'data/images/00004_00004_00000.png\\n', 'data/images/00004_00001_00027.png\\n', 'data/images/00003_00040_00023.png\\n', 'data/images/00004_00013_00022.png\\n', 'data/images/00001_00065_00015.png\\n', 'data/images/00005_00042_00014.png\\n', 'data/images/00001_00024_00001.png\\n', 'data/images/00001_00066_00010.png\\n', 'data/images/00001_00022_00009.png\\n', 'data/images/00007_00035_00004.png\\n', 'data/images/00002_00049_00011.png\\n', 'data/images/00002_00023_00017.png\\n', 'data/images/00003_00030_00022.png\\n', 'data/images/00004_00006_00020.png\\n', 'data/images/00005_00021_00019.png\\n', 'data/images/00001_00048_00020.png\\n', 'data/images/00001_00072_00009.png\\n', 'data/images/00001_00045_00002.png\\n', 'data/images/00008_00036_00026.png\\n', 'data/images/00005_00021_00004.png\\n', 'data/images/00004_00052_00013.png\\n', 'data/images/00007_00012_00027.png\\n', 'data/images/00001_00024_00012.png\\n', 'data/images/00005_00039_00013.png\\n', 'data/images/00002_00028_00011.png\\n', 'data/images/00002_00047_00008.png\\n', 'data/images/00005_00014_00012.png\\n', 'data/images/00007_00018_00027.png\\n', 'data/images/00001_00051_00017.png\\n', 'data/images/00005_00016_00024.png\\n', 'data/images/00008_00020_00027.png\\n', 'data/images/00004_00050_00014.png\\n', 'data/images/00002_00059_00027.png\\n', 'data/images/00007_00018_00020.png\\n', 'data/images/00008_00011_00003.png\\n', 'data/images/00001_00055_00022.png\\n', 'data/images/00008_00000_00019.png\\n', 'data/images/00005_00037_00012.png\\n', 'data/images/00008_00020_00012.png\\n', 'data/images/00004_00022_00020.png\\n', 'data/images/00003_00045_00004.png\\n', 'data/images/00002_00044_00025.png\\n', 'data/images/00003_00025_00021.png\\n', 'data/images/00008_00020_00029.png\\n', 'data/images/00008_00005_00021.png\\n', 'data/images/00008_00032_00003.png\\n', 'data/images/00005_00042_00018.png\\n', 'data/images/00008_00000_00025.png\\n', 'data/images/00000_00004_00023.png\\n', 'data/images/00002_00056_00017.png\\n', 'data/images/00004_00064_00020.png\\n', 'data/images/00002_00010_00028.png\\n', 'data/images/00001_00063_00029.png\\n', 'data/images/00001_00011_00017.png\\n', 'data/images/00005_00044_00028.png\\n', 'data/images/00005_00045_00010.png\\n', 'data/images/00001_00011_00004.png\\n', 'data/images/00001_00021_00006.png\\n', 'data/images/00004_00041_00000.png\\n', 'data/images/00007_00031_00028.png\\n', 'data/images/00001_00072_00007.png\\n', 'data/images/00005_00017_00015.png\\n', 'data/images/00007_00017_00019.png\\n', 'data/images/00005_00037_00027.png\\n', 'data/images/00005_00057_00016.png\\n', 'data/images/00008_00031_00023.png\\n', 'data/images/00002_00026_00016.png\\n', 'data/images/00004_00029_00023.png\\n', 'data/images/00008_00015_00025.png\\n', 'data/images/00004_00015_00009.png\\n', 'data/images/00003_00004_00026.png\\n', 'data/images/00002_00056_00025.png\\n', 'data/images/00004_00062_00025.png\\n', 'data/images/00001_00026_00014.png\\n', 'data/images/00001_00031_00018.png\\n', 'data/images/00008_00024_00014.png\\n', 'data/images/00004_00053_00004.png\\n', 'data/images/00003_00038_00029.png\\n', 'data/images/00007_00036_00015.png\\n', 'data/images/00003_00030_00011.png\\n', 'data/images/00005_00045_00008.png\\n', 'data/images/00002_00008_00023.png\\n', 'data/images/00003_00043_00022.png\\n', 'data/images/00004_00016_00005.png\\n', 'data/images/00007_00028_00021.png\\n', 'data/images/00002_00021_00028.png\\n', 'data/images/00004_00016_00023.png\\n', 'data/images/00007_00025_00011.png\\n', 'data/images/00001_00055_00015.png\\n', 'data/images/00008_00016_00011.png\\n', 'data/images/00003_00019_00010.png\\n', 'data/images/00008_00025_00015.png\\n', 'data/images/00005_00038_00014.png\\n', 'data/images/00003_00005_00013.png\\n', 'data/images/00004_00015_00013.png\\n', 'data/images/00003_00003_00017.png\\n', 'data/images/00008_00032_00014.png\\n', 'data/images/00002_00046_00011.png\\n', 'data/images/00005_00002_00005.png\\n', 'data/images/00004_00027_00013.png\\n', 'data/images/00007_00046_00020.png\\n', 'data/images/00004_00058_00018.png\\n', 'data/images/00005_00038_00027.png\\n', 'data/images/00004_00050_00006.png\\n', 'data/images/00008_00019_00029.png\\n', 'data/images/00007_00004_00014.png\\n', 'data/images/00000_00000_00010.png\\n', 'data/images/00005_00052_00000.png\\n', 'data/images/00007_00000_00013.png\\n', 'data/images/00005_00023_00016.png\\n', 'data/images/00004_00062_00005.png\\n', 'data/images/00007_00036_00012.png\\n', 'data/images/00005_00052_00023.png\\n', 'data/images/00005_00022_00025.png\\n', 'data/images/00002_00004_00016.png\\n', 'data/images/00005_00030_00017.png\\n', 'data/images/00005_00056_00009.png\\n', 'data/images/00005_00029_00007.png\\n', 'data/images/00004_00034_00021.png\\n', 'data/images/00002_00012_00009.png\\n', 'data/images/00005_00034_00024.png\\n', 'data/images/00004_00019_00002.png\\n', 'data/images/00002_00070_00029.png\\n', 'data/images/00004_00045_00003.png\\n', 'data/images/00004_00060_00007.png\\n', 'data/images/00005_00036_00009.png\\n', 'data/images/00003_00020_00026.png\\n', 'data/images/00004_00060_00002.png\\n', 'data/images/00008_00034_00007.png\\n', 'data/images/00007_00008_00027.png\\n', 'data/images/00003_00028_00025.png\\n', 'data/images/00005_00034_00014.png\\n', 'data/images/00007_00041_00019.png\\n', 'data/images/00003_00008_00020.png\\n', 'data/images/00002_00067_00023.png\\n', 'data/images/00007_00039_00013.png\\n', 'data/images/00008_00024_00019.png\\n', 'data/images/00003_00036_00009.png\\n', 'data/images/00003_00009_00008.png\\n', 'data/images/00007_00007_00010.png\\n', 'data/images/00002_00040_00006.png\\n', 'data/images/00001_00005_00012.png\\n', 'data/images/00003_00021_00025.png\\n', 'data/images/00003_00018_00022.png\\n', 'data/images/00004_00008_00017.png\\n', 'data/images/00002_00045_00029.png\\n', 'data/images/00002_00072_00000.png\\n', 'data/images/00002_00007_00005.png\\n', 'data/images/00005_00043_00003.png\\n', 'data/images/00004_00048_00018.png\\n', 'data/images/00007_00021_00022.png\\n', 'data/images/00003_00007_00014.png\\n', 'data/images/00002_00003_00006.png\\n', 'data/images/00007_00043_00020.png\\n', 'data/images/00001_00067_00011.png\\n', 'data/images/00001_00061_00027.png\\n', 'data/images/00001_00031_00001.png\\n', 'data/images/00004_00038_00000.png\\n', 'data/images/00002_00048_00008.png\\n', 'data/images/00007_00015_00014.png\\n', 'data/images/00002_00071_00011.png\\n', 'data/images/00002_00009_00003.png\\n', 'data/images/00001_00066_00018.png\\n', 'data/images/00001_00053_00027.png\\n', 'data/images/00002_00012_00015.png\\n', 'data/images/00002_00059_00018.png\\n', 'data/images/00008_00011_00012.png\\n', 'data/images/00008_00010_00023.png\\n', 'data/images/00004_00003_00016.png\\n', 'data/images/00002_00018_00025.png\\n', 'data/images/00002_00072_00007.png\\n', 'data/images/00005_00043_00029.png\\n', 'data/images/00007_00024_00012.png\\n', 'data/images/00001_00026_00028.png\\n', 'data/images/00002_00033_00006.png\\n', 'data/images/00001_00033_00011.png\\n', 'data/images/00005_00030_00009.png\\n', 'data/images/00001_00044_00021.png\\n', 'data/images/00007_00002_00011.png\\n', 'data/images/00003_00025_00018.png\\n', 'data/images/00004_00060_00009.png\\n', 'data/images/00004_00001_00018.png\\n', 'data/images/00001_00068_00015.png\\n', 'data/images/00004_00017_00021.png\\n', 'data/images/00008_00045_00015.png\\n', 'data/images/00003_00012_00024.png\\n', 'data/images/00007_00014_00028.png\\n', 'data/images/00003_00021_00020.png\\n', 'data/images/00005_00005_00001.png\\n', 'data/images/00005_00045_00025.png\\n', 'data/images/00002_00070_00023.png\\n', 'data/images/00004_00062_00022.png\\n', 'data/images/00002_00040_00025.png\\n', 'data/images/00005_00016_00023.png\\n', 'data/images/00002_00068_00022.png\\n', 'data/images/00001_00019_00026.png\\n', 'data/images/00005_00050_00014.png\\n', 'data/images/00005_00031_00007.png\\n', 'data/images/00005_00058_00023.png\\n', 'data/images/00001_00071_00027.png\\n', 'data/images/00008_00044_00024.png\\n', 'data/images/00005_00033_00022.png\\n', 'data/images/00002_00002_00010.png\\n', 'data/images/00005_00051_00020.png\\n', 'data/images/00002_00059_00029.png\\n', 'data/images/00002_00024_00009.png\\n', 'data/images/00001_00006_00015.png\\n', 'data/images/00007_00018_00021.png\\n', 'data/images/00005_00061_00000.png\\n', 'data/images/00001_00052_00022.png\\n', 'data/images/00004_00051_00019.png\\n', 'data/images/00003_00032_00000.png\\n', 'data/images/00004_00065_00025.png\\n', 'data/images/00000_00003_00013.png\\n', 'data/images/00003_00016_00007.png\\n', 'data/images/00002_00066_00008.png\\n', 'data/images/00002_00025_00019.png\\n', 'data/images/00002_00070_00014.png\\n', 'data/images/00002_00019_00016.png\\n', 'data/images/00003_00004_00023.png\\n', 'data/images/00008_00016_00014.png\\n', 'data/images/00007_00026_00012.png\\n', 'data/images/00003_00035_00010.png\\n', 'data/images/00005_00008_00011.png\\n', 'data/images/00000_00005_00007.png\\n', 'data/images/00005_00031_00014.png\\n', 'data/images/00002_00025_00011.png\\n', 'data/images/00008_00009_00024.png\\n', 'data/images/00007_00012_00028.png\\n', 'data/images/00008_00020_00021.png\\n', 'data/images/00002_00055_00014.png\\n', 'data/images/00001_00017_00019.png\\n', 'data/images/00002_00062_00019.png\\n', 'data/images/00008_00046_00025.png\\n', 'data/images/00002_00048_00014.png\\n', 'data/images/00007_00015_00011.png\\n', 'data/images/00008_00017_00005.png\\n', 'data/images/00002_00022_00004.png\\n', 'data/images/00007_00015_00010.png\\n', 'data/images/00005_00046_00004.png\\n', 'data/images/00002_00065_00016.png\\n', 'data/images/00003_00002_00020.png\\n', 'data/images/00004_00045_00021.png\\n', 'data/images/00004_00042_00020.png\\n', 'data/images/00001_00066_00029.png\\n', 'data/images/00005_00007_00020.png\\n', 'data/images/00004_00039_00005.png\\n', 'data/images/00004_00021_00022.png\\n', 'data/images/00001_00003_00026.png\\n', 'data/images/00005_00057_00029.png\\n', 'data/images/00003_00042_00021.png\\n', 'data/images/00001_00026_00027.png\\n', 'data/images/00003_00014_00020.png\\n', 'data/images/00002_00040_00011.png\\n', 'data/images/00007_00037_00018.png\\n', 'data/images/00008_00006_00025.png\\n', 'data/images/00004_00007_00017.png\\n', 'data/images/00008_00020_00022.png\\n', 'data/images/00002_00033_00026.png\\n', 'data/images/00007_00008_00026.png\\n', 'data/images/00004_00026_00023.png\\n', 'data/images/00008_00034_00027.png\\n', 'data/images/00001_00067_00012.png\\n', 'data/images/00001_00032_00005.png\\n', 'data/images/00004_00049_00007.png\\n', 'data/images/00007_00032_00013.png\\n', 'data/images/00007_00023_00024.png\\n', 'data/images/00001_00015_00026.png\\n', 'data/images/00002_00008_00026.png\\n', 'data/images/00004_00030_00025.png\\n', 'data/images/00004_00027_00019.png\\n', 'data/images/00004_00059_00014.png\\n', 'data/images/00007_00044_00023.png\\n', 'data/images/00002_00001_00021.png\\n', 'data/images/00002_00034_00025.png\\n', 'data/images/00003_00031_00018.png\\n', 'data/images/00001_00032_00019.png\\n', 'data/images/00008_00010_00020.png\\n', 'data/images/00005_00018_00017.png\\n', 'data/images/00003_00000_00019.png\\n', 'data/images/00005_00034_00020.png\\n', 'data/images/00007_00005_00017.png\\n', 'data/images/00002_00050_00014.png\\n', 'data/images/00001_00064_00023.png\\n', 'data/images/00004_00019_00029.png\\n', 'data/images/00005_00009_00021.png\\n', 'data/images/00002_00059_00019.png\\n', 'data/images/00004_00030_00017.png\\n', 'data/images/00008_00046_00009.png\\n', 'data/images/00003_00013_00026.png\\n', 'data/images/00002_00026_00007.png\\n', 'data/images/00004_00044_00011.png\\n', 'data/images/00001_00021_00025.png\\n', 'data/images/00001_00004_00001.png\\n', 'data/images/00008_00036_00021.png\\n', 'data/images/00008_00017_00019.png\\n', 'data/images/00003_00029_00009.png\\n', 'data/images/00002_00056_00021.png\\n', 'data/images/00001_00065_00022.png\\n', 'data/images/00003_00013_00016.png\\n', 'data/images/00002_00065_00012.png\\n', 'data/images/00007_00000_00008.png\\n', 'data/images/00003_00041_00027.png\\n', 'data/images/00004_00030_00028.png\\n', 'data/images/00002_00059_00016.png\\n', 'data/images/00007_00004_00012.png\\n', 'data/images/00008_00034_00009.png\\n', 'data/images/00005_00038_00024.png\\n', 'data/images/00005_00001_00021.png\\n', 'data/images/00001_00027_00023.png\\n', 'data/images/00003_00032_00016.png\\n', 'data/images/00003_00036_00016.png\\n', 'data/images/00004_00014_00026.png\\n', 'data/images/00001_00044_00005.png\\n', 'data/images/00002_00032_00024.png\\n', 'data/images/00001_00033_00014.png\\n', 'data/images/00003_00004_00018.png\\n', 'data/images/00004_00064_00010.png\\n', 'data/images/00008_00039_00022.png\\n', 'data/images/00008_00015_00020.png\\n', 'data/images/00001_00072_00006.png\\n', 'data/images/00008_00012_00015.png\\n', 'data/images/00002_00046_00023.png\\n', 'data/images/00001_00038_00023.png\\n', 'data/images/00005_00041_00019.png\\n', 'data/images/00007_00016_00007.png\\n', 'data/images/00007_00020_00025.png\\n', 'data/images/00002_00060_00024.png\\n', 'data/images/00004_00020_00028.png\\n', 'data/images/00001_00040_00010.png\\n', 'data/images/00008_00045_00006.png\\n', 'data/images/00003_00032_00014.png\\n', 'data/images/00000_00004_00000.png\\n', 'data/images/00003_00034_00028.png\\n', 'data/images/00008_00011_00023.png\\n', 'data/images/00003_00009_00015.png\\n', 'data/images/00003_00007_00001.png\\n', 'data/images/00005_00025_00028.png\\n', 'data/images/00004_00039_00017.png\\n', 'data/images/00004_00011_00001.png\\n', 'data/images/00005_00053_00028.png\\n', 'data/images/00001_00054_00016.png\\n', 'data/images/00008_00045_00018.png\\n', 'data/images/00008_00015_00002.png\\n', 'data/images/00004_00024_00017.png\\n', 'data/images/00008_00023_00010.png\\n', 'data/images/00005_00015_00013.png\\n', 'data/images/00001_00069_00014.png\\n', 'data/images/00002_00010_00011.png\\n', 'data/images/00003_00044_00008.png\\n', 'data/images/00002_00034_00005.png\\n', 'data/images/00001_00027_00014.png\\n', 'data/images/00007_00017_00016.png\\n', 'data/images/00003_00016_00005.png\\n', 'data/images/00008_00029_00013.png\\n', 'data/images/00007_00028_00019.png\\n', 'data/images/00004_00042_00024.png\\n', 'data/images/00003_00018_00014.png\\n', 'data/images/00005_00005_00004.png\\n', 'data/images/00001_00072_00012.png\\n', 'data/images/00008_00045_00020.png\\n', 'data/images/00007_00042_00016.png\\n', 'data/images/00007_00004_00016.png\\n', 'data/images/00001_00049_00020.png\\n', 'data/images/00007_00036_00010.png\\n', 'data/images/00001_00047_00015.png\\n', 'data/images/00004_00042_00000.png\\n', 'data/images/00005_00002_00013.png\\n', 'data/images/00003_00044_00027.png\\n', 'data/images/00005_00040_00006.png\\n', 'data/images/00005_00051_00029.png\\n', 'data/images/00001_00057_00021.png\\n', 'data/images/00003_00014_00023.png\\n', 'data/images/00004_00029_00024.png\\n', 'data/images/00008_00033_00000.png\\n', 'data/images/00005_00041_00004.png\\n', 'data/images/00001_00044_00018.png\\n', 'data/images/00002_00032_00016.png\\n', 'data/images/00004_00025_00004.png\\n', 'data/images/00005_00041_00024.png\\n', 'data/images/00008_00046_00027.png\\n', 'data/images/00008_00039_00008.png\\n', 'data/images/00002_00041_00023.png\\n', 'data/images/00008_00008_00015.png\\n', 'data/images/00002_00008_00022.png\\n', 'data/images/00005_00045_00027.png\\n', 'data/images/00004_00060_00015.png\\n', 'data/images/00004_00035_00009.png\\n', 'data/images/00005_00056_00018.png\\n', 'data/images/00002_00021_00024.png\\n', 'data/images/00008_00015_00015.png\\n', 'data/images/00002_00039_00019.png\\n', 'data/images/00002_00004_00007.png\\n', 'data/images/00002_00055_00026.png\\n', 'data/images/00007_00008_00015.png\\n', 'data/images/00004_00044_00027.png\\n', 'data/images/00002_00072_00019.png\\n', 'data/images/00005_00048_00028.png\\n', 'data/images/00002_00072_00016.png\\n', 'data/images/00001_00049_00029.png\\n', 'data/images/00007_00012_00022.png\\n', 'data/images/00003_00017_00020.png\\n', 'data/images/00007_00040_00019.png\\n', 'data/images/00004_00062_00002.png\\n', 'data/images/00008_00039_00005.png\\n', 'data/images/00004_00008_00023.png\\n', 'data/images/00003_00004_00015.png\\n', 'data/images/00005_00013_00025.png\\n', 'data/images/00004_00019_00022.png\\n', 'data/images/00002_00066_00020.png\\n', 'data/images/00001_00039_00023.png\\n', 'data/images/00002_00033_00020.png\\n', 'data/images/00004_00065_00024.png\\n', 'data/images/00002_00052_00010.png\\n', 'data/images/00002_00032_00022.png\\n', 'data/images/00001_00027_00001.png\\n', 'data/images/00002_00033_00025.png\\n', 'data/images/00004_00040_00027.png\\n', 'data/images/00005_00000_00001.png\\n', 'data/images/00007_00018_00005.png\\n', 'data/images/00002_00034_00020.png\\n', 'data/images/00004_00052_00014.png\\n', 'data/images/00001_00042_00029.png\\n', 'data/images/00002_00000_00028.png\\n', 'data/images/00002_00071_00021.png\\n', 'data/images/00004_00005_00001.png\\n', 'data/images/00001_00010_00010.png\\n', 'data/images/00002_00027_00014.png\\n', 'data/images/00004_00012_00019.png\\n', 'data/images/00001_00043_00013.png\\n', 'data/images/00002_00025_00007.png\\n', 'data/images/00004_00052_00028.png\\n', 'data/images/00004_00014_00012.png\\n', 'data/images/00004_00063_00007.png\\n', 'data/images/00001_00009_00015.png\\n', 'data/images/00008_00000_00018.png\\n', 'data/images/00002_00003_00018.png\\n', 'data/images/00007_00020_00009.png\\n', 'data/images/00002_00043_00003.png\\n', 'data/images/00007_00011_00008.png\\n', 'data/images/00008_00036_00024.png\\n', 'data/images/00007_00018_00015.png\\n', 'data/images/00001_00004_00018.png\\n', 'data/images/00005_00032_00017.png\\n', 'data/images/00002_00052_00021.png\\n', 'data/images/00001_00028_00025.png\\n', 'data/images/00003_00031_00019.png\\n', 'data/images/00005_00017_00003.png\\n', 'data/images/00005_00008_00013.png\\n', 'data/images/00000_00006_00014.png\\n', 'data/images/00005_00061_00010.png\\n', 'data/images/00001_00013_00021.png\\n', 'data/images/00005_00006_00028.png\\n', 'data/images/00005_00023_00026.png\\n', 'data/images/00001_00063_00017.png\\n', 'data/images/00004_00045_00001.png\\n', 'data/images/00005_00000_00018.png\\n', 'data/images/00005_00050_00024.png\\n', 'data/images/00004_00003_00024.png\\n', 'data/images/00002_00048_00027.png\\n', 'data/images/00005_00008_00022.png\\n', 'data/images/00007_00047_00023.png\\n', 'data/images/00008_00004_00020.png\\n', 'data/images/00003_00010_00006.png\\n', 'data/images/00001_00026_00010.png\\n', 'data/images/00004_00047_00015.png\\n', 'data/images/00008_00015_00016.png\\n', 'data/images/00004_00006_00012.png\\n', 'data/images/00001_00064_00017.png\\n', 'data/images/00007_00032_00017.png\\n', 'data/images/00004_00046_00010.png\\n', 'data/images/00007_00020_00014.png\\n', 'data/images/00005_00012_00020.png\\n', 'data/images/00001_00003_00020.png\\n', 'data/images/00003_00027_00021.png\\n', 'data/images/00007_00026_00025.png\\n', 'data/images/00007_00022_00014.png\\n', 'data/images/00003_00025_00025.png\\n', 'data/images/00002_00071_00022.png\\n', 'data/images/00001_00009_00018.png\\n', 'data/images/00003_00041_00013.png\\n', 'data/images/00007_00047_00024.png\\n', 'data/images/00001_00032_00020.png\\n', 'data/images/00007_00003_00019.png\\n', 'data/images/00001_00066_00014.png\\n', 'data/images/00008_00013_00015.png\\n', 'data/images/00001_00037_00021.png\\n', 'data/images/00008_00009_00009.png\\n', 'data/images/00007_00002_00015.png\\n', 'data/images/00004_00065_00008.png\\n', 'data/images/00001_00050_00022.png\\n', 'data/images/00008_00015_00027.png\\n', 'data/images/00003_00037_00026.png\\n', 'data/images/00005_00052_00009.png\\n', 'data/images/00005_00000_00008.png\\n', 'data/images/00007_00005_00006.png\\n', 'data/images/00001_00071_00021.png\\n', 'data/images/00007_00017_00023.png\\n', 'data/images/00004_00057_00028.png\\n', 'data/images/00002_00054_00026.png\\n', 'data/images/00001_00048_00028.png\\n', 'data/images/00001_00028_00027.png\\n', 'data/images/00002_00054_00022.png\\n', 'data/images/00004_00004_00021.png\\n', 'data/images/00004_00053_00003.png\\n', 'data/images/00002_00072_00023.png\\n', 'data/images/00002_00001_00007.png\\n', 'data/images/00002_00007_00015.png\\n', 'data/images/00001_00043_00029.png\\n', 'data/images/00005_00060_00025.png\\n', 'data/images/00001_00020_00005.png\\n', 'data/images/00001_00029_00008.png\\n', 'data/images/00008_00003_00020.png\\n', 'data/images/00007_00024_00021.png\\n', 'data/images/00003_00038_00009.png\\n', 'data/images/00003_00034_00011.png\\n', 'data/images/00002_00056_00002.png\\n', 'data/images/00001_00066_00028.png\\n', 'data/images/00002_00062_00025.png\\n', 'data/images/00008_00000_00005.png\\n', 'data/images/00002_00010_00008.png\\n', 'data/images/00001_00051_00013.png\\n', 'data/images/00003_00003_00028.png\\n', 'data/images/00004_00064_00007.png\\n', 'data/images/00008_00034_00021.png\\n', 'data/images/00002_00068_00010.png\\n', 'data/images/00003_00000_00022.png\\n', 'data/images/00001_00021_00029.png\\n', 'data/images/00004_00005_00019.png\\n', 'data/images/00004_00026_00026.png\\n', 'data/images/00004_00045_00014.png\\n', 'data/images/00004_00000_00027.png\\n', 'data/images/00005_00043_00008.png\\n', 'data/images/00002_00019_00021.png\\n', 'data/images/00002_00025_00008.png\\n', 'data/images/00008_00013_00021.png\\n', 'data/images/00004_00038_00006.png\\n', 'data/images/00005_00013_00006.png\\n', 'data/images/00002_00070_00011.png\\n', 'data/images/00005_00021_00007.png\\n', 'data/images/00002_00015_00003.png\\n', 'data/images/00008_00011_00010.png\\n', 'data/images/00007_00017_00029.png\\n', 'data/images/00008_00041_00015.png\\n', 'data/images/00005_00006_00020.png\\n', 'data/images/00007_00002_00003.png\\n', 'data/images/00007_00035_00014.png\\n', 'data/images/00005_00052_00027.png\\n', 'data/images/00007_00036_00003.png\\n', 'data/images/00004_00041_00023.png\\n', 'data/images/00004_00006_00023.png\\n', 'data/images/00002_00034_00029.png\\n', 'data/images/00004_00004_00017.png\\n', 'data/images/00001_00029_00007.png\\n', 'data/images/00003_00022_00020.png\\n', 'data/images/00004_00049_00016.png\\n', 'data/images/00004_00006_00001.png\\n', 'data/images/00004_00062_00006.png\\n', 'data/images/00002_00061_00021.png\\n', 'data/images/00002_00009_00018.png\\n', 'data/images/00002_00022_00006.png\\n', 'data/images/00001_00007_00026.png\\n', 'data/images/00002_00004_00017.png\\n', 'data/images/00001_00059_00011.png\\n', 'data/images/00004_00044_00013.png\\n', 'data/images/00002_00003_00005.png\\n', 'data/images/00008_00016_00004.png\\n', 'data/images/00001_00048_00016.png\\n', 'data/images/00003_00040_00008.png\\n', 'data/images/00004_00043_00004.png\\n', 'data/images/00002_00012_00006.png\\n', 'data/images/00008_00022_00016.png\\n', 'data/images/00007_00015_00015.png\\n', 'data/images/00004_00005_00017.png\\n', 'data/images/00001_00065_00025.png\\n', 'data/images/00008_00023_00018.png\\n', 'data/images/00008_00015_00009.png\\n', 'data/images/00004_00040_00014.png\\n', 'data/images/00003_00010_00027.png\\n', 'data/images/00002_00074_00014.png\\n', 'data/images/00008_00024_00017.png\\n', 'data/images/00004_00039_00013.png\\n', 'data/images/00004_00049_00008.png\\n', 'data/images/00001_00021_00001.png\\n', 'data/images/00002_00036_00019.png\\n', 'data/images/00003_00036_00017.png\\n', 'data/images/00005_00023_00001.png\\n', 'data/images/00008_00022_00018.png\\n', 'data/images/00002_00003_00009.png\\n', 'data/images/00003_00011_00022.png\\n', 'data/images/00005_00047_00028.png\\n', 'data/images/00004_00003_00009.png\\n', 'data/images/00002_00030_00013.png\\n', 'data/images/00005_00023_00024.png\\n', 'data/images/00005_00025_00014.png\\n', 'data/images/00003_00005_00014.png\\n', 'data/images/00003_00013_00028.png\\n', 'data/images/00003_00041_00005.png\\n', 'data/images/00008_00046_00002.png\\n', 'data/images/00007_00036_00017.png\\n', 'data/images/00002_00012_00005.png\\n', 'data/images/00007_00023_00020.png\\n', 'data/images/00001_00027_00018.png\\n', 'data/images/00004_00052_00024.png\\n', 'data/images/00005_00009_00022.png\\n', 'data/images/00005_00023_00007.png\\n', 'data/images/00007_00047_00016.png\\n', 'data/images/00004_00000_00001.png\\n', 'data/images/00008_00029_00028.png\\n', 'data/images/00005_00041_00023.png\\n', 'data/images/00004_00063_00017.png\\n', 'data/images/00004_00021_00023.png\\n', 'data/images/00002_00026_00027.png\\n', 'data/images/00004_00030_00003.png\\n', 'data/images/00004_00061_00014.png\\n', 'data/images/00005_00056_00005.png\\n', 'data/images/00002_00004_00006.png\\n', 'data/images/00005_00049_00018.png\\n', 'data/images/00008_00037_00019.png\\n', 'data/images/00007_00007_00005.png\\n', 'data/images/00003_00045_00023.png\\n', 'data/images/00001_00055_00006.png\\n', 'data/images/00002_00065_00026.png\\n', 'data/images/00007_00033_00007.png\\n', 'data/images/00005_00010_00016.png\\n', 'data/images/00001_00008_00025.png\\n', 'data/images/00008_00008_00022.png\\n', 'data/images/00004_00060_00029.png\\n', 'data/images/00007_00011_00016.png\\n', 'data/images/00008_00032_00007.png\\n', 'data/images/00001_00031_00023.png\\n', 'data/images/00005_00023_00025.png\\n', 'data/images/00001_00045_00016.png\\n', 'data/images/00004_00027_00017.png\\n', 'data/images/00004_00049_00017.png\\n', 'data/images/00004_00065_00011.png\\n', 'data/images/00004_00009_00029.png\\n', 'data/images/00004_00024_00000.png\\n', 'data/images/00008_00031_00021.png\\n', 'data/images/00001_00031_00019.png\\n', 'data/images/00005_00058_00012.png\\n', 'data/images/00002_00046_00001.png\\n', 'data/images/00002_00068_00029.png\\n', 'data/images/00005_00021_00008.png\\n', 'data/images/00002_00071_00006.png\\n', 'data/images/00001_00042_00023.png\\n', 'data/images/00005_00010_00015.png\\n', 'data/images/00001_00048_00017.png\\n', 'data/images/00002_00054_00004.png\\n', 'data/images/00003_00011_00015.png\\n', 'data/images/00007_00032_00015.png\\n', 'data/images/00000_00000_00012.png\\n', 'data/images/00008_00000_00027.png\\n', 'data/images/00007_00006_00014.png\\n', 'data/images/00005_00003_00024.png\\n', 'data/images/00008_00012_00027.png\\n', 'data/images/00002_00033_00005.png\\n', 'data/images/00001_00004_00026.png\\n', 'data/images/00003_00004_00017.png\\n', 'data/images/00004_00016_00022.png\\n', 'data/images/00008_00000_00013.png\\n', 'data/images/00003_00017_00015.png\\n', 'data/images/00002_00065_00021.png\\n', 'data/images/00003_00017_00017.png\\n', 'data/images/00008_00032_00018.png\\n', 'data/images/00001_00071_00009.png\\n', 'data/images/00007_00022_00025.png\\n', 'data/images/00001_00068_00022.png\\n', 'data/images/00001_00017_00017.png\\n', 'data/images/00002_00072_00027.png\\n', 'data/images/00001_00068_00017.png\\n', 'data/images/00004_00016_00000.png\\n', 'data/images/00005_00048_00012.png\\n', 'data/images/00001_00010_00003.png\\n', 'data/images/00007_00007_00017.png\\n', 'data/images/00002_00049_00018.png\\n', 'data/images/00001_00006_00005.png\\n', 'data/images/00004_00015_00011.png\\n', 'data/images/00005_00034_00022.png\\n', 'data/images/00001_00008_00029.png\\n', 'data/images/00002_00011_00027.png\\n', 'data/images/00005_00012_00010.png\\n', 'data/images/00001_00060_00020.png\\n', 'data/images/00001_00056_00014.png\\n', 'data/images/00002_00018_00018.png\\n', 'data/images/00003_00029_00008.png\\n', 'data/images/00004_00041_00019.png\\n', 'data/images/00005_00008_00014.png\\n', 'data/images/00008_00034_00020.png\\n', 'data/images/00003_00012_00023.png\\n', 'data/images/00005_00007_00019.png\\n', 'data/images/00002_00070_00026.png\\n', 'data/images/00005_00041_00027.png\\n', 'data/images/00005_00043_00015.png\\n', 'data/images/00007_00017_00003.png\\n', 'data/images/00007_00047_00007.png\\n', 'data/images/00004_00036_00024.png\\n', 'data/images/00007_00041_00008.png\\n', 'data/images/00001_00055_00021.png\\n', 'data/images/00007_00035_00021.png\\n', 'data/images/00004_00051_00027.png\\n', 'data/images/00005_00060_00013.png\\n', 'data/images/00008_00040_00011.png\\n', 'data/images/00004_00046_00029.png\\n', 'data/images/00002_00011_00020.png\\n', 'data/images/00002_00014_00019.png\\n', 'data/images/00001_00040_00006.png\\n', 'data/images/00004_00065_00015.png\\n', 'data/images/00001_00016_00026.png\\n', 'data/images/00001_00045_00013.png\\n', 'data/images/00008_00000_00028.png\\n', 'data/images/00002_00006_00021.png\\n', 'data/images/00005_00034_00018.png\\n', 'data/images/00002_00023_00014.png\\n', 'data/images/00002_00022_00029.png\\n', 'data/images/00003_00004_00006.png\\n', 'data/images/00007_00038_00017.png\\n', 'data/images/00001_00037_00026.png\\n', 'data/images/00008_00013_00009.png\\n', 'data/images/00001_00039_00009.png\\n', 'data/images/00002_00018_00005.png\\n', 'data/images/00003_00032_00022.png\\n', 'data/images/00001_00005_00005.png\\n', 'data/images/00007_00041_00017.png\\n', 'data/images/00004_00028_00006.png\\n', 'data/images/00003_00028_00023.png\\n', 'data/images/00008_00039_00013.png\\n', 'data/images/00007_00018_00008.png\\n', 'data/images/00004_00021_00027.png\\n', 'data/images/00004_00046_00014.png\\n', 'data/images/00004_00048_00000.png\\n', 'data/images/00000_00005_00022.png\\n', 'data/images/00003_00046_00014.png\\n', 'data/images/00008_00001_00022.png\\n', 'data/images/00004_00001_00005.png\\n', 'data/images/00001_00065_00029.png\\n', 'data/images/00002_00017_00019.png\\n', 'data/images/00005_00027_00014.png\\n', 'data/images/00003_00042_00022.png\\n', 'data/images/00004_00003_00022.png\\n', 'data/images/00001_00014_00015.png\\n', 'data/images/00001_00029_00014.png\\n', 'data/images/00003_00004_00007.png\\n', 'data/images/00002_00064_00010.png\\n', 'data/images/00005_00057_00024.png\\n', 'data/images/00008_00019_00017.png\\n', 'data/images/00008_00009_00011.png\\n', 'data/images/00008_00009_00026.png\\n', 'data/images/00001_00047_00016.png\\n', 'data/images/00002_00074_00007.png\\n', 'data/images/00002_00033_00011.png\\n', 'data/images/00001_00018_00021.png\\n', 'data/images/00003_00028_00018.png\\n', 'data/images/00003_00016_00009.png\\n', 'data/images/00004_00021_00009.png\\n', 'data/images/00004_00006_00029.png\\n', 'data/images/00004_00052_00016.png\\n', 'data/images/00004_00008_00007.png\\n', 'data/images/00001_00069_00012.png\\n', 'data/images/00005_00006_00017.png\\n', 'data/images/00003_00005_00005.png\\n', 'data/images/00002_00026_00025.png\\n', 'data/images/00003_00011_00019.png\\n', 'data/images/00002_00043_00026.png\\n', 'data/images/00002_00037_00011.png\\n', 'data/images/00007_00044_00008.png\\n', 'data/images/00001_00047_00019.png\\n', 'data/images/00004_00049_00021.png\\n', 'data/images/00004_00007_00010.png\\n', 'data/images/00005_00036_00013.png\\n', 'data/images/00005_00014_00025.png\\n', 'data/images/00004_00035_00014.png\\n', 'data/images/00003_00023_00015.png\\n', 'data/images/00002_00003_00012.png\\n', 'data/images/00007_00027_00013.png\\n', 'data/images/00003_00016_00024.png\\n', 'data/images/00005_00047_00019.png\\n', 'data/images/00002_00061_00005.png\\n', 'data/images/00002_00061_00027.png\\n', 'data/images/00008_00035_00019.png\\n', 'data/images/00005_00044_00010.png\\n', 'data/images/00005_00051_00005.png\\n', 'data/images/00007_00037_00021.png\\n', 'data/images/00003_00020_00017.png\\n', 'data/images/00007_00026_00008.png\\n', 'data/images/00007_00017_00000.png\\n', 'data/images/00005_00011_00024.png\\n', 'data/images/00003_00040_00017.png\\n', 'data/images/00004_00006_00011.png\\n', 'data/images/00003_00023_00027.png\\n', 'data/images/00004_00060_00012.png\\n', 'data/images/00004_00063_00016.png\\n', 'data/images/00005_00014_00004.png\\n', 'data/images/00002_00067_00010.png\\n', 'data/images/00004_00004_00027.png\\n', 'data/images/00002_00030_00011.png\\n', 'data/images/00001_00064_00027.png\\n', 'data/images/00002_00059_00006.png\\n', 'data/images/00002_00004_00025.png\\n', 'data/images/00005_00038_00011.png\\n', 'data/images/00003_00017_00026.png\\n', 'data/images/00007_00010_00004.png\\n', 'data/images/00002_00020_00010.png\\n', 'data/images/00001_00039_00028.png\\n', 'data/images/00005_00033_00024.png\\n', 'data/images/00005_00044_00012.png\\n', 'data/images/00001_00029_00027.png\\n', 'data/images/00004_00028_00020.png\\n', 'data/images/00002_00020_00002.png\\n', 'data/images/00001_00070_00002.png\\n', 'data/images/00003_00031_00010.png\\n', 'data/images/00001_00017_00023.png\\n', 'data/images/00004_00064_00003.png\\n', 'data/images/00002_00010_00026.png\\n', 'data/images/00002_00032_00029.png\\n', 'data/images/00005_00060_00022.png\\n', 'data/images/00001_00008_00005.png\\n', 'data/images/00002_00061_00011.png\\n', 'data/images/00005_00006_00009.png\\n', 'data/images/00008_00025_00023.png\\n', 'data/images/00001_00001_00021.png\\n', 'data/images/00005_00027_00029.png\\n', 'data/images/00005_00023_00000.png\\n', 'data/images/00008_00034_00011.png\\n', 'data/images/00004_00003_00028.png\\n', 'data/images/00001_00024_00024.png\\n', 'data/images/00003_00009_00027.png\\n', 'data/images/00004_00047_00028.png\\n', 'data/images/00007_00037_00028.png\\n', 'data/images/00001_00033_00015.png\\n', 'data/images/00002_00026_00021.png\\n', 'data/images/00004_00057_00014.png\\n', 'data/images/00008_00038_00010.png\\n', 'data/images/00004_00005_00005.png\\n', 'data/images/00008_00035_00001.png\\n', 'data/images/00003_00045_00019.png\\n', 'data/images/00001_00014_00029.png\\n', 'data/images/00001_00069_00021.png\\n', 'data/images/00002_00036_00004.png\\n', 'data/images/00005_00032_00018.png\\n', 'data/images/00001_00058_00019.png\\n', 'data/images/00005_00034_00003.png\\n', 'data/images/00008_00043_00015.png\\n', 'data/images/00001_00073_00008.png\\n', 'data/images/00004_00001_00000.png\\n', 'data/images/00001_00000_00019.png\\n', 'data/images/00003_00026_00015.png\\n', 'data/images/00008_00009_00002.png\\n', 'data/images/00001_00036_00024.png\\n', 'data/images/00008_00008_00029.png\\n', 'data/images/00005_00036_00020.png\\n', 'data/images/00004_00015_00012.png\\n', 'data/images/00005_00014_00024.png\\n', 'data/images/00001_00047_00027.png\\n', 'data/images/00005_00013_00023.png\\n', 'data/images/00001_00035_00021.png\\n', 'data/images/00005_00005_00009.png\\n', 'data/images/00007_00028_00020.png\\n', 'data/images/00008_00025_00026.png\\n', 'data/images/00001_00068_00000.png\\n', 'data/images/00007_00022_00029.png\\n', 'data/images/00004_00036_00016.png\\n', 'data/images/00003_00030_00007.png\\n', 'data/images/00001_00062_00020.png\\n', 'data/images/00003_00039_00013.png\\n', 'data/images/00003_00011_00023.png\\n', 'data/images/00008_00024_00012.png\\n', 'data/images/00002_00056_00010.png\\n', 'data/images/00001_00003_00014.png\\n', 'data/images/00000_00001_00024.png\\n', 'data/images/00001_00050_00012.png\\n', 'data/images/00008_00011_00027.png\\n', 'data/images/00001_00020_00010.png\\n', 'data/images/00002_00016_00021.png\\n', 'data/images/00005_00043_00006.png\\n', 'data/images/00001_00042_00005.png\\n', 'data/images/00005_00044_00026.png\\n', 'data/images/00002_00074_00026.png\\n', 'data/images/00004_00021_00015.png\\n', 'data/images/00008_00021_00019.png\\n', 'data/images/00007_00014_00025.png\\n', 'data/images/00002_00009_00008.png\\n', 'data/images/00001_00033_00025.png\\n', 'data/images/00003_00004_00010.png\\n', 'data/images/00001_00013_00001.png\\n', 'data/images/00004_00017_00020.png\\n', 'data/images/00001_00071_00010.png\\n', 'data/images/00003_00009_00018.png\\n', 'data/images/00001_00007_00008.png\\n', 'data/images/00002_00021_00018.png\\n', 'data/images/00008_00018_00008.png\\n', 'data/images/00007_00022_00000.png\\n', 'data/images/00008_00038_00020.png\\n', 'data/images/00003_00034_00015.png\\n', 'data/images/00002_00014_00026.png\\n', 'data/images/00005_00041_00022.png\\n', 'data/images/00003_00041_00017.png\\n', 'data/images/00004_00030_00020.png\\n', 'data/images/00008_00044_00026.png\\n', 'data/images/00007_00015_00029.png\\n', 'data/images/00007_00011_00023.png\\n', 'data/images/00004_00011_00004.png\\n', 'data/images/00007_00038_00014.png\\n', 'data/images/00003_00028_00005.png\\n', 'data/images/00005_00007_00029.png\\n', 'data/images/00003_00010_00018.png\\n', 'data/images/00002_00031_00026.png\\n', 'data/images/00001_00069_00015.png\\n', 'data/images/00004_00044_00018.png\\n', 'data/images/00004_00019_00017.png\\n', 'data/images/00002_00039_00017.png\\n', 'data/images/00002_00007_00020.png\\n', 'data/images/00002_00000_00025.png\\n', 'data/images/00002_00029_00012.png\\n', 'data/images/00001_00043_00014.png\\n', 'data/images/00001_00034_00021.png\\n', 'data/images/00005_00013_00017.png\\n', 'data/images/00001_00010_00009.png\\n', 'data/images/00007_00028_00003.png\\n', 'data/images/00001_00009_00008.png\\n', 'data/images/00008_00045_00014.png\\n', 'data/images/00004_00055_00010.png\\n', 'data/images/00003_00005_00019.png\\n', 'data/images/00001_00019_00019.png\\n', 'data/images/00002_00044_00003.png\\n', 'data/images/00005_00000_00005.png\\n', 'data/images/00003_00027_00016.png\\n', 'data/images/00004_00043_00005.png\\n', 'data/images/00003_00029_00004.png\\n', 'data/images/00005_00058_00002.png\\n', 'data/images/00002_00033_00022.png\\n', 'data/images/00002_00034_00022.png\\n', 'data/images/00001_00018_00028.png\\n', 'data/images/00007_00008_00007.png\\n', 'data/images/00001_00053_00002.png\\n', 'data/images/00001_00021_00010.png\\n', 'data/images/00003_00029_00021.png\\n', 'data/images/00005_00002_00018.png\\n', 'data/images/00008_00036_00022.png\\n', 'data/images/00004_00000_00005.png\\n', 'data/images/00004_00018_00024.png\\n', 'data/images/00005_00029_00005.png\\n', 'data/images/00004_00033_00012.png\\n', 'data/images/00001_00052_00021.png\\n', 'data/images/00003_00006_00021.png\\n', 'data/images/00002_00034_00023.png\\n', 'data/images/00005_00000_00002.png\\n', 'data/images/00002_00056_00022.png\\n', 'data/images/00005_00060_00014.png\\n', 'data/images/00005_00029_00027.png\\n', 'data/images/00001_00000_00000.png\\n', 'data/images/00007_00014_00027.png\\n', 'data/images/00007_00015_00009.png\\n', 'data/images/00007_00007_00019.png\\n', 'data/images/00001_00022_00017.png\\n', 'data/images/00007_00023_00026.png\\n', 'data/images/00003_00038_00015.png\\n', 'data/images/00001_00003_00018.png\\n', 'data/images/00008_00008_00014.png\\n', 'data/images/00002_00058_00029.png\\n', 'data/images/00008_00029_00021.png\\n', 'data/images/00001_00001_00026.png\\n', 'data/images/00003_00022_00027.png\\n', 'data/images/00002_00012_00025.png\\n', 'data/images/00002_00068_00000.png\\n', 'data/images/00001_00021_00028.png\\n', 'data/images/00002_00024_00022.png\\n', 'data/images/00008_00017_00029.png\\n', 'data/images/00001_00064_00028.png\\n', 'data/images/00001_00008_00026.png\\n', 'data/images/00008_00016_00023.png\\n', 'data/images/00002_00070_00016.png\\n', 'data/images/00002_00056_00018.png\\n', 'data/images/00008_00013_00011.png\\n', 'data/images/00003_00008_00018.png\\n', 'data/images/00001_00000_00002.png\\n', 'data/images/00004_00065_00018.png\\n', 'data/images/00003_00026_00023.png\\n', 'data/images/00001_00049_00019.png\\n', 'data/images/00002_00038_00026.png\\n', 'data/images/00004_00006_00016.png\\n', 'data/images/00005_00042_00011.png\\n', 'data/images/00001_00037_00009.png\\n', 'data/images/00004_00054_00027.png\\n', 'data/images/00001_00072_00023.png\\n', 'data/images/00001_00023_00007.png\\n', 'data/images/00004_00028_00017.png\\n', 'data/images/00003_00011_00027.png\\n', 'data/images/00004_00000_00008.png\\n', 'data/images/00003_00042_00002.png\\n', 'data/images/00007_00039_00008.png\\n', 'data/images/00002_00009_00021.png\\n', 'data/images/00001_00014_00021.png\\n', 'data/images/00001_00018_00013.png\\n', 'data/images/00001_00000_00001.png\\n', 'data/images/00008_00036_00027.png\\n', 'data/images/00001_00016_00003.png\\n', 'data/images/00003_00032_00007.png\\n', 'data/images/00005_00060_00016.png\\n', 'data/images/00001_00000_00017.png\\n', 'data/images/00007_00026_00011.png\\n', 'data/images/00000_00005_00016.png\\n', 'data/images/00008_00046_00013.png\\n', 'data/images/00008_00044_00012.png\\n', 'data/images/00002_00018_00015.png\\n', 'data/images/00007_00034_00021.png\\n', 'data/images/00007_00030_00028.png\\n', 'data/images/00002_00009_00023.png\\n', 'data/images/00002_00015_00012.png\\n', 'data/images/00008_00044_00029.png\\n', 'data/images/00003_00044_00018.png\\n', 'data/images/00004_00009_00009.png\\n', 'data/images/00004_00000_00024.png\\n', 'data/images/00002_00036_00013.png\\n', 'data/images/00005_00048_00021.png\\n', 'data/images/00001_00031_00029.png\\n', 'data/images/00001_00032_00025.png\\n', 'data/images/00008_00012_00013.png\\n', 'data/images/00005_00043_00000.png\\n', 'data/images/00004_00013_00027.png\\n', 'data/images/00008_00018_00015.png\\n', 'data/images/00004_00047_00029.png\\n', 'data/images/00000_00000_00013.png\\n', 'data/images/00002_00017_00017.png\\n', 'data/images/00003_00018_00017.png\\n', 'data/images/00001_00046_00005.png\\n', 'data/images/00008_00001_00015.png\\n', 'data/images/00003_00007_00010.png\\n', 'data/images/00008_00014_00025.png\\n', 'data/images/00001_00060_00007.png\\n', 'data/images/00002_00071_00029.png\\n', 'data/images/00005_00044_00020.png\\n', 'data/images/00004_00018_00009.png\\n', 'data/images/00001_00040_00002.png\\n', 'data/images/00004_00040_00001.png\\n', 'data/images/00001_00032_00007.png\\n', 'data/images/00005_00032_00026.png\\n', 'data/images/00004_00007_00008.png\\n', 'data/images/00004_00027_00022.png\\n', 'data/images/00001_00021_00024.png\\n', 'data/images/00004_00005_00008.png\\n', 'data/images/00003_00007_00002.png\\n', 'data/images/00001_00025_00017.png\\n', 'data/images/00002_00017_00020.png\\n', 'data/images/00008_00039_00000.png\\n', 'data/images/00001_00041_00018.png\\n', 'data/images/00007_00026_00027.png\\n', 'data/images/00005_00048_00018.png\\n', 'data/images/00003_00005_00007.png\\n', 'data/images/00002_00060_00023.png\\n', 'data/images/00002_00042_00013.png\\n', 'data/images/00008_00030_00021.png\\n', 'data/images/00002_00066_00007.png\\n', 'data/images/00004_00057_00011.png\\n', 'data/images/00007_00005_00025.png\\n', 'data/images/00001_00054_00014.png\\n', 'data/images/00003_00011_00025.png\\n', 'data/images/00003_00008_00023.png\\n', 'data/images/00001_00066_00021.png\\n', 'data/images/00003_00025_00029.png\\n', 'data/images/00005_00038_00023.png\\n', 'data/images/00003_00030_00016.png\\n', 'data/images/00004_00010_00022.png\\n', 'data/images/00004_00062_00014.png\\n', 'data/images/00005_00047_00013.png\\n', 'data/images/00004_00041_00015.png\\n', 'data/images/00001_00061_00001.png\\n', 'data/images/00002_00072_00017.png\\n', 'data/images/00004_00052_00026.png\\n', 'data/images/00002_00022_00027.png\\n', 'data/images/00002_00071_00007.png\\n', 'data/images/00000_00005_00019.png\\n', 'data/images/00003_00044_00007.png\\n', 'data/images/00001_00022_00019.png\\n', 'data/images/00002_00051_00024.png\\n', 'data/images/00003_00040_00011.png\\n', 'data/images/00001_00007_00006.png\\n', 'data/images/00004_00026_00017.png\\n', 'data/images/00007_00014_00015.png\\n', 'data/images/00000_00003_00007.png\\n', 'data/images/00004_00041_00027.png\\n', 'data/images/00007_00026_00019.png\\n', 'data/images/00004_00033_00013.png\\n', 'data/images/00001_00066_00006.png\\n', 'data/images/00001_00030_00012.png\\n', 'data/images/00005_00056_00001.png\\n', 'data/images/00002_00066_00009.png\\n', 'data/images/00008_00010_00012.png\\n', 'data/images/00007_00046_00005.png\\n', 'data/images/00002_00052_00023.png\\n', 'data/images/00002_00062_00027.png\\n', 'data/images/00003_00044_00029.png\\n', 'data/images/00005_00045_00017.png\\n', 'data/images/00007_00042_00011.png\\n', 'data/images/00002_00052_00019.png\\n', 'data/images/00001_00051_00020.png\\n', 'data/images/00007_00031_00026.png\\n', 'data/images/00008_00013_00026.png\\n', 'data/images/00003_00027_00015.png\\n', 'data/images/00005_00007_00005.png\\n', 'data/images/00002_00030_00002.png\\n', 'data/images/00002_00044_00018.png\\n', 'data/images/00003_00006_00026.png\\n', 'data/images/00001_00017_00012.png\\n', 'data/images/00007_00011_00015.png\\n', 'data/images/00002_00062_00023.png\\n', 'data/images/00001_00006_00001.png\\n', 'data/images/00005_00035_00026.png\\n', 'data/images/00007_00016_00027.png\\n', 'data/images/00003_00025_00024.png\\n', 'data/images/00003_00009_00020.png\\n', 'data/images/00005_00060_00011.png\\n', 'data/images/00001_00053_00022.png\\n', 'data/images/00000_00006_00013.png\\n', 'data/images/00003_00037_00012.png\\n', 'data/images/00008_00011_00025.png\\n', 'data/images/00002_00058_00022.png\\n', 'data/images/00004_00035_00025.png\\n', 'data/images/00007_00025_00028.png\\n', 'data/images/00003_00003_00010.png\\n', 'data/images/00004_00040_00006.png\\n', 'data/images/00004_00057_00017.png\\n', 'data/images/00001_00041_00025.png\\n', 'data/images/00003_00008_00001.png\\n', 'data/images/00008_00015_00014.png\\n', 'data/images/00001_00030_00014.png\\n', 'data/images/00005_00004_00005.png\\n', 'data/images/00007_00016_00006.png\\n', 'data/images/00004_00006_00017.png\\n', 'data/images/00001_00073_00016.png\\n', 'data/images/00002_00007_00003.png\\n', 'data/images/00001_00048_00027.png\\n', 'data/images/00005_00023_00019.png\\n', 'data/images/00008_00043_00011.png\\n', 'data/images/00004_00009_00015.png\\n', 'data/images/00004_00011_00005.png\\n', 'data/images/00001_00046_00009.png\\n', 'data/images/00001_00030_00020.png\\n', 'data/images/00001_00014_00027.png\\n', 'data/images/00004_00058_00017.png\\n', 'data/images/00005_00012_00021.png\\n', 'data/images/00001_00035_00015.png\\n', 'data/images/00001_00019_00025.png\\n', 'data/images/00004_00050_00022.png\\n', 'data/images/00003_00036_00025.png\\n', 'data/images/00008_00004_00018.png\\n', 'data/images/00005_00013_00003.png\\n', 'data/images/00001_00017_00015.png\\n', 'data/images/00005_00017_00008.png\\n', 'data/images/00008_00046_00026.png\\n', 'data/images/00004_00021_00029.png\\n', 'data/images/00004_00016_00028.png\\n', 'data/images/00004_00046_00003.png\\n', 'data/images/00004_00038_00012.png\\n', 'data/images/00008_00039_00028.png\\n', 'data/images/00005_00058_00024.png\\n', 'data/images/00001_00032_00008.png\\n', 'data/images/00007_00016_00015.png\\n', 'data/images/00002_00044_00015.png\\n', 'data/images/00003_00027_00013.png\\n', 'data/images/00003_00019_00027.png\\n', 'data/images/00007_00022_00023.png\\n', 'data/images/00001_00055_00023.png\\n', 'data/images/00004_00058_00022.png\\n', 'data/images/00002_00045_00018.png\\n', 'data/images/00002_00020_00022.png\\n', 'data/images/00002_00035_00008.png\\n', 'data/images/00002_00024_00023.png\\n', 'data/images/00008_00037_00023.png\\n', 'data/images/00007_00024_00001.png\\n', 'data/images/00008_00018_00005.png\\n', 'data/images/00000_00001_00019.png\\n', 'data/images/00005_00016_00028.png\\n', 'data/images/00000_00001_00007.png\\n', 'data/images/00002_00073_00023.png\\n', 'data/images/00005_00040_00024.png\\n', 'data/images/00008_00040_00024.png\\n', 'data/images/00002_00061_00010.png\\n', 'data/images/00007_00038_00006.png\\n', 'data/images/00001_00000_00012.png\\n', 'data/images/00001_00011_00008.png\\n', 'data/images/00008_00034_00023.png\\n', 'data/images/00008_00004_00029.png\\n', 'data/images/00005_00046_00008.png\\n', 'data/images/00003_00025_00015.png\\n', 'data/images/00003_00010_00017.png\\n', 'data/images/00003_00008_00024.png\\n', 'data/images/00008_00011_00013.png\\n', 'data/images/00008_00031_00005.png\\n', 'data/images/00003_00036_00019.png\\n', 'data/images/00004_00028_00015.png\\n', 'data/images/00004_00055_00011.png\\n', 'data/images/00008_00042_00017.png\\n', 'data/images/00001_00017_00003.png\\n', 'data/images/00005_00009_00025.png\\n', 'data/images/00007_00021_00018.png\\n', 'data/images/00000_00000_00020.png\\n', 'data/images/00001_00010_00012.png\\n', 'data/images/00004_00023_00023.png\\n', 'data/images/00005_00019_00018.png\\n', 'data/images/00005_00004_00006.png\\n', 'data/images/00008_00025_00016.png\\n', 'data/images/00002_00061_00019.png\\n', 'data/images/00008_00032_00015.png\\n', 'data/images/00008_00032_00009.png\\n', 'data/images/00007_00039_00017.png\\n', 'data/images/00003_00042_00010.png\\n', 'data/images/00001_00006_00029.png\\n', 'data/images/00003_00039_00010.png\\n', 'data/images/00007_00024_00008.png\\n', 'data/images/00008_00045_00029.png\\n', 'data/images/00008_00036_00001.png\\n', 'data/images/00008_00035_00025.png\\n', 'data/images/00005_00005_00006.png\\n', 'data/images/00002_00041_00029.png\\n', 'data/images/00001_00041_00004.png\\n', 'data/images/00005_00027_00022.png\\n', 'data/images/00002_00009_00011.png\\n', 'data/images/00005_00034_00005.png\\n', 'data/images/00002_00046_00016.png\\n', 'data/images/00001_00061_00025.png\\n', 'data/images/00002_00022_00007.png\\n', 'data/images/00007_00016_00029.png\\n', 'data/images/00005_00017_00020.png\\n', 'data/images/00008_00018_00012.png\\n', 'data/images/00005_00007_00021.png\\n', 'data/images/00003_00018_00029.png\\n', 'data/images/00005_00030_00020.png\\n', 'data/images/00000_00001_00008.png\\n', 'data/images/00005_00051_00018.png\\n', 'data/images/00001_00061_00015.png\\n', 'data/images/00007_00002_00018.png\\n', 'data/images/00002_00058_00024.png\\n', 'data/images/00001_00021_00009.png\\n', 'data/images/00007_00039_00019.png\\n', 'data/images/00003_00004_00003.png\\n', 'data/images/00001_00000_00024.png\\n', 'data/images/00002_00060_00011.png\\n', 'data/images/00003_00005_00028.png\\n', 'data/images/00008_00035_00010.png\\n', 'data/images/00005_00030_00021.png\\n', 'data/images/00007_00002_00004.png\\n', 'data/images/00004_00031_00008.png\\n', 'data/images/00004_00054_00014.png\\n', 'data/images/00002_00066_00001.png\\n', 'data/images/00001_00071_00015.png\\n', 'data/images/00005_00036_00023.png\\n', 'data/images/00002_00041_00027.png\\n', 'data/images/00007_00047_00025.png\\n', 'data/images/00001_00042_00007.png\\n', 'data/images/00003_00012_00012.png\\n', 'data/images/00004_00053_00022.png\\n', 'data/images/00005_00000_00020.png\\n', 'data/images/00005_00046_00029.png\\n', 'data/images/00008_00046_00008.png\\n', 'data/images/00008_00046_00016.png\\n', 'data/images/00008_00024_00026.png\\n', 'data/images/00004_00037_00022.png\\n', 'data/images/00004_00004_00028.png\\n', 'data/images/00002_00025_00024.png\\n', 'data/images/00002_00032_00023.png\\n', 'data/images/00002_00003_00017.png\\n', 'data/images/00004_00007_00009.png\\n', 'data/images/00004_00019_00011.png\\n', 'data/images/00005_00043_00024.png\\n', 'data/images/00003_00007_00021.png\\n', 'data/images/00001_00027_00020.png\\n', 'data/images/00004_00004_00011.png\\n', 'data/images/00001_00064_00026.png\\n', 'data/images/00001_00066_00025.png\\n', 'data/images/00001_00071_00012.png\\n', 'data/images/00003_00014_00019.png\\n', 'data/images/00001_00043_00022.png\\n', 'data/images/00001_00056_00007.png\\n', 'data/images/00001_00041_00027.png\\n', 'data/images/00001_00072_00010.png\\n', 'data/images/00007_00029_00014.png\\n', 'data/images/00001_00038_00002.png\\n', 'data/images/00003_00017_00007.png\\n', 'data/images/00007_00019_00004.png\\n', 'data/images/00007_00007_00018.png\\n', 'data/images/00004_00035_00018.png\\n', 'data/images/00003_00009_00023.png\\n', 'data/images/00001_00032_00013.png\\n', 'data/images/00004_00058_00016.png\\n', 'data/images/00004_00008_00027.png\\n', 'data/images/00005_00011_00013.png\\n', 'data/images/00008_00008_00019.png\\n', 'data/images/00007_00015_00026.png\\n', 'data/images/00004_00010_00025.png\\n', 'data/images/00002_00059_00023.png\\n', 'data/images/00004_00008_00013.png\\n', 'data/images/00002_00048_00003.png\\n', 'data/images/00001_00047_00022.png\\n', 'data/images/00001_00020_00002.png\\n', 'data/images/00005_00061_00008.png\\n', 'data/images/00002_00067_00002.png\\n', 'data/images/00008_00015_00028.png\\n', 'data/images/00003_00012_00020.png\\n', 'data/images/00001_00056_00022.png\\n', 'data/images/00001_00035_00017.png\\n', 'data/images/00005_00053_00021.png\\n', 'data/images/00007_00033_00002.png\\n', 'data/images/00007_00038_00024.png\\n', 'data/images/00005_00025_00016.png\\n', 'data/images/00008_00043_00028.png\\n', 'data/images/00008_00044_00014.png\\n', 'data/images/00002_00007_00004.png\\n', 'data/images/00004_00018_00001.png\\n', 'data/images/00005_00002_00025.png\\n', 'data/images/00001_00057_00004.png\\n', 'data/images/00005_00049_00025.png\\n', 'data/images/00003_00030_00013.png\\n', 'data/images/00008_00045_00023.png\\n', 'data/images/00001_00073_00010.png\\n', 'data/images/00001_00072_00026.png\\n', 'data/images/00002_00062_00014.png\\n', 'data/images/00003_00007_00027.png\\n', 'data/images/00004_00006_00010.png\\n', 'data/images/00002_00043_00017.png\\n', 'data/images/00002_00059_00012.png\\n', 'data/images/00004_00037_00021.png\\n', 'data/images/00000_00003_00023.png\\n', 'data/images/00002_00021_00009.png\\n', 'data/images/00005_00006_00027.png\\n', 'data/images/00001_00007_00007.png\\n', 'data/images/00004_00017_00018.png\\n', 'data/images/00004_00004_00012.png\\n', 'data/images/00002_00022_00012.png\\n', 'data/images/00004_00045_00007.png\\n', 'data/images/00002_00008_00021.png\\n', 'data/images/00008_00016_00009.png\\n', 'data/images/00004_00010_00005.png\\n', 'data/images/00007_00003_00024.png\\n', 'data/images/00007_00036_00028.png\\n', 'data/images/00008_00020_00018.png\\n', 'data/images/00004_00025_00026.png\\n', 'data/images/00008_00037_00009.png\\n', 'data/images/00001_00018_00019.png\\n', 'data/images/00001_00007_00027.png\\n', 'data/images/00001_00053_00015.png\\n', 'data/images/00001_00055_00018.png\\n', 'data/images/00001_00031_00017.png\\n', 'data/images/00002_00044_00021.png\\n', 'data/images/00002_00027_00022.png\\n', 'data/images/00001_00018_00005.png\\n', 'data/images/00001_00026_00015.png\\n', 'data/images/00002_00015_00025.png\\n', 'data/images/00001_00046_00024.png\\n', 'data/images/00002_00002_00025.png\\n', 'data/images/00002_00059_00021.png\\n', 'data/images/00000_00000_00021.png\\n', 'data/images/00001_00053_00016.png\\n', 'data/images/00003_00003_00006.png\\n', 'data/images/00004_00020_00027.png\\n', 'data/images/00008_00013_00006.png\\n', 'data/images/00003_00002_00006.png\\n', 'data/images/00004_00032_00023.png\\n', 'data/images/00005_00032_00021.png\\n', 'data/images/00002_00074_00017.png\\n', 'data/images/00002_00053_00015.png\\n', 'data/images/00004_00013_00000.png\\n', 'data/images/00005_00043_00018.png\\n', 'data/images/00001_00043_00003.png\\n', 'data/images/00005_00010_00010.png\\n', 'data/images/00005_00059_00016.png\\n', 'data/images/00003_00029_00013.png\\n', 'data/images/00008_00005_00023.png\\n', 'data/images/00004_00020_00003.png\\n', 'data/images/00003_00042_00014.png\\n', 'data/images/00001_00034_00009.png\\n', 'data/images/00004_00051_00026.png\\n', 'data/images/00003_00029_00003.png\\n', 'data/images/00002_00031_00008.png\\n', 'data/images/00005_00006_00007.png\\n', 'data/images/00003_00024_00029.png\\n', 'data/images/00005_00007_00026.png\\n', 'data/images/00008_00003_00025.png\\n', 'data/images/00002_00051_00010.png\\n', 'data/images/00007_00011_00020.png\\n', 'data/images/00008_00020_00000.png\\n', 'data/images/00002_00065_00003.png\\n', 'data/images/00004_00003_00013.png\\n', 'data/images/00001_00009_00020.png\\n', 'data/images/00007_00045_00017.png\\n', 'data/images/00005_00034_00002.png\\n', 'data/images/00008_00045_00019.png\\n', 'data/images/00005_00014_00014.png\\n', 'data/images/00007_00013_00019.png\\n', 'data/images/00004_00045_00024.png\\n', 'data/images/00002_00041_00024.png\\n', 'data/images/00008_00026_00026.png\\n', 'data/images/00004_00052_00027.png\\n', 'data/images/00007_00039_00018.png\\n', 'data/images/00002_00033_00024.png\\n', 'data/images/00005_00059_00025.png\\n', 'data/images/00001_00031_00012.png\\n', 'data/images/00002_00002_00028.png\\n', 'data/images/00002_00002_00015.png\\n', 'data/images/00002_00053_00022.png\\n', 'data/images/00007_00017_00001.png\\n', 'data/images/00004_00052_00008.png\\n', 'data/images/00003_00006_00028.png\\n', 'data/images/00001_00008_00015.png\\n', 'data/images/00000_00002_00000.png\\n', 'data/images/00008_00043_00020.png\\n', 'data/images/00002_00042_00014.png\\n', 'data/images/00001_00046_00027.png\\n', 'data/images/00001_00035_00024.png\\n', 'data/images/00002_00049_00017.png\\n', 'data/images/00004_00020_00009.png\\n', 'data/images/00001_00063_00008.png\\n', 'data/images/00005_00035_00006.png\\n', 'data/images/00004_00047_00023.png\\n', 'data/images/00002_00027_00015.png\\n', 'data/images/00002_00052_00022.png\\n', 'data/images/00001_00017_00013.png\\n', 'data/images/00005_00057_00022.png\\n', 'data/images/00002_00074_00022.png\\n', 'data/images/00002_00015_00026.png\\n', 'data/images/00001_00061_00028.png\\n', 'data/images/00004_00025_00014.png\\n', 'data/images/00001_00073_00022.png\\n', 'data/images/00004_00049_00028.png\\n', 'data/images/00003_00034_00018.png\\n', 'data/images/00005_00052_00021.png\\n', 'data/images/00008_00023_00017.png\\n', 'data/images/00005_00016_00003.png\\n', 'data/images/00007_00042_00019.png\\n', 'data/images/00007_00019_00008.png\\n', 'data/images/00001_00033_00026.png\\n', 'data/images/00004_00044_00022.png\\n', 'data/images/00008_00024_00015.png\\n', 'data/images/00005_00005_00011.png\\n', 'data/images/00001_00045_00011.png\\n', 'data/images/00004_00038_00010.png\\n', 'data/images/00002_00061_00009.png\\n', 'data/images/00004_00046_00004.png\\n', 'data/images/00001_00014_00017.png\\n', 'data/images/00007_00003_00014.png\\n', 'data/images/00003_00032_00003.png\\n', 'data/images/00005_00040_00028.png\\n', 'data/images/00004_00053_00010.png\\n', 'data/images/00001_00052_00027.png\\n', 'data/images/00004_00014_00027.png\\n', 'data/images/00007_00005_00010.png\\n', 'data/images/00004_00025_00016.png\\n', 'data/images/00008_00037_00015.png\\n', 'data/images/00003_00010_00028.png\\n', 'data/images/00005_00000_00016.png\\n', 'data/images/00002_00040_00016.png\\n', 'data/images/00005_00058_00005.png\\n', 'data/images/00002_00052_00008.png\\n', 'data/images/00003_00020_00001.png\\n', 'data/images/00002_00066_00015.png\\n', 'data/images/00002_00039_00008.png\\n', 'data/images/00001_00072_00002.png\\n', 'data/images/00001_00029_00025.png\\n', 'data/images/00005_00014_00017.png\\n', 'data/images/00004_00062_00019.png\\n', 'data/images/00007_00022_00011.png\\n', 'data/images/00005_00029_00010.png\\n', 'data/images/00007_00044_00019.png\\n', 'data/images/00003_00010_00021.png\\n', 'data/images/00002_00036_00025.png\\n', 'data/images/00002_00057_00026.png\\n', 'data/images/00001_00055_00027.png\\n', 'data/images/00003_00042_00020.png\\n', 'data/images/00001_00015_00017.png\\n', 'data/images/00007_00046_00026.png\\n', 'data/images/00003_00035_00016.png\\n', 'data/images/00004_00003_00012.png\\n', 'data/images/00002_00051_00025.png\\n', 'data/images/00007_00022_00010.png\\n', 'data/images/00001_00011_00027.png\\n', 'data/images/00001_00018_00024.png\\n', 'data/images/00002_00016_00018.png\\n', 'data/images/00005_00050_00012.png\\n', 'data/images/00001_00062_00015.png\\n', 'data/images/00002_00073_00011.png\\n', 'data/images/00001_00041_00010.png\\n', 'data/images/00002_00039_00028.png\\n', 'data/images/00004_00040_00017.png\\n', 'data/images/00004_00013_00012.png\\n', 'data/images/00001_00068_00008.png\\n', 'data/images/00004_00014_00016.png\\n', 'data/images/00002_00000_00019.png\\n', 'data/images/00002_00048_00016.png\\n', 'data/images/00004_00049_00020.png\\n', 'data/images/00008_00039_00029.png\\n', 'data/images/00003_00016_00014.png\\n', 'data/images/00002_00010_00014.png\\n', 'data/images/00000_00000_00024.png\\n', 'data/images/00003_00010_00005.png\\n', 'data/images/00007_00008_00017.png\\n', 'data/images/00004_00005_00015.png\\n', 'data/images/00003_00023_00011.png\\n', 'data/images/00004_00042_00018.png\\n', 'data/images/00001_00055_00007.png\\n', 'data/images/00007_00022_00021.png\\n', 'data/images/00003_00041_00010.png\\n', 'data/images/00005_00029_00019.png\\n', 'data/images/00002_00034_00018.png\\n', 'data/images/00002_00023_00010.png\\n', 'data/images/00005_00038_00015.png\\n', 'data/images/00001_00058_00009.png\\n', 'data/images/00004_00060_00003.png\\n', 'data/images/00008_00014_00022.png\\n', 'data/images/00007_00040_00027.png\\n', 'data/images/00002_00001_00029.png\\n', 'data/images/00008_00034_00014.png\\n', 'data/images/00001_00019_00020.png\\n', 'data/images/00001_00071_00024.png\\n', 'data/images/00003_00016_00026.png\\n', 'data/images/00002_00061_00013.png\\n', 'data/images/00008_00040_00023.png\\n', 'data/images/00001_00005_00024.png\\n', 'data/images/00001_00048_00006.png\\n', 'data/images/00004_00016_00020.png\\n', 'data/images/00001_00056_00013.png\\n', 'data/images/00004_00027_00020.png\\n', 'data/images/00008_00013_00010.png\\n', 'data/images/00005_00021_00001.png\\n', 'data/images/00007_00011_00022.png\\n', 'data/images/00001_00038_00012.png\\n', 'data/images/00002_00032_00013.png\\n', 'data/images/00002_00029_00022.png\\n', 'data/images/00002_00002_00020.png\\n', 'data/images/00007_00045_00027.png\\n', 'data/images/00003_00026_00009.png\\n', 'data/images/00001_00060_00014.png\\n', 'data/images/00001_00043_00018.png\\n', 'data/images/00004_00043_00013.png\\n', 'data/images/00008_00020_00003.png\\n', 'data/images/00008_00016_00016.png\\n', 'data/images/00004_00051_00004.png\\n', 'data/images/00001_00048_00013.png\\n', 'data/images/00008_00044_00015.png\\n', 'data/images/00004_00025_00029.png\\n', 'data/images/00007_00041_00012.png\\n', 'data/images/00003_00008_00019.png\\n', 'data/images/00008_00017_00016.png\\n', 'data/images/00002_00034_00017.png\\n', 'data/images/00007_00028_00010.png\\n', 'data/images/00003_00008_00015.png\\n', 'data/images/00004_00057_00024.png\\n', 'data/images/00005_00030_00010.png\\n', 'data/images/00000_00004_00025.png\\n', 'data/images/00002_00024_00007.png\\n', 'data/images/00005_00051_00022.png\\n', 'data/images/00005_00061_00017.png\\n', 'data/images/00003_00018_00011.png\\n', 'data/images/00005_00049_00023.png\\n', 'data/images/00004_00015_00020.png\\n', 'data/images/00005_00015_00014.png\\n', 'data/images/00004_00065_00014.png\\n', 'data/images/00008_00026_00027.png\\n', 'data/images/00005_00014_00009.png\\n', 'data/images/00008_00043_00019.png\\n', 'data/images/00004_00000_00011.png\\n', 'data/images/00005_00053_00014.png\\n', 'data/images/00004_00011_00009.png\\n', 'data/images/00005_00054_00029.png\\n', 'data/images/00004_00048_00028.png\\n', 'data/images/00001_00067_00007.png\\n', 'data/images/00007_00037_00002.png\\n', 'data/images/00004_00055_00007.png\\n', 'data/images/00008_00019_00028.png\\n', 'data/images/00007_00034_00011.png\\n', 'data/images/00008_00006_00020.png\\n', 'data/images/00005_00036_00025.png\\n', 'data/images/00007_00002_00009.png\\n', 'data/images/00002_00038_00002.png\\n', 'data/images/00008_00020_00020.png\\n', 'data/images/00004_00004_00004.png\\n', 'data/images/00001_00061_00014.png\\n', 'data/images/00001_00009_00023.png\\n', 'data/images/00001_00010_00017.png\\n', 'data/images/00004_00064_00025.png\\n', 'data/images/00002_00038_00003.png\\n', 'data/images/00002_00018_00012.png\\n', 'data/images/00007_00041_00024.png\\n', 'data/images/00007_00016_00021.png\\n', 'data/images/00003_00043_00016.png\\n', 'data/images/00008_00044_00021.png\\n', 'data/images/00002_00061_00023.png\\n', 'data/images/00001_00009_00028.png\\n', 'data/images/00002_00046_00003.png\\n', 'data/images/00001_00043_00026.png\\n', 'data/images/00007_00000_00027.png\\n', 'data/images/00008_00033_00012.png\\n', 'data/images/00008_00003_00014.png\\n', 'data/images/00001_00027_00005.png\\n', 'data/images/00008_00015_00029.png\\n', 'data/images/00004_00004_00024.png\\n', 'data/images/00003_00024_00006.png\\n', 'data/images/00002_00001_00024.png\\n', 'data/images/00008_00036_00004.png\\n', 'data/images/00005_00005_00016.png\\n', 'data/images/00003_00024_00002.png\\n', 'data/images/00001_00064_00010.png\\n', 'data/images/00001_00011_00021.png\\n', 'data/images/00001_00002_00025.png\\n', 'data/images/00004_00043_00023.png\\n', 'data/images/00005_00036_00028.png\\n', 'data/images/00008_00039_00004.png\\n', 'data/images/00007_00010_00009.png\\n', 'data/images/00003_00044_00002.png\\n', 'data/images/00003_00034_00002.png\\n', 'data/images/00002_00030_00022.png\\n', 'data/images/00008_00015_00007.png\\n', 'data/images/00001_00046_00022.png\\n', 'data/images/00001_00025_00028.png\\n', 'data/images/00004_00056_00029.png\\n', 'data/images/00002_00062_00006.png\\n', 'data/images/00007_00007_00020.png\\n', 'data/images/00002_00065_00009.png\\n', 'data/images/00005_00022_00021.png\\n', 'data/images/00004_00032_00014.png\\n', 'data/images/00004_00031_00010.png\\n', 'data/images/00008_00012_00005.png\\n', 'data/images/00007_00024_00003.png\\n', 'data/images/00002_00065_00022.png\\n', 'data/images/00001_00000_00018.png\\n', 'data/images/00005_00006_00000.png\\n', 'data/images/00003_00024_00009.png\\n', 'data/images/00008_00044_00016.png\\n', 'data/images/00004_00062_00020.png\\n', 'data/images/00001_00070_00028.png\\n', 'data/images/00001_00003_00023.png\\n', 'data/images/00001_00030_00016.png\\n', 'data/images/00001_00037_00029.png\\n', 'data/images/00004_00033_00007.png\\n', 'data/images/00003_00027_00010.png\\n', 'data/images/00002_00022_00013.png\\n', 'data/images/00007_00026_00013.png\\n', 'data/images/00001_00031_00000.png\\n', 'data/images/00001_00016_00013.png\\n', 'data/images/00008_00017_00015.png\\n', 'data/images/00001_00055_00000.png\\n', 'data/images/00005_00000_00013.png\\n', 'data/images/00002_00068_00012.png\\n', 'data/images/00005_00056_00007.png\\n', 'data/images/00004_00028_00023.png\\n', 'data/images/00002_00020_00012.png\\n', 'data/images/00002_00034_00003.png\\n', 'data/images/00002_00024_00016.png\\n', 'data/images/00001_00029_00022.png\\n', 'data/images/00002_00023_00018.png\\n', 'data/images/00007_00037_00008.png\\n', 'data/images/00008_00014_00028.png\\n', 'data/images/00004_00016_00017.png\\n', 'data/images/00004_00016_00024.png\\n', 'data/images/00000_00001_00018.png\\n', 'data/images/00002_00052_00017.png\\n', 'data/images/00005_00042_00022.png\\n', 'data/images/00005_00021_00023.png\\n', 'data/images/00005_00009_00012.png\\n', 'data/images/00004_00043_00017.png\\n', 'data/images/00002_00062_00011.png\\n', 'data/images/00001_00047_00014.png\\n', 'data/images/00007_00017_00011.png\\n', 'data/images/00001_00061_00009.png\\n', 'data/images/00002_00029_00029.png\\n', 'data/images/00002_00056_00016.png\\n', 'data/images/00002_00029_00009.png\\n', 'data/images/00002_00031_00016.png\\n', 'data/images/00005_00021_00020.png\\n', 'data/images/00008_00017_00024.png\\n', 'data/images/00004_00053_00001.png\\n', 'data/images/00002_00054_00015.png\\n', 'data/images/00002_00074_00018.png\\n', 'data/images/00002_00044_00004.png\\n', 'data/images/00002_00029_00018.png\\n', 'data/images/00007_00043_00025.png\\n', 'data/images/00008_00024_00025.png\\n', 'data/images/00007_00016_00028.png\\n', 'data/images/00002_00074_00023.png\\n', 'data/images/00001_00052_00013.png\\n', 'data/images/00008_00007_00012.png\\n', 'data/images/00005_00038_00003.png\\n', 'data/images/00007_00027_00012.png\\n', 'data/images/00008_00018_00002.png\\n', 'data/images/00005_00032_00005.png\\n', 'data/images/00007_00037_00017.png\\n', 'data/images/00004_00037_00018.png\\n', 'data/images/00004_00048_00022.png\\n', 'data/images/00004_00040_00007.png\\n', 'data/images/00003_00041_00009.png\\n', 'data/images/00003_00018_00024.png\\n', 'data/images/00002_00037_00026.png\\n', 'data/images/00001_00063_00019.png\\n', 'data/images/00001_00036_00008.png\\n', 'data/images/00003_00025_00002.png\\n', 'data/images/00004_00020_00018.png\\n', 'data/images/00002_00019_00023.png\\n', 'data/images/00005_00017_00019.png\\n', 'data/images/00005_00019_00024.png\\n', 'data/images/00008_00020_00024.png\\n', 'data/images/00000_00003_00027.png\\n', 'data/images/00004_00042_00025.png\\n', 'data/images/00005_00036_00008.png\\n', 'data/images/00002_00073_00015.png\\n', 'data/images/00002_00039_00012.png\\n', 'data/images/00008_00045_00021.png\\n', 'data/images/00004_00002_00009.png\\n', 'data/images/00004_00057_00012.png\\n', 'data/images/00002_00029_00013.png\\n', 'data/images/00005_00044_00014.png\\n', 'data/images/00003_00006_00022.png\\n', 'data/images/00005_00053_00009.png\\n', 'data/images/00002_00005_00021.png\\n', 'data/images/00007_00033_00000.png\\n', 'data/images/00001_00003_00015.png\\n', 'data/images/00005_00034_00017.png\\n', 'data/images/00005_00012_00013.png\\n', 'data/images/00001_00039_00011.png\\n', 'data/images/00005_00027_00024.png\\n', 'data/images/00008_00029_00004.png\\n', 'data/images/00005_00033_00014.png\\n', 'data/images/00005_00013_00001.png\\n', 'data/images/00004_00009_00011.png\\n', 'data/images/00002_00057_00024.png\\n', 'data/images/00004_00043_00026.png\\n', 'data/images/00005_00030_00019.png\\n', 'data/images/00008_00005_00025.png\\n', 'data/images/00002_00013_00018.png\\n', 'data/images/00002_00025_00002.png\\n', 'data/images/00008_00046_00023.png\\n', 'data/images/00004_00056_00022.png\\n', 'data/images/00004_00053_00013.png\\n', 'data/images/00004_00001_00009.png\\n', 'data/images/00007_00040_00013.png\\n', 'data/images/00004_00006_00026.png\\n', 'data/images/00001_00012_00013.png\\n', 'data/images/00003_00006_00010.png\\n', 'data/images/00008_00025_00013.png\\n', 'data/images/00007_00003_00013.png\\n', 'data/images/00002_00045_00017.png\\n', 'data/images/00007_00046_00024.png\\n', 'data/images/00001_00027_00013.png\\n', 'data/images/00007_00006_00028.png\\n', 'data/images/00001_00015_00004.png\\n', 'data/images/00004_00014_00013.png\\n', 'data/images/00005_00024_00009.png\\n', 'data/images/00001_00063_00015.png\\n', 'data/images/00004_00019_00015.png\\n', 'data/images/00001_00054_00027.png\\n', 'data/images/00005_00017_00016.png\\n', 'data/images/00004_00053_00016.png\\n', 'data/images/00001_00007_00019.png\\n', 'data/images/00007_00033_00016.png\\n', 'data/images/00005_00000_00011.png\\n', 'data/images/00004_00055_00015.png\\n', 'data/images/00003_00005_00029.png\\n', 'data/images/00007_00010_00019.png\\n', 'data/images/00004_00062_00001.png\\n', 'data/images/00004_00007_00005.png\\n', 'data/images/00004_00015_00010.png\\n', 'data/images/00004_00000_00002.png\\n', 'data/images/00003_00042_00015.png\\n', 'data/images/00001_00010_00005.png\\n', 'data/images/00001_00009_00004.png\\n', 'data/images/00003_00006_00008.png\\n', 'data/images/00004_00065_00010.png\\n', 'data/images/00001_00038_00015.png\\n', 'data/images/00005_00050_00021.png\\n', 'data/images/00000_00005_00014.png\\n', 'data/images/00007_00020_00023.png\\n', 'data/images/00001_00071_00025.png\\n', 'data/images/00002_00023_00025.png\\n', 'data/images/00008_00044_00019.png\\n', 'data/images/00001_00025_00027.png\\n', 'data/images/00002_00017_00025.png\\n', 'data/images/00004_00050_00007.png\\n', 'data/images/00001_00002_00022.png\\n', 'data/images/00001_00014_00012.png\\n', 'data/images/00001_00045_00004.png\\n', 'data/images/00004_00062_00015.png\\n', 'data/images/00002_00023_00020.png\\n', 'data/images/00001_00000_00020.png\\n', 'data/images/00002_00030_00014.png\\n', 'data/images/00008_00016_00019.png\\n', 'data/images/00005_00049_00012.png\\n', 'data/images/00002_00064_00024.png\\n', 'data/images/00008_00038_00018.png\\n', 'data/images/00003_00020_00013.png\\n', 'data/images/00002_00051_00012.png\\n', 'data/images/00004_00002_00027.png\\n', 'data/images/00004_00047_00024.png\\n', 'data/images/00004_00059_00024.png\\n', 'data/images/00001_00063_00012.png\\n', 'data/images/00002_00059_00017.png\\n', 'data/images/00002_00054_00010.png\\n', 'data/images/00003_00005_00021.png\\n', 'data/images/00001_00025_00015.png\\n', 'data/images/00007_00006_00022.png\\n', 'data/images/00001_00003_00024.png\\n', 'data/images/00001_00041_00024.png\\n', 'data/images/00001_00026_00001.png\\n', 'data/images/00002_00033_00012.png\\n', 'data/images/00004_00025_00027.png\\n', 'data/images/00002_00045_00020.png\\n', 'data/images/00001_00013_00025.png\\n', 'data/images/00002_00053_00019.png\\n', 'data/images/00008_00025_00021.png\\n', 'data/images/00001_00019_00005.png\\n', 'data/images/00002_00029_00000.png\\n', 'data/images/00004_00001_00024.png\\n', 'data/images/00005_00021_00010.png\\n', 'data/images/00001_00040_00017.png\\n', 'data/images/00007_00018_00016.png\\n', 'data/images/00004_00006_00018.png\\n', 'data/images/00001_00010_00025.png\\n', 'data/images/00003_00038_00016.png\\n', 'data/images/00003_00001_00012.png\\n', 'data/images/00007_00046_00025.png\\n', 'data/images/00001_00053_00001.png\\n', 'data/images/00008_00000_00015.png\\n', 'data/images/00005_00044_00003.png\\n', 'data/images/00002_00008_00020.png\\n', 'data/images/00005_00059_00001.png\\n', 'data/images/00000_00004_00029.png\\n', 'data/images/00003_00019_00021.png\\n', 'data/images/00001_00011_00011.png\\n', 'data/images/00002_00042_00027.png\\n', 'data/images/00001_00045_00029.png\\n', 'data/images/00007_00030_00012.png\\n', 'data/images/00001_00060_00009.png\\n', 'data/images/00001_00066_00022.png\\n', 'data/images/00003_00010_00025.png\\n', 'data/images/00007_00043_00022.png\\n', 'data/images/00004_00037_00012.png\\n', 'data/images/00005_00036_00005.png\\n', 'data/images/00001_00043_00016.png\\n', 'data/images/00007_00008_00028.png\\n', 'data/images/00003_00030_00028.png\\n', 'data/images/00008_00006_00019.png\\n', 'data/images/00008_00017_00017.png\\n', 'data/images/00001_00012_00023.png\\n', 'data/images/00003_00001_00000.png\\n', 'data/images/00001_00015_00009.png\\n', 'data/images/00001_00000_00026.png\\n', 'data/images/00004_00047_00004.png\\n', 'data/images/00001_00055_00016.png\\n', 'data/images/00002_00043_00029.png\\n', 'data/images/00005_00041_00018.png\\n', 'data/images/00004_00061_00012.png\\n', 'data/images/00002_00010_00016.png\\n', 'data/images/00001_00016_00024.png\\n', 'data/images/00002_00067_00001.png\\n', 'data/images/00008_00045_00003.png\\n', 'data/images/00008_00045_00025.png\\n', 'data/images/00002_00049_00010.png\\n', 'data/images/00000_00000_00015.png\\n', 'data/images/00007_00010_00002.png\\n', 'data/images/00008_00015_00001.png\\n', 'data/images/00004_00046_00006.png\\n', 'data/images/00004_00061_00001.png\\n', 'data/images/00005_00059_00022.png\\n', 'data/images/00005_00033_00016.png\\n', 'data/images/00003_00009_00012.png\\n', 'data/images/00003_00022_00025.png\\n', 'data/images/00005_00011_00000.png\\n', 'data/images/00008_00039_00003.png\\n', 'data/images/00002_00003_00013.png\\n', 'data/images/00004_00036_00014.png\\n', 'data/images/00007_00043_00017.png\\n', 'data/images/00002_00053_00023.png\\n', 'data/images/00008_00035_00018.png\\n', 'data/images/00008_00021_00020.png\\n', 'data/images/00001_00020_00001.png\\n', 'data/images/00007_00005_00001.png\\n', 'data/images/00001_00004_00010.png\\n', 'data/images/00002_00033_00001.png\\n', 'data/images/00005_00018_00024.png\\n', 'data/images/00007_00002_00002.png\\n', 'data/images/00007_00036_00026.png\\n', 'data/images/00008_00034_00006.png\\n', 'data/images/00002_00021_00015.png\\n', 'data/images/00001_00041_00015.png\\n', 'data/images/00001_00033_00001.png\\n', 'data/images/00003_00021_00010.png\\n', 'data/images/00007_00027_00023.png\\n', 'data/images/00005_00035_00010.png\\n', 'data/images/00005_00018_00016.png\\n', 'data/images/00005_00033_00007.png\\n', 'data/images/00005_00011_00011.png\\n', 'data/images/00005_00017_00011.png\\n', 'data/images/00002_00038_00017.png\\n', 'data/images/00001_00046_00013.png\\n', 'data/images/00003_00024_00013.png\\n', 'data/images/00008_00032_00016.png\\n', 'data/images/00003_00007_00009.png\\n', 'data/images/00004_00016_00015.png\\n', 'data/images/00002_00042_00009.png\\n', 'data/images/00008_00013_00027.png\\n', 'data/images/00004_00031_00024.png\\n', 'data/images/00002_00067_00009.png\\n', 'data/images/00007_00026_00015.png\\n', 'data/images/00004_00056_00012.png\\n', 'data/images/00004_00002_00024.png\\n', 'data/images/00002_00028_00019.png\\n', 'data/images/00005_00006_00023.png\\n', 'data/images/00003_00032_00029.png\\n', 'data/images/00003_00014_00025.png\\n', 'data/images/00004_00064_00022.png\\n', 'data/images/00005_00054_00005.png\\n', 'data/images/00004_00057_00019.png\\n', 'data/images/00007_00041_00015.png\\n', 'data/images/00001_00041_00020.png\\n', 'data/images/00001_00058_00025.png\\n', 'data/images/00003_00038_00008.png\\n', 'data/images/00002_00018_00019.png\\n', 'data/images/00001_00065_00011.png\\n', 'data/images/00003_00046_00009.png\\n', 'data/images/00004_00019_00019.png\\n', 'data/images/00000_00004_00001.png\\n', 'data/images/00000_00002_00025.png\\n', 'data/images/00003_00000_00016.png\\n', 'data/images/00001_00003_00004.png\\n', 'data/images/00005_00022_00026.png\\n', 'data/images/00003_00013_00014.png\\n', 'data/images/00001_00037_00018.png\\n', 'data/images/00002_00014_00018.png\\n', 'data/images/00004_00015_00024.png\\n', 'data/images/00008_00029_00006.png\\n', 'data/images/00003_00042_00028.png\\n', 'data/images/00004_00013_00004.png\\n', 'data/images/00005_00025_00008.png\\n', 'data/images/00005_00042_00015.png\\n', 'data/images/00003_00014_00006.png\\n', 'data/images/00001_00002_00011.png\\n', 'data/images/00004_00013_00020.png\\n', 'data/images/00001_00007_00015.png\\n', 'data/images/00002_00021_00003.png\\n', 'data/images/00002_00062_00016.png\\n', 'data/images/00004_00038_00018.png\\n', 'data/images/00004_00008_00015.png\\n', 'data/images/00002_00023_00029.png\\n', 'data/images/00005_00011_00008.png\\n', 'data/images/00002_00030_00029.png\\n', 'data/images/00008_00016_00021.png\\n', 'data/images/00002_00070_00004.png\\n', 'data/images/00002_00022_00022.png\\n', 'data/images/00003_00039_00026.png\\n', 'data/images/00004_00031_00029.png\\n', 'data/images/00000_00004_00016.png\\n', 'data/images/00005_00041_00003.png\\n', 'data/images/00005_00050_00003.png\\n', 'data/images/00004_00005_00021.png\\n', 'data/images/00001_00072_00027.png\\n', 'data/images/00005_00047_00015.png\\n', 'data/images/00007_00029_00018.png\\n', 'data/images/00007_00008_00021.png\\n', 'data/images/00002_00059_00024.png\\n', 'data/images/00003_00041_00012.png\\n', 'data/images/00003_00018_00028.png\\n', 'data/images/00007_00011_00007.png\\n', 'data/images/00004_00003_00021.png\\n', 'data/images/00002_00000_00017.png\\n', 'data/images/00001_00030_00028.png\\n', 'data/images/00001_00051_00014.png\\n', 'data/images/00002_00040_00004.png\\n', 'data/images/00005_00019_00019.png\\n', 'data/images/00001_00025_00000.png\\n', 'data/images/00005_00058_00020.png\\n', 'data/images/00001_00040_00001.png\\n', 'data/images/00007_00009_00005.png\\n', 'data/images/00005_00054_00003.png\\n', 'data/images/00004_00043_00021.png\\n', 'data/images/00004_00038_00017.png\\n', 'data/images/00002_00052_00028.png\\n', 'data/images/00002_00017_00022.png\\n', 'data/images/00004_00045_00016.png\\n', 'data/images/00002_00067_00025.png\\n', 'data/images/00001_00039_00026.png\\n', 'data/images/00002_00016_00002.png\\n', 'data/images/00007_00014_00020.png\\n', 'data/images/00005_00036_00006.png\\n', 'data/images/00007_00033_00013.png\\n', 'data/images/00001_00041_00005.png\\n', 'data/images/00003_00021_00001.png\\n', 'data/images/00001_00034_00017.png\\n', 'data/images/00003_00038_00004.png\\n', 'data/images/00008_00033_00019.png\\n', 'data/images/00005_00019_00021.png\\n', 'data/images/00002_00067_00007.png\\n', 'data/images/00002_00001_00027.png\\n', 'data/images/00008_00009_00023.png\\n', 'data/images/00001_00021_00013.png\\n', 'data/images/00008_00010_00021.png\\n', 'data/images/00001_00053_00000.png\\n', 'data/images/00002_00055_00010.png\\n', 'data/images/00004_00052_00010.png\\n', 'data/images/00004_00010_00014.png\\n', 'data/images/00007_00019_00015.png\\n', 'data/images/00001_00015_00028.png\\n', 'data/images/00002_00036_00021.png\\n', 'data/images/00008_00001_00011.png\\n', 'data/images/00001_00009_00012.png\\n', 'data/images/00002_00064_00022.png\\n', 'data/images/00005_00006_00016.png\\n', 'data/images/00001_00017_00010.png\\n', 'data/images/00003_00000_00018.png\\n', 'data/images/00004_00050_00005.png\\n', 'data/images/00002_00064_00014.png\\n', 'data/images/00001_00011_00010.png\\n', 'data/images/00007_00028_00026.png\\n', 'data/images/00004_00007_00028.png\\n', 'data/images/00001_00068_00011.png\\n', 'data/images/00002_00062_00007.png\\n', 'data/images/00000_00005_00025.png\\n', 'data/images/00001_00062_00023.png\\n', 'data/images/00001_00048_00019.png\\n', 'data/images/00001_00023_00017.png\\n', 'data/images/00003_00037_00023.png\\n', 'data/images/00004_00058_00025.png\\n', 'data/images/00004_00019_00023.png\\n', 'data/images/00007_00030_00025.png\\n', 'data/images/00008_00031_00006.png\\n', 'data/images/00004_00058_00020.png\\n', 'data/images/00002_00043_00021.png\\n', 'data/images/00005_00016_00026.png\\n', 'data/images/00001_00068_00007.png\\n', 'data/images/00004_00052_00012.png\\n', 'data/images/00001_00072_00014.png\\n', 'data/images/00001_00059_00001.png\\n', 'data/images/00005_00003_00028.png\\n', 'data/images/00008_00032_00008.png\\n', 'data/images/00007_00014_00029.png\\n', 'data/images/00001_00060_00025.png\\n', 'data/images/00003_00038_00014.png\\n', 'data/images/00004_00010_00001.png\\n', 'data/images/00008_00018_00027.png\\n', 'data/images/00003_00032_00023.png\\n', 'data/images/00003_00025_00007.png\\n', 'data/images/00004_00018_00016.png\\n', 'data/images/00005_00033_00023.png\\n', 'data/images/00003_00040_00021.png\\n', 'data/images/00005_00061_00028.png\\n', 'data/images/00001_00034_00004.png\\n', 'data/images/00007_00047_00022.png\\n', 'data/images/00001_00032_00023.png\\n', 'data/images/00005_00025_00020.png\\n', 'data/images/00000_00004_00020.png\\n', 'data/images/00001_00061_00016.png\\n', 'data/images/00005_00021_00017.png\\n', 'data/images/00001_00027_00009.png\\n', 'data/images/00004_00027_00026.png\\n', 'data/images/00007_00044_00022.png\\n', 'data/images/00001_00004_00029.png\\n', 'data/images/00008_00045_00001.png\\n', 'data/images/00001_00071_00008.png\\n', 'data/images/00004_00055_00020.png\\n', 'data/images/00007_00030_00026.png\\n', 'data/images/00005_00044_00018.png\\n', 'data/images/00004_00011_00008.png\\n', 'data/images/00002_00002_00014.png\\n', 'data/images/00004_00063_00018.png\\n', 'data/images/00005_00059_00028.png\\n', 'data/images/00005_00051_00014.png\\n', 'data/images/00003_00045_00024.png\\n', 'data/images/00008_00022_00029.png\\n', 'data/images/00001_00000_00007.png\\n', 'data/images/00003_00036_00013.png\\n', 'data/images/00007_00041_00021.png\\n', 'data/images/00001_00002_00026.png\\n', 'data/images/00007_00002_00017.png\\n', 'data/images/00003_00026_00007.png\\n', 'data/images/00005_00006_00003.png\\n', 'data/images/00003_00031_00029.png\\n', 'data/images/00001_00007_00018.png\\n', 'data/images/00008_00001_00019.png\\n', 'data/images/00001_00048_00001.png\\n', 'data/images/00007_00018_00010.png\\n', 'data/images/00002_00046_00012.png\\n', 'data/images/00004_00053_00024.png\\n', 'data/images/00002_00030_00028.png\\n', 'data/images/00005_00045_00019.png\\n', 'data/images/00001_00004_00002.png\\n', 'data/images/00001_00042_00021.png\\n', 'data/images/00002_00019_00024.png\\n', 'data/images/00002_00056_00024.png\\n', 'data/images/00004_00037_00019.png\\n', 'data/images/00004_00019_00001.png\\n', 'data/images/00008_00016_00001.png\\n', 'data/images/00004_00045_00018.png\\n', 'data/images/00003_00039_00027.png\\n', 'data/images/00004_00012_00011.png\\n', 'data/images/00008_00001_00016.png\\n', 'data/images/00007_00039_00015.png\\n', 'data/images/00005_00012_00018.png\\n', 'data/images/00002_00030_00017.png\\n', 'data/images/00005_00059_00018.png\\n', 'data/images/00004_00004_00013.png\\n', 'data/images/00008_00036_00011.png\\n', 'data/images/00000_00006_00011.png\\n', 'data/images/00002_00034_00015.png\\n', 'data/images/00000_00001_00020.png\\n', 'data/images/00007_00041_00020.png\\n', 'data/images/00002_00007_00021.png\\n', 'data/images/00005_00048_00009.png\\n', 'data/images/00001_00022_00013.png\\n', 'data/images/00005_00022_00002.png\\n', 'data/images/00002_00043_00019.png\\n', 'data/images/00008_00044_00022.png\\n', 'data/images/00001_00061_00008.png\\n', 'data/images/00001_00009_00016.png\\n', 'data/images/00001_00063_00028.png\\n', 'data/images/00007_00022_00005.png\\n', 'data/images/00002_00061_00001.png\\n', 'data/images/00007_00024_00016.png\\n', 'data/images/00007_00040_00028.png\\n', 'data/images/00007_00004_00019.png\\n', 'data/images/00004_00053_00012.png\\n', 'data/images/00001_00048_00015.png\\n', 'data/images/00004_00039_00022.png\\n', 'data/images/00002_00004_00028.png\\n', 'data/images/00001_00003_00029.png\\n', 'data/images/00001_00065_00012.png\\n', 'data/images/00002_00074_00012.png\\n', 'data/images/00003_00020_00012.png\\n', 'data/images/00005_00045_00016.png\\n', 'data/images/00004_00000_00004.png\\n', 'data/images/00005_00031_00010.png\\n', 'data/images/00002_00012_00026.png\\n', 'data/images/00008_00010_00026.png\\n', 'data/images/00008_00010_00028.png\\n', 'data/images/00004_00005_00006.png\\n', 'data/images/00002_00019_00011.png\\n', 'data/images/00008_00027_00027.png\\n', 'data/images/00007_00020_00028.png\\n', 'data/images/00007_00002_00016.png\\n', 'data/images/00004_00047_00021.png\\n', 'data/images/00002_00013_00024.png\\n', 'data/images/00001_00044_00019.png\\n', 'data/images/00004_00042_00028.png\\n', 'data/images/00005_00051_00003.png\\n', 'data/images/00002_00018_00000.png\\n', 'data/images/00003_00000_00005.png\\n', 'data/images/00003_00023_00020.png\\n', 'data/images/00003_00042_00012.png\\n', 'data/images/00008_00024_00007.png\\n', 'data/images/00002_00047_00026.png\\n', 'data/images/00005_00007_00018.png\\n', 'data/images/00001_00058_00022.png\\n', 'data/images/00002_00026_00013.png\\n', 'data/images/00005_00059_00002.png\\n', 'data/images/00005_00016_00000.png\\n', 'data/images/00007_00018_00017.png\\n', 'data/images/00004_00030_00023.png\\n', 'data/images/00001_00007_00022.png\\n', 'data/images/00002_00036_00022.png\\n', 'data/images/00003_00031_00028.png\\n', 'data/images/00004_00058_00027.png\\n', 'data/images/00008_00039_00024.png\\n', 'data/images/00003_00000_00017.png\\n', 'data/images/00008_00005_00020.png\\n', 'data/images/00002_00016_00013.png\\n', 'data/images/00004_00022_00021.png\\n', 'data/images/00001_00054_00010.png\\n', 'data/images/00004_00041_00026.png\\n', 'data/images/00005_00004_00016.png\\n', 'data/images/00001_00057_00028.png\\n', 'data/images/00001_00021_00020.png\\n', 'data/images/00005_00009_00026.png\\n', 'data/images/00008_00018_00019.png\\n', 'data/images/00005_00036_00018.png\\n', 'data/images/00002_00004_00005.png\\n', 'data/images/00004_00019_00027.png\\n', 'data/images/00008_00046_00017.png\\n', 'data/images/00002_00027_00011.png\\n', 'data/images/00001_00024_00018.png\\n', 'data/images/00004_00034_00025.png\\n', 'data/images/00005_00033_00012.png\\n', 'data/images/00004_00042_00013.png\\n', 'data/images/00003_00039_00009.png\\n', 'data/images/00004_00013_00011.png\\n', 'data/images/00008_00036_00000.png\\n', 'data/images/00004_00022_00029.png\\n', 'data/images/00002_00037_00013.png\\n', 'data/images/00004_00059_00019.png\\n', 'data/images/00004_00031_00012.png\\n', 'data/images/00008_00011_00007.png\\n', 'data/images/00002_00039_00016.png\\n', 'data/images/00001_00053_00025.png\\n', 'data/images/00002_00012_00004.png\\n', 'data/images/00008_00008_00025.png\\n', 'data/images/00002_00064_00019.png\\n', 'data/images/00003_00016_00017.png\\n', 'data/images/00002_00068_00021.png\\n', 'data/images/00005_00021_00016.png\\n', 'data/images/00007_00012_00021.png\\n', 'data/images/00004_00030_00021.png\\n', 'data/images/00008_00022_00022.png\\n', 'data/images/00001_00011_00012.png\\n', 'data/images/00002_00018_00008.png\\n', 'data/images/00004_00044_00010.png\\n', 'data/images/00008_00032_00013.png\\n', 'data/images/00001_00002_00024.png\\n', 'data/images/00005_00008_00015.png\\n', 'data/images/00003_00026_00011.png\\n', 'data/images/00002_00017_00008.png\\n', 'data/images/00003_00019_00023.png\\n', 'data/images/00007_00016_00023.png\\n', 'data/images/00005_00006_00019.png\\n', 'data/images/00001_00053_00028.png\\n', 'data/images/00008_00015_00003.png\\n', 'data/images/00001_00035_00019.png\\n', 'data/images/00002_00001_00022.png\\n', 'data/images/00004_00025_00024.png\\n', 'data/images/00003_00005_00002.png\\n', 'data/images/00004_00006_00027.png\\n', 'data/images/00001_00054_00012.png\\n', 'data/images/00008_00020_00001.png\\n', 'data/images/00005_00009_00028.png\\n', 'data/images/00000_00001_00014.png\\n', 'data/images/00002_00013_00014.png\\n', 'data/images/00007_00033_00005.png\\n', 'data/images/00003_00023_00012.png\\n', 'data/images/00005_00044_00025.png\\n', 'data/images/00002_00016_00027.png\\n', 'data/images/00003_00028_00021.png\\n', 'data/images/00001_00020_00003.png\\n', 'data/images/00001_00006_00013.png\\n', 'data/images/00002_00028_00006.png\\n', 'data/images/00001_00062_00019.png\\n', 'data/images/00008_00005_00022.png\\n', 'data/images/00001_00056_00028.png\\n', 'data/images/00007_00014_00011.png\\n', 'data/images/00004_00026_00028.png\\n', 'data/images/00008_00016_00006.png\\n', 'data/images/00005_00044_00011.png\\n', 'data/images/00001_00058_00016.png\\n', 'data/images/00001_00046_00023.png\\n', 'data/images/00005_00046_00005.png\\n', 'data/images/00002_00048_00011.png\\n', 'data/images/00007_00000_00018.png\\n', 'data/images/00005_00017_00013.png\\n', 'data/images/00005_00006_00025.png\\n', 'data/images/00002_00046_00018.png\\n', 'data/images/00007_00042_00009.png\\n', 'data/images/00002_00064_00020.png\\n', 'data/images/00008_00017_00028.png\\n', 'data/images/00002_00028_00009.png\\n', 'data/images/00007_00035_00020.png\\n', 'data/images/00003_00040_00020.png\\n', 'data/images/00001_00006_00008.png\\n', 'data/images/00005_00005_00013.png\\n', 'data/images/00001_00044_00017.png\\n', 'data/images/00007_00013_00017.png\\n', 'data/images/00008_00001_00007.png\\n', 'data/images/00005_00012_00006.png\\n', 'data/images/00002_00046_00028.png\\n', 'data/images/00004_00009_00018.png\\n', 'data/images/00002_00009_00013.png\\n', 'data/images/00001_00006_00020.png\\n', 'data/images/00007_00026_00009.png\\n', 'data/images/00005_00025_00013.png\\n', 'data/images/00001_00029_00015.png\\n', 'data/images/00008_00032_00025.png\\n', 'data/images/00005_00042_00023.png\\n', 'data/images/00007_00037_00023.png\\n', 'data/images/00001_00022_00007.png\\n', 'data/images/00004_00065_00020.png\\n', 'data/images/00004_00020_00012.png\\n', 'data/images/00001_00043_00023.png\\n', 'data/images/00004_00019_00016.png\\n', 'data/images/00004_00020_00026.png\\n', 'data/images/00008_00016_00000.png\\n', 'data/images/00007_00024_00014.png\\n', 'data/images/00008_00007_00007.png\\n', 'data/images/00004_00000_00022.png\\n', 'data/images/00008_00037_00008.png\\n', 'data/images/00005_00029_00008.png\\n', 'data/images/00005_00013_00024.png\\n', 'data/images/00004_00011_00015.png\\n', 'data/images/00003_00017_00003.png\\n', 'data/images/00004_00034_00029.png\\n', 'data/images/00003_00005_00000.png\\n', 'data/images/00007_00011_00021.png\\n', 'data/images/00004_00007_00022.png\\n', 'data/images/00007_00010_00011.png\\n', 'data/images/00002_00073_00027.png\\n', 'data/images/00002_00040_00008.png\\n', 'data/images/00007_00017_00010.png\\n', 'data/images/00005_00030_00025.png\\n', 'data/images/00007_00039_00025.png\\n', 'data/images/00005_00020_00006.png\\n', 'data/images/00007_00021_00013.png\\n', 'data/images/00001_00008_00016.png\\n', 'data/images/00004_00036_00011.png\\n', 'data/images/00007_00025_00009.png\\n', 'data/images/00005_00039_00027.png\\n', 'data/images/00001_00065_00006.png\\n', 'data/images/00002_00074_00011.png\\n', 'data/images/00008_00036_00003.png\\n', 'data/images/00008_00005_00024.png\\n', 'data/images/00001_00021_00019.png\\n', 'data/images/00004_00004_00025.png\\n', 'data/images/00003_00022_00023.png\\n', 'data/images/00005_00029_00023.png\\n', 'data/images/00001_00062_00029.png\\n', 'data/images/00004_00006_00005.png\\n', 'data/images/00008_00032_00006.png\\n', 'data/images/00007_00042_00020.png\\n', 'data/images/00001_00055_00026.png\\n', 'data/images/00007_00037_00013.png\\n', 'data/images/00001_00065_00028.png\\n', 'data/images/00008_00000_00001.png\\n', 'data/images/00002_00058_00002.png\\n', 'data/images/00002_00014_00022.png\\n', 'data/images/00008_00007_00009.png\\n', 'data/images/00001_00051_00019.png\\n', 'data/images/00007_00007_00004.png\\n', 'data/images/00005_00058_00019.png\\n', 'data/images/00005_00007_00023.png\\n', 'data/images/00002_00047_00007.png\\n', 'data/images/00007_00027_00010.png\\n', 'data/images/00002_00053_00021.png\\n', 'data/images/00003_00035_00014.png\\n', 'data/images/00004_00021_00008.png\\n', 'data/images/00007_00024_00029.png\\n', 'data/images/00007_00029_00022.png\\n', 'data/images/00008_00011_00006.png\\n', 'data/images/00005_00040_00014.png\\n', 'data/images/00002_00067_00012.png\\n', 'data/images/00004_00046_00020.png\\n', 'data/images/00002_00067_00022.png\\n', 'data/images/00005_00000_00004.png\\n', 'data/images/00004_00040_00010.png\\n', 'data/images/00005_00031_00026.png\\n', 'data/images/00002_00072_00022.png\\n', 'data/images/00007_00020_00011.png\\n', 'data/images/00007_00010_00007.png\\n', 'data/images/00004_00049_00027.png\\n', 'data/images/00005_00024_00003.png\\n', 'data/images/00001_00041_00003.png\\n', 'data/images/00001_00026_00012.png\\n', 'data/images/00007_00040_00023.png\\n', 'data/images/00007_00027_00022.png\\n', 'data/images/00002_00064_00005.png\\n', 'data/images/00007_00002_00021.png\\n', 'data/images/00004_00006_00002.png\\n', 'data/images/00008_00000_00004.png\\n', 'data/images/00002_00052_00027.png\\n', 'data/images/00007_00020_00005.png\\n', 'data/images/00007_00029_00029.png\\n', 'data/images/00004_00030_00002.png\\n', 'data/images/00005_00008_00017.png\\n', 'data/images/00001_00053_00017.png\\n', 'data/images/00008_00043_00026.png\\n', 'data/images/00008_00035_00009.png\\n', 'data/images/00005_00030_00001.png\\n', 'data/images/00001_00020_00029.png\\n', 'data/images/00002_00052_00013.png\\n', 'data/images/00007_00023_00025.png\\n', 'data/images/00005_00047_00003.png\\n', 'data/images/00004_00035_00011.png\\n', 'data/images/00001_00037_00012.png\\n', 'data/images/00002_00019_00013.png\\n', 'data/images/00007_00000_00020.png\\n', 'data/images/00007_00014_00012.png\\n', 'data/images/00008_00020_00007.png\\n', 'data/images/00001_00002_00018.png\\n', 'data/images/00003_00004_00001.png\\n', 'data/images/00007_00027_00025.png\\n', 'data/images/00002_00006_00010.png\\n', 'data/images/00002_00074_00004.png\\n', 'data/images/00004_00053_00029.png\\n', 'data/images/00007_00010_00018.png\\n', 'data/images/00001_00036_00028.png\\n', 'data/images/00004_00056_00013.png\\n', 'data/images/00004_00046_00016.png\\n', 'data/images/00005_00056_00023.png\\n', 'data/images/00003_00031_00021.png\\n', 'data/images/00007_00039_00023.png\\n', 'data/images/00004_00004_00029.png\\n', 'data/images/00004_00064_00024.png\\n', 'data/images/00005_00052_00007.png\\n', 'data/images/00004_00043_00008.png\\n', 'data/images/00007_00032_00018.png\\n', 'data/images/00008_00025_00020.png\\n', 'data/images/00001_00059_00010.png\\n', 'data/images/00002_00005_00007.png\\n', 'data/images/00005_00012_00019.png\\n', 'data/images/00004_00037_00028.png\\n', 'data/images/00008_00037_00001.png\\n', 'data/images/00001_00022_00028.png\\n', 'data/images/00005_00051_00000.png\\n', 'data/images/00008_00009_00025.png\\n', 'data/images/00004_00010_00004.png\\n', 'data/images/00005_00056_00003.png\\n', 'data/images/00005_00059_00026.png\\n', 'data/images/00003_00037_00027.png\\n', 'data/images/00005_00030_00006.png\\n', 'data/images/00005_00017_00000.png\\n', 'data/images/00002_00039_00021.png\\n', 'data/images/00002_00059_00025.png\\n', 'data/images/00007_00025_00025.png\\n', 'data/images/00005_00036_00022.png\\n', 'data/images/00007_00045_00007.png\\n', 'data/images/00001_00065_00021.png\\n', 'data/images/00001_00045_00023.png\\n', 'data/images/00001_00010_00008.png\\n', 'data/images/00001_00020_00019.png\\n', 'data/images/00005_00012_00014.png\\n', 'data/images/00000_00001_00009.png\\n', 'data/images/00008_00043_00022.png\\n', 'data/images/00002_00005_00001.png\\n', 'data/images/00002_00058_00025.png\\n', 'data/images/00005_00059_00012.png\\n', 'data/images/00001_00036_00022.png\\n', 'data/images/00003_00027_00027.png\\n', 'data/images/00001_00016_00019.png\\n', 'data/images/00004_00049_00019.png\\n', 'data/images/00001_00070_00022.png\\n', 'data/images/00002_00046_00026.png\\n', 'data/images/00007_00030_00019.png\\n', 'data/images/00004_00065_00021.png\\n', 'data/images/00007_00011_00017.png\\n', 'data/images/00002_00042_00012.png\\n', 'data/images/00004_00032_00027.png\\n', 'data/images/00008_00006_00026.png\\n', 'data/images/00007_00024_00006.png\\n', 'data/images/00008_00004_00028.png\\n', 'data/images/00008_00000_00006.png\\n', 'data/images/00008_00031_00018.png\\n', 'data/images/00004_00046_00024.png\\n', 'data/images/00005_00009_00000.png\\n', 'data/images/00002_00044_00009.png\\n', 'data/images/00001_00029_00016.png\\n', 'data/images/00003_00044_00017.png\\n', 'data/images/00003_00011_00024.png\\n', 'data/images/00004_00051_00013.png\\n', 'data/images/00002_00062_00012.png\\n', 'data/images/00001_00003_00028.png\\n', 'data/images/00007_00040_00022.png\\n', 'data/images/00002_00002_00029.png\\n', 'data/images/00000_00006_00020.png\\n', 'data/images/00001_00038_00019.png\\n', 'data/images/00008_00034_00028.png\\n', 'data/images/00001_00032_00011.png\\n', 'data/images/00001_00044_00008.png\\n', 'data/images/00002_00031_00029.png\\n', 'data/images/00008_00043_00021.png\\n', 'data/images/00007_00015_00004.png\\n', 'data/images/00007_00029_00025.png\\n', 'data/images/00002_00005_00029.png\\n', 'data/images/00001_00007_00028.png\\n', 'data/images/00008_00026_00024.png\\n', 'data/images/00002_00054_00012.png\\n', 'data/images/00003_00028_00014.png\\n', 'data/images/00002_00065_00025.png\\n', 'data/images/00002_00056_00009.png\\n', 'data/images/00004_00032_00029.png\\n', 'data/images/00001_00009_00021.png\\n', 'data/images/00008_00000_00022.png\\n', 'data/images/00003_00038_00025.png\\n', 'data/images/00004_00036_00025.png\\n', 'data/images/00003_00037_00009.png\\n', 'data/images/00004_00030_00026.png\\n', 'data/images/00004_00014_00028.png\\n', 'data/images/00003_00018_00010.png\\n', 'data/images/00004_00016_00018.png\\n', 'data/images/00005_00008_00020.png\\n', 'data/images/00008_00023_00019.png\\n', 'data/images/00001_00036_00029.png\\n', 'data/images/00008_00015_00004.png\\n', 'data/images/00007_00023_00012.png\\n', 'data/images/00007_00026_00026.png\\n', 'data/images/00001_00016_00027.png\\n', 'data/images/00008_00005_00018.png\\n', 'data/images/00005_00030_00007.png\\n', 'data/images/00003_00041_00023.png\\n', 'data/images/00008_00031_00007.png\\n', 'data/images/00005_00052_00019.png\\n', 'data/images/00004_00041_00017.png\\n', 'data/images/00001_00066_00012.png\\n', 'data/images/00007_00035_00022.png\\n', 'data/images/00004_00014_00001.png\\n', 'data/images/00007_00035_00017.png\\n', 'data/images/00004_00020_00021.png\\n', 'data/images/00004_00006_00015.png\\n', 'data/images/00003_00023_00021.png\\n', 'data/images/00003_00005_00003.png\\n', 'data/images/00004_00013_00002.png\\n', 'data/images/00007_00020_00026.png\\n', 'data/images/00002_00029_00028.png\\n', 'data/images/00004_00028_00009.png\\n', 'data/images/00003_00042_00011.png\\n', 'data/images/00001_00062_00017.png\\n', 'data/images/00005_00056_00014.png\\n', 'data/images/00005_00042_00019.png\\n', 'data/images/00005_00000_00028.png\\n', 'data/images/00002_00003_00003.png\\n', 'data/images/00005_00042_00008.png\\n', 'data/images/00005_00053_00020.png\\n', 'data/images/00001_00071_00011.png\\n', 'data/images/00001_00064_00019.png\\n', 'data/images/00004_00059_00017.png\\n', 'data/images/00004_00047_00020.png\\n', 'data/images/00003_00021_00005.png\\n', 'data/images/00003_00035_00021.png\\n', 'data/images/00003_00004_00008.png\\n', 'data/images/00002_00050_00021.png\\n', 'data/images/00008_00000_00017.png\\n', 'data/images/00008_00037_00004.png\\n', 'data/images/00005_00027_00027.png\\n', 'data/images/00007_00024_00005.png\\n', 'data/images/00001_00005_00011.png\\n', 'data/images/00005_00012_00001.png\\n', 'data/images/00005_00056_00029.png\\n', 'data/images/00007_00022_00013.png\\n', 'data/images/00002_00007_00026.png\\n', 'data/images/00001_00023_00012.png\\n', 'data/images/00001_00014_00008.png\\n', 'data/images/00008_00035_00013.png\\n', 'data/images/00008_00000_00007.png\\n', 'data/images/00001_00066_00019.png\\n', 'data/images/00003_00034_00019.png\\n', 'data/images/00003_00038_00021.png\\n', 'data/images/00008_00041_00029.png\\n', 'data/images/00004_00027_00002.png\\n', 'data/images/00004_00015_00014.png\\n', 'data/images/00008_00024_00016.png\\n', 'data/images/00007_00047_00017.png\\n', 'data/images/00005_00057_00013.png\\n', 'data/images/00005_00003_00027.png\\n', 'data/images/00008_00038_00025.png\\n', 'data/images/00001_00063_00024.png\\n', 'data/images/00005_00006_00010.png\\n', 'data/images/00002_00073_00014.png\\n', 'data/images/00007_00013_00013.png\\n', 'data/images/00003_00030_00019.png\\n', 'data/images/00004_00050_00027.png\\n', 'data/images/00002_00072_00001.png\\n', 'data/images/00007_00041_00010.png\\n', 'data/images/00007_00032_00020.png\\n', 'data/images/00001_00028_00029.png\\n', 'data/images/00002_00051_00028.png\\n', 'data/images/00003_00030_00015.png\\n', 'data/images/00002_00060_00027.png\\n', 'data/images/00005_00002_00026.png\\n', 'data/images/00004_00029_00021.png\\n', 'data/images/00007_00022_00024.png\\n', 'data/images/00005_00035_00021.png\\n', 'data/images/00005_00046_00010.png\\n', 'data/images/00001_00072_00013.png\\n', 'data/images/00008_00001_00001.png\\n', 'data/images/00002_00016_00005.png\\n', 'data/images/00008_00044_00010.png\\n', 'data/images/00002_00038_00007.png\\n', 'data/images/00003_00007_00025.png\\n', 'data/images/00002_00001_00017.png\\n', 'data/images/00007_00000_00029.png\\n', 'data/images/00007_00046_00022.png\\n', 'data/images/00007_00031_00013.png\\n', 'data/images/00000_00002_00015.png\\n', 'data/images/00008_00029_00020.png\\n', 'data/images/00005_00059_00015.png\\n', 'data/images/00007_00010_00027.png\\n', 'data/images/00001_00029_00011.png\\n', 'data/images/00001_00060_00019.png\\n', 'data/images/00008_00018_00007.png\\n', 'data/images/00003_00014_00018.png\\n', 'data/images/00001_00051_00012.png\\n', 'data/images/00007_00044_00024.png\\n', 'data/images/00004_00049_00024.png\\n', 'data/images/00004_00046_00000.png\\n', 'data/images/00002_00070_00020.png\\n', 'data/images/00001_00070_00001.png\\n', 'data/images/00002_00071_00023.png\\n', 'data/images/00007_00044_00006.png\\n', 'data/images/00003_00044_00005.png\\n', 'data/images/00003_00030_00023.png\\n', 'data/images/00005_00036_00007.png\\n', 'data/images/00003_00046_00024.png\\n', 'data/images/00001_00023_00028.png\\n', 'data/images/00003_00016_00011.png\\n', 'data/images/00007_00038_00025.png\\n', 'data/images/00004_00060_00027.png\\n', 'data/images/00007_00027_00027.png\\n', 'data/images/00008_00034_00029.png\\n', 'data/images/00005_00019_00017.png\\n', 'data/images/00003_00027_00007.png\\n', 'data/images/00005_00041_00002.png\\n', 'data/images/00001_00071_00006.png\\n', 'data/images/00007_00034_00018.png\\n', 'data/images/00002_00067_00013.png\\n', 'data/images/00004_00041_00008.png\\n', 'data/images/00005_00014_00019.png\\n', 'data/images/00001_00022_00015.png\\n', 'data/images/00001_00066_00016.png\\n', 'data/images/00002_00025_00016.png\\n', 'data/images/00007_00005_00020.png\\n', 'data/images/00003_00006_00019.png\\n', 'data/images/00008_00017_00007.png\\n', 'data/images/00003_00013_00025.png\\n', 'data/images/00004_00055_00014.png\\n', 'data/images/00002_00044_00016.png\\n', 'data/images/00001_00043_00009.png\\n', 'data/images/00004_00063_00020.png\\n', 'data/images/00008_00016_00017.png\\n', 'data/images/00008_00007_00010.png\\n', 'data/images/00008_00009_00022.png\\n', 'data/images/00003_00008_00017.png\\n', 'data/images/00005_00033_00018.png\\n', 'data/images/00001_00003_00017.png\\n', 'data/images/00004_00024_00020.png\\n', 'data/images/00001_00047_00012.png\\n', 'data/images/00003_00010_00024.png\\n', 'data/images/00005_00034_00019.png\\n', 'data/images/00001_00062_00025.png\\n', 'data/images/00001_00054_00005.png\\n', 'data/images/00004_00051_00023.png\\n', 'data/images/00001_00070_00005.png\\n', 'data/images/00001_00002_00003.png\\n', 'data/images/00002_00014_00017.png\\n', 'data/images/00007_00017_00005.png\\n', 'data/images/00002_00051_00018.png\\n', 'data/images/00004_00041_00007.png\\n', 'data/images/00003_00013_00022.png\\n', 'data/images/00005_00061_00019.png\\n', 'data/images/00001_00067_00016.png\\n', 'data/images/00004_00013_00009.png\\n', 'data/images/00003_00041_00028.png\\n', 'data/images/00005_00043_00023.png\\n', 'data/images/00007_00018_00002.png\\n', 'data/images/00007_00011_00019.png\\n', 'data/images/00001_00068_00029.png\\n', 'data/images/00008_00020_00004.png\\n', 'data/images/00008_00029_00009.png\\n', 'data/images/00002_00050_00006.png\\n', 'data/images/00007_00012_00003.png\\n', 'data/images/00004_00037_00015.png\\n', 'data/images/00001_00022_00005.png\\n', 'data/images/00008_00020_00002.png\\n', 'data/images/00003_00039_00016.png\\n', 'data/images/00005_00032_00029.png\\n', 'data/images/00002_00062_00005.png\\n', 'data/images/00001_00004_00009.png\\n', 'data/images/00004_00061_00007.png\\n', 'data/images/00001_00011_00007.png\\n', 'data/images/00004_00049_00009.png\\n', 'data/images/00005_00046_00011.png\\n', 'data/images/00008_00029_00029.png\\n', 'data/images/00004_00012_00004.png\\n', 'data/images/00004_00046_00012.png\\n', 'data/images/00002_00065_00024.png\\n', 'data/images/00005_00051_00026.png\\n', 'data/images/00001_00028_00019.png\\n', 'data/images/00000_00005_00024.png\\n', 'data/images/00005_00014_00016.png\\n', 'data/images/00008_00029_00016.png\\n', 'data/images/00000_00002_00008.png\\n', 'data/images/00004_00008_00014.png\\n', 'data/images/00008_00046_00020.png\\n', 'data/images/00007_00034_00009.png\\n', 'data/images/00003_00041_00008.png\\n', 'data/images/00007_00027_00021.png\\n', 'data/images/00005_00053_00029.png\\n', 'data/images/00008_00036_00025.png\\n', 'data/images/00002_00070_00022.png\\n', 'data/images/00004_00009_00014.png\\n', 'data/images/00002_00054_00008.png\\n', 'data/images/00003_00007_00024.png\\n', 'data/images/00003_00009_00013.png\\n', 'data/images/00003_00030_00009.png\\n', 'data/images/00003_00023_00010.png\\n', 'data/images/00003_00001_00019.png\\n', 'data/images/00004_00001_00022.png\\n', 'data/images/00005_00050_00027.png\\n', 'data/images/00002_00005_00025.png\\n', 'data/images/00005_00060_00023.png\\n', 'data/images/00003_00029_00022.png\\n', 'data/images/00002_00074_00019.png\\n', 'data/images/00001_00008_00000.png\\n', 'data/images/00005_00059_00006.png\\n', 'data/images/00004_00001_00007.png\\n', 'data/images/00002_00015_00024.png\\n', 'data/images/00001_00020_00022.png\\n', 'data/images/00008_00046_00029.png\\n', 'data/images/00003_00044_00006.png\\n', 'data/images/00001_00032_00028.png\\n', 'data/images/00003_00003_00015.png\\n', 'data/images/00001_00068_00023.png\\n', 'data/images/00004_00024_00010.png\\n', 'data/images/00004_00022_00022.png\\n', 'data/images/00005_00047_00024.png\\n', 'data/images/00001_00041_00026.png\\n', 'data/images/00001_00058_00014.png\\n', 'data/images/00001_00042_00000.png\\n', 'data/images/00004_00031_00027.png\\n', 'data/images/00004_00060_00004.png\\n', 'data/images/00008_00029_00017.png\\n', 'data/images/00004_00017_00006.png\\n', 'data/images/00008_00012_00014.png\\n', 'data/images/00004_00032_00028.png\\n', 'data/images/00000_00003_00022.png\\n', 'data/images/00005_00046_00025.png\\n', 'data/images/00008_00007_00021.png\\n', 'data/images/00007_00020_00022.png\\n', 'data/images/00001_00024_00027.png\\n', 'data/images/00001_00001_00027.png\\n', 'data/images/00001_00064_00016.png\\n', 'data/images/00001_00020_00009.png\\n', 'data/images/00004_00034_00016.png\\n', 'data/images/00001_00011_00028.png\\n', 'data/images/00004_00009_00019.png\\n', 'data/images/00001_00040_00016.png\\n', 'data/images/00008_00003_00005.png\\n', 'data/images/00002_00058_00021.png\\n', 'data/images/00005_00018_00026.png\\n', 'data/images/00005_00012_00012.png\\n', 'data/images/00007_00002_00007.png\\n', 'data/images/00005_00027_00012.png\\n', 'data/images/00008_00043_00005.png\\n', 'data/images/00005_00060_00015.png\\n', 'data/images/00002_00068_00026.png\\n', 'data/images/00003_00008_00011.png\\n', 'data/images/00008_00036_00013.png\\n', 'data/images/00004_00018_00028.png\\n', 'data/images/00005_00034_00029.png\\n', 'data/images/00007_00018_00001.png\\n', 'data/images/00007_00034_00022.png\\n', 'data/images/00003_00026_00014.png\\n', 'data/images/00002_00052_00011.png\\n', 'data/images/00001_00020_00016.png\\n', 'data/images/00004_00047_00008.png\\n', 'data/images/00004_00033_00002.png\\n', 'data/images/00003_00038_00023.png\\n', 'data/images/00001_00038_00010.png\\n', 'data/images/00001_00017_00009.png\\n', 'data/images/00004_00065_00026.png\\n', 'data/images/00005_00038_00017.png\\n', 'data/images/00001_00065_00018.png\\n', 'data/images/00005_00051_00021.png\\n', 'data/images/00005_00011_00025.png\\n', 'data/images/00002_00046_00007.png\\n', 'data/images/00001_00050_00015.png\\n', 'data/images/00001_00069_00020.png\\n', 'data/images/00004_00049_00029.png\\n', 'data/images/00008_00003_00009.png\\n', 'data/images/00007_00016_00011.png\\n', 'data/images/00002_00054_00019.png\\n', 'data/images/00001_00054_00006.png\\n', 'data/images/00001_00031_00025.png\\n', 'data/images/00003_00044_00026.png\\n', 'data/images/00003_00035_00027.png\\n', 'data/images/00007_00008_00012.png\\n', 'data/images/00004_00011_00019.png\\n', 'data/images/00004_00007_00018.png\\n', 'data/images/00004_00059_00016.png\\n', 'data/images/00005_00045_00026.png\\n', 'data/images/00001_00070_00021.png\\n', 'data/images/00002_00003_00011.png\\n', 'data/images/00005_00031_00016.png\\n', 'data/images/00003_00036_00008.png\\n', 'data/images/00004_00031_00013.png\\n', 'data/images/00002_00064_00017.png\\n', 'data/images/00008_00016_00022.png\\n', 'data/images/00001_00011_00020.png\\n', 'data/images/00004_00042_00014.png\\n', 'data/images/00001_00040_00009.png\\n', 'data/images/00008_00040_00016.png\\n', 'data/images/00008_00017_00000.png\\n', 'data/images/00005_00027_00025.png\\n', 'data/images/00002_00014_00015.png\\n', 'data/images/00005_00031_00024.png\\n', 'data/images/00008_00013_00014.png\\n', 'data/images/00008_00018_00021.png\\n', 'data/images/00003_00017_00021.png\\n', 'data/images/00002_00007_00025.png\\n', 'data/images/00002_00004_00021.png\\n', 'data/images/00004_00011_00021.png\\n', 'data/images/00007_00033_00019.png\\n', 'data/images/00002_00055_00029.png\\n', 'data/images/00005_00029_00028.png\\n', 'data/images/00005_00022_00024.png\\n', 'data/images/00002_00071_00026.png\\n', 'data/images/00005_00025_00012.png\\n', 'data/images/00001_00000_00010.png\\n', 'data/images/00005_00035_00008.png\\n', 'data/images/00005_00012_00007.png\\n', 'data/images/00005_00019_00004.png\\n', 'data/images/00007_00028_00008.png\\n', 'data/images/00003_00005_00022.png\\n', 'data/images/00004_00050_00013.png\\n', 'data/images/00002_00062_00004.png\\n', 'data/images/00002_00037_00010.png\\n', 'data/images/00000_00004_00010.png\\n', 'data/images/00007_00004_00023.png\\n', 'data/images/00005_00038_00019.png\\n', 'data/images/00005_00023_00015.png\\n', 'data/images/00001_00038_00029.png\\n', 'data/images/00004_00008_00028.png\\n', 'data/images/00001_00033_00002.png\\n', 'data/images/00008_00016_00026.png\\n', 'data/images/00001_00044_00001.png\\n', 'data/images/00005_00017_00007.png\\n', 'data/images/00007_00015_00019.png\\n', 'data/images/00002_00046_00027.png\\n', 'data/images/00002_00017_00007.png\\n', 'data/images/00004_00059_00028.png\\n', 'data/images/00007_00002_00014.png\\n', 'data/images/00007_00029_00027.png\\n', 'data/images/00001_00049_00022.png\\n', 'data/images/00002_00052_00025.png\\n', 'data/images/00004_00061_00028.png\\n', 'data/images/00001_00013_00008.png\\n', 'data/images/00005_00038_00028.png\\n', 'data/images/00003_00032_00021.png\\n', 'data/images/00003_00038_00028.png\\n', 'data/images/00001_00054_00007.png\\n', 'data/images/00005_00012_00026.png\\n', 'data/images/00007_00020_00012.png\\n', 'data/images/00001_00041_00007.png\\n', 'data/images/00004_00024_00027.png\\n', 'data/images/00004_00015_00022.png\\n', 'data/images/00002_00033_00008.png\\n', 'data/images/00004_00015_00029.png\\n', 'data/images/00003_00041_00003.png\\n', 'data/images/00007_00013_00016.png\\n', 'data/images/00001_00015_00023.png\\n', 'data/images/00002_00016_00017.png\\n', 'data/images/00008_00043_00018.png\\n', 'data/images/00005_00037_00026.png\\n', 'data/images/00001_00068_00020.png\\n', 'data/images/00001_00012_00026.png\\n', 'data/images/00007_00041_00022.png\\n', 'data/images/00004_00008_00024.png\\n', 'data/images/00003_00029_00011.png\\n', 'data/images/00008_00038_00021.png\\n', 'data/images/00001_00055_00005.png\\n', 'data/images/00002_00018_00021.png\\n', 'data/images/00007_00000_00019.png\\n', 'data/images/00004_00051_00002.png\\n', 'data/images/00003_00042_00025.png\\n', 'data/images/00005_00027_00021.png\\n', 'data/images/00004_00040_00011.png\\n', 'data/images/00007_00022_00019.png\\n', 'data/images/00005_00000_00006.png\\n', 'data/images/00007_00012_00012.png\\n', 'data/images/00002_00026_00009.png\\n', 'data/images/00004_00018_00026.png\\n', 'data/images/00004_00001_00004.png\\n', 'data/images/00001_00011_00016.png\\n', 'data/images/00002_00065_00029.png\\n', 'data/images/00007_00045_00016.png\\n', 'data/images/00008_00043_00024.png\\n', 'data/images/00000_00004_00012.png\\n', 'data/images/00002_00056_00008.png\\n', 'data/images/00005_00056_00025.png\\n', 'data/images/00004_00053_00002.png\\n', 'data/images/00004_00014_00014.png\\n', 'data/images/00004_00030_00013.png\\n', 'data/images/00002_00060_00002.png\\n', 'data/images/00007_00021_00020.png\\n', 'data/images/00004_00038_00024.png\\n', 'data/images/00001_00021_00000.png\\n', 'data/images/00002_00048_00015.png\\n', 'data/images/00004_00016_00003.png\\n', 'data/images/00007_00043_00014.png\\n', 'data/images/00008_00035_00022.png\\n', 'data/images/00008_00020_00017.png\\n', 'data/images/00004_00059_00029.png\\n', 'data/images/00004_00065_00022.png\\n', 'data/images/00007_00015_00016.png\\n', 'data/images/00001_00013_00022.png\\n', 'data/images/00004_00041_00003.png\\n', 'data/images/00004_00064_00026.png\\n', 'data/images/00005_00058_00017.png\\n', 'data/images/00005_00015_00010.png\\n', 'data/images/00004_00046_00008.png\\n', 'data/images/00005_00013_00022.png\\n', 'data/images/00004_00052_00002.png\\n', 'data/images/00001_00042_00028.png\\n', 'data/images/00007_00018_00012.png\\n', 'data/images/00008_00000_00016.png\\n', 'data/images/00004_00003_00014.png\\n', 'data/images/00004_00005_00020.png\\n', 'data/images/00005_00040_00020.png\\n', 'data/images/00005_00029_00024.png\\n', 'data/images/00004_00037_00027.png\\n', 'data/images/00003_00005_00017.png\\n', 'data/images/00002_00068_00024.png\\n', 'data/images/00002_00008_00014.png\\n', 'data/images/00002_00073_00019.png\\n', 'data/images/00004_00021_00020.png\\n', 'data/images/00005_00018_00010.png\\n', 'data/images/00001_00059_00024.png\\n', 'data/images/00004_00019_00007.png\\n', 'data/images/00002_00055_00025.png\\n', 'data/images/00000_00006_00007.png\\n', 'data/images/00007_00043_00029.png\\n', 'data/images/00008_00008_00024.png\\n', 'data/images/00003_00019_00025.png\\n', 'data/images/00008_00026_00015.png\\n', 'data/images/00003_00040_00027.png\\n', 'data/images/00003_00002_00003.png\\n', 'data/images/00001_00070_00014.png\\n', 'data/images/00002_00021_00005.png\\n', 'data/images/00003_00011_00028.png\\n', 'data/images/00000_00006_00005.png\\n', 'data/images/00003_00012_00029.png\\n', 'data/images/00007_00006_00026.png\\n', 'data/images/00004_00063_00024.png\\n', 'data/images/00003_00016_00021.png\\n', 'data/images/00003_00000_00015.png\\n', 'data/images/00007_00011_00026.png\\n', 'data/images/00003_00011_00017.png\\n', 'data/images/00004_00036_00012.png\\n', 'data/images/00002_00010_00019.png\\n', 'data/images/00001_00038_00026.png\\n', 'data/images/00008_00033_00004.png\\n', 'data/images/00001_00066_00009.png\\n', 'data/images/00005_00052_00013.png\\n', 'data/images/00001_00018_00001.png\\n', 'data/images/00002_00018_00023.png\\n', 'data/images/00008_00001_00025.png\\n', 'data/images/00007_00002_00029.png\\n', 'data/images/00008_00035_00012.png\\n', 'data/images/00005_00042_00028.png\\n', 'data/images/00001_00013_00020.png\\n', 'data/images/00001_00033_00012.png\\n', 'data/images/00002_00033_00010.png\\n', 'data/images/00003_00017_00013.png\\n', 'data/images/00002_00070_00025.png\\n', 'data/images/00007_00033_00025.png\\n', 'data/images/00000_00002_00007.png\\n', 'data/images/00008_00019_00014.png\\n', 'data/images/00005_00012_00025.png\\n', 'data/images/00007_00015_00020.png\\n', 'data/images/00002_00027_00028.png\\n', 'data/images/00004_00042_00003.png\\n', 'data/images/00002_00010_00018.png\\n', 'data/images/00002_00015_00005.png\\n', 'data/images/00001_00038_00017.png\\n', 'data/images/00007_00034_00026.png\\n', 'data/images/00008_00036_00029.png\\n', 'data/images/00007_00036_00024.png\\n', 'data/images/00001_00006_00002.png\\n', 'data/images/00001_00041_00008.png\\n', 'data/images/00004_00028_00016.png\\n', 'data/images/00004_00038_00025.png\\n', 'data/images/00007_00036_00000.png\\n', 'data/images/00002_00029_00008.png\\n', 'data/images/00003_00002_00014.png\\n', 'data/images/00002_00009_00024.png\\n', 'data/images/00005_00050_00017.png\\n', 'data/images/00001_00049_00026.png\\n', 'data/images/00002_00015_00019.png\\n', 'data/images/00008_00045_00016.png\\n', 'data/images/00004_00032_00010.png\\n', 'data/images/00001_00000_00014.png\\n', 'data/images/00003_00036_00022.png\\n', 'data/images/00001_00009_00000.png\\n', 'data/images/00008_00029_00007.png\\n', 'data/images/00008_00012_00011.png\\n', 'data/images/00002_00027_00012.png\\n', 'data/images/00007_00011_00024.png\\n', 'data/images/00001_00054_00021.png\\n', 'data/images/00007_00038_00018.png\\n', 'data/images/00002_00018_00007.png\\n', 'data/images/00000_00000_00025.png\\n', 'data/images/00001_00008_00002.png\\n', 'data/images/00003_00010_00019.png\\n', 'data/images/00004_00052_00018.png\\n', 'data/images/00001_00007_00011.png\\n', 'data/images/00000_00001_00013.png\\n', 'data/images/00002_00018_00009.png\\n', 'data/images/00004_00016_00029.png\\n', 'data/images/00000_00006_00018.png\\n', 'data/images/00002_00055_00022.png\\n', 'data/images/00002_00012_00000.png\\n', 'data/images/00005_00046_00026.png\\n', 'data/images/00004_00045_00005.png\\n', 'data/images/00002_00018_00013.png\\n', 'data/images/00004_00016_00014.png\\n', 'data/images/00007_00028_00016.png\\n', 'data/images/00001_00063_00014.png\\n', 'data/images/00003_00040_00002.png\\n', 'data/images/00002_00050_00002.png\\n', 'data/images/00005_00048_00022.png\\n', 'data/images/00005_00044_00015.png\\n', 'data/images/00003_00006_00006.png\\n', 'data/images/00004_00029_00028.png\\n', 'data/images/00008_00023_00021.png\\n', 'data/images/00004_00047_00007.png\\n', 'data/images/00002_00044_00005.png\\n', 'data/images/00007_00011_00009.png\\n', 'data/images/00005_00017_00022.png\\n', 'data/images/00008_00006_00029.png\\n', 'data/images/00001_00046_00011.png\\n', 'data/images/00001_00022_00012.png\\n', 'data/images/00004_00061_00023.png\\n', 'data/images/00004_00046_00027.png\\n', 'data/images/00007_00025_00019.png\\n', 'data/images/00004_00028_00021.png\\n', 'data/images/00003_00013_00019.png\\n', 'data/images/00008_00035_00015.png\\n', 'data/images/00005_00037_00024.png\\n', 'data/images/00003_00022_00005.png\\n', 'data/images/00004_00043_00020.png\\n', 'data/images/00008_00019_00006.png\\n', 'data/images/00002_00039_00007.png\\n', 'data/images/00001_00064_00015.png\\n', 'data/images/00005_00058_00008.png\\n', 'data/images/00002_00037_00000.png\\n', 'data/images/00007_00006_00013.png\\n', 'data/images/00000_00003_00024.png\\n', 'data/images/00005_00023_00029.png\\n', 'data/images/00002_00017_00028.png\\n', 'data/images/00005_00025_00015.png\\n', 'data/images/00001_00034_00019.png\\n', 'data/images/00004_00054_00028.png\\n', 'data/images/00001_00006_00026.png\\n', 'data/images/00004_00014_00009.png\\n', 'data/images/00004_00010_00029.png\\n', 'data/images/00005_00039_00026.png\\n', 'data/images/00000_00005_00023.png\\n', 'data/images/00003_00029_00005.png\\n', 'data/images/00005_00046_00006.png\\n', 'data/images/00001_00028_00012.png\\n', 'data/images/00005_00050_00016.png\\n', 'data/images/00004_00057_00006.png\\n', 'data/images/00002_00060_00007.png\\n', 'data/images/00001_00042_00003.png\\n', 'data/images/00004_00020_00008.png\\n', 'data/images/00008_00039_00021.png\\n', 'data/images/00003_00034_00024.png\\n', 'data/images/00004_00018_00011.png\\n', 'data/images/00002_00001_00025.png\\n', 'data/images/00007_00018_00029.png\\n', 'data/images/00002_00040_00026.png\\n', 'data/images/00003_00016_00006.png\\n', 'data/images/00001_00053_00019.png\\n', 'data/images/00003_00030_00018.png\\n', 'data/images/00003_00046_00019.png\\n', 'data/images/00008_00039_00009.png\\n', 'data/images/00004_00046_00015.png\\n', 'data/images/00004_00042_00007.png\\n', 'data/images/00008_00018_00017.png\\n', 'data/images/00004_00035_00021.png\\n', 'data/images/00003_00021_00018.png\\n', 'data/images/00002_00011_00008.png\\n', 'data/images/00001_00007_00000.png\\n', 'data/images/00001_00045_00025.png\\n', 'data/images/00007_00030_00018.png\\n', 'data/images/00001_00057_00012.png\\n', 'data/images/00002_00007_00013.png\\n', 'data/images/00002_00032_00007.png\\n', 'data/images/00004_00062_00023.png\\n', 'data/images/00008_00031_00025.png\\n', 'data/images/00005_00057_00026.png\\n', 'data/images/00002_00046_00005.png\\n', 'data/images/00007_00021_00023.png\\n', 'data/images/00005_00042_00026.png\\n', 'data/images/00004_00043_00019.png\\n', 'data/images/00007_00010_00013.png\\n', 'data/images/00001_00066_00013.png\\n', 'data/images/00007_00015_00024.png\\n', 'data/images/00002_00042_00028.png\\n', 'data/images/00001_00052_00026.png\\n', 'data/images/00005_00007_00024.png\\n', 'data/images/00004_00044_00021.png\\n', 'data/images/00004_00042_00001.png\\n', 'data/images/00001_00021_00021.png\\n', 'data/images/00005_00003_00009.png\\n', 'data/images/00008_00039_00017.png\\n', 'data/images/00007_00006_00006.png\\n', 'data/images/00002_00007_00008.png\\n', 'data/images/00007_00022_00018.png\\n', 'data/images/00002_00060_00021.png\\n', 'data/images/00008_00005_00003.png\\n', 'data/images/00002_00016_00016.png\\n', 'data/images/00003_00017_00002.png\\n', 'data/images/00001_00061_00019.png\\n', 'data/images/00001_00044_00009.png\\n', 'data/images/00005_00060_00024.png\\n', 'data/images/00002_00049_00013.png\\n', 'data/images/00004_00039_00029.png\\n', 'data/images/00002_00010_00024.png\\n', 'data/images/00002_00027_00008.png\\n', 'data/images/00005_00013_00013.png\\n', 'data/images/00001_00040_00022.png\\n', 'data/images/00001_00059_00018.png\\n', 'data/images/00000_00000_00002.png\\n', 'data/images/00001_00069_00017.png\\n', 'data/images/00004_00013_00008.png\\n', 'data/images/00002_00045_00019.png\\n', 'data/images/00002_00072_00028.png\\n', 'data/images/00007_00029_00026.png\\n', 'data/images/00002_00023_00027.png\\n', 'data/images/00005_00038_00018.png\\n', 'data/images/00002_00074_00003.png\\n', 'data/images/00000_00002_00024.png\\n', 'data/images/00001_00004_00022.png\\n', 'data/images/00002_00067_00005.png\\n', 'data/images/00002_00008_00005.png\\n', 'data/images/00007_00014_00016.png\\n', 'data/images/00007_00032_00022.png\\n', 'data/images/00002_00021_00019.png\\n', 'data/images/00003_00039_00012.png\\n', 'data/images/00001_00027_00011.png\\n', 'data/images/00005_00002_00019.png\\n', 'data/images/00001_00053_00024.png\\n', 'data/images/00003_00043_00021.png\\n', 'data/images/00002_00004_00022.png\\n', 'data/images/00008_00003_00016.png\\n', 'data/images/00005_00047_00017.png\\n', 'data/images/00004_00030_00014.png\\n', 'data/images/00001_00070_00006.png\\n', 'data/images/00003_00038_00022.png\\n', 'data/images/00001_00050_00026.png\\n', 'data/images/00002_00031_00011.png\\n', 'data/images/00002_00015_00018.png\\n', 'data/images/00002_00047_00024.png\\n', 'data/images/00007_00015_00027.png\\n', 'data/images/00002_00026_00008.png\\n', 'data/images/00002_00020_00021.png\\n', 'data/images/00001_00043_00020.png\\n', 'data/images/00008_00004_00026.png\\n', 'data/images/00004_00001_00023.png\\n', 'data/images/00007_00038_00019.png\\n', 'data/images/00004_00010_00023.png\\n', 'data/images/00004_00009_00025.png\\n', 'data/images/00004_00003_00008.png\\n', 'data/images/00007_00041_00009.png\\n', 'data/images/00007_00043_00018.png\\n', 'data/images/00002_00041_00012.png\\n', 'data/images/00002_00011_00004.png\\n', 'data/images/00007_00012_00018.png\\n', 'data/images/00001_00070_00012.png\\n', 'data/images/00005_00024_00007.png\\n', 'data/images/00001_00049_00021.png\\n', 'data/images/00001_00007_00017.png\\n', 'data/images/00001_00005_00020.png\\n', 'data/images/00002_00039_00014.png\\n', 'data/images/00002_00055_00004.png\\n', 'data/images/00007_00009_00012.png\\n', 'data/images/00003_00004_00019.png\\n', 'data/images/00005_00048_00013.png\\n', 'data/images/00001_00020_00021.png\\n', 'data/images/00007_00028_00000.png\\n', 'data/images/00005_00040_00017.png\\n', 'data/images/00005_00047_00016.png\\n', 'data/images/00002_00037_00008.png\\n', 'data/images/00001_00037_00011.png\\n', 'data/images/00000_00002_00011.png\\n', 'data/images/00003_00046_00025.png\\n', 'data/images/00002_00067_00011.png\\n', 'data/images/00004_00063_00019.png\\n', 'data/images/00003_00008_00002.png\\n', 'data/images/00004_00011_00027.png\\n', 'data/images/00001_00028_00009.png\\n', 'data/images/00008_00020_00005.png\\n', 'data/images/00002_00025_00020.png\\n', 'data/images/00005_00061_00003.png\\n', 'data/images/00003_00041_00019.png\\n', 'data/images/00001_00055_00014.png\\n', 'data/images/00001_00002_00013.png\\n', 'data/images/00005_00058_00011.png\\n', 'data/images/00008_00014_00029.png\\n', 'data/images/00003_00026_00025.png\\n', 'data/images/00001_00053_00012.png\\n', 'data/images/00002_00009_00012.png\\n', 'data/images/00003_00020_00010.png\\n', 'data/images/00004_00042_00004.png\\n', 'data/images/00008_00021_00016.png\\n', 'data/images/00001_00015_00012.png\\n', 'data/images/00008_00007_00019.png\\n', 'data/images/00001_00043_00011.png\\n', 'data/images/00001_00030_00022.png\\n', 'data/images/00001_00002_00029.png\\n', 'data/images/00003_00045_00026.png\\n', 'data/images/00003_00035_00024.png\\n', 'data/images/00002_00072_00011.png\\n', 'data/images/00003_00018_00025.png\\n', 'data/images/00003_00015_00029.png\\n', 'data/images/00007_00039_00012.png\\n', 'data/images/00007_00010_00006.png\\n', 'data/images/00005_00049_00010.png\\n', 'data/images/00002_00037_00017.png\\n', 'data/images/00003_00028_00015.png\\n', 'data/images/00001_00053_00026.png\\n', 'data/images/00001_00031_00009.png\\n', 'data/images/00008_00030_00022.png\\n', 'data/images/00002_00026_00012.png\\n', 'data/images/00002_00003_00027.png\\n', 'data/images/00008_00030_00027.png\\n', 'data/images/00003_00001_00002.png\\n', 'data/images/00001_00040_00015.png\\n', 'data/images/00008_00005_00027.png\\n', 'data/images/00003_00019_00003.png\\n', 'data/images/00005_00051_00008.png\\n', 'data/images/00008_00004_00014.png\\n', 'data/images/00002_00004_00010.png\\n', 'data/images/00000_00002_00009.png\\n', 'data/images/00001_00073_00011.png\\n', 'data/images/00004_00016_00016.png\\n', 'data/images/00004_00012_00012.png\\n', 'data/images/00005_00018_00012.png\\n', 'data/images/00004_00045_00009.png\\n', 'data/images/00004_00028_00012.png\\n', 'data/images/00008_00020_00013.png\\n', 'data/images/00001_00000_00028.png\\n', 'data/images/00008_00036_00008.png\\n', 'data/images/00002_00045_00023.png\\n', 'data/images/00003_00027_00022.png\\n', 'data/images/00003_00018_00019.png\\n', 'data/images/00002_00041_00018.png\\n', 'data/images/00001_00072_00017.png\\n', 'data/images/00005_00049_00013.png\\n', 'data/images/00002_00047_00004.png\\n', 'data/images/00007_00012_00015.png\\n', 'data/images/00005_00029_00014.png\\n', 'data/images/00004_00060_00022.png\\n', 'data/images/00005_00002_00028.png\\n', 'data/images/00005_00029_00004.png\\n', 'data/images/00003_00017_00001.png\\n', 'data/images/00005_00048_00015.png\\n', 'data/images/00008_00024_00005.png\\n', 'data/images/00003_00003_00027.png\\n', 'data/images/00005_00049_00026.png\\n', 'data/images/00003_00002_00023.png\\n', 'data/images/00002_00034_00019.png\\n', 'data/images/00002_00052_00009.png\\n', 'data/images/00004_00039_00018.png\\n', 'data/images/00004_00001_00010.png\\n', 'data/images/00008_00046_00028.png\\n', 'data/images/00001_00022_00014.png\\n', 'data/images/00005_00011_00020.png\\n', 'data/images/00003_00042_00016.png\\n', 'data/images/00001_00029_00026.png\\n', 'data/images/00005_00015_00007.png\\n', 'data/images/00005_00009_00019.png\\n', 'data/images/00003_00018_00016.png\\n', 'data/images/00005_00003_00022.png\\n', 'data/images/00004_00005_00013.png\\n', 'data/images/00005_00056_00022.png\\n', 'data/images/00004_00008_00026.png\\n', 'data/images/00002_00005_00013.png\\n', 'data/images/00001_00030_00010.png\\n', 'data/images/00005_00004_00027.png\\n', 'data/images/00007_00030_00020.png\\n', 'data/images/00003_00029_00014.png\\n', 'data/images/00002_00003_00007.png\\n', 'data/images/00008_00016_00007.png\\n', 'data/images/00005_00008_00012.png\\n', 'data/images/00001_00053_00006.png\\n', 'data/images/00004_00027_00024.png\\n', 'data/images/00002_00051_00020.png\\n', 'data/images/00002_00068_00023.png\\n', 'data/images/00005_00052_00025.png\\n', 'data/images/00007_00044_00028.png\\n', 'data/images/00001_00057_00006.png\\n', 'data/images/00003_00035_00026.png\\n', 'data/images/00007_00006_00019.png\\n', 'data/images/00004_00057_00003.png\\n', 'data/images/00007_00031_00025.png\\n', 'data/images/00001_00073_00029.png\\n', 'data/images/00002_00024_00013.png\\n', 'data/images/00000_00005_00026.png\\n', 'data/images/00003_00025_00014.png\\n', 'data/images/00003_00037_00024.png\\n', 'data/images/00007_00043_00023.png\\n', 'data/images/00002_00056_00019.png\\n', 'data/images/00005_00045_00028.png\\n', 'data/images/00005_00058_00015.png\\n', 'data/images/00005_00014_00026.png\\n', 'data/images/00001_00048_00000.png\\n', 'data/images/00007_00017_00028.png\\n', 'data/images/00002_00005_00016.png\\n', 'data/images/00005_00051_00006.png\\n', 'data/images/00001_00050_00028.png\\n', 'data/images/00004_00022_00013.png\\n', 'data/images/00003_00019_00028.png\\n', 'data/images/00002_00056_00029.png\\n', 'data/images/00003_00014_00004.png\\n', 'data/images/00001_00070_00019.png\\n', 'data/images/00005_00054_00025.png\\n', 'data/images/00001_00043_00025.png\\n', 'data/images/00007_00035_00016.png\\n', 'data/images/00001_00060_00016.png\\n', 'data/images/00002_00020_00016.png\\n', 'data/images/00002_00041_00028.png\\n', 'data/images/00005_00051_00016.png\\n', 'data/images/00002_00069_00003.png\\n', 'data/images/00001_00058_00021.png\\n', 'data/images/00000_00001_00017.png\\n', 'data/images/00002_00007_00014.png\\n', 'data/images/00008_00012_00002.png\\n', 'data/images/00007_00000_00024.png\\n', 'data/images/00000_00003_00014.png\\n', 'data/images/00008_00020_00010.png\\n', 'data/images/00004_00020_00023.png\\n', 'data/images/00003_00021_00027.png\\n', 'data/images/00003_00014_00011.png\\n', 'data/images/00001_00040_00005.png\\n', 'data/images/00007_00044_00013.png\\n', 'data/images/00002_00062_00026.png\\n', 'data/images/00008_00035_00028.png\\n', 'data/images/00002_00068_00025.png\\n', 'data/images/00001_00016_00006.png\\n', 'data/images/00004_00039_00014.png\\n', 'data/images/00005_00034_00028.png\\n', 'data/images/00001_00031_00026.png\\n', 'data/images/00005_00008_00024.png\\n', 'data/images/00001_00008_00020.png\\n', 'data/images/00004_00007_00020.png\\n', 'data/images/00005_00043_00026.png\\n', 'data/images/00005_00051_00011.png\\n', 'data/images/00007_00026_00024.png\\n', 'data/images/00002_00036_00010.png\\n', 'data/images/00001_00061_00017.png\\n', 'data/images/00002_00044_00028.png\\n', 'data/images/00005_00048_00025.png\\n', 'data/images/00004_00021_00026.png\\n', 'data/images/00004_00031_00022.png\\n', 'data/images/00002_00022_00028.png\\n', 'data/images/00007_00005_00009.png\\n', 'data/images/00002_00019_00022.png\\n', 'data/images/00004_00026_00012.png\\n', 'data/images/00002_00072_00026.png\\n', 'data/images/00007_00014_00021.png\\n', 'data/images/00004_00062_00012.png\\n', 'data/images/00005_00011_00029.png\\n', 'data/images/00004_00046_00021.png\\n', 'data/images/00004_00001_00020.png\\n', 'data/images/00003_00001_00003.png\\n', 'data/images/00005_00023_00021.png\\n', 'data/images/00005_00046_00014.png\\n', 'data/images/00003_00002_00025.png\\n', 'data/images/00008_00004_00021.png\\n', 'data/images/00002_00060_00003.png\\n', 'data/images/00005_00057_00007.png\\n', 'data/images/00007_00047_00006.png\\n', 'data/images/00005_00061_00025.png\\n', 'data/images/00003_00016_00015.png\\n', 'data/images/00003_00014_00010.png\\n', 'data/images/00004_00061_00019.png\\n', 'data/images/00002_00051_00001.png\\n', 'data/images/00004_00059_00025.png\\n', 'data/images/00004_00057_00023.png\\n', 'data/images/00001_00002_00017.png\\n', 'data/images/00005_00037_00020.png\\n', 'data/images/00000_00005_00013.png\\n', 'data/images/00001_00060_00003.png\\n', 'data/images/00001_00020_00012.png\\n', 'data/images/00005_00035_00011.png\\n', 'data/images/00003_00025_00028.png\\n', 'data/images/00004_00019_00020.png\\n', 'data/images/00002_00056_00013.png\\n', 'data/images/00002_00006_00013.png\\n', 'data/images/00007_00013_00010.png\\n', 'data/images/00004_00046_00023.png\\n', 'data/images/00008_00031_00027.png\\n', 'data/images/00007_00016_00016.png\\n', 'data/images/00002_00026_00011.png\\n', 'data/images/00003_00044_00015.png\\n', 'data/images/00007_00028_00029.png\\n', 'data/images/00008_00008_00027.png\\n', 'data/images/00004_00011_00014.png\\n', 'data/images/00004_00014_00018.png\\n', 'data/images/00001_00073_00026.png\\n', 'data/images/00002_00007_00028.png\\n', 'data/images/00002_00038_00004.png\\n', 'data/images/00007_00021_00015.png\\n', 'data/images/00003_00004_00022.png\\n', 'data/images/00001_00019_00008.png\\n', 'data/images/00003_00006_00023.png\\n', 'data/images/00004_00040_00002.png\\n', 'data/images/00005_00040_00027.png\\n', 'data/images/00005_00016_00009.png\\n', 'data/images/00005_00015_00024.png\\n', 'data/images/00001_00023_00016.png\\n', 'data/images/00000_00005_00029.png\\n', 'data/images/00001_00021_00027.png\\n', 'data/images/00002_00034_00008.png\\n', 'data/images/00007_00030_00022.png\\n', 'data/images/00002_00065_00004.png\\n', 'data/images/00001_00013_00019.png\\n', 'data/images/00005_00047_00004.png\\n', 'data/images/00002_00022_00010.png\\n', 'data/images/00003_00000_00012.png\\n', 'data/images/00003_00040_00015.png\\n', 'data/images/00005_00056_00011.png\\n', 'data/images/00003_00030_00002.png\\n', 'data/images/00001_00068_00010.png\\n', 'data/images/00007_00026_00014.png\\n', 'data/images/00002_00057_00022.png\\n', 'data/images/00007_00011_00004.png\\n', 'data/images/00001_00008_00014.png\\n', 'data/images/00001_00062_00009.png\\n', 'data/images/00007_00027_00018.png\\n', 'data/images/00008_00037_00025.png\\n', 'data/images/00005_00040_00013.png\\n', 'data/images/00001_00004_00017.png\\n', 'data/images/00004_00010_00020.png\\n', 'data/images/00007_00011_00011.png\\n', 'data/images/00005_00057_00017.png\\n', 'data/images/00002_00071_00016.png\\n', 'data/images/00001_00067_00026.png\\n', 'data/images/00003_00012_00017.png\\n', 'data/images/00003_00006_00013.png\\n', 'data/images/00007_00013_00020.png\\n', 'data/images/00003_00018_00026.png\\n', 'data/images/00004_00038_00027.png\\n', 'data/images/00005_00016_00011.png\\n', 'data/images/00003_00044_00021.png\\n', 'data/images/00001_00047_00018.png\\n', 'data/images/00004_00022_00015.png\\n', 'data/images/00005_00047_00022.png\\n', 'data/images/00008_00042_00028.png\\n', 'data/images/00001_00019_00001.png\\n', 'data/images/00001_00056_00015.png\\n', 'data/images/00004_00049_00010.png\\n', 'data/images/00008_00024_00013.png\\n', 'data/images/00001_00052_00014.png\\n', 'data/images/00005_00053_00008.png\\n', 'data/images/00004_00011_00028.png\\n', 'data/images/00003_00030_00010.png\\n', 'data/images/00005_00054_00024.png\\n', 'data/images/00007_00047_00027.png\\n', 'data/images/00007_00019_00021.png\\n', 'data/images/00008_00021_00026.png\\n', 'data/images/00004_00049_00026.png\\n', 'data/images/00003_00046_00029.png\\n', 'data/images/00008_00011_00001.png\\n', 'data/images/00007_00005_00012.png\\n', 'data/images/00005_00048_00002.png\\n', 'data/images/00005_00015_00015.png\\n', 'data/images/00008_00033_00020.png\\n', 'data/images/00002_00064_00002.png\\n', 'data/images/00001_00056_00001.png\\n', 'data/images/00008_00046_00019.png\\n', 'data/images/00002_00005_00009.png\\n', 'data/images/00001_00059_00008.png\\n', 'data/images/00004_00057_00015.png\\n', 'data/images/00007_00033_00008.png\\n', 'data/images/00005_00023_00012.png\\n', 'data/images/00008_00001_00026.png\\n', 'data/images/00005_00032_00025.png\\n', 'data/images/00001_00007_00012.png\\n', 'data/images/00001_00069_00025.png\\n', 'data/images/00008_00009_00027.png\\n', 'data/images/00002_00063_00000.png\\n', 'data/images/00002_00067_00004.png\\n', 'data/images/00004_00033_00022.png\\n', 'data/images/00002_00073_00024.png\\n', 'data/images/00001_00005_00000.png\\n', 'data/images/00003_00006_00020.png\\n', 'data/images/00002_00031_00023.png\\n', 'data/images/00002_00051_00022.png\\n', 'data/images/00001_00004_00004.png\\n', 'data/images/00002_00023_00009.png\\n', 'data/images/00007_00041_00027.png\\n', 'data/images/00001_00055_00019.png\\n', 'data/images/00003_00024_00008.png\\n', 'data/images/00003_00044_00025.png\\n', 'data/images/00001_00053_00018.png\\n', 'data/images/00002_00000_00012.png\\n', 'data/images/00002_00071_00012.png\\n', 'data/images/00000_00002_00027.png\\n', 'data/images/00001_00014_00013.png\\n', 'data/images/00004_00018_00021.png\\n', 'data/images/00007_00044_00009.png\\n', 'data/images/00002_00025_00027.png\\n', 'data/images/00000_00005_00021.png\\n', 'data/images/00003_00008_00010.png\\n', 'data/images/00001_00053_00014.png\\n', 'data/images/00005_00021_00029.png\\n', 'data/images/00001_00031_00024.png\\n', 'data/images/00004_00061_00013.png\\n', 'data/images/00005_00044_00022.png\\n', 'data/images/00003_00031_00015.png\\n', 'data/images/00007_00004_00015.png\\n', 'data/images/00007_00027_00020.png\\n', 'data/images/00005_00006_00022.png\\n', 'data/images/00005_00046_00013.png\\n', 'data/images/00004_00047_00019.png\\n', 'data/images/00002_00046_00014.png\\n', 'data/images/00002_00016_00006.png\\n', 'data/images/00002_00056_00012.png\\n', 'data/images/00001_00012_00025.png\\n', 'data/images/00007_00007_00023.png\\n', 'data/images/00008_00003_00004.png\\n', 'data/images/00003_00024_00028.png\\n', 'data/images/00008_00031_00016.png\\n', 'data/images/00004_00018_00007.png\\n', 'data/images/00002_00054_00028.png\\n', 'data/images/00000_00003_00020.png\\n', 'data/images/00005_00006_00029.png\\n', 'data/images/00003_00005_00025.png\\n', 'data/images/00001_00042_00015.png\\n', 'data/images/00008_00007_00027.png\\n', 'data/images/00003_00034_00026.png\\n', 'data/images/00004_00013_00014.png\\n', 'data/images/00001_00056_00009.png\\n', 'data/images/00001_00008_00022.png\\n', 'data/images/00001_00071_00004.png\\n', 'data/images/00004_00041_00025.png\\n', 'data/images/00003_00009_00014.png\\n', 'data/images/00008_00010_00004.png\\n', 'data/images/00002_00068_00004.png\\n', 'data/images/00004_00006_00007.png\\n', 'data/images/00002_00024_00026.png\\n', 'data/images/00002_00022_00026.png\\n', 'data/images/00002_00015_00009.png\\n', 'data/images/00004_00007_00016.png\\n', 'data/images/00002_00066_00004.png\\n', 'data/images/00004_00001_00029.png\\n', 'data/images/00002_00066_00006.png\\n', 'data/images/00002_00009_00019.png\\n', 'data/images/00001_00021_00007.png\\n', 'data/images/00003_00021_00026.png\\n', 'data/images/00005_00007_00008.png\\n', 'data/images/00008_00018_00014.png\\n', 'data/images/00002_00062_00017.png\\n', 'data/images/00005_00059_00027.png\\n', 'data/images/00002_00060_00029.png\\n', 'data/images/00008_00019_00022.png\\n', 'data/images/00004_00001_00021.png\\n', 'data/images/00004_00053_00023.png\\n', 'data/images/00004_00005_00003.png\\n', 'data/images/00007_00014_00023.png\\n', 'data/images/00005_00014_00008.png\\n', 'data/images/00007_00003_00016.png\\n', 'data/images/00007_00043_00024.png\\n', 'data/images/00005_00056_00008.png\\n', 'data/images/00004_00041_00005.png\\n', 'data/images/00000_00004_00005.png\\n', 'data/images/00008_00023_00026.png\\n', 'data/images/00002_00012_00007.png\\n', 'data/images/00002_00050_00004.png\\n', 'data/images/00004_00038_00023.png\\n', 'data/images/00007_00020_00027.png\\n', 'data/images/00008_00042_00001.png\\n', 'data/images/00001_00003_00013.png\\n', 'data/images/00002_00016_00014.png\\n', 'data/images/00007_00026_00022.png\\n', 'data/images/00003_00008_00022.png\\n', 'data/images/00003_00040_00022.png\\n', 'data/images/00005_00023_00011.png\\n', 'data/images/00003_00027_00006.png\\n', 'data/images/00002_00042_00007.png\\n', 'data/images/00008_00014_00016.png\\n', 'data/images/00005_00008_00025.png\\n', 'data/images/00002_00023_00011.png\\n', 'data/images/00002_00029_00016.png\\n', 'data/images/00002_00053_00017.png\\n', 'data/images/00001_00033_00022.png\\n', 'data/images/00001_00011_00018.png\\n', 'data/images/00005_00049_00015.png\\n', 'data/images/00000_00000_00003.png\\n', 'data/images/00001_00062_00024.png\\n', 'data/images/00005_00044_00027.png\\n', 'data/images/00008_00020_00015.png\\n', 'data/images/00007_00004_00021.png\\n', 'data/images/00003_00043_00023.png\\n', 'data/images/00007_00024_00013.png\\n', 'data/images/00001_00056_00029.png\\n', 'data/images/00005_00044_00000.png\\n', 'data/images/00008_00024_00021.png\\n', 'data/images/00005_00011_00007.png\\n', 'data/images/00002_00026_00001.png\\n', 'data/images/00002_00024_00012.png\\n', 'data/images/00008_00038_00026.png\\n', 'data/images/00005_00027_00010.png\\n', 'data/images/00004_00064_00021.png\\n', 'data/images/00003_00017_00008.png\\n', 'data/images/00004_00064_00014.png\\n', 'data/images/00004_00014_00017.png\\n', 'data/images/00002_00073_00013.png\\n', 'data/images/00005_00012_00029.png\\n', 'data/images/00005_00019_00014.png\\n', 'data/images/00002_00067_00018.png\\n', 'data/images/00001_00071_00017.png\\n', 'data/images/00002_00019_00009.png\\n', 'data/images/00005_00004_00004.png\\n', 'data/images/00003_00021_00011.png\\n', 'data/images/00002_00025_00025.png\\n', 'data/images/00004_00025_00013.png\\n', 'data/images/00002_00042_00026.png\\n', 'data/images/00005_00038_00022.png\\n', 'data/images/00004_00051_00020.png\\n', 'data/images/00008_00045_00017.png\\n', 'data/images/00004_00060_00006.png\\n', 'data/images/00007_00017_00026.png\\n', 'data/images/00005_00017_00012.png\\n', 'data/images/00001_00000_00005.png\\n', 'data/images/00000_00001_00001.png\\n', 'data/images/00003_00040_00014.png\\n', 'data/images/00008_00008_00016.png\\n', 'data/images/00002_00071_00019.png\\n', 'data/images/00004_00002_00025.png\\n', 'data/images/00001_00032_00006.png\\n', 'data/images/00007_00020_00000.png\\n', 'data/images/00004_00036_00018.png\\n', 'data/images/00005_00017_00006.png\\n', 'data/images/00002_00005_00017.png\\n', 'data/images/00004_00030_00007.png\\n', 'data/images/00001_00040_00014.png\\n', 'data/images/00005_00034_00006.png\\n', 'data/images/00002_00062_00001.png\\n', 'data/images/00004_00057_00001.png\\n', 'data/images/00004_00059_00021.png\\n', 'data/images/00005_00038_00010.png\\n', 'data/images/00005_00040_00026.png\\n', 'data/images/00004_00056_00023.png\\n', 'data/images/00005_00050_00019.png\\n', 'data/images/00001_00027_00027.png\\n', 'data/images/00004_00036_00003.png\\n', 'data/images/00007_00024_00009.png\\n', 'data/images/00002_00021_00007.png\\n', 'data/images/00005_00006_00004.png\\n', 'data/images/00007_00015_00003.png\\n', 'data/images/00002_00020_00029.png\\n', 'data/images/00002_00059_00022.png\\n', 'data/images/00007_00020_00015.png\\n', 'data/images/00008_00037_00010.png\\n', 'data/images/00007_00035_00027.png\\n', 'data/images/00004_00046_00005.png\\n', 'data/images/00004_00046_00007.png\\n', 'data/images/00001_00045_00024.png\\n', 'data/images/00004_00061_00021.png\\n', 'data/images/00005_00029_00003.png\\n', 'data/images/00005_00024_00012.png\\n', 'data/images/00002_00029_00021.png\\n', 'data/images/00003_00006_00029.png\\n', 'data/images/00004_00051_00017.png\\n', 'data/images/00001_00013_00023.png\\n', 'data/images/00004_00035_00024.png\\n', 'data/images/00002_00046_00021.png\\n', 'data/images/00001_00059_00009.png\\n', 'data/images/00003_00045_00009.png\\n', 'data/images/00004_00003_00004.png\\n', 'data/images/00005_00005_00018.png\\n', 'data/images/00002_00004_00024.png\\n', 'data/images/00001_00040_00012.png\\n', 'data/images/00004_00062_00009.png\\n', 'data/images/00004_00038_00020.png\\n', 'data/images/00001_00052_00020.png\\n', 'data/images/00005_00054_00010.png\\n', 'data/images/00001_00068_00012.png\\n', 'data/images/00004_00015_00015.png\\n', 'data/images/00008_00015_00010.png\\n', 'data/images/00004_00054_00019.png\\n', 'data/images/00004_00033_00024.png\\n', 'data/images/00001_00039_00025.png\\n', 'data/images/00003_00009_00009.png\\n', 'data/images/00003_00002_00029.png\\n', 'data/images/00003_00026_00028.png\\n', 'data/images/00001_00042_00013.png\\n', 'data/images/00001_00006_00021.png\\n', 'data/images/00007_00006_00000.png\\n', 'data/images/00003_00007_00008.png\\n', 'data/images/00001_00065_00017.png\\n', 'data/images/00001_00011_00001.png\\n', 'data/images/00007_00006_00017.png\\n', 'data/images/00002_00035_00014.png\\n', 'data/images/00007_00017_00017.png\\n', 'data/images/00002_00015_00029.png\\n', 'data/images/00007_00014_00008.png\\n', 'data/images/00002_00014_00021.png\\n', 'data/images/00002_00053_00011.png\\n', 'data/images/00004_00028_00022.png\\n', 'data/images/00001_00035_00018.png\\n', 'data/images/00003_00017_00010.png\\n', 'data/images/00008_00016_00015.png\\n', 'data/images/00004_00052_00023.png\\n', 'data/images/00003_00008_00027.png\\n', 'data/images/00008_00007_00026.png\\n', 'data/images/00007_00019_00025.png\\n', 'data/images/00003_00002_00018.png\\n', 'data/images/00001_00036_00019.png\\n', 'data/images/00002_00036_00001.png\\n', 'data/images/00004_00011_00007.png\\n', 'data/images/00004_00033_00026.png\\n', 'data/images/00008_00013_00019.png\\n', 'data/images/00001_00047_00011.png\\n', 'data/images/00002_00003_00014.png\\n', 'data/images/00001_00061_00002.png\\n', 'data/images/00004_00041_00010.png\\n', 'data/images/00005_00006_00013.png\\n', 'data/images/00004_00059_00018.png\\n', 'data/images/00001_00009_00009.png\\n', 'data/images/00007_00016_00022.png\\n', 'data/images/00007_00006_00010.png\\n', 'data/images/00003_00041_00020.png\\n', 'data/images/00008_00011_00017.png\\n', 'data/images/00005_00034_00026.png\\n', 'data/images/00004_00002_00011.png\\n', 'data/images/00005_00008_00018.png\\n', 'data/images/00007_00000_00023.png\\n', 'data/images/00004_00004_00007.png\\n', 'data/images/00003_00014_00017.png\\n', 'data/images/00008_00007_00011.png\\n', 'data/images/00004_00008_00009.png\\n', 'data/images/00001_00016_00016.png\\n', 'data/images/00005_00018_00029.png\\n', 'data/images/00001_00055_00017.png\\n', 'data/images/00005_00004_00020.png\\n', 'data/images/00004_00008_00018.png\\n', 'data/images/00004_00022_00027.png\\n', 'data/images/00001_00003_00012.png\\n', 'data/images/00002_00020_00024.png\\n', 'data/images/00004_00062_00010.png\\n', 'data/images/00003_00031_00006.png\\n', 'data/images/00004_00020_00000.png\\n', 'data/images/00005_00055_00026.png\\n', 'data/images/00004_00001_00001.png\\n', 'data/images/00004_00060_00026.png\\n', 'data/images/00005_00049_00021.png\\n', 'data/images/00004_00056_00028.png\\n', 'data/images/00003_00043_00008.png\\n', 'data/images/00005_00047_00029.png\\n', 'data/images/00007_00042_00025.png\\n', 'data/images/00003_00046_00026.png\\n', 'data/images/00002_00008_00028.png\\n', 'data/images/00004_00025_00025.png\\n', 'data/images/00002_00051_00026.png\\n', 'data/images/00001_00042_00017.png\\n', 'data/images/00003_00025_00022.png\\n', 'data/images/00001_00070_00017.png\\n', 'data/images/00001_00065_00023.png\\n', 'data/images/00004_00065_00004.png\\n', 'data/images/00001_00050_00018.png\\n', 'data/images/00003_00024_00021.png\\n', 'data/images/00001_00032_00012.png\\n', 'data/images/00004_00021_00007.png\\n', 'data/images/00005_00013_00008.png\\n', 'data/images/00008_00034_00001.png\\n', 'data/images/00002_00033_00028.png\\n', 'data/images/00002_00034_00021.png\\n', 'data/images/00001_00034_00007.png\\n', 'data/images/00008_00036_00028.png\\n', 'data/images/00001_00072_00011.png\\n', 'data/images/00001_00043_00005.png\\n', 'data/images/00001_00019_00017.png\\n', 'data/images/00008_00016_00010.png\\n', 'data/images/00005_00013_00015.png\\n', 'data/images/00004_00002_00004.png\\n', 'data/images/00004_00055_00023.png\\n', 'data/images/00002_00067_00020.png\\n', 'data/images/00000_00001_00022.png\\n', 'data/images/00008_00029_00025.png\\n', 'data/images/00001_00056_00020.png\\n', 'data/images/00002_00022_00020.png\\n', 'data/images/00004_00030_00011.png\\n', 'data/images/00007_00020_00003.png\\n', 'data/images/00001_00039_00003.png\\n', 'data/images/00003_00011_00009.png\\n', 'data/images/00003_00017_00028.png\\n', 'data/images/00002_00010_00022.png\\n', 'data/images/00005_00014_00028.png\\n', 'data/images/00007_00035_00006.png\\n', 'data/images/00005_00004_00029.png\\n', 'data/images/00003_00041_00015.png\\n', 'data/images/00001_00057_00010.png\\n', 'data/images/00001_00066_00008.png\\n', 'data/images/00008_00042_00003.png\\n', 'data/images/00005_00041_00010.png\\n', 'data/images/00002_00066_00027.png\\n', 'data/images/00007_00036_00016.png\\n', 'data/images/00008_00044_00018.png\\n', 'data/images/00004_00050_00003.png\\n', 'data/images/00003_00021_00003.png\\n', 'data/images/00001_00005_00016.png\\n', 'data/images/00002_00029_00004.png\\n', 'data/images/00008_00024_00029.png\\n', 'data/images/00004_00047_00014.png\\n', 'data/images/00004_00032_00024.png\\n', 'data/images/00004_00022_00024.png\\n', 'data/images/00004_00060_00025.png\\n', 'data/images/00004_00026_00010.png\\n', 'data/images/00002_00009_00016.png\\n', 'data/images/00002_00000_00027.png\\n', 'data/images/00001_00069_00022.png\\n', 'data/images/00001_00000_00021.png\\n', 'data/images/00003_00031_00012.png\\n', 'data/images/00004_00029_00017.png\\n', 'data/images/00005_00056_00000.png\\n', 'data/images/00001_00067_00018.png\\n', 'data/images/00004_00055_00012.png\\n', 'data/images/00001_00050_00027.png\\n', 'data/images/00002_00073_00029.png\\n', 'data/images/00008_00020_00009.png\\n', 'data/images/00008_00014_00026.png\\n', 'data/images/00008_00042_00000.png\\n', 'data/images/00007_00008_00023.png\\n', 'data/images/00001_00045_00026.png\\n', 'data/images/00005_00047_00021.png\\n', 'data/images/00001_00072_00024.png\\n', 'data/images/00002_00031_00017.png\\n', 'data/images/00003_00025_00016.png\\n', 'data/images/00002_00058_00009.png\\n', 'data/images/00003_00010_00020.png\\n', 'data/images/00007_00032_00026.png\\n', 'data/images/00002_00014_00028.png\\n', 'data/images/00003_00028_00029.png\\n', 'data/images/00004_00064_00019.png\\n', 'data/images/00004_00003_00029.png\\n', 'data/images/00002_00046_00029.png\\n', 'data/images/00005_00052_00005.png\\n', 'data/images/00004_00015_00025.png\\n', 'data/images/00008_00033_00026.png\\n', 'data/images/00004_00012_00009.png\\n', 'data/images/00004_00055_00009.png\\n', 'data/images/00001_00037_00015.png\\n', 'data/images/00005_00012_00000.png\\n', 'data/images/00004_00045_00022.png\\n', 'data/images/00002_00031_00004.png\\n', 'data/images/00004_00050_00028.png\\n', 'data/images/00005_00054_00009.png\\n', 'data/images/00005_00015_00018.png\\n', 'data/images/00004_00042_00027.png\\n', 'data/images/00008_00009_00013.png\\n', 'data/images/00007_00012_00004.png\\n', 'data/images/00005_00014_00018.png\\n', 'data/images/00001_00041_00017.png\\n', 'data/images/00007_00033_00024.png\\n', 'data/images/00005_00045_00007.png\\n', 'data/images/00004_00048_00023.png\\n', 'data/images/00002_00003_00008.png\\n', 'data/images/00004_00015_00021.png\\n', 'data/images/00005_00006_00018.png\\n', 'data/images/00007_00032_00027.png\\n', 'data/images/00007_00017_00022.png\\n', 'data/images/00001_00039_00021.png\\n', 'data/images/00003_00045_00012.png\\n', 'data/images/00008_00025_00025.png\\n', 'data/images/00001_00005_00013.png\\n', 'data/images/00008_00045_00008.png\\n', 'data/images/00007_00047_00012.png\\n', 'data/images/00004_00010_00015.png\\n', 'data/images/00007_00045_00019.png\\n', 'data/images/00004_00030_00029.png\\n', 'data/images/00002_00002_00024.png\\n', 'data/images/00002_00038_00019.png\\n', 'data/images/00002_00011_00006.png\\n', 'data/images/00003_00009_00007.png\\n', 'data/images/00008_00044_00025.png\\n', 'data/images/00002_00026_00029.png\\n', 'data/images/00001_00050_00024.png\\n', 'data/images/00002_00012_00018.png\\n', 'data/images/00002_00020_00009.png\\n', 'data/images/00005_00015_00005.png\\n', 'data/images/00002_00035_00029.png\\n', 'data/images/00002_00028_00004.png\\n', 'data/images/00002_00051_00004.png\\n', 'data/images/00004_00040_00026.png\\n', 'data/images/00002_00022_00019.png\\n', 'data/images/00005_00033_00027.png\\n', 'data/images/00007_00015_00025.png\\n', 'data/images/00005_00027_00028.png\\n', 'data/images/00003_00026_00022.png\\n', 'data/images/00003_00024_00025.png\\n', 'data/images/00001_00066_00017.png\\n', 'data/images/00007_00036_00014.png\\n', 'data/images/00004_00042_00015.png\\n', 'data/images/00003_00022_00024.png\\n', 'data/images/00004_00042_00010.png\\n', 'data/images/00003_00027_00020.png\\n', 'data/images/00005_00000_00017.png\\n', 'data/images/00005_00048_00014.png\\n', 'data/images/00007_00035_00008.png\\n', 'data/images/00004_00018_00005.png\\n', 'data/images/00002_00005_00028.png\\n', 'data/images/00005_00017_00017.png\\n', 'data/images/00005_00042_00006.png\\n', 'data/images/00002_00000_00018.png\\n', 'data/images/00008_00007_00022.png\\n', 'data/images/00007_00039_00029.png\\n', 'data/images/00005_00021_00012.png\\n', 'data/images/00003_00045_00025.png\\n', 'data/images/00005_00014_00003.png\\n', 'data/images/00005_00039_00009.png\\n', 'data/images/00004_00057_00002.png\\n', 'data/images/00001_00070_00020.png\\n', 'data/images/00007_00046_00028.png\\n', 'data/images/00002_00070_00003.png\\n', 'data/images/00003_00042_00017.png\\n', 'data/images/00005_00027_00018.png\\n', 'data/images/00002_00035_00004.png\\n', 'data/images/00001_00055_00001.png\\n', 'data/images/00005_00054_00021.png\\n', 'data/images/00005_00054_00028.png\\n', 'data/images/00002_00066_00013.png\\n', 'data/images/00004_00065_00013.png\\n', 'data/images/00005_00031_00009.png\\n', 'data/images/00004_00059_00015.png\\n', 'data/images/00001_00057_00014.png\\n', 'data/images/00005_00010_00024.png\\n', 'data/images/00007_00037_00025.png\\n', 'data/images/00002_00000_00020.png\\n', 'data/images/00003_00041_00011.png\\n', 'data/images/00001_00005_00002.png\\n', 'data/images/00002_00008_00027.png\\n', 'data/images/00004_00005_00002.png\\n', 'data/images/00001_00001_00018.png\\n', 'data/images/00002_00006_00026.png\\n', 'data/images/00005_00037_00029.png\\n', 'data/images/00001_00038_00018.png\\n', 'data/images/00005_00034_00000.png\\n', 'data/images/00001_00010_00026.png\\n', 'data/images/00001_00000_00008.png\\n', 'data/images/00008_00005_00016.png\\n', 'data/images/00008_00039_00025.png\\n', 'data/images/00004_00004_00010.png\\n', 'data/images/00002_00032_00015.png\\n', 'data/images/00004_00001_00028.png\\n', 'data/images/00000_00004_00022.png\\n', 'data/images/00004_00010_00000.png\\n', 'data/images/00004_00048_00009.png\\n', 'data/images/00001_00012_00028.png\\n', 'data/images/00002_00065_00007.png\\n', 'data/images/00004_00035_00020.png\\n', 'data/images/00002_00071_00028.png\\n', 'data/images/00005_00009_00018.png\\n', 'data/images/00008_00016_00027.png\\n', 'data/images/00003_00033_00029.png\\n', 'data/images/00007_00022_00027.png\\n', 'data/images/00008_00011_00022.png\\n', 'data/images/00005_00053_00022.png\\n', 'data/images/00002_00023_00013.png\\n', 'data/images/00005_00046_00009.png\\n', 'data/images/00007_00013_00024.png\\n', 'data/images/00004_00057_00029.png\\n', 'data/images/00007_00010_00025.png\\n', 'data/images/00002_00061_00015.png\\n', 'data/images/00007_00016_00024.png\\n', 'data/images/00004_00028_00018.png\\n', 'data/images/00001_00043_00008.png\\n', 'data/images/00005_00045_00004.png\\n', 'data/images/00003_00001_00009.png\\n', 'data/images/00003_00022_00007.png\\n', 'data/images/00001_00045_00027.png\\n', 'data/images/00001_00052_00015.png\\n', 'data/images/00001_00033_00006.png\\n', 'data/images/00001_00024_00008.png\\n', 'data/images/00002_00027_00001.png\\n', 'data/images/00004_00037_00017.png\\n', 'data/images/00008_00003_00006.png\\n', 'data/images/00003_00010_00023.png\\n', 'data/images/00001_00071_00014.png\\n', 'data/images/00003_00022_00019.png\\n', 'data/images/00003_00014_00024.png\\n', 'data/images/00001_00015_00024.png\\n', 'data/images/00005_00044_00002.png\\n', 'data/images/00007_00008_00002.png\\n', 'data/images/00003_00029_00012.png\\n', 'data/images/00002_00012_00027.png\\n', 'data/images/00005_00058_00022.png\\n', 'data/images/00001_00044_00014.png\\n', 'data/images/00007_00023_00021.png\\n', 'data/images/00008_00037_00006.png\\n', 'data/images/00004_00036_00000.png\\n', 'data/images/00002_00064_00013.png\\n', 'data/images/00004_00065_00028.png\\n', 'data/images/00001_00042_00027.png\\n', 'data/images/00003_00029_00023.png\\n', 'data/images/00001_00006_00025.png\\n', 'data/images/00001_00065_00027.png\\n', 'data/images/00003_00039_00011.png\\n', 'data/images/00007_00022_00028.png\\n', 'data/images/00002_00039_00029.png\\n', 'data/images/00005_00048_00020.png\\n', 'data/images/00003_00031_00004.png\\n', 'data/images/00004_00004_00003.png\\n', 'data/images/00005_00011_00019.png\\n', 'data/images/00008_00009_00020.png\\n', 'data/images/00002_00055_00012.png\\n', 'data/images/00004_00014_00008.png\\n', 'data/images/00001_00039_00022.png\\n', 'data/images/00008_00046_00014.png\\n', 'data/images/00002_00021_00026.png\\n', 'data/images/00003_00006_00003.png\\n', 'data/images/00008_00032_00021.png\\n', 'data/images/00001_00030_00029.png\\n', 'data/images/00007_00014_00024.png\\n', 'data/images/00005_00051_00012.png\\n', 'data/images/00000_00000_00027.png\\n', 'data/images/00003_00023_00024.png\\n', 'data/images/00004_00024_00012.png\\n', 'data/images/00005_00009_00004.png\\n', 'data/images/00004_00050_00019.png\\n', 'data/images/00005_00045_00023.png\\n', 'data/images/00008_00003_00007.png\\n', 'data/images/00003_00042_00013.png\\n', 'data/images/00001_00006_00009.png\\n', 'data/images/00007_00028_00004.png\\n', 'data/images/00004_00001_00013.png\\n', 'data/images/00002_00020_00013.png\\n', 'data/images/00003_00019_00015.png\\n', 'data/images/00001_00041_00021.png\\n', 'data/images/00003_00040_00010.png\\n', 'data/images/00001_00026_00026.png\\n', 'data/images/00001_00067_00010.png\\n', 'data/images/00003_00013_00011.png\\n', 'data/images/00004_00053_00025.png\\n', 'data/images/00001_00051_00016.png\\n', 'data/images/00007_00014_00022.png\\n', 'data/images/00007_00036_00006.png\\n', 'data/images/00001_00029_00029.png\\n', 'data/images/00005_00019_00020.png\\n', 'data/images/00002_00073_00021.png\\n', 'data/images/00005_00021_00025.png\\n', 'data/images/00007_00026_00023.png\\n', 'data/images/00002_00031_00001.png\\n', 'data/images/00002_00040_00028.png\\n', 'data/images/00001_00017_00007.png\\n', 'data/images/00007_00027_00016.png\\n', 'data/images/00004_00011_00013.png\\n', 'data/images/00004_00045_00028.png\\n', 'data/images/00004_00030_00022.png\\n', 'data/images/00004_00036_00022.png\\n', 'data/images/00007_00028_00028.png\\n', 'data/images/00002_00054_00011.png\\n', 'data/images/00002_00038_00029.png\\n', 'data/images/00002_00037_00009.png\\n', 'data/images/00008_00000_00010.png\\n', 'data/images/00007_00010_00016.png\\n', 'data/images/00001_00012_00019.png\\n', 'data/images/00003_00019_00001.png\\n', 'data/images/00002_00051_00016.png\\n', 'data/images/00005_00021_00003.png\\n', 'data/images/00004_00048_00024.png\\n', 'data/images/00002_00015_00000.png\\n', 'data/images/00001_00060_00022.png\\n', 'data/images/00004_00050_00015.png\\n', 'data/images/00002_00000_00015.png\\n', 'data/images/00008_00007_00017.png\\n', 'data/images/00005_00058_00004.png\\n', 'data/images/00005_00044_00024.png\\n', 'data/images/00008_00011_00029.png\\n', 'data/images/00001_00033_00013.png\\n', 'data/images/00001_00014_00014.png\\n', 'data/images/00002_00033_00019.png\\n', 'data/images/00007_00003_00025.png\\n', 'data/images/00001_00013_00012.png\\n', 'data/images/00004_00012_00020.png\\n', 'data/images/00001_00003_00006.png\\n', 'data/images/00002_00005_00018.png\\n', 'data/images/00007_00002_00023.png\\n', 'data/images/00007_00003_00026.png\\n', 'data/images/00002_00009_00005.png\\n', 'data/images/00002_00062_00020.png\\n', 'data/images/00003_00022_00028.png\\n', 'data/images/00007_00032_00012.png\\n', 'data/images/00002_00073_00017.png\\n', 'data/images/00001_00021_00015.png\\n', 'data/images/00001_00022_00027.png\\n', 'data/images/00008_00007_00024.png\\n', 'data/images/00007_00022_00009.png\\n', 'data/images/00004_00064_00016.png\\n', 'data/images/00005_00016_00029.png\\n', 'data/images/00008_00012_00025.png\\n', 'data/images/00002_00034_00028.png\\n', 'data/images/00005_00051_00028.png\\n', 'data/images/00007_00017_00008.png\\n', 'data/images/00002_00001_00012.png\\n', 'data/images/00007_00043_00005.png\\n', 'data/images/00005_00023_00014.png\\n', 'data/images/00003_00022_00014.png\\n', 'data/images/00002_00035_00016.png\\n', 'data/images/00004_00035_00019.png\\n', 'data/images/00001_00018_00027.png\\n', 'data/images/00007_00024_00020.png\\n', 'data/images/00001_00033_00023.png\\n', 'data/images/00004_00050_00020.png\\n', 'data/images/00004_00004_00018.png\\n', 'data/images/00003_00006_00027.png\\n', 'data/images/00008_00036_00007.png\\n', 'data/images/00003_00020_00000.png\\n', 'data/images/00001_00047_00020.png\\n', 'data/images/00001_00030_00013.png\\n', 'data/images/00001_00009_00003.png\\n', 'data/images/00003_00036_00026.png\\n', 'data/images/00002_00061_00017.png\\n', 'data/images/00005_00014_00015.png\\n', 'data/images/00002_00044_00010.png\\n', 'data/images/00005_00035_00005.png\\n', 'data/images/00004_00018_00025.png\\n', 'data/images/00002_00004_00020.png\\n', 'data/images/00007_00015_00023.png\\n', 'data/images/00001_00003_00022.png\\n', 'data/images/00001_00020_00025.png\\n', 'data/images/00002_00013_00008.png\\n', 'data/images/00001_00046_00019.png\\n', 'data/images/00001_00057_00017.png\\n', 'data/images/00002_00002_00018.png\\n', 'data/images/00002_00059_00009.png\\n', 'data/images/00008_00006_00027.png\\n', 'data/images/00001_00039_00001.png\\n', 'data/images/00001_00000_00015.png\\n', 'data/images/00002_00066_00019.png\\n', 'data/images/00001_00039_00014.png\\n', 'data/images/00004_00043_00028.png\\n', 'data/images/00008_00029_00010.png\\n', 'data/images/00007_00006_00012.png\\n', 'data/images/00007_00016_00020.png\\n', 'data/images/00008_00015_00017.png\\n', 'data/images/00004_00049_00015.png\\n', 'data/images/00003_00040_00019.png\\n', 'data/images/00001_00042_00001.png\\n', 'data/images/00007_00009_00023.png\\n', 'data/images/00002_00067_00028.png\\n', 'data/images/00002_00046_00020.png\\n', 'data/images/00001_00047_00026.png\\n', 'data/images/00003_00002_00012.png\\n', 'data/images/00005_00061_00012.png\\n', 'data/images/00005_00057_00025.png\\n', 'data/images/00008_00024_00027.png\\n', 'data/images/00002_00010_00010.png\\n', 'data/images/00002_00044_00020.png\\n', 'data/images/00007_00007_00025.png\\n', 'data/images/00004_00003_00011.png\\n', 'data/images/00008_00012_00029.png\\n', 'data/images/00002_00055_00027.png\\n', 'data/images/00001_00030_00021.png\\n', 'data/images/00007_00034_00028.png\\n', 'data/images/00002_00010_00013.png\\n', 'data/images/00002_00050_00026.png\\n', 'data/images/00002_00003_00022.png\\n', 'data/images/00004_00010_00026.png\\n', 'data/images/00007_00032_00009.png\\n', 'data/images/00005_00003_00008.png\\n', 'data/images/00004_00064_00011.png\\n', 'data/images/00005_00011_00021.png\\n', 'data/images/00008_00025_00024.png\\n', 'data/images/00002_00020_00015.png\\n', 'data/images/00002_00033_00014.png\\n', 'data/images/00008_00001_00005.png\\n', 'data/images/00005_00061_00016.png\\n', 'data/images/00002_00006_00014.png\\n', 'data/images/00008_00030_00023.png\\n', 'data/images/00005_00042_00024.png\\n', 'data/images/00002_00031_00010.png\\n', 'data/images/00002_00019_00026.png\\n', 'data/images/00004_00010_00012.png\\n', 'data/images/00001_00059_00016.png\\n', 'data/images/00007_00027_00006.png\\n', 'data/images/00007_00003_00010.png\\n', 'data/images/00001_00013_00009.png\\n', 'data/images/00004_00048_00019.png\\n', 'data/images/00008_00020_00008.png\\n', 'data/images/00001_00048_00025.png\\n', 'data/images/00008_00001_00021.png\\n', 'data/images/00001_00070_00016.png\\n', 'data/images/00003_00032_00009.png\\n', 'data/images/00001_00045_00015.png\\n', 'data/images/00001_00067_00008.png\\n', 'data/images/00007_00031_00015.png\\n', 'data/images/00001_00053_00023.png\\n', 'data/images/00002_00059_00000.png\\n', 'data/images/00002_00011_00023.png\\n', 'data/images/00001_00048_00018.png\\n', 'data/images/00007_00025_00021.png\\n', 'data/images/00002_00033_00004.png\\n', 'data/images/00001_00067_00020.png\\n', 'data/images/00002_00067_00029.png\\n', 'data/images/00003_00021_00023.png\\n', 'data/images/00001_00058_00003.png\\n', 'data/images/00001_00010_00024.png\\n', 'data/images/00004_00006_00028.png\\n', 'data/images/00001_00019_00029.png\\n', 'data/images/00002_00047_00025.png\\n', 'data/images/00003_00024_00019.png\\n', 'data/images/00003_00038_00018.png\\n', 'data/images/00002_00060_00006.png\\n', 'data/images/00004_00020_00020.png\\n', 'data/images/00004_00040_00008.png\\n', 'data/images/00003_00024_00018.png\\n', 'data/images/00001_00042_00024.png\\n', 'data/images/00005_00037_00028.png\\n', 'data/images/00005_00061_00024.png\\n', 'data/images/00001_00028_00018.png\\n', 'data/images/00002_00066_00016.png\\n', 'data/images/00003_00003_00009.png\\n', 'data/images/00003_00043_00025.png\\n', 'data/images/00004_00055_00021.png\\n', 'data/images/00002_00047_00017.png\\n', 'data/images/00004_00029_00029.png\\n', 'data/images/00004_00038_00026.png\\n', 'data/images/00002_00056_00007.png\\n', 'data/images/00003_00020_00009.png\\n', 'data/images/00002_00051_00006.png\\n', 'data/images/00003_00024_00020.png\\n', 'data/images/00004_00056_00011.png\\n', 'data/images/00001_00060_00018.png\\n', 'data/images/00007_00032_00029.png\\n', 'data/images/00002_00011_00010.png\\n', 'data/images/00004_00053_00007.png\\n', 'data/images/00004_00012_00008.png\\n', 'data/images/00005_00027_00026.png\\n', 'data/images/00007_00000_00017.png\\n', 'data/images/00002_00038_00005.png\\n', 'data/images/00002_00056_00005.png\\n', 'data/images/00005_00045_00029.png\\n', 'data/images/00002_00060_00012.png\\n', 'data/images/00000_00001_00015.png\\n', 'data/images/00007_00033_00022.png\\n', 'data/images/00001_00018_00015.png\\n', 'data/images/00004_00051_00016.png\\n', 'data/images/00002_00074_00015.png\\n', 'data/images/00005_00011_00023.png\\n', 'data/images/00001_00034_00012.png\\n', 'data/images/00007_00000_00015.png\\n', 'data/images/00007_00035_00015.png\\n', 'data/images/00002_00017_00021.png\\n', 'data/images/00007_00045_00026.png\\n', 'data/images/00007_00036_00013.png\\n', 'data/images/00002_00025_00004.png\\n', 'data/images/00007_00028_00025.png\\n', 'data/images/00004_00021_00025.png\\n', 'data/images/00007_00023_00006.png\\n', 'data/images/00004_00022_00008.png\\n', 'data/images/00004_00015_00023.png\\n', 'data/images/00001_00042_00025.png\\n', 'data/images/00001_00009_00017.png\\n', 'data/images/00008_00011_00014.png\\n', 'data/images/00002_00048_00012.png\\n', 'data/images/00007_00029_00017.png\\n', 'data/images/00002_00032_00019.png\\n', 'data/images/00002_00009_00027.png\\n', 'data/images/00001_00013_00018.png\\n', 'data/images/00002_00021_00004.png\\n', 'data/images/00002_00022_00016.png\\n', 'data/images/00007_00028_00017.png\\n', 'data/images/00007_00028_00018.png\\n', 'data/images/00002_00019_00020.png\\n', 'data/images/00003_00030_00008.png\\n', 'data/images/00003_00006_00007.png\\n', 'data/images/00008_00030_00026.png\\n', 'data/images/00008_00017_00023.png\\n', 'data/images/00001_00026_00018.png\\n', 'data/images/00001_00063_00025.png\\n', 'data/images/00005_00035_00017.png\\n', 'data/images/00005_00006_00014.png\\n', 'data/images/00001_00017_00005.png\\n', 'data/images/00004_00007_00012.png\\n', 'data/images/00004_00001_00026.png\\n', 'data/images/00001_00044_00027.png\\n', 'data/images/00007_00046_00014.png\\n', 'data/images/00005_00024_00010.png\\n', 'data/images/00008_00033_00022.png\\n', 'data/images/00008_00038_00024.png\\n', 'data/images/00001_00067_00019.png\\n', 'data/images/00007_00030_00029.png\\n', 'data/images/00003_00029_00015.png\\n', 'data/images/00001_00045_00020.png\\n', 'data/images/00008_00036_00020.png\\n', 'data/images/00003_00013_00018.png\\n', 'data/images/00002_00013_00023.png\\n', 'data/images/00007_00036_00011.png\\n', 'data/images/00003_00004_00016.png\\n', 'data/images/00001_00008_00018.png\\n', 'data/images/00003_00023_00029.png\\n', 'data/images/00000_00000_00000.png\\n', 'data/images/00002_00058_00018.png\\n', 'data/images/00002_00033_00023.png\\n', 'data/images/00008_00043_00025.png\\n', 'data/images/00005_00031_00019.png\\n', 'data/images/00003_00032_00004.png\\n', 'data/images/00002_00070_00008.png\\n', 'data/images/00001_00051_00028.png\\n', 'data/images/00005_00061_00013.png\\n', 'data/images/00002_00051_00029.png\\n', 'data/images/00002_00060_00019.png\\n', 'data/images/00004_00049_00002.png\\n', 'data/images/00000_00004_00011.png\\n', 'data/images/00008_00025_00027.png\\n', 'data/images/00002_00021_00010.png\\n', 'data/images/00002_00060_00022.png\\n', 'data/images/00002_00013_00022.png\\n', 'data/images/00005_00003_00021.png\\n', 'data/images/00004_00049_00003.png\\n', 'data/images/00007_00003_00021.png\\n', 'data/images/00001_00055_00020.png\\n', 'data/images/00000_00003_00018.png\\n', 'data/images/00004_00044_00026.png\\n', 'data/images/00007_00002_00026.png\\n', 'data/images/00005_00048_00016.png\\n', 'data/images/00005_00051_00009.png\\n', 'data/images/00008_00023_00014.png\\n', 'data/images/00002_00050_00018.png\\n', 'data/images/00005_00047_00014.png\\n', 'data/images/00002_00048_00028.png\\n', 'data/images/00002_00036_00017.png\\n', 'data/images/00001_00026_00029.png\\n', 'data/images/00005_00015_00029.png\\n', 'data/images/00001_00046_00006.png\\n', 'data/images/00001_00004_00007.png\\n', 'data/images/00008_00023_00007.png\\n', 'data/images/00004_00013_00013.png\\n', 'data/images/00008_00010_00013.png\\n', 'data/images/00002_00040_00024.png\\n', 'data/images/00001_00039_00007.png\\n', 'data/images/00003_00025_00017.png\\n', 'data/images/00002_00008_00017.png\\n', 'data/images/00002_00065_00020.png\\n', 'data/images/00001_00047_00028.png\\n', 'data/images/00003_00002_00004.png\\n', 'data/images/00001_00017_00026.png\\n', 'data/images/00001_00063_00004.png\\n', 'data/images/00007_00013_00022.png\\n', 'data/images/00003_00031_00020.png\\n', 'data/images/00001_00018_00014.png\\n', 'data/images/00007_00026_00028.png\\n', 'data/images/00002_00025_00005.png\\n', 'data/images/00001_00003_00021.png\\n', 'data/images/00005_00032_00028.png\\n', 'data/images/00008_00003_00027.png\\n', 'data/images/00007_00018_00009.png\\n', 'data/images/00004_00047_00001.png\\n', 'data/images/00005_00046_00021.png\\n', 'data/images/00001_00054_00020.png\\n', 'data/images/00002_00005_00019.png\\n', 'data/images/00002_00013_00006.png\\n', 'data/images/00003_00017_00019.png\\n', 'data/images/00004_00030_00006.png\\n', 'data/images/00005_00032_00020.png\\n', 'data/images/00001_00056_00000.png\\n', 'data/images/00004_00020_00022.png\\n', 'data/images/00008_00043_00013.png\\n', 'data/images/00005_00034_00001.png\\n', 'data/images/00001_00049_00025.png\\n', 'data/images/00001_00058_00018.png\\n', 'data/images/00003_00020_00018.png\\n', 'data/images/00002_00070_00015.png\\n', 'data/images/00001_00048_00014.png\\n', 'data/images/00004_00036_00027.png\\n', 'data/images/00005_00059_00000.png\\n', 'data/images/00002_00043_00010.png\\n', 'data/images/00001_00070_00004.png\\n', 'data/images/00001_00043_00001.png\\n', 'data/images/00002_00001_00013.png\\n', 'data/images/00001_00039_00010.png\\n', 'data/images/00002_00025_00026.png\\n', 'data/images/00001_00065_00014.png\\n', 'data/images/00002_00020_00006.png\\n', 'data/images/00007_00016_00009.png\\n', 'data/images/00000_00000_00029.png\\n', 'data/images/00003_00003_00016.png\\n', 'data/images/00004_00032_00017.png\\n', 'data/images/00008_00016_00020.png\\n', 'data/images/00001_00035_00014.png\\n', 'data/images/00003_00039_00025.png\\n', 'data/images/00002_00024_00002.png\\n', 'data/images/00002_00027_00010.png\\n', 'data/images/00001_00072_00028.png\\n', 'data/images/00001_00055_00011.png\\n', 'data/images/00002_00047_00018.png\\n', 'data/images/00001_00050_00023.png\\n', 'data/images/00001_00037_00013.png\\n', 'data/images/00001_00028_00026.png\\n', 'data/images/00007_00043_00027.png\\n', 'data/images/00001_00022_00022.png\\n', 'data/images/00004_00001_00016.png\\n', 'data/images/00002_00020_00011.png\\n', 'data/images/00002_00044_00000.png\\n', 'data/images/00004_00003_00003.png\\n', 'data/images/00008_00045_00007.png\\n', 'data/images/00002_00040_00015.png\\n', 'data/images/00001_00026_00004.png\\n', 'data/images/00002_00009_00010.png\\n', 'data/images/00001_00016_00028.png\\n', 'data/images/00007_00010_00021.png\\n', 'data/images/00002_00043_00025.png\\n', 'data/images/00001_00035_00016.png\\n', 'data/images/00001_00038_00024.png\\n', 'data/images/00001_00059_00023.png\\n', 'data/images/00001_00050_00007.png\\n', 'data/images/00007_00005_00024.png\\n', 'data/images/00005_00035_00015.png\\n', 'data/images/00005_00052_00014.png\\n', 'data/images/00001_00040_00004.png\\n', 'data/images/00000_00005_00015.png\\n', 'data/images/00002_00009_00026.png\\n', 'data/images/00005_00013_00029.png\\n', 'data/images/00002_00014_00025.png\\n', 'data/images/00005_00035_00022.png\\n', 'data/images/00004_00010_00010.png\\n', 'data/images/00002_00012_00024.png\\n', 'data/images/00003_00003_00025.png\\n', 'data/images/00008_00035_00024.png\\n', 'data/images/00002_00046_00000.png\\n', 'data/images/00003_00017_00011.png\\n', 'data/images/00007_00011_00028.png\\n', 'data/images/00005_00029_00016.png\\n', 'data/images/00007_00011_00029.png\\n', 'data/images/00002_00040_00010.png\\n', 'data/images/00004_00028_00026.png\\n', 'data/images/00005_00010_00019.png\\n', 'data/images/00004_00019_00012.png\\n', 'data/images/00001_00062_00005.png\\n', 'data/images/00002_00016_00026.png\\n', 'data/images/00002_00034_00014.png\\n', 'data/images/00001_00031_00014.png\\n', 'data/images/00001_00069_00027.png\\n', 'data/images/00001_00035_00010.png\\n', 'data/images/00007_00034_00012.png\\n', 'data/images/00001_00019_00022.png\\n', 'data/images/00005_00013_00012.png\\n', 'data/images/00001_00045_00000.png\\n', 'data/images/00007_00004_00018.png\\n', 'data/images/00004_00015_00019.png\\n', 'data/images/00001_00045_00010.png\\n', 'data/images/00003_00031_00008.png\\n', 'data/images/00005_00056_00016.png\\n', 'data/images/00007_00045_00009.png\\n', 'data/images/00002_00071_00020.png\\n', 'data/images/00004_00009_00010.png\\n', 'data/images/00002_00067_00015.png\\n', 'data/images/00001_00023_00011.png\\n', 'data/images/00008_00017_00003.png\\n', 'data/images/00007_00041_00029.png\\n', 'data/images/00001_00071_00022.png\\n', 'data/images/00004_00009_00003.png\\n', 'data/images/00001_00008_00003.png\\n', 'data/images/00004_00027_00011.png\\n', 'data/images/00004_00010_00009.png\\n', 'data/images/00004_00051_00010.png\\n', 'data/images/00004_00054_00018.png\\n', 'data/images/00004_00015_00027.png\\n', 'data/images/00002_00060_00004.png\\n', 'data/images/00004_00044_00019.png\\n', 'data/images/00000_00001_00025.png\\n', 'data/images/00001_00035_00008.png\\n', 'data/images/00002_00042_00006.png\\n', 'data/images/00001_00069_00029.png\\n', 'data/images/00007_00026_00017.png\\n', 'data/images/00005_00058_00013.png\\n', 'data/images/00005_00059_00014.png\\n', 'data/images/00002_00027_00004.png\\n', 'data/images/00002_00046_00015.png\\n', 'data/images/00005_00002_00015.png\\n', 'data/images/00002_00038_00001.png\\n', 'data/images/00003_00023_00006.png\\n', 'data/images/00004_00036_00017.png\\n', 'data/images/00004_00009_00017.png\\n', 'data/images/00002_00054_00014.png\\n', 'data/images/00005_00056_00019.png\\n', 'data/images/00008_00039_00007.png\\n', 'data/images/00005_00042_00025.png\\n', 'data/images/00004_00003_00017.png\\n', 'data/images/00005_00009_00014.png\\n', 'data/images/00003_00018_00027.png\\n', 'data/images/00003_00041_00004.png\\n', 'data/images/00002_00028_00013.png\\n', 'data/images/00002_00048_00010.png\\n', 'data/images/00002_00033_00009.png\\n', 'data/images/00008_00024_00006.png\\n', 'data/images/00004_00060_00017.png\\n', 'data/images/00005_00041_00013.png\\n', 'data/images/00004_00048_00001.png\\n', 'data/images/00004_00035_00010.png\\n', 'data/images/00002_00035_00009.png\\n', 'data/images/00002_00039_00025.png\\n', 'data/images/00008_00024_00020.png\\n', 'data/images/00001_00064_00021.png\\n', 'data/images/00001_00032_00017.png\\n', 'data/images/00008_00030_00020.png\\n', 'data/images/00004_00018_00022.png\\n', 'data/images/00002_00053_00009.png\\n', 'data/images/00008_00043_00008.png\\n', 'data/images/00008_00042_00011.png\\n', 'data/images/00008_00029_00026.png\\n', 'data/images/00001_00046_00002.png\\n', 'data/images/00005_00040_00001.png\\n', 'data/images/00004_00060_00016.png\\n', 'data/images/00003_00045_00006.png\\n', 'data/images/00002_00015_00007.png\\n', 'data/images/00008_00003_00012.png\\n', 'data/images/00004_00012_00010.png\\n', 'data/images/00003_00036_00020.png\\n', 'data/images/00007_00013_00014.png\\n', 'data/images/00003_00029_00000.png\\n', 'data/images/00002_00051_00013.png\\n', 'data/images/00005_00008_00027.png\\n', 'data/images/00008_00024_00018.png\\n', 'data/images/00002_00071_00027.png\\n', 'data/images/00005_00040_00022.png\\n', 'data/images/00003_00002_00019.png\\n', 'data/images/00004_00041_00006.png\\n', 'data/images/00008_00021_00025.png\\n', 'data/images/00002_00049_00024.png\\n', 'data/images/00001_00049_00016.png\\n', 'data/images/00002_00025_00022.png\\n', 'data/images/00002_00040_00017.png\\n', 'data/images/00005_00000_00026.png\\n', 'data/images/00002_00009_00007.png\\n', 'data/images/00003_00012_00026.png\\n', 'data/images/00001_00039_00004.png\\n', 'data/images/00002_00046_00022.png\\n', 'data/images/00005_00038_00029.png\\n', 'data/images/00003_00003_00011.png\\n', 'data/images/00004_00047_00005.png\\n', 'data/images/00004_00064_00000.png\\n', 'data/images/00005_00049_00008.png\\n', 'data/images/00004_00060_00008.png\\n', 'data/images/00002_00034_00009.png\\n', 'data/images/00004_00016_00013.png\\n', 'data/images/00002_00030_00006.png\\n', 'data/images/00005_00021_00018.png\\n', 'data/images/00001_00028_00015.png\\n', 'data/images/00007_00038_00022.png\\n', 'data/images/00003_00005_00027.png\\n', 'data/images/00002_00074_00016.png\\n', 'data/images/00003_00032_00025.png\\n', 'data/images/00002_00038_00028.png\\n', 'data/images/00008_00032_00027.png\\n', 'data/images/00005_00043_00020.png\\n', 'data/images/00008_00000_00012.png\\n', 'data/images/00004_00027_00023.png\\n', 'data/images/00007_00027_00008.png\\n', 'data/images/00001_00034_00010.png\\n', 'data/images/00007_00031_00016.png\\n', 'data/images/00007_00003_00022.png\\n', 'data/images/00001_00031_00016.png\\n', 'data/images/00008_00002_00026.png\\n', 'data/images/00004_00021_00028.png\\n', 'data/images/00001_00013_00014.png\\n', 'data/images/00002_00037_00020.png\\n', 'data/images/00002_00013_00027.png\\n', 'data/images/00002_00030_00004.png\\n', 'data/images/00008_00012_00026.png\\n', 'data/images/00003_00008_00014.png\\n', 'data/images/00008_00040_00014.png\\n', 'data/images/00001_00059_00028.png\\n', 'data/images/00007_00010_00001.png\\n', 'data/images/00002_00049_00006.png\\n', 'data/images/00001_00011_00022.png\\n', 'data/images/00001_00036_00025.png\\n', 'data/images/00002_00068_00017.png\\n', 'data/images/00004_00064_00002.png\\n', 'data/images/00003_00005_00010.png\\n', 'data/images/00002_00051_00009.png\\n', 'data/images/00005_00046_00002.png\\n', 'data/images/00002_00043_00020.png\\n', 'data/images/00004_00029_00012.png\\n', 'data/images/00008_00001_00008.png\\n', 'data/images/00001_00002_00016.png\\n', 'data/images/00004_00039_00028.png\\n', 'data/images/00004_00045_00019.png\\n', 'data/images/00003_00003_00012.png\\n', 'data/images/00002_00015_00016.png\\n', 'data/images/00005_00044_00004.png\\n', 'data/images/00003_00009_00010.png\\n', 'data/images/00008_00016_00025.png\\n', 'data/images/00003_00031_00005.png\\n', 'data/images/00004_00042_00002.png\\n', 'data/images/00001_00049_00017.png\\n', 'data/images/00001_00034_00015.png\\n', 'data/images/00002_00012_00011.png\\n', 'data/images/00004_00009_00021.png\\n', 'data/images/00001_00039_00029.png\\n', 'data/images/00008_00038_00005.png\\n', 'data/images/00005_00032_00023.png\\n', 'data/images/00001_00035_00025.png\\n', 'data/images/00007_00019_00017.png\\n', 'data/images/00002_00054_00017.png\\n', 'data/images/00003_00046_00013.png\\n', 'data/images/00001_00059_00012.png\\n', 'data/images/00001_00033_00019.png\\n', 'data/images/00001_00030_00015.png\\n', 'data/images/00007_00029_00009.png\\n', 'data/images/00001_00016_00005.png\\n', 'data/images/00005_00050_00018.png\\n', 'data/images/00001_00032_00004.png\\n', 'data/images/00002_00019_00018.png\\n', 'data/images/00002_00024_00024.png\\n', 'data/images/00004_00051_00014.png\\n', 'data/images/00001_00071_00002.png\\n', 'data/images/00007_00013_00023.png\\n', 'data/images/00002_00032_00003.png\\n', 'data/images/00008_00017_00022.png\\n', 'data/images/00007_00047_00008.png\\n', 'data/images/00008_00045_00028.png\\n', 'data/images/00001_00028_00024.png\\n', 'data/images/00001_00017_00018.png\\n', 'data/images/00002_00001_00015.png\\n', 'data/images/00003_00010_00011.png\\n', 'data/images/00002_00070_00018.png\\n', 'data/images/00001_00057_00005.png\\n', 'data/images/00003_00002_00016.png\\n', 'data/images/00003_00035_00011.png\\n', 'data/images/00002_00031_00028.png\\n', 'data/images/00005_00031_00029.png\\n', 'data/images/00008_00029_00000.png\\n', 'data/images/00005_00043_00014.png\\n', 'data/images/00005_00000_00027.png\\n', 'data/images/00005_00021_00009.png\\n', 'data/images/00003_00006_00017.png\\n', 'data/images/00004_00055_00013.png\\n', 'data/images/00002_00025_00012.png\\n', 'data/images/00002_00051_00008.png\\n', 'data/images/00007_00012_00019.png\\n', 'data/images/00004_00054_00017.png\\n', 'data/images/00008_00007_00014.png\\n', 'data/images/00001_00058_00011.png\\n', 'data/images/00000_00003_00008.png\\n', 'data/images/00008_00043_00007.png\\n', 'data/images/00005_00042_00013.png\\n', 'data/images/00008_00031_00008.png\\n', 'data/images/00003_00018_00005.png\\n', 'data/images/00003_00035_00019.png\\n', 'data/images/00004_00035_00023.png\\n', 'data/images/00002_00003_00028.png\\n', 'data/images/00007_00006_00003.png\\n', 'data/images/00002_00072_00021.png\\n', 'data/images/00004_00049_00013.png\\n', 'data/images/00004_00032_00007.png\\n', 'data/images/00002_00021_00008.png\\n', 'data/images/00008_00022_00026.png\\n', 'data/images/00008_00009_00028.png\\n', 'data/images/00002_00048_00022.png\\n', 'data/images/00002_00054_00005.png\\n', 'data/images/00002_00060_00020.png\\n', 'data/images/00002_00022_00014.png\\n', 'data/images/00000_00004_00028.png\\n', 'data/images/00004_00003_00005.png\\n', 'data/images/00005_00006_00021.png\\n', 'data/images/00005_00013_00028.png\\n', 'data/images/00008_00011_00024.png\\n', 'data/images/00005_00003_00029.png\\n', 'data/images/00004_00008_00006.png\\n', 'data/images/00005_00037_00008.png\\n', 'data/images/00002_00013_00021.png\\n', 'data/images/00002_00045_00022.png\\n', 'data/images/00001_00067_00021.png\\n', 'data/images/00002_00062_00021.png\\n', 'data/images/00001_00073_00009.png\\n', 'data/images/00008_00031_00020.png\\n', 'data/images/00004_00014_00010.png\\n', 'data/images/00005_00052_00024.png\\n', 'data/images/00004_00040_00029.png\\n', 'data/images/00003_00019_00020.png\\n', 'data/images/00001_00004_00006.png\\n', 'data/images/00004_00037_00000.png\\n', 'data/images/00001_00022_00021.png\\n', 'data/images/00005_00032_00002.png\\n', 'data/images/00005_00022_00022.png\\n', 'data/images/00001_00032_00016.png\\n', 'data/images/00001_00053_00029.png\\n', 'data/images/00005_00013_00016.png\\n', 'data/images/00005_00014_00013.png\\n', 'data/images/00001_00068_00021.png\\n', 'data/images/00001_00003_00019.png\\n', 'data/images/00003_00025_00012.png\\n', 'data/images/00005_00004_00015.png\\n', 'data/images/00001_00054_00019.png\\n', 'data/images/00004_00002_00016.png\\n', 'data/images/00008_00003_00029.png\\n', 'data/images/00003_00009_00017.png\\n', 'data/images/00001_00043_00006.png\\n', 'data/images/00001_00051_00007.png\\n', 'data/images/00007_00005_00013.png\\n', 'data/images/00004_00033_00027.png\\n', 'data/images/00001_00005_00019.png\\n', 'data/images/00003_00029_00018.png\\n', 'data/images/00005_00011_00028.png\\n', 'data/images/00001_00032_00027.png\\n', 'data/images/00005_00016_00017.png\\n', 'data/images/00001_00020_00007.png\\n', 'data/images/00001_00027_00003.png\\n', 'data/images/00001_00034_00000.png\\n', 'data/images/00003_00023_00022.png\\n', 'data/images/00004_00044_00020.png\\n', 'data/images/00002_00045_00027.png\\n', 'data/images/00008_00000_00024.png\\n', 'data/images/00002_00028_00002.png\\n', 'data/images/00003_00032_00015.png\\n', 'data/images/00007_00018_00014.png\\n', 'data/images/00003_00037_00014.png\\n', 'data/images/00003_00034_00006.png\\n', 'data/images/00008_00041_00011.png\\n', 'data/images/00007_00038_00023.png\\n', 'data/images/00004_00050_00025.png\\n', 'data/images/00003_00019_00029.png\\n', 'data/images/00005_00007_00014.png\\n', 'data/images/00004_00008_00011.png\\n', 'data/images/00001_00009_00010.png\\n', 'data/images/00005_00002_00017.png\\n', 'data/images/00003_00043_00013.png\\n', 'data/images/00008_00008_00009.png\\n', 'data/images/00004_00044_00028.png\\n', 'data/images/00007_00015_00021.png\\n', 'data/images/00003_00002_00008.png\\n', 'data/images/00002_00036_00008.png\\n', 'data/images/00002_00015_00013.png\\n', 'data/images/00004_00010_00028.png\\n', 'data/images/00004_00036_00029.png\\n', 'data/images/00002_00046_00008.png\\n', 'data/images/00001_00049_00002.png\\n', 'data/images/00008_00001_00006.png\\n', 'data/images/00005_00006_00008.png\\n', 'data/images/00005_00018_00021.png\\n', 'data/images/00002_00056_00004.png\\n', 'data/images/00007_00033_00023.png\\n', 'data/images/00004_00015_00016.png\\n', 'data/images/00004_00019_00014.png\\n', 'data/images/00004_00000_00026.png\\n', 'data/images/00005_00015_00002.png\\n', 'data/images/00001_00060_00011.png\\n', 'data/images/00007_00003_00012.png\\n', 'data/images/00008_00023_00000.png\\n', 'data/images/00001_00034_00026.png\\n', 'data/images/00007_00041_00018.png\\n', 'data/images/00002_00020_00025.png\\n', 'data/images/00002_00000_00026.png\\n', 'data/images/00004_00016_00019.png\\n', 'data/images/00005_00016_00022.png\\n', 'data/images/00002_00008_00019.png\\n', 'data/images/00001_00058_00027.png\\n', 'data/images/00003_00001_00028.png\\n', 'data/images/00007_00035_00011.png\\n', 'data/images/00003_00004_00009.png\\n', 'data/images/00002_00054_00013.png\\n', 'data/images/00003_00023_00005.png\\n', 'data/images/00007_00012_00020.png\\n', 'data/images/00007_00005_00007.png\\n', 'data/images/00002_00038_00018.png\\n', 'data/images/00005_00015_00020.png\\n', 'data/images/00005_00059_00011.png\\n', 'data/images/00001_00055_00024.png\\n', 'data/images/00004_00029_00019.png\\n', 'data/images/00008_00039_00023.png\\n', 'data/images/00001_00045_00007.png\\n', 'data/images/00001_00042_00020.png\\n', 'data/images/00002_00074_00000.png\\n', 'data/images/00007_00041_00006.png\\n', 'data/images/00007_00027_00019.png\\n', 'data/images/00002_00056_00026.png\\n', 'data/images/00007_00011_00001.png\\n', 'data/images/00008_00033_00025.png\\n', 'data/images/00001_00028_00021.png\\n', 'data/images/00001_00037_00020.png\\n', 'data/images/00005_00018_00003.png\\n', 'data/images/00002_00044_00029.png\\n', 'data/images/00002_00034_00002.png\\n', 'data/images/00002_00026_00010.png\\n', 'data/images/00000_00001_00004.png\\n', 'data/images/00001_00010_00014.png\\n', 'data/images/00005_00051_00019.png\\n', 'data/images/00005_00060_00007.png\\n', 'data/images/00007_00016_00017.png\\n', 'data/images/00004_00048_00015.png\\n', 'data/images/00002_00005_00006.png\\n', 'data/images/00003_00035_00022.png\\n', 'data/images/00002_00017_00029.png\\n', 'data/images/00002_00020_00008.png\\n', 'data/images/00005_00004_00026.png\\n', 'data/images/00004_00048_00026.png\\n', 'data/images/00005_00038_00006.png\\n', 'data/images/00005_00019_00027.png\\n', 'data/images/00001_00049_00014.png\\n', 'data/images/00003_00037_00029.png\\n', 'data/images/00003_00029_00010.png\\n', 'data/images/00005_00015_00008.png\\n', 'data/images/00002_00059_00020.png\\n', 'data/images/00005_00051_00010.png\\n', 'data/images/00008_00003_00023.png\\n', 'data/images/00001_00011_00026.png\\n', 'data/images/00002_00037_00001.png\\n', 'data/images/00008_00001_00017.png\\n', 'data/images/00003_00044_00020.png\\n', 'data/images/00008_00039_00018.png\\n', 'data/images/00008_00020_00006.png\\n', 'data/images/00003_00038_00020.png\\n', 'data/images/00007_00008_00019.png\\n', 'data/images/00005_00000_00009.png\\n', 'data/images/00001_00019_00009.png\\n', 'data/images/00008_00032_00017.png\\n', 'data/images/00002_00044_00011.png\\n', 'data/images/00003_00032_00028.png\\n', 'data/images/00008_00034_00013.png\\n', 'data/images/00004_00038_00029.png\\n', 'data/images/00003_00043_00020.png\\n', 'data/images/00001_00020_00027.png\\n', 'data/images/00008_00036_00017.png\\n', 'data/images/00003_00034_00022.png\\n', 'data/images/00001_00006_00007.png\\n', 'data/images/00004_00010_00002.png\\n', 'data/images/00007_00033_00029.png\\n', 'data/images/00004_00056_00018.png\\n', 'data/images/00003_00030_00027.png\\n', 'data/images/00000_00002_00017.png\\n', 'data/images/00003_00000_00010.png\\n', 'data/images/00003_00002_00027.png\\n', 'data/images/00000_00002_00012.png\\n', 'data/images/00004_00048_00020.png\\n', 'data/images/00002_00039_00020.png\\n', 'data/images/00003_00001_00004.png\\n', 'data/images/00005_00021_00002.png\\n', 'data/images/00001_00034_00022.png\\n', 'data/images/00005_00005_00015.png\\n', 'data/images/00001_00054_00000.png\\n', 'data/images/00004_00046_00011.png\\n', 'data/images/00008_00012_00009.png\\n', 'data/images/00007_00021_00027.png\\n', 'data/images/00004_00051_00024.png\\n', 'data/images/00004_00002_00017.png\\n', 'data/images/00002_00012_00023.png\\n', 'data/images/00002_00065_00002.png\\n', 'data/images/00001_00034_00011.png\\n', 'data/images/00001_00006_00000.png\\n', 'data/images/00005_00041_00016.png\\n', 'data/images/00002_00065_00008.png\\n', 'data/images/00008_00032_00024.png\\n', 'data/images/00004_00044_00023.png\\n', 'data/images/00007_00037_00012.png\\n', 'data/images/00007_00029_00011.png\\n', 'data/images/00007_00012_00013.png\\n', 'data/images/00002_00061_00006.png\\n', 'data/images/00005_00029_00009.png\\n', 'data/images/00004_00025_00018.png\\n', 'data/images/00003_00027_00018.png\\n', 'data/images/00004_00016_00006.png\\n', 'data/images/00007_00010_00028.png\\n', 'data/images/00002_00065_00027.png\\n', 'data/images/00007_00007_00009.png\\n', 'data/images/00005_00050_00010.png\\n', 'data/images/00002_00048_00025.png\\n', 'data/images/00008_00024_00000.png\\n', 'data/images/00001_00019_00018.png\\n', 'data/images/00003_00040_00005.png\\n', 'data/images/00003_00009_00016.png\\n', 'data/images/00001_00020_00011.png\\n', 'data/images/00007_00035_00025.png\\n', 'data/images/00001_00046_00007.png\\n', 'data/images/00001_00010_00018.png\\n', 'data/images/00008_00016_00028.png\\n', 'data/images/00007_00031_00023.png\\n', 'data/images/00004_00053_00005.png\\n', 'data/images/00001_00001_00020.png\\n', 'data/images/00005_00018_00027.png\\n', 'data/images/00003_00000_00000.png\\n', 'data/images/00001_00034_00027.png\\n', 'data/images/00001_00066_00001.png\\n', 'data/images/00005_00033_00011.png\\n', 'data/images/00003_00044_00010.png\\n', 'data/images/00004_00001_00017.png\\n', 'data/images/00005_00004_00021.png\\n', 'data/images/00002_00042_00004.png\\n', 'data/images/00007_00016_00013.png\\n', 'data/images/00005_00039_00028.png\\n', 'data/images/00002_00036_00005.png\\n', 'data/images/00008_00023_00013.png\\n', 'data/images/00007_00011_00018.png\\n', 'data/images/00005_00017_00023.png\\n', 'data/images/00004_00046_00009.png\\n', 'data/images/00004_00002_00026.png\\n', 'data/images/00004_00058_00019.png\\n', 'data/images/00007_00030_00016.png\\n', 'data/images/00004_00064_00017.png\\n', 'data/images/00002_00038_00008.png\\n', 'data/images/00000_00002_00019.png\\n', 'data/images/00002_00009_00015.png\\n', 'data/images/00001_00067_00017.png\\n', 'data/images/00003_00039_00008.png\\n', 'data/images/00005_00006_00024.png\\n', 'data/images/00001_00049_00028.png\\n', 'data/images/00002_00050_00007.png\\n', 'data/images/00005_00034_00007.png\\n', 'data/images/00002_00061_00022.png\\n', 'data/images/00008_00007_00025.png\\n', 'data/images/00008_00019_00026.png\\n', 'data/images/00001_00048_00007.png\\n', 'data/images/00003_00040_00029.png\\n', 'data/images/00001_00069_00010.png\\n', 'data/images/00004_00057_00013.png\\n', 'data/images/00004_00056_00007.png\\n', 'data/images/00001_00043_00017.png\\n', 'data/images/00002_00008_00016.png\\n', 'data/images/00003_00026_00020.png\\n', 'data/images/00004_00062_00029.png\\n', 'data/images/00001_00048_00008.png\\n', 'data/images/00000_00001_00021.png\\n', 'data/images/00007_00029_00013.png\\n', 'data/images/00004_00031_00019.png\\n', 'data/images/00005_00050_00025.png\\n', 'data/images/00002_00011_00003.png\\n', 'data/images/00001_00004_00019.png\\n', 'data/images/00002_00012_00021.png\\n', 'data/images/00007_00005_00028.png\\n', 'data/images/00002_00042_00018.png\\n', 'data/images/00008_00039_00016.png\\n', 'data/images/00004_00018_00020.png\\n', 'data/images/00002_00051_00003.png\\n', 'data/images/00005_00016_00006.png\\n', 'data/images/00001_00041_00022.png\\n', 'data/images/00003_00041_00007.png\\n', 'data/images/00001_00056_00021.png\\n', 'data/images/00001_00020_00024.png\\n', 'data/images/00008_00045_00004.png\\n', 'data/images/00002_00030_00012.png\\n', 'data/images/00002_00029_00019.png\\n', 'data/images/00005_00058_00026.png\\n', 'data/images/00002_00044_00014.png\\n', 'data/images/00007_00037_00001.png\\n', 'data/images/00008_00010_00017.png\\n', 'data/images/00004_00006_00021.png\\n', 'data/images/00005_00009_00002.png\\n', 'data/images/00007_00004_00028.png\\n', 'data/images/00002_00044_00012.png\\n', 'data/images/00004_00041_00029.png\\n', 'data/images/00001_00000_00003.png\\n', 'data/images/00003_00046_00023.png\\n', 'data/images/00007_00046_00029.png\\n', 'data/images/00001_00008_00024.png\\n', 'data/images/00001_00005_00018.png\\n', 'data/images/00005_00005_00027.png\\n', 'data/images/00008_00023_00020.png\\n', 'data/images/00002_00045_00015.png\\n', 'data/images/00008_00045_00002.png\\n', 'data/images/00003_00023_00025.png\\n', 'data/images/00000_00000_00022.png\\n', 'data/images/00003_00036_00024.png\\n', 'data/images/00007_00035_00028.png\\n', 'data/images/00001_00043_00007.png\\n', 'data/images/00004_00029_00027.png\\n', 'data/images/00005_00053_00017.png\\n', 'data/images/00001_00070_00000.png\\n', 'data/images/00000_00004_00024.png\\n', 'data/images/00005_00058_00010.png\\n', 'data/images/00008_00038_00023.png\\n', 'data/images/00007_00015_00028.png\\n', 'data/images/00005_00042_00027.png\\n', 'data/images/00008_00018_00029.png\\n', 'data/images/00008_00011_00018.png\\n', 'data/images/00004_00012_00002.png\\n', 'data/images/00003_00031_00017.png\\n', 'data/images/00005_00003_00007.png\\n', 'data/images/00005_00059_00029.png\\n', 'data/images/00004_00017_00009.png\\n', 'data/images/00001_00007_00014.png\\n', 'data/images/00004_00005_00023.png\\n', 'data/images/00007_00009_00010.png\\n', 'data/images/00008_00018_00013.png\\n', 'data/images/00002_00030_00000.png\\n', 'data/images/00008_00015_00005.png\\n', 'data/images/00005_00043_00010.png\\n', 'data/images/00007_00039_00022.png\\n', 'data/images/00001_00067_00000.png\\n', 'data/images/00002_00053_00013.png\\n', 'data/images/00002_00073_00022.png\\n', 'data/images/00002_00019_00000.png\\n', 'data/images/00005_00011_00010.png\\n', 'data/images/00003_00032_00008.png\\n', 'data/images/00002_00029_00027.png\\n', 'data/images/00003_00005_00006.png\\n', 'data/images/00005_00054_00022.png\\n', 'data/images/00007_00020_00029.png\\n', 'data/images/00004_00012_00013.png\\n', 'data/images/00001_00037_00027.png\\n', 'data/images/00007_00038_00027.png\\n', 'data/images/00001_00052_00019.png\\n', 'data/images/00007_00036_00008.png\\n', 'data/images/00005_00049_00024.png\\n', 'data/images/00004_00053_00027.png\\n', 'data/images/00002_00000_00023.png\\n', 'data/images/00005_00044_00005.png\\n', 'data/images/00002_00061_00012.png\\n', 'data/images/00001_00018_00022.png\\n', 'data/images/00001_00038_00008.png\\n', 'data/images/00002_00011_00018.png\\n', 'data/images/00002_00060_00010.png\\n', 'data/images/00005_00033_00029.png\\n', 'data/images/00002_00028_00020.png\\n', 'data/images/00001_00009_00025.png\\n', 'data/images/00005_00057_00010.png\\n', 'data/images/00004_00013_00017.png\\n', 'data/images/00008_00026_00012.png\\n', 'data/images/00001_00030_00017.png\\n', 'data/images/00004_00014_00020.png\\n', 'data/images/00003_00026_00027.png\\n', 'data/images/00004_00036_00008.png\\n', 'data/images/00008_00019_00020.png\\n', 'data/images/00003_00007_00017.png\\n', 'data/images/00004_00050_00004.png\\n', 'data/images/00005_00057_00018.png\\n', 'data/images/00005_00009_00023.png\\n', 'data/images/00001_00010_00021.png\\n', 'data/images/00004_00012_00025.png\\n', 'data/images/00003_00040_00024.png\\n', 'data/images/00002_00048_00026.png\\n', 'data/images/00000_00003_00021.png\\n', 'data/images/00002_00034_00012.png\\n', 'data/images/00001_00043_00010.png\\n', 'data/images/00008_00039_00014.png\\n', 'data/images/00002_00013_00026.png\\n', 'data/images/00005_00041_00015.png\\n', 'data/images/00003_00045_00017.png\\n', 'data/images/00008_00017_00026.png\\n', 'data/images/00001_00071_00028.png\\n', 'data/images/00000_00004_00015.png\\n', 'data/images/00004_00032_00012.png\\n', 'data/images/00007_00029_00028.png\\n', 'data/images/00007_00025_00027.png\\n', 'data/images/00004_00007_00019.png\\n', 'data/images/00002_00009_00029.png\\n', 'data/images/00002_00023_00004.png\\n', 'data/images/00001_00012_00027.png\\n', 'data/images/00000_00004_00018.png\\n', 'data/images/00007_00007_00026.png\\n', 'data/images/00001_00014_00026.png\\n', 'data/images/00002_00052_00001.png\\n', 'data/images/00005_00035_00028.png\\n', 'data/images/00001_00042_00004.png\\n', 'data/images/00003_00042_00008.png\\n', 'data/images/00002_00036_00011.png\\n', 'data/images/00004_00062_00016.png\\n', 'data/images/00003_00027_00012.png\\n', 'data/images/00007_00006_00027.png\\n', 'data/images/00001_00044_00029.png\\n', 'data/images/00002_00027_00017.png\\n', 'data/images/00001_00064_00014.png\\n', 'data/images/00003_00007_00018.png\\n', 'data/images/00008_00023_00008.png\\n', 'data/images/00003_00006_00001.png\\n', 'data/images/00002_00015_00001.png\\n', 'data/images/00004_00039_00011.png\\n', 'data/images/00002_00062_00028.png\\n', 'data/images/00002_00025_00010.png\\n', 'data/images/00002_00005_00015.png\\n', 'data/images/00002_00011_00013.png\\n', 'data/images/00005_00052_00012.png\\n', 'data/images/00004_00050_00016.png\\n', 'data/images/00004_00012_00027.png\\n', 'data/images/00003_00005_00009.png\\n', 'data/images/00002_00052_00000.png\\n', 'data/images/00003_00006_00015.png\\n', 'data/images/00001_00040_00007.png\\n', 'data/images/00002_00036_00023.png\\n', 'data/images/00005_00009_00006.png\\n', 'data/images/00002_00070_00017.png\\n', 'data/images/00008_00021_00024.png\\n', 'data/images/00003_00014_00026.png\\n', 'data/images/00002_00034_00011.png\\n', 'data/images/00001_00017_00011.png\\n', 'data/images/00002_00007_00000.png\\n', 'data/images/00004_00038_00016.png\\n', 'data/images/00005_00057_00005.png\\n', 'data/images/00007_00019_00016.png\\n', 'data/images/00004_00062_00027.png\\n', 'data/images/00007_00041_00026.png\\n', 'data/images/00008_00011_00028.png\\n', 'data/images/00004_00063_00025.png\\n', 'data/images/00007_00010_00012.png\\n', 'data/images/00008_00024_00022.png\\n', 'data/images/00005_00035_00027.png\\n', 'data/images/00004_00034_00007.png\\n', 'data/images/00003_00026_00024.png\\n', 'data/images/00000_00000_00008.png\\n', 'data/images/00008_00008_00020.png\\n', 'data/images/00001_00003_00009.png\\n', 'data/images/00007_00018_00011.png\\n', 'data/images/00004_00050_00001.png\\n', 'data/images/00004_00062_00000.png\\n', 'data/images/00004_00040_00020.png\\n', 'data/images/00001_00033_00010.png\\n', 'data/images/00008_00013_00022.png\\n', 'data/images/00004_00002_00029.png\\n', 'data/images/00001_00065_00013.png\\n', 'data/images/00004_00019_00018.png\\n', 'data/images/00002_00042_00017.png\\n', 'data/images/00003_00021_00012.png\\n', 'data/images/00003_00046_00018.png\\n', 'data/images/00008_00018_00011.png\\n', 'data/images/00005_00006_00012.png\\n', 'data/images/00004_00018_00003.png\\n', 'data/images/00005_00026_00006.png\\n', 'data/images/00004_00038_00019.png\\n', 'data/images/00001_00049_00023.png\\n', 'data/images/00001_00070_00013.png\\n', 'data/images/00008_00043_00016.png\\n', 'data/images/00004_00054_00022.png\\n', 'data/images/00004_00035_00012.png\\n', 'data/images/00004_00022_00026.png\\n', 'data/images/00001_00057_00020.png\\n', 'data/images/00001_00008_00027.png\\n', 'data/images/00002_00058_00019.png\\n', 'data/images/00001_00046_00008.png\\n', 'data/images/00008_00031_00029.png\\n', 'data/images/00004_00051_00018.png\\n', 'data/images/00002_00067_00017.png\\n', 'data/images/00001_00006_00023.png\\n', 'data/images/00003_00040_00001.png\\n', 'data/images/00001_00005_00014.png\\n', 'data/images/00001_00042_00002.png\\n', 'data/images/00004_00025_00012.png\\n', 'data/images/00001_00033_00028.png\\n', 'data/images/00008_00004_00024.png\\n', 'data/images/00004_00055_00022.png\\n', 'data/images/00007_00019_00001.png\\n', 'data/images/00008_00008_00006.png\\n', 'data/images/00008_00009_00021.png\\n', 'data/images/00003_00000_00023.png\\n', 'data/images/00007_00004_00007.png\\n', 'data/images/00005_00016_00007.png\\n', 'data/images/00002_00015_00017.png\\n', 'data/images/00007_00021_00010.png\\n', 'data/images/00002_00007_00002.png\\n', 'data/images/00003_00038_00024.png\\n', 'data/images/00001_00014_00009.png\\n', 'data/images/00004_00054_00025.png\\n', 'data/images/00001_00022_00003.png\\n', 'data/images/00004_00048_00002.png\\n', 'data/images/00005_00025_00019.png\\n', 'data/images/00008_00029_00015.png\\n', 'data/images/00003_00026_00008.png\\n', 'data/images/00005_00052_00028.png\\n', 'data/images/00004_00010_00027.png\\n', 'data/images/00003_00030_00017.png\\n', 'data/images/00007_00035_00010.png\\n', 'data/images/00005_00019_00010.png\\n', 'data/images/00008_00015_00008.png\\n', 'data/images/00008_00030_00028.png\\n', 'data/images/00001_00030_00008.png\\n', 'data/images/00001_00025_00019.png\\n', 'data/images/00007_00006_00004.png\\n', 'data/images/00002_00067_00003.png\\n', 'data/images/00005_00056_00027.png\\n', 'data/images/00005_00016_00014.png\\n', 'data/images/00008_00025_00018.png\\n', 'data/images/00007_00033_00028.png\\n', 'data/images/00008_00000_00021.png\\n', 'data/images/00005_00061_00021.png\\n', 'data/images/00005_00049_00028.png\\n', 'data/images/00002_00006_00029.png\\n', 'data/images/00003_00032_00001.png\\n', 'data/images/00004_00032_00011.png\\n', 'data/images/00004_00008_00025.png\\n', 'data/images/00008_00013_00013.png\\n', 'data/images/00003_00013_00021.png\\n', 'data/images/00007_00032_00006.png\\n', 'data/images/00005_00039_00024.png\\n', 'data/images/00002_00066_00026.png\\n', 'data/images/00003_00022_00018.png\\n', 'data/images/00008_00046_00022.png\\n', 'data/images/00004_00064_00015.png\\n', 'data/images/00004_00040_00009.png\\n', 'data/images/00004_00011_00011.png\\n', 'data/images/00005_00046_00012.png\\n', 'data/images/00002_00037_00025.png\\n', 'data/images/00005_00023_00020.png\\n', 'data/images/00002_00020_00014.png\\n', 'data/images/00008_00003_00022.png\\n', 'data/images/00004_00044_00029.png\\n', 'data/images/00002_00057_00023.png\\n', 'data/images/00002_00019_00005.png\\n', 'data/images/00004_00054_00015.png\\n', 'data/images/00002_00055_00020.png\\n', 'data/images/00008_00017_00012.png\\n', 'data/images/00004_00039_00012.png\\n', 'data/images/00001_00054_00011.png\\n', 'data/images/00005_00052_00008.png\\n', 'data/images/00003_00038_00007.png\\n', 'data/images/00002_00023_00024.png\\n', 'data/images/00004_00020_00029.png\\n', 'data/images/00004_00005_00025.png\\n', 'data/images/00003_00031_00022.png\\n', 'data/images/00007_00039_00010.png\\n', 'data/images/00004_00028_00027.png\\n', 'data/images/00003_00027_00005.png\\n', 'data/images/00003_00011_00029.png\\n', 'data/images/00001_00013_00016.png\\n', 'data/images/00005_00034_00008.png\\n', 'data/images/00004_00056_00015.png\\n', 'data/images/00008_00010_00016.png\\n', 'data/images/00001_00057_00025.png\\n', 'data/images/00007_00034_00020.png\\n', 'data/images/00003_00028_00010.png\\n', 'data/images/00001_00034_00008.png\\n', 'data/images/00002_00013_00009.png\\n', 'data/images/00001_00041_00002.png\\n', 'data/images/00007_00034_00029.png\\n', 'data/images/00002_00053_00007.png\\n', 'data/images/00004_00007_00029.png\\n', 'data/images/00004_00011_00016.png\\n', 'data/images/00008_00031_00010.png\\n', 'data/images/00002_00035_00020.png\\n', 'data/images/00003_00046_00027.png\\n', 'data/images/00002_00061_00003.png\\n', 'data/images/00007_00034_00023.png\\n', 'data/images/00001_00030_00007.png\\n', 'data/images/00001_00009_00029.png\\n', 'data/images/00001_00069_00013.png\\n', 'data/images/00004_00009_00002.png\\n', 'data/images/00007_00014_00000.png\\n', 'data/images/00001_00062_00013.png\\n', 'data/images/00004_00021_00017.png\\n', 'data/images/00002_00024_00018.png\\n', 'data/images/00001_00054_00022.png\\n', 'data/images/00004_00027_00029.png\\n', 'data/images/00001_00023_00013.png\\n', 'data/images/00004_00040_00028.png\\n', 'data/images/00005_00045_00011.png\\n', 'data/images/00004_00037_00023.png\\n', 'data/images/00005_00043_00009.png\\n', 'data/images/00005_00031_00017.png\\n', 'data/images/00002_00072_00020.png\\n', 'data/images/00007_00039_00016.png\\n', 'data/images/00008_00031_00022.png\\n', 'data/images/00001_00019_00016.png\\n', 'data/images/00001_00033_00021.png\\n', 'data/images/00001_00039_00017.png\\n', 'data/images/00008_00015_00013.png\\n', 'data/images/00004_00012_00021.png\\n', 'data/images/00007_00020_00019.png\\n', 'data/images/00008_00034_00012.png\\n', 'data/images/00004_00007_00004.png\\n', 'data/images/00002_00058_00017.png\\n', 'data/images/00002_00049_00012.png\\n', 'data/images/00004_00010_00013.png\\n', 'data/images/00002_00048_00009.png\\n', 'data/images/00004_00030_00024.png\\n', 'data/images/00004_00013_00015.png\\n', 'data/images/00007_00009_00019.png\\n', 'data/images/00001_00054_00017.png\\n', 'data/images/00005_00024_00008.png\\n', 'data/images/00005_00035_00007.png\\n', 'data/images/00002_00032_00028.png\\n', 'data/images/00002_00029_00010.png\\n', 'data/images/00007_00033_00011.png\\n', 'data/images/00004_00024_00029.png\\n', 'data/images/00004_00033_00025.png\\n', 'data/images/00002_00034_00027.png\\n', 'data/images/00001_00006_00010.png\\n', 'data/images/00004_00030_00009.png\\n', 'data/images/00007_00039_00011.png\\n', 'data/images/00003_00020_00019.png\\n', 'data/images/00008_00003_00028.png\\n', 'data/images/00004_00012_00016.png\\n', 'data/images/00002_00016_00023.png\\n', 'data/images/00005_00042_00000.png\\n', 'data/images/00004_00020_00004.png\\n', 'data/images/00005_00048_00027.png\\n', 'data/images/00004_00009_00020.png\\n', 'data/images/00007_00015_00002.png\\n', 'data/images/00002_00058_00026.png\\n', 'data/images/00001_00064_00024.png\\n', 'data/images/00001_00018_00010.png\\n', 'data/images/00001_00046_00017.png\\n', 'data/images/00002_00026_00015.png\\n', 'data/images/00005_00057_00014.png\\n', 'data/images/00002_00010_00027.png\\n', 'data/images/00005_00033_00025.png\\n', 'data/images/00001_00049_00011.png\\n', 'data/images/00001_00049_00010.png\\n', 'data/images/00001_00023_00023.png\\n', 'data/images/00005_00045_00006.png\\n', 'data/images/00003_00032_00013.png\\n', 'data/images/00001_00021_00026.png\\n', 'data/images/00007_00005_00027.png\\n', 'data/images/00005_00008_00021.png\\n', 'data/images/00004_00024_00028.png\\n', 'data/images/00008_00004_00027.png\\n', 'data/images/00004_00009_00008.png\\n', 'data/images/00002_00057_00027.png\\n', 'data/images/00004_00030_00027.png\\n', 'data/images/00002_00059_00005.png\\n', 'data/images/00005_00027_00016.png\\n', 'data/images/00001_00072_00018.png\\n', 'data/images/00000_00006_00012.png\\n', 'data/images/00007_00021_00017.png\\n', 'data/images/00008_00022_00025.png\\n', 'data/images/00008_00045_00011.png\\n', 'data/images/00008_00032_00002.png\\n', 'data/images/00000_00000_00009.png\\n', 'data/images/00007_00035_00024.png\\n', 'data/images/00002_00008_00018.png\\n', 'data/images/00004_00061_00016.png\\n', 'data/images/00005_00052_00002.png\\n', 'data/images/00008_00031_00009.png\\n', 'data/images/00003_00023_00008.png\\n', 'data/images/00005_00059_00024.png\\n', 'data/images/00004_00022_00028.png\\n', 'data/images/00005_00011_00027.png\\n', 'data/images/00001_00010_00019.png\\n', 'data/images/00008_00015_00019.png\\n', 'data/images/00005_00054_00020.png\\n', 'data/images/00003_00042_00024.png\\n', 'data/images/00001_00048_00029.png\\n', 'data/images/00001_00040_00028.png\\n', 'data/images/00007_00028_00011.png\\n', 'data/images/00004_00026_00011.png\\n', 'data/images/00001_00070_00011.png\\n', 'data/images/00000_00003_00012.png\\n', 'data/images/00003_00006_00005.png\\n', 'data/images/00003_00039_00021.png\\n', 'data/images/00008_00037_00005.png\\n', 'data/images/00005_00022_00029.png\\n', 'data/images/00008_00034_00017.png\\n', 'data/images/00008_00041_00003.png\\n', 'data/images/00005_00047_00010.png\\n', 'data/images/00003_00042_00018.png\\n', 'data/images/00005_00021_00015.png\\n', 'data/images/00007_00028_00007.png\\n', 'data/images/00004_00004_00005.png\\n', 'data/images/00007_00002_00025.png\\n', 'data/images/00002_00032_00021.png\\n', 'data/images/00002_00007_00001.png\\n', 'data/images/00001_00015_00025.png\\n', 'data/images/00001_00029_00013.png\\n', 'data/images/00008_00012_00022.png\\n', 'data/images/00005_00061_00014.png\\n', 'data/images/00008_00022_00023.png\\n', 'data/images/00008_00023_00009.png\\n', 'data/images/00005_00015_00028.png\\n', 'data/images/00001_00068_00026.png\\n', 'data/images/00007_00007_00027.png\\n', 'data/images/00002_00061_00000.png\\n', 'data/images/00003_00028_00027.png\\n', 'data/images/00005_00052_00026.png\\n', 'data/images/00002_00073_00001.png\\n', 'data/images/00003_00006_00002.png\\n', 'data/images/00007_00033_00020.png\\n', 'data/images/00007_00038_00010.png\\n', 'data/images/00001_00044_00023.png\\n', 'data/images/00003_00011_00016.png\\n', 'data/images/00007_00000_00007.png\\n', 'data/images/00002_00007_00024.png\\n', 'data/images/00001_00033_00008.png\\n', 'data/images/00002_00006_00016.png\\n', 'data/images/00008_00022_00028.png\\n', 'data/images/00002_00039_00006.png\\n', 'data/images/00001_00022_00025.png\\n', 'data/images/00008_00011_00020.png\\n', 'data/images/00005_00043_00017.png\\n', 'data/images/00003_00021_00009.png\\n', 'data/images/00007_00041_00011.png\\n', 'data/images/00008_00018_00023.png\\n', 'data/images/00004_00032_00019.png\\n', 'data/images/00004_00052_00025.png\\n', 'data/images/00008_00035_00023.png\\n', 'data/images/00008_00007_00028.png\\n', 'data/images/00007_00045_00015.png\\n', 'data/images/00008_00037_00024.png\\n', 'data/images/00005_00021_00026.png\\n', 'data/images/00001_00017_00022.png\\n', 'data/images/00002_00033_00021.png\\n', 'data/images/00001_00063_00013.png\\n', 'data/images/00002_00026_00023.png\\n', 'data/images/00002_00034_00016.png\\n', 'data/images/00005_00000_00023.png\\n', 'data/images/00002_00042_00021.png\\n', 'data/images/00004_00043_00022.png\\n', 'data/images/00001_00038_00009.png\\n', 'data/images/00008_00043_00003.png\\n', 'data/images/00005_00027_00017.png\\n', 'data/images/00002_00030_00019.png\\n', 'data/images/00003_00037_00011.png\\n', 'data/images/00003_00018_00012.png\\n', 'data/images/00004_00023_00019.png\\n', 'data/images/00005_00026_00003.png\\n', 'data/images/00000_00002_00022.png\\n', 'data/images/00001_00057_00013.png\\n', 'data/images/00007_00032_00007.png\\n', 'data/images/00001_00059_00007.png\\n', 'data/images/00003_00029_00024.png\\n', 'data/images/00004_00028_00028.png\\n', 'data/images/00007_00006_00011.png\\n', 'data/images/00000_00001_00010.png\\n', 'data/images/00002_00028_00025.png\\n', 'data/images/00008_00037_00012.png\\n', 'data/images/00008_00013_00004.png\\n', 'data/images/00002_00061_00020.png\\n', 'data/images/00005_00054_00026.png\\n', 'data/images/00001_00042_00026.png\\n', 'data/images/00007_00021_00016.png\\n', 'data/images/00004_00055_00025.png\\n', 'data/images/00001_00038_00025.png\\n', 'data/images/00007_00025_00015.png\\n', 'data/images/00002_00032_00020.png\\n', 'data/images/00004_00001_00014.png\\n', 'data/images/00002_00021_00022.png\\n', 'data/images/00008_00004_00011.png\\n', 'data/images/00005_00034_00011.png\\n', 'data/images/00003_00006_00011.png\\n', 'data/images/00004_00010_00024.png\\n', 'data/images/00002_00011_00026.png\\n', 'data/images/00002_00074_00028.png\\n', 'data/images/00007_00030_00014.png\\n', 'data/images/00002_00019_00003.png\\n', 'data/images/00001_00027_00025.png\\n', 'data/images/00007_00038_00013.png\\n', 'data/images/00001_00068_00013.png\\n', 'data/images/00002_00018_00014.png\\n', 'data/images/00002_00023_00007.png\\n', 'data/images/00008_00016_00005.png\\n', 'data/images/00002_00053_00010.png\\n', 'data/images/00001_00014_00024.png\\n', 'data/images/00007_00032_00019.png\\n', 'data/images/00000_00000_00018.png\\n', 'data/images/00002_00036_00028.png\\n', 'data/images/00007_00029_00010.png\\n', 'data/images/00008_00036_00019.png\\n', 'data/images/00000_00006_00028.png\\n', 'data/images/00005_00015_00012.png\\n', 'data/images/00005_00007_00025.png\\n', 'data/images/00004_00048_00014.png\\n', 'data/images/00005_00057_00027.png\\n', 'data/images/00002_00039_00002.png\\n', 'data/images/00001_00000_00022.png\\n', 'data/images/00005_00023_00004.png\\n', 'data/images/00005_00007_00027.png\\n', 'data/images/00001_00008_00023.png\\n', 'data/images/00004_00034_00008.png\\n', 'data/images/00003_00043_00015.png\\n', 'data/images/00002_00048_00021.png\\n', 'data/images/00002_00052_00007.png\\n', 'data/images/00005_00040_00008.png\\n', 'data/images/00007_00032_00011.png\\n', 'data/images/00002_00020_00023.png\\n', 'data/images/00008_00019_00008.png\\n', 'data/images/00003_00017_00005.png\\n', 'data/images/00002_00019_00010.png\\n', 'data/images/00007_00025_00007.png\\n', 'data/images/00001_00053_00007.png\\n', 'data/images/00003_00036_00005.png\\n', 'data/images/00005_00040_00012.png\\n', 'data/images/00007_00008_00016.png\\n', 'data/images/00001_00058_00029.png\\n', 'data/images/00007_00007_00029.png\\n', 'data/images/00003_00014_00012.png\\n', 'data/images/00002_00033_00027.png\\n', 'data/images/00007_00045_00028.png\\n', 'data/images/00002_00043_00016.png\\n', 'data/images/00004_00012_00024.png\\n', 'data/images/00002_00068_00014.png\\n', 'data/images/00007_00043_00016.png\\n', 'data/images/00004_00011_00012.png\\n', 'data/images/00005_00045_00015.png\\n', 'data/images/00002_00071_00015.png\\n', 'data/images/00002_00036_00006.png\\n', 'data/images/00001_00011_00024.png\\n', 'data/images/00008_00043_00029.png\\n', 'data/images/00007_00017_00007.png\\n', 'data/images/00008_00009_00010.png\\n', 'data/images/00005_00058_00029.png\\n', 'data/images/00007_00017_00018.png\\n', 'data/images/00002_00027_00009.png\\n', 'data/images/00008_00029_00001.png\\n', 'data/images/00003_00041_00025.png\\n', 'data/images/00002_00016_00022.png\\n', 'data/images/00004_00049_00011.png\\n', 'data/images/00001_00071_00007.png\\n', 'data/images/00005_00056_00015.png\\n', 'data/images/00004_00028_00029.png\\n', 'data/images/00002_00032_00018.png\\n', 'data/images/00007_00033_00015.png\\n', 'data/images/00001_00030_00027.png\\n', 'data/images/00002_00037_00022.png\\n', 'data/images/00003_00026_00019.png\\n', 'data/images/00008_00015_00011.png\\n', 'data/images/00001_00001_00016.png\\n', 'data/images/00003_00017_00016.png\\n', 'data/images/00004_00037_00009.png\\n', 'data/images/00002_00072_00015.png\\n', 'data/images/00001_00041_00019.png\\n', 'data/images/00001_00044_00022.png\\n', 'data/images/00008_00010_00024.png\\n', 'data/images/00002_00018_00016.png\\n', 'data/images/00004_00026_00013.png\\n', 'data/images/00003_00045_00013.png\\n', 'data/images/00007_00043_00013.png\\n', 'data/images/00008_00014_00027.png\\n', 'data/images/00004_00051_00005.png\\n', 'data/images/00000_00000_00014.png\\n', 'data/images/00001_00056_00004.png\\n', 'data/images/00001_00043_00019.png\\n', 'data/images/00002_00073_00026.png\\n', 'data/images/00004_00033_00023.png\\n', 'data/images/00004_00061_00010.png\\n', 'data/images/00001_00039_00020.png\\n', 'data/images/00001_00043_00027.png\\n', 'data/images/00002_00067_00027.png\\n', 'data/images/00005_00032_00024.png\\n', 'data/images/00005_00059_00005.png\\n', 'data/images/00008_00010_00027.png\\n', 'data/images/00007_00019_00023.png\\n', 'data/images/00002_00029_00023.png\\n', 'data/images/00004_00000_00019.png\\n', 'data/images/00004_00041_00001.png\\n', 'data/images/00002_00071_00025.png\\n', 'data/images/00004_00012_00005.png\\n', 'data/images/00005_00042_00029.png\\n', 'data/images/00002_00004_00009.png\\n', 'data/images/00001_00020_00004.png\\n', 'data/images/00008_00032_00023.png\\n', 'data/images/00008_00001_00020.png\\n', 'data/images/00005_00059_00020.png\\n', 'data/images/00004_00008_00029.png\\n', 'data/images/00002_00052_00002.png\\n', 'data/images/00004_00050_00008.png\\n', 'data/images/00005_00025_00023.png\\n', 'data/images/00004_00061_00024.png\\n', 'data/images/00001_00033_00029.png\\n', 'data/images/00004_00031_00017.png\\n', 'data/images/00001_00017_00002.png\\n', 'data/images/00004_00014_00023.png\\n', 'data/images/00007_00014_00014.png\\n', 'data/images/00003_00007_00026.png\\n', 'data/images/00008_00013_00023.png\\n', 'data/images/00001_00022_00010.png\\n', 'data/images/00003_00023_00000.png\\n', 'data/images/00003_00045_00020.png\\n', 'data/images/00003_00032_00017.png\\n', 'data/images/00005_00047_00007.png\\n', 'data/images/00000_00001_00006.png\\n', 'data/images/00005_00009_00001.png\\n', 'data/images/00007_00037_00015.png\\n', 'data/images/00005_00016_00016.png\\n', 'data/images/00002_00067_00000.png\\n', 'data/images/00001_00031_00008.png\\n', 'data/images/00001_00000_00016.png\\n', 'data/images/00002_00043_00022.png\\n', 'data/images/00005_00054_00015.png\\n', 'data/images/00008_00001_00029.png\\n', 'data/images/00002_00011_00024.png\\n', 'data/images/00001_00037_00023.png\\n', 'data/images/00005_00041_00025.png\\n', 'data/images/00003_00023_00023.png\\n', 'data/images/00008_00033_00023.png\\n', 'data/images/00005_00044_00021.png\\n', 'data/images/00005_00036_00014.png\\n', 'data/images/00001_00016_00008.png\\n', 'data/images/00005_00041_00021.png\\n', 'data/images/00001_00032_00029.png\\n', 'data/images/00000_00005_00002.png\\n', 'data/images/00001_00046_00012.png\\n', 'data/images/00004_00042_00017.png\\n', 'data/images/00004_00009_00001.png\\n', 'data/images/00002_00024_00019.png\\n', 'data/images/00004_00005_00000.png\\n', 'data/images/00001_00009_00014.png\\n', 'data/images/00004_00024_00009.png\\n', 'data/images/00002_00019_00007.png\\n', 'data/images/00007_00003_00029.png\\n', 'data/images/00007_00006_00025.png\\n', 'data/images/00004_00004_00022.png\\n', 'data/images/00001_00018_00018.png\\n', 'data/images/00002_00068_00005.png\\n', 'data/images/00002_00003_00025.png\\n', 'data/images/00003_00026_00021.png\\n', 'data/images/00005_00051_00027.png\\n', 'data/images/00002_00017_00013.png\\n', 'data/images/00004_00003_00023.png\\n', 'data/images/00005_00034_00012.png\\n', 'data/images/00008_00021_00028.png\\n', 'data/images/00002_00053_00000.png\\n', 'data/images/00008_00031_00028.png\\n', 'data/images/00008_00006_00022.png\\n', 'data/images/00005_00040_00009.png\\n', 'data/images/00005_00014_00010.png\\n', 'data/images/00003_00029_00029.png\\n', 'data/images/00001_00018_00011.png\\n', 'data/images/00007_00016_00026.png\\n', 'data/images/00002_00005_00027.png\\n', 'data/images/00003_00024_00027.png\\n', 'data/images/00005_00013_00014.png\\n', 'data/images/00004_00031_00002.png\\n', 'data/images/00007_00038_00011.png\\n', 'data/images/00002_00027_00007.png\\n', 'data/images/00002_00068_00011.png\\n', 'data/images/00005_00004_00014.png\\n', 'data/images/00005_00015_00026.png\\n', 'data/images/00001_00057_00011.png\\n', 'data/images/00003_00020_00028.png\\n', 'data/images/00004_00002_00014.png\\n', 'data/images/00002_00013_00011.png\\n', 'data/images/00002_00026_00005.png\\n', 'data/images/00001_00063_00009.png\\n', 'data/images/00007_00005_00021.png\\n', 'data/images/00008_00001_00014.png\\n', 'data/images/00005_00022_00019.png\\n', 'data/images/00005_00048_00006.png\\n', 'data/images/00008_00015_00018.png\\n', 'data/images/00003_00016_00016.png\\n', 'data/images/00005_00008_00019.png\\n', 'data/images/00004_00057_00022.png\\n', 'data/images/00005_00030_00008.png\\n', 'data/images/00008_00030_00024.png\\n', 'data/images/00003_00024_00010.png\\n', 'data/images/00005_00037_00023.png\\n', 'data/images/00002_00067_00021.png\\n', 'data/images/00001_00067_00029.png\\n', 'data/images/00007_00005_00015.png\\n', 'data/images/00007_00043_00026.png\\n', 'data/images/00008_00025_00029.png\\n', 'data/images/00008_00042_00025.png\\n', 'data/images/00001_00042_00016.png\\n', 'data/images/00001_00005_00004.png\\n', 'data/images/00007_00032_00024.png\\n', 'data/images/00002_00043_00004.png\\n', 'data/images/00004_00059_00022.png\\n', 'data/images/00003_00004_00021.png\\n', 'data/images/00007_00006_00018.png\\n', 'data/images/00008_00035_00029.png\\n', 'data/images/00007_00027_00029.png\\n', 'data/images/00002_00049_00029.png\\n', 'data/images/00007_00047_00009.png\\n', 'data/images/00008_00021_00027.png\\n', 'data/images/00001_00014_00023.png\\n', 'data/images/00002_00016_00001.png\\n', 'data/images/00007_00023_00015.png\\n', 'data/images/00007_00041_00028.png\\n', 'data/images/00001_00068_00028.png\\n', 'data/images/00001_00016_00014.png\\n', 'data/images/00001_00066_00004.png\\n', 'data/images/00004_00021_00021.png\\n', 'data/images/00001_00036_00012.png\\n', 'data/images/00003_00003_00029.png\\n', 'data/images/00002_00017_00027.png\\n', 'data/images/00008_00001_00024.png\\n', 'data/images/00002_00042_00005.png\\n', 'data/images/00008_00019_00004.png\\n', 'data/images/00001_00044_00025.png\\n', 'data/images/00005_00030_00002.png\\n', 'data/images/00001_00059_00029.png\\n', 'data/images/00002_00057_00025.png\\n', 'data/images/00004_00041_00020.png\\n', 'data/images/00004_00013_00007.png\\n', 'data/images/00007_00034_00019.png\\n', 'data/images/00005_00014_00023.png\\n', 'data/images/00004_00048_00007.png\\n', 'data/images/00001_00061_00012.png\\n', 'data/images/00004_00029_00022.png\\n', 'data/images/00004_00026_00003.png\\n', 'data/images/00007_00031_00024.png\\n', 'data/images/00004_00004_00016.png\\n', 'data/images/00007_00040_00020.png\\n', 'data/images/00004_00013_00026.png\\n', 'data/images/00000_00001_00026.png\\n', 'data/images/00003_00012_00019.png\\n', 'data/images/00004_00015_00005.png\\n', 'data/images/00004_00038_00013.png\\n', 'data/images/00001_00061_00000.png\\n', 'data/images/00002_00025_00023.png\\n', 'data/images/00008_00012_00020.png\\n', 'data/images/00002_00064_00011.png\\n', 'data/images/00001_00033_00027.png\\n', 'data/images/00005_00030_00004.png\\n', 'data/images/00003_00028_00026.png\\n', 'data/images/00008_00026_00028.png\\n', 'data/images/00004_00062_00003.png\\n', 'data/images/00004_00028_00019.png\\n', 'data/images/00008_00011_00008.png\\n', 'data/images/00005_00007_00015.png\\n', 'data/images/00004_00050_00018.png\\n', 'data/images/00001_00001_00028.png\\n', 'data/images/00002_00035_00025.png\\n', 'data/images/00008_00018_00020.png\\n', 'data/images/00008_00034_00008.png\\n', 'data/images/00001_00063_00022.png\\n', 'data/images/00007_00044_00021.png\\n', 'data/images/00005_00042_00002.png\\n', 'data/images/00007_00024_00007.png\\n', 'data/images/00005_00046_00018.png\\n', 'data/images/00004_00020_00010.png\\n', 'data/images/00003_00025_00027.png\\n', 'data/images/00005_00060_00029.png\\n', 'data/images/00001_00062_00022.png\\n', 'data/images/00008_00000_00026.png\\n', 'data/images/00002_00058_00023.png\\n', 'data/images/00003_00011_00026.png\\n', 'data/images/00002_00013_00012.png\\n', 'data/images/00008_00015_00006.png\\n', 'data/images/00002_00049_00016.png\\n', 'data/images/00001_00035_00023.png\\n', 'data/images/00001_00051_00006.png\\n', 'data/images/00001_00059_00003.png\\n', 'data/images/00001_00024_00025.png\\n', 'data/images/00001_00072_00008.png\\n', 'data/images/00001_00055_00029.png\\n', 'data/images/00007_00040_00024.png\\n', 'data/images/00001_00055_00004.png\\n', 'data/images/00001_00069_00023.png\\n', 'data/images/00004_00000_00029.png\\n', 'data/images/00004_00057_00025.png\\n', 'data/images/00002_00038_00014.png\\n', 'data/images/00003_00000_00009.png\\n', 'data/images/00005_00007_00016.png\\n', 'data/images/00001_00048_00011.png\\n', 'data/images/00007_00010_00017.png\\n', 'data/images/00005_00048_00001.png\\n', 'data/images/00001_00028_00028.png\\n', 'data/images/00003_00004_00020.png\\n', 'data/images/00007_00025_00024.png\\n', 'data/images/00004_00029_00010.png\\n', 'data/images/00002_00029_00011.png\\n', 'data/images/00004_00058_00024.png\\n', 'data/images/00005_00016_00019.png\\n', 'data/images/00004_00025_00020.png\\n', 'data/images/00001_00022_00011.png\\n', 'data/images/00003_00044_00016.png\\n', 'data/images/00005_00007_00028.png\\n', 'data/images/00005_00029_00012.png\\n', 'data/images/00007_00015_00012.png\\n', 'data/images/00001_00004_00000.png\\n', 'data/images/00002_00007_00012.png\\n', 'data/images/00008_00039_00011.png\\n', 'data/images/00007_00037_00026.png\\n', 'data/images/00002_00002_00012.png\\n', 'data/images/00005_00035_00013.png\\n', 'data/images/00005_00037_00016.png\\n', 'data/images/00008_00001_00018.png\\n', 'data/images/00005_00044_00009.png\\n', 'data/images/00003_00005_00011.png\\n', 'data/images/00008_00004_00025.png\\n', 'data/images/00001_00006_00003.png\\n', 'data/images/00001_00008_00019.png\\n', 'data/images/00003_00043_00017.png\\n', 'data/images/00004_00010_00017.png\\n', 'data/images/00008_00013_00007.png\\n', 'data/images/00007_00005_00004.png\\n', 'data/images/00001_00008_00012.png\\n', 'data/images/00004_00001_00008.png\\n', 'data/images/00007_00044_00026.png\\n', 'data/images/00001_00026_00013.png\\n', 'data/images/00007_00021_00011.png\\n', 'data/images/00002_00042_00003.png\\n', 'data/images/00004_00028_00005.png\\n', 'data/images/00008_00040_00020.png\\n', 'data/images/00004_00044_00025.png\\n', 'data/images/00003_00019_00004.png\\n', 'data/images/00002_00035_00001.png\\n', 'data/images/00005_00057_00006.png\\n', 'data/images/00004_00003_00015.png\\n', 'data/images/00001_00006_00012.png\\n', 'data/images/00002_00062_00022.png\\n', 'data/images/00004_00032_00022.png\\n', 'data/images/00003_00022_00029.png\\n', 'data/images/00007_00005_00005.png\\n', 'data/images/00007_00011_00027.png\\n', 'data/images/00005_00024_00029.png\\n', 'data/images/00008_00006_00024.png\\n', 'data/images/00002_00051_00021.png\\n', 'data/images/00001_00013_00005.png\\n', 'data/images/00004_00031_00021.png\\n', 'data/images/00008_00007_00006.png\\n', 'data/images/00001_00016_00012.png\\n', 'data/images/00007_00025_00020.png\\n', 'data/images/00004_00048_00027.png\\n', 'data/images/00007_00024_00024.png\\n', 'data/images/00002_00029_00006.png\\n', 'data/images/00005_00061_00020.png\\n', 'data/images/00001_00041_00029.png\\n', 'data/images/00008_00001_00028.png\\n', 'data/images/00005_00058_00016.png\\n', 'data/images/00002_00006_00025.png\\n', 'data/images/00005_00006_00026.png\\n', 'data/images/00001_00019_00004.png\\n', 'data/images/00007_00020_00016.png\\n', 'data/images/00005_00019_00003.png\\n', 'data/images/00002_00033_00016.png\\n', 'data/images/00007_00026_00018.png\\n', 'data/images/00008_00017_00010.png\\n', 'data/images/00004_00040_00012.png\\n', 'data/images/00002_00002_00023.png\\n', 'data/images/00001_00000_00004.png\\n', 'data/images/00008_00010_00015.png\\n', 'data/images/00002_00035_00013.png\\n', 'data/images/00004_00018_00018.png\\n', 'data/images/00002_00009_00028.png\\n', 'data/images/00007_00022_00020.png\\n', 'data/images/00007_00038_00008.png\\n', 'data/images/00000_00000_00028.png\\n', 'data/images/00008_00008_00017.png\\n', 'data/images/00003_00006_00012.png\\n', 'data/images/00002_00074_00010.png\\n', 'data/images/00005_00009_00010.png\\n', 'data/images/00005_00056_00010.png\\n', 'data/images/00005_00050_00004.png\\n', 'data/images/00005_00027_00015.png\\n', 'data/images/00003_00003_00002.png\\n', 'data/images/00003_00004_00002.png\\n', 'data/images/00002_00008_00015.png\\n', 'data/images/00008_00045_00005.png\\n', 'data/images/00001_00029_00012.png\\n', 'data/images/00002_00009_00004.png\\n', 'data/images/00002_00023_00021.png\\n', 'data/images/00004_00009_00023.png\\n', 'data/images/00004_00019_00006.png\\n', 'data/images/00004_00013_00019.png\\n', 'data/images/00007_00017_00009.png\\n', 'data/images/00004_00065_00005.png\\n', 'data/images/00005_00021_00021.png\\n', 'data/images/00002_00047_00013.png\\n', 'data/images/00008_00035_00026.png\\n', 'data/images/00004_00000_00028.png\\n', 'data/images/00008_00043_00017.png\\n', 'data/images/00005_00053_00002.png\\n', 'data/images/00002_00020_00028.png\\n', 'data/images/00002_00070_00013.png\\n', 'data/images/00001_00047_00023.png\\n', 'data/images/00002_00044_00017.png\\n', 'data/images/00003_00020_00008.png\\n', 'data/images/00001_00032_00021.png\\n', 'data/images/00001_00054_00003.png\\n', 'data/images/00004_00007_00015.png\\n', 'data/images/00008_00037_00022.png\\n', 'data/images/00000_00004_00004.png\\n', 'data/images/00005_00019_00013.png\\n', 'data/images/00007_00011_00003.png\\n', 'data/images/00002_00022_00023.png\\n', 'data/images/00003_00003_00021.png\\n', 'data/images/00008_00039_00020.png\\n', 'data/images/00002_00019_00015.png\\n', 'data/images/00007_00032_00023.png\\n', 'data/images/00005_00053_00026.png\\n', 'data/images/00005_00044_00006.png\\n', 'data/images/00001_00004_00011.png\\n', 'data/images/00000_00006_00026.png\\n', 'data/images/00002_00005_00022.png\\n', 'data/images/00007_00002_00022.png\\n', 'data/images/00005_00006_00015.png\\n', 'data/images/00005_00029_00015.png\\n', 'data/images/00002_00067_00024.png\\n', 'data/images/00003_00002_00009.png\\n', 'data/images/00004_00013_00018.png\\n', 'data/images/00004_00037_00001.png\\n', 'data/images/00004_00061_00025.png\\n', 'data/images/00004_00065_00000.png\\n', 'data/images/00003_00017_00009.png\\n', 'data/images/00003_00032_00027.png\\n', 'data/images/00003_00015_00028.png\\n', 'data/images/00004_00063_00015.png\\n', 'data/images/00002_00050_00013.png\\n', 'data/images/00001_00062_00027.png\\n', 'data/images/00001_00026_00017.png\\n', 'data/images/00001_00015_00019.png\\n', 'data/images/00002_00055_00028.png\\n', 'data/images/00003_00025_00019.png\\n', 'data/images/00005_00018_00018.png\\n', 'data/images/00001_00055_00025.png\\n', 'data/images/00004_00005_00026.png\\n', 'data/images/00001_00073_00021.png\\n', 'data/images/00004_00024_00021.png\\n', 'data/images/00004_00041_00002.png\\n', 'data/images/00002_00040_00005.png\\n', 'data/images/00003_00035_00013.png\\n', 'data/images/00001_00051_00009.png\\n', 'data/images/00005_00014_00020.png\\n', 'data/images/00008_00006_00023.png\\n', 'data/images/00003_00016_00018.png\\n', 'data/images/00004_00033_00016.png\\n', 'data/images/00002_00014_00029.png\\n', 'data/images/00007_00005_00003.png\\n', 'data/images/00003_00002_00028.png\\n', 'data/images/00001_00039_00027.png\\n', 'data/images/00002_00038_00006.png\\n', 'data/images/00004_00047_00000.png\\n', 'data/images/00007_00012_00017.png\\n', 'data/images/00004_00048_00025.png\\n', 'data/images/00004_00006_00019.png\\n', 'data/images/00004_00024_00019.png\\n', 'data/images/00004_00017_00019.png\\n', 'data/images/00000_00003_00015.png\\n', 'data/images/00001_00017_00001.png\\n', 'data/images/00007_00020_00007.png\\n', 'data/images/00007_00010_00020.png\\n', 'data/images/00002_00059_00010.png\\n', 'data/images/00003_00013_00027.png\\n', 'data/images/00003_00046_00015.png\\n', 'data/images/00004_00036_00026.png\\n', 'data/images/00002_00072_00010.png\\n', 'data/images/00002_00005_00026.png\\n', 'data/images/00002_00062_00029.png\\n', 'data/images/00007_00028_00014.png\\n', 'data/images/00003_00039_00023.png\\n', 'data/images/00002_00019_00006.png\\n', 'data/images/00005_00038_00009.png\\n', 'data/images/00007_00026_00007.png\\n', 'data/images/00004_00028_00025.png\\n', 'data/images/00002_00006_00028.png\\n', 'data/images/00002_00009_00025.png\\n', 'data/images/00003_00038_00013.png\\n', 'data/images/00007_00002_00001.png\\n', 'data/images/00007_00039_00014.png\\n', 'data/images/00003_00017_00014.png\\n', 'data/images/00004_00004_00014.png\\n', 'data/images/00005_00000_00015.png\\n', 'data/images/00003_00027_00019.png\\n', 'data/images/00003_00021_00007.png\\n', 'data/images/00004_00018_00015.png\\n', 'data/images/00000_00004_00017.png\\n', 'data/images/00008_00046_00001.png\\n', 'data/images/00004_00021_00012.png\\n', 'data/images/00002_00058_00020.png\\n', 'data/images/00001_00011_00019.png\\n', 'data/images/00004_00053_00011.png\\n', 'data/images/00007_00010_00010.png\\n', 'data/images/00001_00006_00017.png\\n', 'data/images/00005_00035_00012.png\\n', 'data/images/00005_00029_00011.png\\n', 'data/images/00007_00045_00018.png\\n', 'data/images/00004_00011_00022.png\\n', 'data/images/00005_00044_00007.png\\n', 'data/images/00007_00021_00029.png\\n', 'data/images/00001_00020_00028.png\\n', 'data/images/00005_00012_00016.png\\n', 'data/images/00003_00025_00008.png\\n', 'data/images/00002_00014_00013.png\\n', 'data/images/00005_00022_00016.png\\n', 'data/images/00005_00012_00027.png\\n', 'data/images/00002_00003_00010.png\\n', 'data/images/00002_00004_00013.png\\n', 'data/images/00001_00008_00021.png\\n', 'data/images/00003_00046_00022.png\\n', 'data/images/00003_00037_00017.png\\n', 'data/images/00001_00043_00021.png\\n', 'data/images/00005_00039_00008.png\\n', 'data/images/00004_00042_00011.png\\n', 'data/images/00001_00069_00019.png\\n', 'data/images/00007_00006_00021.png\\n', 'data/images/00007_00024_00022.png\\n', 'data/images/00001_00001_00025.png\\n', 'data/images/00005_00034_00010.png\\n', 'data/images/00004_00037_00007.png\\n', 'data/images/00001_00040_00021.png\\n', 'data/images/00005_00051_00001.png\\n', 'data/images/00007_00039_00009.png\\n', 'data/images/00002_00024_00004.png\\n', 'data/images/00001_00023_00009.png\\n', 'data/images/00002_00001_00018.png\\n', 'data/images/00002_00032_00009.png\\n', 'data/images/00008_00004_00000.png\\n', 'data/images/00001_00013_00024.png\\n', 'data/images/00000_00003_00025.png\\n', 'data/images/00001_00057_00026.png\\n', 'data/images/00001_00040_00018.png\\n', 'data/images/00002_00013_00001.png\\n', 'data/images/00003_00037_00019.png\\n', 'data/images/00004_00018_00027.png\\n', 'data/images/00005_00016_00025.png\\n', 'data/images/00005_00046_00022.png\\n', 'data/images/00001_00061_00018.png\\n', 'data/images/00007_00015_00001.png\\n', 'data/images/00000_00001_00023.png\\n', 'data/images/00003_00043_00005.png\\n', 'data/images/00002_00057_00029.png\\n', 'data/images/00007_00013_00027.png\\n', 'data/images/00004_00045_00025.png\\n', 'data/images/00001_00054_00026.png\\n', 'data/images/00005_00040_00010.png\\n', 'data/images/00003_00032_00012.png\\n', 'data/images/00008_00039_00002.png\\n', 'data/images/00001_00054_00009.png\\n', 'data/images/00005_00009_00011.png\\n', 'data/images/00001_00043_00024.png\\n', 'data/images/00005_00052_00015.png\\n', 'data/images/00002_00012_00012.png\\n', 'data/images/00001_00037_00006.png\\n', 'data/images/00004_00038_00021.png\\n', 'data/images/00002_00030_00009.png\\n', 'data/images/00005_00048_00005.png\\n', 'data/images/00003_00045_00028.png\\n', 'data/images/00008_00019_00015.png\\n', 'data/images/00004_00018_00023.png\\n', 'data/images/00002_00050_00019.png\\n', 'data/images/00002_00070_00027.png\\n', 'data/images/00004_00039_00009.png\\n', 'data/images/00001_00061_00023.png\\n', 'data/images/00007_00029_00024.png\\n', 'data/images/00001_00022_00006.png\\n', 'data/images/00007_00017_00021.png\\n', 'data/images/00008_00008_00010.png\\n', 'data/images/00004_00000_00015.png\\n', 'data/images/00008_00018_00000.png\\n', 'data/images/00003_00005_00018.png\\n', 'data/images/00003_00037_00015.png\\n', 'data/images/00001_00037_00019.png\\n', 'data/images/00003_00039_00022.png\\n', 'data/images/00002_00018_00026.png\\n', 'data/images/00004_00045_00000.png\\n', 'data/images/00001_00018_00016.png\\n', 'data/images/00001_00032_00015.png\\n', 'data/images/00007_00012_00014.png\\n', 'data/images/00001_00015_00020.png\\n', 'data/images/00002_00041_00017.png\\n', 'data/images/00002_00037_00023.png\\n', 'data/images/00007_00022_00008.png\\n', 'data/images/00004_00047_00017.png\\n', 'data/images/00008_00039_00010.png\\n', 'data/images/00004_00050_00017.png\\n', 'data/images/00001_00027_00004.png\\n', 'data/images/00001_00053_00009.png\\n', 'data/images/00008_00009_00015.png\\n', 'data/images/00001_00005_00026.png\\n', 'data/images/00005_00053_00013.png\\n', 'data/images/00001_00026_00023.png\\n', 'data/images/00005_00011_00003.png\\n', 'data/images/00002_00027_00021.png\\n', 'data/images/00004_00031_00025.png\\n', 'data/images/00003_00009_00019.png\\n', 'data/images/00005_00053_00015.png\\n', 'data/images/00002_00028_00027.png\\n', 'data/images/00001_00048_00002.png\\n', 'data/images/00008_00026_00005.png\\n', 'data/images/00001_00040_00025.png\\n', 'data/images/00002_00004_00029.png\\n', 'data/images/00004_00011_00018.png\\n', 'data/images/00005_00034_00025.png\\n', 'data/images/00008_00031_00013.png\\n', 'data/images/00003_00039_00018.png\\n', 'data/images/00007_00012_00005.png\\n', 'data/images/00002_00018_00004.png\\n', 'data/images/00001_00027_00016.png\\n', 'data/images/00001_00018_00008.png\\n', 'data/images/00007_00014_00003.png\\n', 'data/images/00008_00017_00004.png\\n', 'data/images/00001_00040_00023.png\\n', 'data/images/00003_00028_00009.png\\n', 'data/images/00004_00005_00029.png\\n', 'data/images/00002_00039_00013.png\\n', 'data/images/00004_00040_00015.png\\n', 'data/images/00005_00042_00009.png\\n', 'data/images/00004_00035_00008.png\\n', 'data/images/00005_00006_00011.png\\n', 'data/images/00002_00016_00024.png\\n', 'data/images/00008_00031_00017.png\\n', 'data/images/00002_00011_00021.png\\n', 'data/images/00001_00061_00029.png\\n', 'data/images/00005_00001_00026.png\\n', 'data/images/00008_00016_00018.png\\n', 'data/images/00005_00000_00019.png\\n', 'data/images/00001_00050_00013.png\\n', 'data/images/00008_00000_00020.png\\n', 'data/images/00005_00056_00013.png\\n', 'data/images/00002_00060_00025.png\\n', 'data/images/00001_00073_00020.png\\n', 'data/images/00005_00005_00023.png\\n', 'data/images/00005_00040_00021.png\\n', 'data/images/00002_00019_00019.png\\n', 'data/images/00004_00062_00028.png\\n', 'data/images/00008_00038_00029.png\\n', 'data/images/00002_00016_00008.png\\n', 'data/images/00005_00015_00009.png\\n', 'data/images/00005_00015_00017.png\\n', 'data/images/00001_00022_00016.png\\n', 'data/images/00000_00002_00020.png\\n', 'data/images/00001_00034_00006.png\\n', 'data/images/00002_00032_00026.png\\n', 'data/images/00003_00018_00015.png\\n', 'data/images/00001_00003_00010.png\\n', 'data/images/00001_00004_00005.png\\n', 'data/images/00001_00041_00014.png\\n', 'data/images/00001_00051_00010.png\\n', 'data/images/00004_00065_00002.png\\n', 'data/images/00004_00062_00024.png\\n', 'data/images/00008_00019_00002.png\\n', 'data/images/00008_00018_00003.png\\n', 'data/images/00005_00019_00002.png\\n', 'data/images/00004_00041_00022.png\\n', 'data/images/00001_00054_00004.png\\n', 'data/images/00001_00055_00008.png\\n', 'data/images/00008_00042_00004.png\\n', 'data/images/00002_00037_00012.png\\n', 'data/images/00002_00000_00022.png\\n', 'data/images/00002_00028_00018.png\\n', 'data/images/00002_00021_00025.png\\n', 'data/images/00003_00006_00018.png\\n', 'data/images/00004_00009_00016.png\\n', 'data/images/00002_00042_00001.png\\n', 'data/images/00002_00005_00010.png\\n', 'data/images/00004_00060_00010.png\\n', 'data/images/00007_00024_00018.png\\n', 'data/images/00008_00037_00026.png\\n', 'data/images/00004_00005_00014.png\\n', 'data/images/00004_00039_00027.png\\n', 'data/images/00008_00007_00020.png\\n', 'data/images/00003_00044_00012.png\\n', 'data/images/00001_00027_00029.png\\n', 'data/images/00003_00045_00022.png\\n', 'data/images/00004_00064_00004.png\\n', 'data/images/00007_00046_00017.png\\n', 'data/images/00008_00034_00015.png\\n', 'data/images/00004_00064_00008.png\\n', 'data/images/00008_00018_00006.png\\n', 'data/images/00001_00073_00007.png\\n', 'data/images/00007_00047_00019.png\\n', 'data/images/00005_00043_00027.png\\n', 'data/images/00007_00015_00008.png\\n', 'data/images/00000_00006_00010.png\\n', 'data/images/00008_00032_00001.png\\n', 'data/images/00001_00069_00024.png\\n', 'data/images/00002_00022_00008.png\\n', 'data/images/00007_00034_00008.png\\n', 'data/images/00004_00007_00025.png\\n', 'data/images/00001_00019_00027.png\\n', 'data/images/00002_00015_00010.png\\n', 'data/images/00001_00070_00015.png\\n', 'data/images/00001_00059_00027.png\\n', 'data/images/00001_00012_00016.png\\n', 'data/images/00004_00047_00002.png\\n', 'data/images/00002_00028_00024.png\\n', 'data/images/00004_00042_00019.png\\n', 'data/images/00000_00003_00016.png\\n', 'data/images/00005_00051_00024.png\\n', 'data/images/00005_00047_00008.png\\n', 'data/images/00004_00043_00015.png\\n', 'data/images/00000_00000_00004.png\\n', 'data/images/00008_00037_00027.png\\n', 'data/images/00003_00018_00018.png\\n', 'data/images/00005_00036_00029.png\\n', 'data/images/00004_00006_00022.png\\n', 'data/images/00004_00012_00029.png\\n', 'data/images/00000_00005_00020.png\\n', 'data/images/00008_00041_00012.png\\n', 'data/images/00003_00038_00027.png\\n', 'data/images/00004_00048_00012.png\\n', 'data/images/00005_00015_00004.png\\n', 'data/images/00007_00028_00009.png\\n', 'data/images/00005_00031_00012.png\\n', 'data/images/00007_00036_00018.png\\n', 'data/images/00005_00038_00001.png\\n', 'data/images/00002_00021_00011.png\\n', 'data/images/00001_00038_00013.png\\n', 'data/images/00002_00029_00007.png\\n', 'data/images/00004_00047_00013.png\\n', 'data/images/00007_00003_00011.png\\n', 'data/images/00002_00065_00017.png\\n', 'data/images/00005_00058_00018.png\\n', 'data/images/00002_00009_00001.png\\n', 'data/images/00002_00024_00001.png\\n', 'data/images/00003_00027_00001.png\\n', 'data/images/00002_00011_00016.png\\n', 'data/images/00002_00013_00029.png\\n', 'data/images/00004_00033_00017.png\\n', 'data/images/00005_00011_00022.png\\n', 'data/images/00003_00014_00013.png\\n', 'data/images/00005_00001_00017.png\\n', 'data/images/00002_00053_00005.png\\n', 'data/images/00003_00017_00023.png\\n', 'data/images/00007_00009_00025.png\\n', 'data/images/00002_00000_00016.png\\n', 'data/images/00008_00013_00018.png\\n', 'data/images/00002_00004_00018.png\\n', 'data/images/00001_00051_00018.png\\n', 'data/images/00001_00070_00018.png\\n', 'data/images/00002_00035_00022.png\\n', 'data/images/00004_00023_00026.png\\n', 'data/images/00008_00007_00015.png\\n', 'data/images/00003_00000_00025.png\\n', 'data/images/00005_00003_00020.png\\n', 'data/images/00001_00009_00019.png\\n', 'data/images/00008_00020_00023.png\\n', 'data/images/00002_00017_00014.png\\n', 'data/images/00004_00047_00010.png\\n', 'data/images/00005_00035_00001.png\\n', 'data/images/00001_00011_00015.png\\n', 'data/images/00004_00029_00020.png\\n', 'data/images/00005_00032_00008.png\\n', 'data/images/00004_00061_00017.png\\n', 'data/images/00007_00041_00003.png\\n', 'data/images/00001_00005_00021.png\\n', 'data/images/00005_00048_00019.png\\n', 'data/images/00001_00054_00001.png\\n', 'data/images/00004_00012_00007.png\\n', 'data/images/00005_00049_00009.png\\n', 'data/images/00007_00008_00022.png\\n', 'data/images/00004_00018_00012.png\\n', 'data/images/00003_00004_00004.png\\n', 'data/images/00001_00063_00021.png\\n', 'data/images/00007_00023_00023.png\\n', 'data/images/00002_00060_00009.png\\n', 'data/images/00001_00056_00016.png\\n', 'data/images/00008_00016_00013.png\\n', 'data/images/00008_00002_00029.png\\n', 'data/images/00002_00053_00026.png\\n', 'data/images/00008_00009_00008.png\\n', 'data/images/00005_00055_00028.png\\n', 'data/images/00007_00008_00013.png\\n', 'data/images/00000_00006_00023.png\\n', 'data/images/00004_00024_00018.png\\n', 'data/images/00007_00028_00015.png\\n', 'data/images/00002_00023_00019.png\\n', 'data/images/00008_00044_00027.png\\n', 'data/images/00001_00002_00027.png\\n', 'data/images/00002_00028_00012.png\\n', 'data/images/00008_00023_00015.png\\n', 'data/images/00005_00032_00011.png\\n', 'data/images/00002_00019_00028.png\\n', 'data/images/00008_00018_00009.png\\n', 'data/images/00002_00019_00017.png\\n', 'data/images/00001_00024_00004.png\\n', 'data/images/00007_00025_00017.png\\n', 'data/images/00003_00023_00017.png\\n', 'data/images/00007_00000_00022.png\\n', 'data/images/00002_00026_00004.png\\n', 'data/images/00004_00020_00024.png\\n', 'data/images/00002_00013_00017.png\\n', 'data/images/00005_00031_00025.png\\n', 'data/images/00002_00007_00009.png\\n', 'data/images/00003_00018_00004.png\\n', 'data/images/00001_00006_00022.png\\n', 'data/images/00007_00005_00029.png\\n', 'data/images/00004_00058_00010.png\\n', 'data/images/00002_00039_00026.png\\n', 'data/images/00002_00071_00013.png\\n', 'data/images/00002_00017_00010.png\\n', 'data/images/00007_00042_00023.png\\n', 'data/images/00005_00031_00021.png\\n', 'data/images/00001_00044_00010.png\\n', 'data/images/00004_00033_00021.png\\n', 'data/images/00003_00006_00024.png\\n', 'data/images/00005_00004_00019.png\\n', 'data/images/00003_00022_00006.png\\n', 'data/images/00002_00041_00021.png\\n', 'data/images/00001_00064_00025.png\\n', 'data/images/00004_00039_00026.png\\n', 'data/images/00004_00024_00015.png\\n', 'data/images/00002_00010_00009.png\\n', 'data/images/00001_00032_00009.png\\n', 'data/images/00004_00019_00010.png\\n', 'data/images/00002_00035_00021.png\\n', 'data/images/00008_00010_00022.png\\n', 'data/images/00001_00072_00003.png\\n', 'data/images/00008_00018_00025.png\\n', 'data/images/00004_00063_00021.png\\n', 'data/images/00004_00028_00002.png\\n', 'data/images/00004_00065_00019.png\\n', 'data/images/00002_00004_00026.png\\n', 'data/images/00002_00059_00026.png\\n', 'data/images/00004_00017_00029.png\\n', 'data/images/00004_00033_00018.png\\n', 'data/images/00002_00048_00019.png\\n', 'data/images/00002_00008_00024.png\\n', 'data/images/00004_00050_00012.png\\n', 'data/images/00007_00043_00012.png\\n', 'data/images/00004_00046_00001.png\\n', 'data/images/00002_00047_00005.png\\n', 'data/images/00007_00047_00013.png\\n', 'data/images/00008_00010_00011.png\\n', 'data/images/00001_00025_00020.png\\n', 'data/images/00003_00046_00008.png\\n', 'data/images/00007_00042_00028.png\\n', 'data/images/00007_00002_00027.png\\n', 'data/images/00005_00010_00025.png\\n', 'data/images/00001_00071_00029.png\\n', 'data/images/00005_00006_00005.png\\n', 'data/images/00001_00034_00016.png\\n', 'data/images/00004_00006_00024.png\\n', 'data/images/00002_00026_00003.png\\n', 'data/images/00003_00017_00012.png\\n', 'data/images/00000_00005_00011.png\\n', 'data/images/00008_00045_00024.png\\n', 'data/images/00004_00002_00022.png\\n', 'data/images/00003_00026_00010.png\\n', 'data/images/00002_00012_00017.png\\n', 'data/images/00005_00006_00001.png\\n', 'data/images/00007_00027_00024.png\\n', 'data/images/00002_00074_00020.png\\n', 'data/images/00004_00010_00003.png\\n', 'data/images/00007_00008_00025.png\\n', 'data/images/00002_00072_00024.png\\n', 'data/images/00002_00064_00004.png\\n', 'data/images/00004_00041_00004.png\\n', 'data/images/00007_00014_00026.png\\n', 'data/images/00004_00063_00026.png\\n', 'data/images/00007_00045_00022.png\\n', 'data/images/00008_00045_00013.png\\n', 'data/images/00005_00014_00027.png\\n', 'data/images/00004_00035_00022.png\\n', 'data/images/00000_00004_00002.png\\n', 'data/images/00001_00026_00008.png\\n', 'data/images/00003_00006_00009.png\\n', 'data/images/00002_00014_00024.png\\n', 'data/images/00002_00072_00025.png\\n', 'data/images/00002_00059_00014.png\\n', 'data/images/00004_00060_00013.png\\n', 'data/images/00008_00013_00001.png\\n', 'data/images/00004_00024_00011.png\\n', 'data/images/00003_00030_00021.png\\n', 'data/images/00002_00053_00020.png\\n', 'data/images/00001_00031_00013.png\\n', 'data/images/00007_00044_00027.png\\n', 'data/images/00005_00019_00015.png\\n', 'data/images/00005_00041_00007.png\\n', 'data/images/00004_00062_00018.png\\n', 'data/images/00004_00014_00024.png\\n', 'data/images/00004_00016_00011.png\\n', 'data/images/00005_00057_00028.png\\n', 'data/images/00002_00006_00019.png\\n', 'data/images/00000_00004_00027.png\\n', 'data/images/00001_00065_00004.png\\n', 'data/images/00002_00033_00015.png\\n', 'data/images/00003_00006_00004.png\\n', 'data/images/00003_00016_00023.png\\n', 'data/images/00001_00007_00003.png\\n', 'data/images/00005_00019_00026.png\\n', 'data/images/00004_00024_00014.png\\n', 'data/images/00005_00052_00016.png\\n', 'data/images/00008_00026_00023.png\\n', 'data/images/00002_00015_00028.png\\n', 'data/images/00002_00040_00012.png\\n', 'data/images/00003_00003_00013.png\\n', 'data/images/00004_00021_00019.png\\n', 'data/images/00001_00024_00007.png\\n', 'data/images/00007_00017_00024.png\\n', 'data/images/00003_00029_00007.png\\n', 'data/images/00002_00033_00013.png\\n', 'data/images/00001_00040_00013.png\\n', 'data/images/00001_00035_00004.png\\n', 'data/images/00002_00043_00014.png\\n', 'data/images/00002_00074_00008.png\\n', 'data/images/00008_00012_00004.png\\n', 'data/images/00003_00029_00020.png\\n', 'data/images/00007_00014_00004.png\\n', 'data/images/00001_00042_00010.png\\n', 'data/images/00004_00027_00018.png\\n', 'data/images/00002_00065_00018.png\\n', 'data/images/00002_00029_00024.png\\n', 'data/images/00005_00032_00027.png\\n', 'data/images/00004_00026_00019.png\\n', 'data/images/00005_00008_00026.png\\n', 'data/images/00008_00021_00018.png\\n', 'data/images/00002_00052_00020.png\\n', 'data/images/00001_00031_00021.png\\n', 'data/images/00001_00026_00002.png\\n', 'data/images/00005_00015_00022.png\\n', 'data/images/00005_00040_00023.png\\n', 'data/images/00004_00025_00010.png\\n', 'data/images/00002_00022_00024.png\\n', 'data/images/00004_00055_00005.png\\n', 'data/images/00003_00015_00023.png\\n', 'data/images/00008_00038_00027.png\\n', 'data/images/00007_00036_00022.png\\n', 'data/images/00003_00016_00019.png\\n', 'data/images/00002_00040_00018.png\\n', 'data/images/00007_00021_00025.png\\n', 'data/images/00008_00034_00024.png\\n', 'data/images/00004_00034_00011.png\\n', 'data/images/00003_00031_00014.png\\n', 'data/images/00005_00011_00004.png\\n', 'data/images/00002_00053_00016.png\\n', 'data/images/00001_00045_00005.png\\n', 'data/images/00003_00001_00024.png\\n', 'data/images/00007_00033_00017.png\\n', 'data/images/00007_00025_00018.png\\n', 'data/images/00007_00006_00001.png\\n', 'data/images/00002_00067_00006.png\\n', 'data/images/00008_00005_00019.png\\n', 'data/images/00001_00056_00023.png\\n', 'data/images/00002_00007_00027.png\\n', 'data/images/00002_00048_00024.png\\n', 'data/images/00003_00001_00020.png\\n', 'data/images/00004_00012_00006.png\\n', 'data/images/00002_00038_00013.png\\n', 'data/images/00001_00006_00011.png\\n', 'data/images/00001_00057_00016.png\\n', 'data/images/00005_00054_00023.png\\n', 'data/images/00004_00014_00006.png\\n', 'data/images/00003_00036_00027.png\\n', 'data/images/00007_00012_00029.png\\n', 'data/images/00002_00004_00014.png\\n', 'data/images/00007_00042_00024.png\\n', 'data/images/00001_00023_00008.png\\n', 'data/images/00001_00008_00004.png\\n', 'data/images/00002_00039_00018.png\\n', 'data/images/00004_00054_00026.png\\n', 'data/images/00001_00043_00000.png\\n', 'data/images/00004_00008_00016.png\\n', 'data/images/00004_00035_00028.png\\n', 'data/images/00002_00026_00022.png\\n', 'data/images/00001_00036_00026.png\\n', 'data/images/00004_00043_00027.png\\n', 'data/images/00004_00015_00008.png\\n', 'data/images/00005_00048_00007.png\\n', 'data/images/00002_00024_00027.png\\n', 'data/images/00001_00029_00017.png\\n', 'data/images/00004_00025_00017.png\\n', 'data/images/00004_00021_00024.png\\n', 'data/images/00004_00050_00023.png\\n', 'data/images/00002_00038_00020.png\\n', 'data/images/00001_00064_00020.png\\n', 'data/images/00004_00046_00017.png\\n', 'data/images/00007_00010_00005.png\\n', 'data/images/00001_00052_00028.png\\n', 'data/images/00007_00025_00012.png\\n', 'data/images/00008_00010_00009.png\\n', 'data/images/00002_00017_00016.png\\n', 'data/images/00005_00035_00023.png\\n', 'data/images/00001_00058_00028.png\\n', 'data/images/00002_00042_00025.png\\n', 'data/images/00005_00003_00014.png\\n', 'data/images/00004_00042_00009.png\\n', 'data/images/00004_00005_00007.png\\n', 'data/images/00004_00063_00011.png\\n', 'data/images/00001_00004_00028.png\\n', 'data/images/00004_00019_00021.png\\n', 'data/images/00007_00006_00020.png\\n', 'data/images/00001_00045_00018.png\\n', 'data/images/00004_00027_00025.png\\n', 'data/images/00001_00053_00004.png\\n', 'data/images/00001_00002_00019.png\\n', 'data/images/00000_00002_00028.png\\n', 'data/images/00004_00058_00023.png\\n', 'data/images/00001_00010_00011.png\\n', 'data/images/00002_00045_00025.png\\n', 'data/images/00003_00013_00015.png\\n', 'data/images/00003_00024_00022.png\\n', 'data/images/00005_00040_00029.png\\n', 'data/images/00002_00021_00012.png\\n', 'data/images/00001_00063_00006.png\\n', 'data/images/00008_00036_00009.png\\n', 'data/images/00007_00016_00004.png\\n', 'data/images/00004_00013_00024.png\\n', 'data/images/00007_00013_00007.png\\n', 'data/images/00004_00043_00025.png\\n', 'data/images/00000_00006_00027.png\\n', 'data/images/00002_00056_00028.png\\n', 'data/images/00004_00011_00024.png\\n', 'data/images/00001_00008_00010.png\\n', 'data/images/00007_00038_00026.png\\n', 'data/images/00002_00001_00028.png\\n', 'data/images/00001_00020_00013.png\\n', 'data/images/00008_00013_00016.png\\n', 'data/images/00007_00006_00024.png\\n', 'data/images/00003_00041_00002.png\\n', 'data/images/00000_00000_00019.png\\n', 'data/images/00002_00030_00018.png\\n', 'data/images/00001_00046_00018.png\\n', 'data/images/00007_00028_00006.png\\n', 'data/images/00004_00014_00025.png\\n', 'data/images/00003_00018_00023.png\\n', 'data/images/00003_00032_00018.png\\n', 'data/images/00001_00069_00011.png\\n', 'data/images/00002_00045_00016.png\\n', 'data/images/00002_00067_00014.png\\n', 'data/images/00002_00046_00017.png\\n', 'data/images/00001_00017_00029.png\\n', 'data/images/00002_00047_00027.png\\n', 'data/images/00003_00010_00010.png\\n', 'data/images/00008_00012_00003.png\\n', 'data/images/00007_00033_00021.png\\n', 'data/images/00001_00061_00022.png\\n', 'data/images/00007_00017_00013.png\\n', 'data/images/00004_00032_00020.png\\n', 'data/images/00005_00010_00029.png\\n', 'data/images/00007_00035_00005.png\\n', 'data/images/00007_00028_00002.png\\n', 'data/images/00001_00026_00000.png\\n', 'data/images/00005_00003_00012.png\\n', 'data/images/00008_00041_00013.png\\n', 'data/images/00001_00062_00008.png\\n', 'data/images/00007_00030_00023.png\\n', 'data/images/00002_00051_00015.png\\n', 'data/images/00001_00063_00018.png\\n', 'data/images/00007_00008_00009.png\\n', 'data/images/00004_00054_00029.png\\n', 'data/images/00001_00044_00012.png\\n', 'data/images/00001_00067_00023.png\\n', 'data/images/00001_00035_00028.png\\n', 'data/images/00001_00053_00010.png\\n', 'data/images/00004_00048_00003.png\\n', 'data/images/00005_00025_00017.png\\n', 'data/images/00002_00044_00022.png\\n', 'data/images/00000_00001_00027.png\\n', 'data/images/00001_00001_00023.png\\n', 'data/images/00001_00049_00015.png\\n', 'data/images/00008_00000_00000.png\\n', 'data/images/00008_00034_00018.png\\n', 'data/images/00003_00023_00016.png\\n', 'data/images/00003_00009_00021.png\\n', 'data/images/00002_00044_00027.png\\n', 'data/images/00005_00051_00004.png\\n', 'data/images/00002_00038_00015.png\\n', 'data/images/00004_00015_00017.png\\n', 'data/images/00003_00037_00016.png\\n', 'data/images/00005_00039_00023.png\\n', 'data/images/00001_00023_00005.png\\n', 'data/images/00008_00018_00024.png\\n', 'data/images/00001_00035_00026.png\\n', 'data/images/00007_00007_00022.png\\n', 'data/images/00007_00035_00012.png\\n', 'data/images/00001_00068_00027.png\\n', 'data/images/00007_00025_00013.png\\n', 'data/images/00004_00010_00011.png\\n', 'data/images/00008_00025_00028.png\\n', 'data/images/00005_00060_00008.png\\n', 'data/images/00002_00012_00029.png\\n', 'data/images/00005_00031_00023.png\\n', 'data/images/00003_00002_00021.png\\n', 'data/images/00000_00003_00026.png\\n', 'data/images/00001_00015_00027.png\\n', 'data/images/00004_00008_00019.png\\n', 'data/images/00004_00042_00021.png\\n', 'data/images/00003_00026_00017.png\\n', 'data/images/00005_00023_00027.png\\n', 'data/images/00005_00023_00017.png\\n', 'data/images/00008_00017_00027.png\\n', 'data/images/00001_00052_00029.png\\n', 'data/images/00002_00057_00028.png\\n', 'data/images/00004_00057_00027.png\\n', 'data/images/00001_00007_00029.png\\n', 'data/images/00002_00025_00006.png\\n', 'data/images/00001_00022_00023.png\\n', 'data/images/00001_00037_00017.png\\n', 'data/images/00005_00045_00014.png\\n', 'data/images/00000_00004_00019.png\\n', 'data/images/00005_00043_00025.png\\n', 'data/images/00002_00015_00002.png\\n', 'data/images/00005_00035_00002.png\\n', 'data/images/00005_00004_00013.png\\n', 'data/images/00003_00017_00022.png\\n', 'data/images/00002_00003_00024.png\\n', 'data/images/00001_00037_00014.png\\n', 'data/images/00007_00038_00020.png\\n', 'data/images/00001_00025_00024.png\\n', 'data/images/00007_00016_00008.png\\n', 'data/images/00002_00049_00021.png\\n', 'data/images/00004_00055_00018.png\\n', 'data/images/00007_00033_00018.png\\n', 'data/images/00002_00001_00020.png\\n', 'data/images/00001_00019_00012.png\\n', 'data/images/00008_00032_00026.png\\n', 'data/images/00002_00045_00021.png\\n', 'data/images/00002_00067_00016.png\\n', 'data/images/00007_00032_00008.png\\n', 'data/images/00008_00042_00029.png\\n', 'data/images/00002_00004_00008.png\\n', 'data/images/00001_00004_00024.png\\n', 'data/images/00001_00038_00014.png\\n', 'data/images/00007_00020_00021.png\\n', 'data/images/00004_00005_00028.png\\n', 'data/images/00001_00013_00029.png\\n', 'data/images/00004_00065_00023.png\\n', 'data/images/00001_00065_00016.png\\n', 'data/images/00005_00048_00011.png\\n', 'data/images/00004_00046_00019.png\\n', 'data/images/00002_00009_00002.png\\n', 'data/images/00002_00039_00022.png\\n', 'data/images/00002_00025_00015.png\\n', 'data/images/00007_00022_00012.png\\n', 'data/images/00004_00043_00029.png\\n', 'data/images/00003_00046_00028.png\\n', 'data/images/00003_00012_00015.png\\n', 'data/images/00001_00026_00007.png\\n', 'data/images/00005_00061_00026.png\\n', 'data/images/00007_00046_00019.png\\n', 'data/images/00004_00052_00022.png\\n', 'data/images/00004_00048_00006.png\\n', 'data/images/00003_00012_00022.png\\n', 'data/images/00001_00026_00011.png\\n', 'data/images/00004_00060_00014.png\\n', 'data/images/00004_00029_00026.png\\n', 'data/images/00004_00034_00024.png\\n', 'data/images/00001_00015_00021.png\\n', 'data/images/00003_00020_00021.png\\n', 'data/images/00007_00029_00016.png\\n', 'data/images/00005_00036_00021.png\\n', 'data/images/00008_00036_00012.png\\n', 'data/images/00008_00006_00018.png\\n', 'data/images/00003_00019_00005.png\\n', 'data/images/00004_00052_00021.png\\n', 'data/images/00007_00002_00010.png\\n', 'data/images/00005_00001_00027.png\\n', 'data/images/00001_00009_00002.png\\n', 'data/images/00007_00016_00019.png\\n', 'data/images/00004_00024_00023.png\\n', 'data/images/00003_00000_00013.png\\n', 'data/images/00001_00002_00028.png\\n', 'data/images/00003_00034_00013.png\\n', 'data/images/00004_00041_00012.png\\n', 'data/images/00007_00033_00012.png\\n', 'data/images/00003_00010_00013.png\\n', 'data/images/00008_00001_00009.png\\n', 'data/images/00005_00052_00020.png\\n', 'data/images/00007_00040_00009.png\\n', 'data/images/00005_00048_00004.png\\n', 'data/images/00002_00027_00029.png\\n', 'data/images/00001_00071_00000.png\\n', 'data/images/00002_00019_00027.png\\n', 'data/images/00005_00011_00005.png\\n', 'data/images/00005_00046_00019.png\\n', 'data/images/00005_00013_00004.png\\n', 'data/images/00003_00027_00026.png\\n', 'data/images/00001_00004_00023.png\\n', 'data/images/00005_00045_00013.png\\n', 'data/images/00002_00017_00011.png\\n', 'data/images/00004_00051_00009.png\\n', 'data/images/00002_00022_00025.png\\n', 'data/images/00001_00047_00024.png\\n', 'data/images/00001_00067_00001.png\\n', 'data/images/00002_00040_00027.png\\n', 'data/images/00007_00016_00025.png\\n', 'data/images/00001_00060_00023.png\\n', 'data/images/00002_00073_00006.png\\n', 'data/images/00003_00034_00005.png\\n', 'data/images/00002_00042_00008.png\\n', 'data/images/00001_00031_00015.png\\n', 'data/images/00001_00016_00017.png\\n', 'data/images/00008_00044_00013.png\\n', 'data/images/00008_00030_00029.png\\n', 'data/images/00001_00023_00020.png\\n', 'data/images/00008_00012_00017.png\\n', 'data/images/00004_00005_00024.png\\n', 'data/images/00008_00032_00019.png\\n', 'data/images/00008_00012_00021.png\\n', 'data/images/00007_00024_00019.png\\n', 'data/images/00001_00024_00010.png\\n', 'data/images/00005_00002_00024.png\\n', 'data/images/00002_00038_00021.png\\n', 'data/images/00005_00004_00025.png\\n', 'data/images/00002_00011_00014.png\\n', 'data/images/00001_00073_00023.png\\n', 'data/images/00004_00001_00012.png\\n', 'data/images/00005_00044_00019.png\\n', 'data/images/00002_00024_00008.png\\n', 'data/images/00001_00064_00012.png\\n', 'data/images/00001_00059_00022.png\\n', 'data/images/00002_00046_00002.png\\n', 'data/images/00004_00008_00022.png\\n', 'data/images/00008_00012_00024.png\\n', 'data/images/00003_00035_00020.png\\n', 'data/images/00001_00019_00024.png\\n', 'data/images/00002_00027_00024.png\\n', 'data/images/00003_00007_00004.png\\n', 'data/images/00004_00002_00018.png\\n', 'data/images/00001_00046_00026.png\\n', 'data/images/00004_00030_00004.png\\n', 'data/images/00002_00010_00025.png\\n', 'data/images/00004_00011_00026.png\\n', 'data/images/00001_00040_00029.png\\n', 'data/images/00008_00004_00016.png\\n', 'data/images/00002_00052_00014.png\\n', 'data/images/00007_00005_00019.png\\n', 'data/images/00002_00064_00018.png\\n', 'data/images/00007_00020_00017.png\\n', 'data/images/00004_00060_00011.png\\n', 'data/images/00002_00070_00028.png\\n', 'data/images/00000_00002_00023.png\\n', 'data/images/00004_00003_00001.png\\n', 'data/images/00004_00000_00014.png\\n', 'data/images/00002_00066_00012.png\\n', 'data/images/00005_00033_00020.png\\n', 'data/images/00007_00015_00005.png\\n', 'data/images/00004_00006_00013.png\\n', 'data/images/00001_00073_00014.png\\n', 'data/images/00007_00013_00018.png\\n', 'data/images/00001_00059_00019.png\\n', 'data/images/00004_00012_00028.png\\n', 'data/images/00002_00049_00019.png\\n', 'data/images/00004_00010_00018.png\\n', 'data/images/00005_00056_00012.png\\n', 'data/images/00001_00036_00013.png\\n', 'data/images/00007_00036_00004.png\\n', 'data/images/00004_00025_00022.png\\n', 'data/images/00004_00064_00013.png\\n', 'data/images/00003_00037_00018.png\\n', 'data/images/00002_00055_00021.png\\n', 'data/images/00005_00057_00023.png\\n', 'data/images/00007_00027_00009.png\\n', 'data/images/00004_00043_00018.png\\n', 'data/images/00001_00061_00021.png\\n', 'data/images/00007_00034_00024.png\\n', 'data/images/00003_00019_00013.png\\n', 'data/images/00001_00042_00018.png\\n', 'data/images/00007_00020_00013.png\\n', 'data/images/00002_00029_00014.png\\n', 'data/images/00007_00008_00029.png\\n', 'data/images/00001_00017_00027.png\\n', 'data/images/00004_00012_00022.png\\n', 'data/images/00008_00009_00000.png\\n', 'data/images/00003_00029_00017.png\\n', 'data/images/00008_00012_00001.png\\n', 'data/images/00005_00014_00011.png\\n', 'data/images/00004_00046_00013.png\\n', 'data/images/00004_00012_00023.png\\n', 'data/images/00002_00035_00007.png\\n', 'data/images/00005_00016_00005.png\\n', 'data/images/00005_00016_00010.png\\n', 'data/images/00004_00020_00013.png\\n', 'data/images/00001_00043_00002.png\\n', 'data/images/00002_00051_00027.png\\n', 'data/images/00002_00050_00017.png\\n', 'data/images/00004_00050_00009.png\\n', 'data/images/00004_00009_00022.png\\n', 'data/images/00008_00019_00011.png\\n', 'data/images/00001_00056_00011.png\\n', 'data/images/00004_00063_00014.png\\n', 'data/images/00003_00031_00027.png\\n', 'data/images/00001_00033_00005.png\\n', 'data/images/00003_00017_00029.png\\n', 'data/images/00008_00034_00025.png\\n', 'data/images/00005_00032_00015.png\\n', 'data/images/00002_00033_00003.png\\n', 'data/images/00004_00038_00011.png\\n', 'data/images/00004_00036_00015.png\\n', 'data/images/00005_00013_00019.png\\n', 'data/images/00005_00029_00029.png\\n', 'data/images/00002_00015_00006.png\\n', 'data/images/00001_00072_00019.png\\n', 'data/images/00003_00021_00004.png\\n', 'data/images/00002_00054_00018.png\\n', 'data/images/00007_00032_00002.png\\n', 'data/images/00004_00042_00016.png\\n', 'data/images/00005_00036_00010.png\\n', 'data/images/00003_00021_00028.png\\n', 'data/images/00005_00060_00027.png\\n', 'data/images/00005_00016_00020.png\\n', 'data/images/00002_00051_00017.png\\n', 'data/images/00001_00068_00025.png\\n', 'data/images/00002_00021_00029.png\\n', 'data/images/00007_00020_00004.png\\n', 'data/images/00003_00039_00017.png\\n', 'data/images/00007_00003_00018.png\\n', 'data/images/00007_00036_00023.png\\n', 'data/images/00007_00032_00016.png\\n', 'data/images/00007_00047_00020.png\\n', 'data/images/00003_00040_00028.png\\n', 'data/images/00001_00002_00020.png\\n', 'data/images/00007_00045_00029.png\\n', 'data/images/00003_00002_00015.png\\n', 'data/images/00007_00023_00009.png\\n', 'data/images/00005_00038_00012.png\\n', 'data/images/00007_00020_00008.png\\n', 'data/images/00004_00052_00015.png\\n', 'data/images/00004_00031_00009.png\\n', 'data/images/00008_00019_00016.png\\n', 'data/images/00008_00000_00011.png\\n', 'data/images/00001_00059_00006.png\\n', 'data/images/00001_00010_00027.png\\n', 'data/images/00003_00010_00014.png\\n', 'data/images/00005_00056_00024.png\\n', 'data/images/00001_00039_00005.png\\n', 'data/images/00005_00043_00019.png\\n', 'data/images/00004_00018_00008.png\\n', 'data/images/00002_00061_00029.png\\n', 'data/images/00008_00029_00024.png\\n', 'data/images/00003_00019_00024.png\\n', 'data/images/00002_00050_00020.png\\n', 'data/images/00007_00028_00012.png\\n', 'data/images/00001_00046_00029.png\\n', 'data/images/00004_00046_00026.png\\n', 'data/images/00005_00059_00019.png\\n', 'data/images/00000_00005_00027.png\\n', 'data/images/00002_00047_00028.png\\n', 'data/images/00003_00031_00007.png\\n', 'data/images/00000_00003_00017.png\\n', 'data/images/00001_00052_00018.png\\n', 'data/images/00003_00042_00029.png\\n', 'data/images/00001_00020_00026.png\\n', 'data/images/00007_00038_00009.png\\n', 'data/images/00004_00030_00018.png\\n', 'data/images/00004_00035_00029.png\\n', 'data/images/00007_00005_00008.png\\n', 'data/images/00004_00017_00003.png\\n', 'data/images/00004_00053_00006.png\\n', 'data/images/00002_00068_00015.png\\n', 'data/images/00005_00031_00018.png\\n', 'data/images/00004_00041_00011.png\\n', 'data/images/00008_00013_00029.png\\n', 'data/images/00002_00052_00029.png\\n', 'data/images/00003_00013_00012.png\\n', 'data/images/00008_00023_00011.png\\n', 'data/images/00005_00002_00027.png\\n', 'data/images/00001_00006_00014.png\\n', 'data/images/00004_00007_00014.png\\n', 'data/images/00001_00006_00018.png\\n', 'data/images/00008_00023_00006.png\\n', 'data/images/00008_00012_00019.png\\n', 'data/images/00003_00004_00011.png\\n', 'data/images/00008_00024_00008.png\\n', 'data/images/00008_00042_00027.png\\n', 'data/images/00003_00020_00022.png\\n', 'data/images/00001_00007_00010.png\\n', 'data/images/00002_00050_00009.png\\n', 'data/images/00005_00038_00007.png\\n', 'data/images/00000_00006_00029.png\\n', 'data/images/00001_00010_00028.png\\n', 'data/images/00007_00023_00016.png\\n', 'data/images/00001_00016_00025.png\\n', 'data/images/00005_00003_00019.png\\n', 'data/images/00005_00053_00023.png\\n', 'data/images/00003_00005_00004.png\\n', 'data/images/00004_00061_00006.png\\n', 'data/images/00007_00029_00023.png\\n', 'data/images/00002_00031_00015.png\\n', 'data/images/00002_00005_00002.png\\n', 'data/images/00002_00015_00011.png\\n', 'data/images/00002_00002_00027.png\\n', 'data/images/00004_00053_00015.png\\n', 'data/images/00003_00016_00027.png\\n', 'data/images/00001_00055_00009.png\\n', 'data/images/00001_00015_00016.png\\n', 'data/images/00005_00033_00021.png\\n', 'data/images/00007_00037_00019.png\\n', 'data/images/00001_00003_00007.png\\n', 'data/images/00002_00031_00005.png\\n', 'data/images/00001_00005_00027.png\\n', 'data/images/00001_00045_00021.png\\n', 'data/images/00004_00061_00009.png\\n', 'data/images/00003_00022_00022.png\\n', 'data/images/00001_00015_00015.png\\n', 'data/images/00002_00024_00021.png\\n', 'data/images/00001_00055_00002.png\\n', 'data/images/00004_00064_00009.png\\n', 'data/images/00005_00006_00006.png\\n', 'data/images/00001_00003_00025.png\\n', 'data/images/00007_00015_00007.png\\n', 'data/images/00005_00035_00029.png\\n', 'data/images/00002_00068_00027.png\\n', 'data/images/00001_00050_00019.png\\n', 'data/images/00007_00010_00026.png\\n', 'data/images/00002_00043_00011.png\\n', 'data/images/00001_00058_00020.png\\n', 'data/images/00001_00072_00029.png\\n', 'data/images/00004_00008_00002.png\\n', 'data/images/00007_00047_00028.png\\n', 'data/images/00001_00053_00005.png\\n', 'data/images/00008_00003_00010.png\\n', 'data/images/00007_00000_00025.png\\n', 'data/images/00004_00056_00019.png\\n', 'data/images/00002_00021_00017.png\\n', 'data/images/00004_00016_00010.png\\n', 'data/images/00007_00032_00021.png\\n', 'data/images/00007_00005_00023.png\\n', 'data/images/00002_00065_00011.png\\n', 'data/images/00005_00049_00027.png\\n', 'data/images/00001_00053_00013.png\\n', 'data/images/00005_00018_00015.png\\n', 'data/images/00002_00042_00022.png\\n', 'data/images/00008_00029_00011.png\\n', 'data/images/00005_00059_00017.png\\n', 'data/images/00004_00047_00016.png\\n', 'data/images/00001_00014_00028.png\\n', 'data/images/00004_00065_00012.png\\n', 'data/images/00001_00056_00012.png\\n', 'data/images/00002_00040_00021.png\\n', 'data/images/00008_00004_00015.png\\n', 'data/images/00007_00003_00020.png\\n', 'data/images/00008_00014_00020.png\\n', 'data/images/00001_00017_00014.png\\n', 'data/images/00001_00006_00006.png\\n', 'data/images/00004_00019_00025.png\\n', 'data/images/00002_00029_00026.png\\n', 'data/images/00002_00021_00014.png\\n', 'data/images/00008_00038_00014.png\\n', 'data/images/00004_00025_00021.png\\n', 'data/images/00002_00055_00024.png\\n', 'data/images/00003_00024_00024.png\\n', 'data/images/00002_00064_00021.png\\n', 'data/images/00004_00024_00024.png\\n', 'data/images/00007_00005_00014.png\\n', 'data/images/00004_00050_00029.png\\n', 'data/images/00004_00055_00016.png\\n', 'data/images/00001_00042_00011.png\\n', 'data/images/00002_00034_00006.png\\n', 'data/images/00008_00031_00026.png\\n', 'data/images/00001_00018_00025.png\\n', 'data/images/00000_00004_00021.png\\n', 'data/images/00003_00030_00004.png\\n', 'data/images/00004_00013_00025.png\\n', 'data/images/00002_00050_00025.png\\n', 'data/images/00007_00024_00026.png\\n', 'data/images/00007_00014_00005.png\\n', 'data/images/00004_00036_00020.png\\n', 'data/images/00003_00045_00005.png\\n', 'data/images/00005_00028_00029.png\\n', 'data/images/00005_00018_00020.png\\n', 'data/images/00007_00028_00001.png\\n', 'data/images/00003_00036_00011.png\\n', 'data/images/00003_00009_00022.png\\n', 'data/images/00008_00020_00016.png\\n', 'data/images/00003_00037_00022.png\\n', 'data/images/00002_00026_00014.png\\n', 'data/images/00005_00041_00026.png\\n', 'data/images/00004_00039_00010.png\\n', 'data/images/00004_00029_00015.png\\n', 'data/images/00002_00022_00015.png\\n', 'data/images/00003_00002_00017.png\\n', 'data/images/00002_00047_00029.png\\n', 'data/images/00004_00028_00010.png\\n', 'data/images/00001_00018_00023.png\\n', 'data/images/00004_00035_00006.png\\n', 'data/images/00003_00023_00026.png\\n', 'data/images/00001_00044_00013.png\\n', 'data/images/00002_00038_00010.png\\n', 'data/images/00001_00049_00008.png\\n', 'data/images/00005_00021_00013.png\\n', 'data/images/00003_00027_00028.png\\n', 'data/images/00007_00021_00014.png\\n', 'data/images/00001_00042_00006.png\\n', 'data/images/00001_00013_00027.png\\n', 'data/images/00002_00007_00019.png\\n', 'data/images/00003_00016_00028.png\\n', 'data/images/00004_00050_00010.png\\n', 'data/images/00001_00032_00022.png\\n', 'data/images/00001_00008_00013.png\\n', 'data/images/00002_00073_00003.png\\n', 'data/images/00005_00015_00023.png\\n', 'data/images/00007_00018_00026.png\\n', 'data/images/00004_00051_00012.png\\n', 'data/images/00004_00037_00016.png\\n', 'data/images/00005_00060_00017.png\\n', 'data/images/00007_00017_00012.png\\n', 'data/images/00002_00035_00000.png\\n', 'data/images/00005_00030_00023.png\\n', 'data/images/00002_00072_00029.png\\n', 'data/images/00005_00023_00022.png\\n', 'data/images/00001_00030_00019.png\\n', 'data/images/00005_00015_00003.png\\n', 'data/images/00004_00001_00002.png\\n', 'data/images/00001_00014_00010.png\\n', 'data/images/00003_00025_00020.png\\n', 'data/images/00008_00007_00013.png\\n', 'data/images/00004_00002_00023.png\\n', 'data/images/00005_00034_00016.png\\n', 'data/images/00003_00003_00020.png\\n', 'data/images/00005_00022_00018.png\\n', 'data/images/00007_00036_00020.png\\n', 'data/images/00002_00003_00015.png\\n', 'data/images/00001_00008_00028.png\\n', 'data/images/00007_00006_00005.png\\n', 'data/images/00005_00044_00001.png\\n', 'data/images/00007_00030_00024.png\\n', 'data/images/00002_00038_00027.png\\n', 'data/images/00001_00008_00008.png\\n', 'data/images/00001_00058_00023.png\\n', 'data/images/00001_00021_00012.png\\n', 'data/images/00004_00006_00009.png\\n', 'data/images/00001_00054_00029.png\\n', 'data/images/00004_00017_00010.png\\n', 'data/images/00003_00002_00022.png\\n', 'data/images/00001_00001_00022.png\\n', 'data/images/00004_00021_00016.png\\n', 'data/images/00002_00042_00024.png\\n', 'data/images/00002_00023_00022.png\\n', 'data/images/00007_00029_00015.png\\n', 'data/images/00002_00052_00015.png\\n', 'data/images/00004_00061_00004.png\\n', 'data/images/00002_00056_00023.png\\n', 'data/images/00005_00053_00019.png\\n', 'data/images/00004_00036_00021.png\\n', 'data/images/00002_00029_00001.png\\n', 'data/images/00001_00052_00016.png\\n', 'data/images/00003_00000_00024.png\\n', 'data/images/00008_00003_00026.png\\n', 'data/images/00008_00023_00027.png\\n', 'data/images/00001_00040_00008.png\\n', 'data/images/00002_00007_00010.png\\n', 'data/images/00005_00016_00012.png\\n', 'data/images/00005_00032_00012.png\\n', 'data/images/00007_00004_00017.png\\n', 'data/images/00007_00009_00014.png\\n', 'data/images/00005_00022_00007.png\\n', 'data/images/00008_00008_00013.png\\n', 'data/images/00005_00018_00019.png\\n', 'data/images/00005_00008_00007.png\\n', 'data/images/00001_00064_00008.png\\n', 'data/images/00004_00027_00028.png\\n', 'data/images/00002_00062_00013.png\\n', 'data/images/00004_00053_00014.png\\n', 'data/images/00001_00027_00024.png\\n', 'data/images/00001_00023_00022.png\\n', 'data/images/00002_00025_00014.png\\n', 'data/images/00001_00004_00014.png\\n', 'data/images/00003_00003_00026.png\\n', 'data/images/00004_00012_00026.png\\n', 'data/images/00002_00041_00016.png\\n', 'data/images/00002_00072_00008.png\\n', 'data/images/00003_00046_00016.png\\n', 'data/images/00001_00030_00025.png\\n', 'data/images/00005_00010_00020.png\\n', 'data/images/00003_00006_00000.png\\n', 'data/images/00003_00034_00016.png\\n', 'data/images/00002_00026_00006.png\\n', 'data/images/00008_00010_00019.png\\n', 'data/images/00003_00006_00014.png\\n', 'data/images/00007_00034_00017.png\\n', 'data/images/00001_00036_00021.png\\n', 'data/images/00002_00003_00023.png\\n', 'data/images/00004_00052_00020.png\\n', 'data/images/00002_00041_00026.png\\n', 'data/images/00005_00053_00018.png\\n', 'data/images/00001_00046_00020.png\\n', 'data/images/00008_00029_00012.png\\n', 'data/images/00001_00073_00025.png\\n', 'data/images/00003_00019_00011.png\\n', 'data/images/00004_00051_00025.png\\n', 'data/images/00002_00059_00008.png\\n', 'data/images/00002_00002_00021.png\\n', 'data/images/00008_00002_00027.png\\n', 'data/images/00001_00014_00022.png\\n', 'data/images/00001_00013_00026.png\\n', 'data/images/00002_00028_00021.png\\n', 'data/images/00002_00015_00022.png\\n', 'data/images/00004_00048_00008.png\\n', 'data/images/00004_00055_00004.png\\n', 'data/images/00002_00046_00019.png\\n', 'data/images/00008_00012_00006.png\\n', 'data/images/00001_00066_00007.png\\n', 'data/images/00001_00033_00020.png\\n', 'data/images/00008_00015_00000.png\\n', 'data/images/00008_00019_00012.png\\n', 'data/images/00008_00009_00014.png\\n', 'data/images/00007_00024_00002.png\\n', 'data/images/00005_00022_00028.png\\n', 'data/images/00002_00030_00005.png\\n', 'data/images/00002_00007_00022.png\\n', 'data/images/00003_00045_00002.png\\n', 'data/images/00000_00003_00010.png\\n', 'data/images/00005_00054_00018.png\\n', 'data/images/00003_00013_00020.png\\n', 'data/images/00001_00067_00009.png\\n', 'data/images/00003_00038_00017.png\\n', 'data/images/00002_00046_00010.png\\n', 'data/images/00001_00035_00029.png\\n', 'data/images/00001_00048_00024.png\\n', 'data/images/00004_00026_00018.png\\n', 'data/images/00004_00011_00017.png\\n', 'data/images/00008_00019_00021.png\\n', 'data/images/00001_00028_00011.png\\n', 'data/images/00005_00016_00001.png\\n', 'data/images/00004_00047_00012.png\\n', 'data/images/00002_00000_00000.png\\n', 'data/images/00004_00029_00014.png\\n', 'data/images/00002_00020_00027.png\\n', 'data/images/00002_00066_00028.png\\n', 'data/images/00002_00055_00016.png\\n', 'data/images/00008_00032_00028.png\\n', 'data/images/00002_00035_00027.png\\n', 'data/images/00002_00001_00026.png\\n', 'data/images/00002_00073_00010.png\\n', 'data/images/00001_00061_00024.png\\n', 'data/images/00003_00029_00001.png\\n', 'data/images/00002_00032_00010.png\\n', 'data/images/00008_00022_00024.png\\n', 'data/images/00008_00032_00012.png\\n', 'data/images/00001_00030_00024.png\\n', 'data/images/00005_00008_00008.png\\n', 'data/images/00003_00035_00028.png\\n', 'data/images/00007_00021_00009.png\\n', 'data/images/00001_00036_00009.png\\n', 'data/images/00004_00020_00014.png\\n', 'data/images/00002_00027_00005.png\\n', 'data/images/00005_00061_00018.png\\n', 'data/images/00002_00005_00008.png\\n', 'data/images/00002_00017_00026.png\\n', 'data/images/00007_00007_00015.png\\n', 'data/images/00008_00042_00007.png\\n', 'data/images/00003_00005_00024.png\\n', 'data/images/00002_00059_00004.png\\n', 'data/images/00008_00042_00014.png\\n', 'data/images/00004_00007_00026.png\\n', 'data/images/00002_00050_00027.png\\n', 'data/images/00001_00041_00006.png\\n', 'data/images/00005_00035_00009.png\\n', 'data/images/00004_00057_00004.png\\n', 'data/images/00005_00040_00025.png\\n', 'data/images/00004_00055_00029.png\\n', 'data/images/00005_00042_00020.png\\n', 'data/images/00008_00018_00022.png\\n', 'data/images/00001_00036_00018.png\\n', 'data/images/00003_00007_00019.png\\n', 'data/images/00007_00002_00013.png\\n', 'data/images/00002_00041_00014.png\\n', 'data/images/00004_00061_00020.png\\n', 'data/images/00001_00007_00002.png\\n', 'data/images/00002_00035_00028.png\\n', 'data/images/00001_00060_00028.png\\n', 'data/images/00003_00012_00014.png\\n', 'data/images/00002_00066_00025.png\\n', 'data/images/00008_00016_00029.png\\n', 'data/images/00002_00018_00028.png\\n', 'data/images/00001_00005_00001.png\\n', 'data/images/00004_00000_00021.png\\n', 'data/images/00002_00000_00024.png\\n', 'data/images/00005_00014_00005.png\\n', 'data/images/00004_00052_00019.png\\n', 'data/images/00005_00032_00013.png\\n', 'data/images/00005_00048_00010.png\\n', 'data/images/00005_00005_00014.png\\n', 'data/images/00002_00021_00001.png\\n', 'data/images/00007_00018_00006.png\\n', 'data/images/00004_00024_00025.png\\n', 'data/images/00004_00023_00029.png\\n', 'data/images/00005_00049_00014.png\\n', 'data/images/00005_00029_00017.png\\n', 'data/images/00003_00016_00022.png\\n', 'data/images/00002_00001_00023.png\\n', 'data/images/00008_00023_00012.png\\n', 'data/images/00004_00001_00015.png\\n', 'data/images/00005_00016_00027.png\\n', 'data/images/00002_00017_00024.png\\n', 'data/images/00008_00040_00026.png\\n', 'data/images/00004_00035_00004.png\\n', 'data/images/00003_00043_00026.png\\n', 'data/images/00002_00048_00018.png\\n', 'data/images/00007_00042_00026.png\\n', 'data/images/00004_00051_00008.png\\n', 'data/images/00004_00037_00013.png\\n', 'data/images/00007_00027_00028.png\\n', 'data/images/00003_00028_00017.png\\n', 'data/images/00005_00004_00028.png\\n', 'data/images/00003_00028_00022.png\\n', 'data/images/00007_00002_00000.png\\n', 'data/images/00003_00012_00025.png\\n', 'data/images/00003_00028_00000.png\\n', 'data/images/00001_00013_00015.png\\n', 'data/images/00000_00001_00028.png\\n', 'data/images/00002_00046_00004.png\\n', 'data/images/00002_00058_00012.png\\n', 'data/images/00002_00073_00020.png\\n', 'data/images/00005_00038_00013.png\\n', 'data/images/00001_00064_00013.png\\n', 'data/images/00001_00026_00016.png\\n', 'data/images/00007_00010_00000.png\\n', 'data/images/00004_00018_00029.png\\n', 'data/images/00002_00057_00009.png\\n', 'data/images/00007_00023_00007.png\\n', 'data/images/00008_00013_00017.png\\n', 'data/images/00007_00016_00010.png\\n', 'data/images/00002_00065_00005.png\\n', 'data/images/00003_00019_00018.png\\n', 'data/images/00007_00000_00028.png\\n', 'data/images/00007_00032_00010.png\\n', 'data/images/00004_00046_00018.png\\n', 'data/images/00001_00006_00028.png\\n', 'data/images/00007_00037_00014.png\\n', 'data/images/00002_00019_00014.png\\n', 'data/images/00004_00024_00026.png\\n', 'data/images/00004_00036_00023.png\\n', 'data/images/00002_00052_00004.png\\n', 'data/images/00004_00040_00019.png\\n', 'data/images/00000_00005_00017.png\\n', 'data/images/00001_00041_00000.png\\n', 'data/images/00005_00049_00011.png\\n', 'data/images/00003_00010_00015.png\\n', 'data/images/00005_00042_00016.png\\n', 'data/images/00002_00039_00001.png\\n', 'data/images/00001_00015_00029.png\\n', 'data/images/00001_00071_00026.png\\n', 'data/images/00003_00019_00014.png\\n', 'data/images/00001_00001_00019.png\\n', 'data/images/00002_00002_00016.png\\n', 'data/images/00001_00044_00016.png\\n', 'data/images/00002_00070_00024.png\\n', 'data/images/00004_00010_00019.png\\n', 'data/images/00001_00003_00005.png\\n', 'data/images/00003_00007_00013.png\\n', 'data/images/00001_00012_00024.png\\n', 'data/images/00000_00006_00021.png\\n', 'data/images/00004_00051_00015.png\\n', 'data/images/00002_00043_00024.png\\n', 'data/images/00003_00022_00013.png\\n', 'data/images/00004_00004_00026.png\\n', 'data/images/00001_00029_00024.png\\n', 'data/images/00005_00008_00010.png\\n', 'data/images/00001_00054_00015.png\\n', 'data/images/00004_00014_00022.png\\n', 'data/images/00002_00054_00021.png\\n', 'data/images/00004_00041_00021.png\\n', 'data/images/00002_00029_00005.png\\n', 'data/images/00001_00018_00004.png\\n', 'data/images/00003_00041_00000.png\\n', 'data/images/00002_00049_00014.png\\n', 'data/images/00007_00019_00026.png\\n', 'data/images/00004_00019_00003.png\\n', 'data/images/00004_00061_00026.png\\n', 'data/images/00004_00039_00025.png\\n', 'data/images/00008_00037_00003.png\\n', 'data/images/00004_00048_00011.png\\n', 'data/images/00000_00005_00010.png\\n', 'data/images/00007_00011_00013.png\\n', 'data/images/00004_00007_00003.png\\n', 'data/images/00005_00000_00029.png\\n', 'data/images/00005_00042_00007.png\\n', 'data/images/00003_00028_00006.png\\n', 'data/images/00003_00021_00029.png\\n', 'data/images/00004_00042_00029.png\\n', 'data/images/00008_00005_00017.png\\n', 'data/images/00002_00074_00024.png\\n', 'data/images/00002_00031_00024.png\\n', 'data/images/00005_00044_00016.png\\n', 'data/images/00004_00062_00017.png\\n', 'data/images/00007_00002_00006.png\\n', 'data/images/00002_00026_00002.png\\n', 'data/images/00007_00036_00019.png\\n', 'data/images/00002_00007_00017.png\\n', 'data/images/00008_00003_00019.png\\n', 'data/images/00005_00005_00025.png\\n', 'data/images/00001_00024_00028.png\\n', 'data/images/00003_00015_00024.png\\n', 'data/images/00002_00045_00010.png\\n', 'data/images/00007_00033_00006.png\\n', 'data/images/00005_00015_00000.png\\n', 'data/images/00004_00050_00021.png\\n', 'data/images/00003_00008_00026.png\\n', 'data/images/00007_00018_00028.png\\n', 'data/images/00005_00046_00015.png\\n', 'data/images/00007_00038_00028.png\\n', 'data/images/00008_00029_00005.png\\n', 'data/images/00003_00015_00010.png\\n', 'data/images/00003_00005_00012.png\\n', 'data/images/00004_00015_00000.png\\n', 'data/images/00005_00041_00011.png\\n', 'data/images/00001_00054_00023.png\\n', 'data/images/00005_00017_00028.png\\n', 'data/images/00004_00034_00014.png\\n', 'data/images/00001_00057_00018.png\\n', 'data/images/00008_00033_00001.png\\n', 'data/images/00004_00047_00022.png\\n', 'data/images/00005_00031_00020.png\\n', 'data/images/00001_00005_00023.png\\n', 'data/images/00008_00019_00007.png\\n', 'data/images/00004_00065_00027.png\\n', 'data/images/00001_00041_00001.png\\n', 'data/images/00005_00012_00005.png\\n', 'data/images/00008_00037_00007.png\\n', 'data/images/00004_00007_00013.png\\n', 'data/images/00004_00035_00015.png\\n', 'data/images/00008_00031_00011.png\\n', 'data/images/00002_00059_00001.png\\n', 'data/images/00004_00045_00008.png\\n', 'data/images/00001_00071_00001.png\\n', 'data/images/00001_00059_00025.png\\n', 'data/images/00002_00000_00006.png\\n', 'data/images/00003_00003_00024.png\\n', 'data/images/00004_00053_00017.png\\n', 'data/images/00004_00013_00029.png\\n', 'data/images/00002_00043_00028.png\\n', 'data/images/00004_00039_00024.png\\n', 'data/images/00002_00012_00010.png\\n', 'data/images/00002_00046_00009.png\\n', 'data/images/00001_00044_00026.png\\n', 'data/images/00008_00037_00011.png\\n', 'data/images/00001_00041_00012.png\\n', 'data/images/00003_00039_00015.png\\n', 'data/images/00003_00007_00028.png\\n', 'data/images/00002_00060_00016.png\\n', 'data/images/00008_00025_00014.png\\n', 'data/images/00008_00032_00020.png\\n', 'data/images/00004_00045_00020.png\\n', 'data/images/00001_00037_00024.png\\n', 'data/images/00002_00058_00027.png\\n', 'data/images/00002_00073_00004.png\\n', 'data/images/00001_00050_00029.png\\n', 'data/images/00003_00028_00016.png\\n', 'data/images/00003_00007_00011.png\\n', 'data/images/00007_00045_00014.png\\n', 'data/images/00004_00056_00017.png\\n', 'data/images/00001_00057_00008.png\\n', 'data/images/00001_00027_00000.png\\n', 'data/images/00002_00039_00023.png\\n', 'data/images/00008_00037_00013.png\\n', 'data/images/00008_00014_00011.png\\n', 'data/images/00002_00015_00023.png\\n', 'data/images/00008_00005_00004.png\\n', 'data/images/00007_00019_00006.png\\n', 'data/images/00005_00045_00012.png\\n', 'data/images/00008_00007_00023.png\\n', 'data/images/00003_00007_00029.png\\n', 'data/images/00004_00059_00027.png\\n', 'data/images/00004_00056_00024.png\\n', 'data/images/00004_00051_00028.png\\n', 'data/images/00001_00034_00020.png\\n', 'data/images/00000_00006_00008.png\\n', 'data/images/00001_00007_00013.png\\n', 'data/images/00004_00039_00023.png\\n', 'data/images/00005_00021_00027.png\\n', 'data/images/00001_00021_00022.png\\n', 'data/images/00005_00044_00029.png\\n', 'data/images/00001_00024_00006.png\\n', 'data/images/00008_00036_00006.png\\n', 'data/images/00004_00054_00024.png\\n', 'data/images/00005_00050_00009.png\\n', 'data/images/00008_00016_00008.png\\n', 'data/images/00007_00036_00021.png\\n', 'data/images/00001_00019_00021.png\\n', 'data/images/00007_00022_00006.png\\n', 'data/images/00004_00010_00007.png\\n', 'data/images/00001_00033_00016.png\\n', 'data/images/00002_00035_00026.png\\n', 'data/images/00002_00040_00023.png\\n', 'data/images/00003_00012_00021.png\\n', 'data/images/00001_00008_00011.png\\n', 'data/images/00007_00017_00025.png\\n', 'data/images/00003_00045_00018.png\\n', 'data/images/00005_00000_00000.png\\n', 'data/images/00001_00039_00002.png\\n', 'data/images/00000_00002_00014.png\\n', 'data/images/00004_00040_00025.png\\n', 'data/images/00007_00031_00011.png\\n', 'data/images/00008_00036_00014.png\\n', 'data/images/00003_00013_00017.png\\n', 'data/images/00008_00012_00018.png\\n', 'data/images/00003_00036_00015.png\\n', 'data/images/00000_00001_00005.png\\n', 'data/images/00003_00045_00014.png\\n', 'data/images/00002_00054_00024.png\\n', 'data/images/00007_00007_00014.png\\n', 'data/images/00001_00044_00006.png\\n', 'data/images/00008_00031_00024.png\\n', 'data/images/00001_00018_00012.png\\n', 'data/images/00002_00066_00010.png\\n', 'data/images/00004_00020_00015.png\\n', 'data/images/00001_00029_00019.png\\n', 'data/images/00002_00043_00023.png\\n', 'data/images/00002_00032_00025.png\\n', 'data/images/00002_00066_00024.png\\n', 'data/images/00002_00061_00024.png\\n', 'data/images/00002_00053_00028.png\\n', 'data/images/00002_00058_00004.png\\n', 'data/images/00004_00019_00013.png\\n', 'data/images/00007_00023_00019.png\\n', 'data/images/00001_00027_00019.png\\n', 'data/images/00000_00004_00026.png\\n', 'data/images/00002_00024_00015.png\\n', 'data/images/00003_00007_00022.png\\n', 'data/images/00001_00007_00021.png\\n', 'data/images/00003_00022_00004.png\\n', 'data/images/00002_00035_00010.png\\n', 'data/images/00007_00040_00016.png\\n', 'data/images/00007_00022_00026.png\\n', 'data/images/00002_00065_00019.png\\n', 'data/images/00004_00013_00021.png\\n', 'data/images/00005_00060_00021.png\\n', 'data/images/00007_00023_00029.png\\n', 'data/images/00002_00016_00025.png\\n', 'data/images/00001_00004_00016.png\\n', 'data/images/00008_00032_00004.png\\n', 'data/images/00004_00012_00017.png\\n', 'data/images/00004_00009_00007.png\\n', 'data/images/00002_00038_00009.png\\n', 'data/images/00008_00013_00003.png\\n', 'data/images/00002_00050_00029.png\\n', 'data/images/00007_00038_00004.png\\n', 'data/images/00004_00034_00028.png\\n', 'data/images/00007_00039_00024.png\\n', 'data/images/00004_00064_00027.png\\n', 'data/images/00001_00023_00006.png\\n', 'data/images/00004_00063_00029.png\\n', 'data/images/00008_00036_00016.png\\n', 'data/images/00007_00042_00018.png\\n', 'data/images/00001_00039_00018.png\\n', 'data/images/00002_00044_00023.png\\n', 'data/images/00002_00036_00009.png\\n', 'data/images/00005_00021_00006.png\\n', 'data/images/00004_00049_00014.png\\n', 'data/images/00004_00038_00015.png\\n', 'data/images/00002_00026_00026.png\\n', 'data/images/00001_00031_00011.png\\n', 'data/images/00001_00060_00010.png\\n', 'data/images/00003_00041_00001.png\\n', 'data/images/00007_00033_00027.png\\n', 'data/images/00008_00015_00023.png\\n', 'data/images/00003_00014_00028.png\\n', 'data/images/00008_00000_00029.png\\n', 'data/images/00004_00041_00013.png\\n', 'data/images/00005_00009_00017.png\\n', 'data/images/00002_00007_00018.png\\n', 'data/images/00000_00002_00002.png\\n', 'data/images/00002_00058_00028.png\\n', 'data/images/00001_00057_00003.png\\n', 'data/images/00004_00029_00011.png\\n', 'data/images/00007_00025_00016.png\\n', 'data/images/00002_00011_00029.png\\n', 'data/images/00004_00002_00010.png\\n', 'data/images/00004_00043_00012.png\\n', 'data/images/00002_00036_00027.png\\n', 'data/images/00007_00016_00003.png\\n', 'data/images/00007_00035_00026.png\\n', 'data/images/00002_00050_00005.png\\n', 'data/images/00001_00059_00013.png\\n', 'data/images/00001_00003_00027.png\\n', 'data/images/00001_00009_00024.png\\n', 'data/images/00007_00028_00023.png\\n', 'data/images/00002_00002_00017.png\\n', 'data/images/00001_00033_00007.png\\n', 'data/images/00003_00001_00022.png\\n', 'data/images/00004_00002_00019.png\\n', 'data/images/00008_00046_00010.png\\n', 'data/images/00001_00030_00023.png\\n', 'data/images/00004_00059_00023.png\\n', 'data/images/00008_00013_00028.png\\n', 'data/images/00007_00007_00008.png\\n', 'data/images/00007_00000_00005.png\\n', 'data/images/00000_00006_00009.png\\n', 'data/images/00004_00019_00026.png\\n', 'data/images/00003_00013_00029.png\\n', 'data/images/00008_00029_00019.png\\n', 'data/images/00007_00004_00025.png\\n', 'data/images/00002_00004_00001.png\\n', 'data/images/00001_00060_00021.png\\n', 'data/images/00004_00064_00023.png\\n', 'data/images/00002_00013_00028.png\\n', 'data/images/00007_00047_00014.png\\n', 'data/images/00008_00045_00027.png\\n', 'data/images/00001_00045_00022.png\\n', 'data/images/00008_00008_00028.png\\n', 'data/images/00005_00005_00003.png\\n', 'data/images/00001_00011_00029.png\\n', 'data/images/00001_00058_00013.png\\n', 'data/images/00008_00024_00024.png\\n', 'data/images/00004_00029_00009.png\\n', 'data/images/00001_00047_00021.png\\n', 'data/images/00001_00045_00006.png\\n', 'data/images/00008_00001_00013.png\\n', 'data/images/00003_00004_00025.png\\n', 'data/images/00005_00018_00028.png\\n', 'data/images/00003_00041_00026.png\\n', 'data/images/00004_00038_00022.png\\n', 'data/images/00005_00060_00028.png\\n', 'data/images/00002_00074_00029.png\\n', 'data/images/00008_00042_00026.png\\n', 'data/images/00002_00064_00012.png\\n', 'data/images/00001_00007_00023.png\\n', 'data/images/00002_00012_00016.png\\n', 'data/images/00002_00036_00012.png\\n', 'data/images/00002_00061_00008.png\\n', 'data/images/00007_00028_00013.png\\n', 'data/images/00004_00026_00016.png\\n', 'data/images/00005_00000_00025.png\\n', 'data/images/00007_00023_00028.png\\n', 'data/images/00001_00053_00020.png\\n', 'data/images/00004_00014_00015.png\\n', 'data/images/00004_00039_00020.png\\n', 'data/images/00001_00025_00026.png\\n', 'data/images/00002_00010_00021.png\\n', 'data/images/00002_00062_00000.png\\n', 'data/images/00005_00007_00006.png\\n', 'data/images/00002_00059_00013.png\\n', 'data/images/00004_00053_00019.png\\n', 'data/images/00005_00033_00028.png\\n', 'data/images/00001_00018_00020.png\\n', 'data/images/00004_00040_00013.png\\n', 'data/images/00004_00064_00006.png\\n', 'data/images/00005_00034_00013.png\\n', 'data/images/00001_00034_00003.png\\n', 'data/images/00001_00036_00020.png\\n', 'data/images/00007_00037_00022.png\\n', 'data/images/00001_00045_00001.png\\n', 'data/images/00001_00059_00017.png\\n', 'data/images/00001_00016_00023.png\\n', 'data/images/00005_00038_00026.png\\n', 'data/images/00001_00042_00009.png\\n', 'data/images/00001_00047_00029.png\\n', 'data/images/00004_00063_00027.png\\n', 'data/images/00002_00069_00011.png\\n', 'data/images/00008_00034_00026.png\\n', 'data/images/00004_00019_00008.png\\n', 'data/images/00008_00008_00000.png\\n', 'data/images/00003_00000_00007.png\\n', 'data/images/00001_00016_00021.png\\n', 'data/images/00004_00056_00027.png\\n', 'data/images/00003_00030_00012.png\\n', 'data/images/00002_00040_00019.png\\n', 'data/images/00004_00058_00012.png\\n', 'data/images/00005_00000_00021.png\\n', 'data/images/00002_00037_00029.png\\n', 'data/images/00003_00006_00016.png\\n', 'data/images/00003_00028_00019.png\\n', 'data/images/00002_00020_00017.png\\n', 'data/images/00001_00060_00017.png\\n', 'data/images/00001_00053_00021.png\\n', 'data/images/00002_00052_00006.png\\n', 'data/images/00002_00026_00000.png\\n', 'data/images/00008_00019_00018.png\\n', 'data/images/00005_00048_00024.png\\n', 'data/images/00003_00045_00010.png\\n', 'data/images/00001_00067_00027.png\\n', 'data/images/00005_00038_00025.png\\n', 'data/images/00004_00005_00004.png\\n', 'data/images/00004_00057_00010.png\\n', 'data/images/00008_00009_00016.png\\n', 'data/images/00003_00000_00004.png\\n', 'data/images/00007_00000_00016.png\\n', 'data/images/00001_00007_00009.png\\n', 'data/images/00004_00048_00010.png\\n', 'data/images/00001_00070_00009.png\\n', 'data/images/00002_00038_00011.png\\n', 'data/images/00002_00049_00027.png\\n', 'data/images/00001_00059_00002.png\\n', 'data/images/00005_00061_00015.png\\n', 'data/images/00000_00001_00029.png\\n', 'data/images/00002_00061_00028.png\\n', 'data/images/00001_00052_00023.png\\n', 'data/images/00003_00023_00009.png\\n', 'data/images/00005_00000_00007.png\\n', 'data/images/00003_00034_00008.png\\n', 'data/images/00002_00018_00020.png\\n', 'data/images/00008_00036_00015.png\\n', 'data/images/00001_00010_00004.png\\n', 'data/images/00003_00002_00010.png\\n', 'data/images/00007_00021_00005.png\\n', 'data/images/00003_00007_00016.png\\n', 'data/images/00001_00015_00006.png\\n', 'data/images/00004_00033_00019.png\\n', 'data/images/00001_00072_00022.png\\n', 'data/images/00002_00000_00029.png\\n', 'data/images/00007_00007_00016.png\\n', 'data/images/00007_00036_00029.png\\n', 'data/images/00002_00031_00020.png\\n', 'data/images/00002_00004_00002.png\\n', 'data/images/00002_00060_00013.png\\n', 'data/images/00003_00004_00024.png\\n', 'data/images/00004_00055_00024.png\\n', 'data/images/00002_00072_00012.png\\n', 'data/images/00005_00018_00022.png\\n', 'data/images/00003_00040_00007.png\\n', 'data/images/00000_00006_00006.png\\n', 'data/images/00007_00011_00012.png\\n', 'data/images/00001_00073_00024.png\\n', 'data/images/00001_00050_00011.png\\n', 'data/images/00007_00002_00028.png\\n', 'data/images/00003_00035_00004.png\\n', 'data/images/00004_00050_00024.png\\n', 'data/images/00008_00013_00020.png\\n', 'data/images/00001_00038_00000.png\\n', 'data/images/00002_00060_00008.png\\n', 'data/images/00003_00021_00021.png\\n', 'data/images/00005_00013_00026.png\\n', 'data/images/00002_00015_00014.png\\n', 'data/images/00005_00029_00021.png\\n', 'data/images/00003_00005_00008.png\\n', 'data/images/00003_00000_00020.png\\n', 'data/images/00002_00006_00023.png\\n', 'data/images/00007_00040_00025.png\\n', 'data/images/00008_00025_00019.png\\n', 'data/images/00000_00006_00025.png\\n', 'data/images/00005_00056_00021.png\\n', 'data/images/00002_00006_00017.png\\n', 'data/images/00002_00036_00003.png\\n', 'data/images/00002_00023_00005.png\\n', 'data/images/00002_00045_00024.png\\n', 'data/images/00002_00026_00017.png\\n', 'data/images/00007_00022_00007.png\\n', 'data/images/00004_00012_00015.png\\n', 'data/images/00000_00004_00007.png\\n', 'data/images/00005_00054_00014.png\\n', 'data/images/00005_00049_00029.png\\n', 'data/images/00008_00045_00010.png\\n', 'data/images/00003_00020_00015.png\\n', 'data/images/00001_00015_00022.png\\n', 'data/images/00005_00057_00008.png\\n', 'data/images/00005_00015_00001.png\\n', 'data/images/00003_00019_00009.png\\n', 'data/images/00004_00007_00002.png\\n', 'data/images/00004_00004_00008.png\\n', 'data/images/00008_00004_00022.png\\n', 'data/images/00001_00049_00012.png\\n', 'data/images/00007_00007_00028.png\\n', 'data/images/00005_00030_00015.png\\n', 'data/images/00007_00019_00019.png\\n', 'data/images/00002_00062_00024.png\\n', 'data/images/00003_00010_00022.png\\n', 'data/images/00002_00049_00009.png\\n', 'data/images/00003_00043_00024.png\\n', 'data/images/00004_00062_00007.png\\n', 'data/images/00002_00006_00024.png\\n', 'data/images/00005_00057_00020.png\\n', 'data/images/00003_00019_00008.png\\n', 'data/images/00005_00059_00013.png\\n', 'data/images/00001_00051_00029.png\\n', 'data/images/00003_00045_00007.png\\n', 'data/images/00002_00011_00015.png\\n', 'data/images/00002_00034_00013.png\\n', 'data/images/00007_00009_00021.png\\n', 'data/images/00005_00005_00029.png\\n', 'data/images/00001_00024_00026.png\\n', 'data/images/00007_00002_00008.png\\n', 'data/images/00003_00008_00016.png\\n', 'data/images/00001_00047_00007.png\\n', 'data/images/00004_00041_00014.png\\n', 'data/images/00001_00025_00003.png\\n', 'data/images/00005_00058_00027.png\\n', 'data/images/00005_00015_00019.png\\n', 'data/images/00007_00040_00017.png\\n', 'data/images/00008_00017_00025.png\\n', 'data/images/00008_00013_00002.png\\n', 'data/images/00005_00042_00010.png\\n', 'data/images/00004_00028_00008.png\\n', 'data/images/00003_00013_00008.png\\n', 'data/images/00001_00018_00026.png\\n', 'data/images/00004_00026_00015.png\\n', 'data/images/00004_00018_00013.png\\n', 'data/images/00003_00003_00007.png\\n', 'data/images/00004_00006_00008.png\\n', 'data/images/00003_00005_00023.png\\n', 'data/images/00001_00016_00022.png\\n', 'data/images/00002_00034_00026.png\\n', 'data/images/00002_00032_00002.png\\n', 'data/images/00002_00023_00015.png\\n', 'data/images/00004_00032_00018.png\\n', 'data/images/00005_00022_00023.png\\n', 'data/images/00008_00041_00019.png\\n', 'data/images/00001_00044_00002.png\\n', 'data/images/00004_00045_00013.png\\n', 'data/images/00001_00045_00012.png\\n', 'data/images/00003_00017_00006.png\\n', 'data/images/00008_00019_00023.png\\n', 'data/images/00001_00061_00026.png\\n', 'data/images/00001_00017_00006.png\\n', 'data/images/00003_00014_00021.png\\n', 'data/images/00001_00012_00029.png\\n', 'data/images/00001_00051_00015.png\\n', 'data/images/00007_00008_00018.png\\n', 'data/images/00001_00009_00006.png\\n', 'data/images/00007_00035_00013.png\\n', 'data/images/00001_00007_00024.png\\n', 'data/images/00003_00008_00008.png\\n', 'data/images/00001_00022_00008.png\\n', 'data/images/00005_00054_00002.png\\n', 'data/images/00001_00049_00009.png\\n', 'data/images/00003_00009_00011.png\\n', 'data/images/00003_00032_00010.png\\n', 'data/images/00002_00070_00007.png\\n', 'data/images/00007_00010_00008.png\\n', 'data/images/00004_00031_00015.png\\n', 'data/images/00001_00021_00016.png\\n', 'data/images/00004_00026_00024.png\\n', 'data/images/00008_00020_00025.png\\n', 'data/images/00004_00009_00006.png\\n']\n"
          ],
          "name": "stdout"
        }
      ]
    },
    {
      "cell_type": "code",
      "metadata": {
        "colab": {
          "base_uri": "https://localhost:8080/"
        },
        "id": "m5NRko720mPY",
        "outputId": "30be9d87-e41e-47ae-dd8e-adeeed662636"
      },
      "source": [
        "f = open(VAL_TEXT_FILE, 'r')\n",
        "print(f.readlines())"
      ],
      "execution_count": null,
      "outputs": [
        {
          "output_type": "stream",
          "text": [
            "['data/images/00001_00026_00025.png\\n', 'data/images/00001_00020_00017.png\\n', 'data/images/00005_00047_00001.png\\n', 'data/images/00001_00030_00011.png\\n', 'data/images/00008_00038_00019.png\\n', 'data/images/00003_00041_00029.png\\n', 'data/images/00001_00060_00026.png\\n', 'data/images/00000_00004_00006.png\\n', 'data/images/00008_00023_00022.png\\n', 'data/images/00002_00074_00027.png\\n', 'data/images/00002_00032_00027.png\\n', 'data/images/00003_00014_00022.png\\n', 'data/images/00008_00045_00012.png\\n', 'data/images/00002_00021_00023.png\\n', 'data/images/00008_00009_00012.png\\n', 'data/images/00003_00016_00029.png\\n', 'data/images/00001_00056_00017.png\\n', 'data/images/00002_00024_00020.png\\n', 'data/images/00005_00023_00018.png\\n', 'data/images/00004_00042_00005.png\\n', 'data/images/00004_00059_00011.png\\n', 'data/images/00008_00022_00017.png\\n', 'data/images/00001_00068_00016.png\\n', 'data/images/00003_00040_00012.png\\n', 'data/images/00003_00028_00020.png\\n', 'data/images/00003_00017_00018.png\\n', 'data/images/00001_00002_00014.png\\n', 'data/images/00007_00023_00008.png\\n', 'data/images/00001_00072_00015.png\\n', 'data/images/00002_00003_00026.png\\n', 'data/images/00002_00066_00003.png\\n', 'data/images/00005_00010_00023.png\\n', 'data/images/00007_00026_00021.png\\n', 'data/images/00007_00005_00022.png\\n', 'data/images/00007_00031_00027.png\\n', 'data/images/00005_00043_00022.png\\n', 'data/images/00002_00028_00029.png\\n', 'data/images/00003_00016_00010.png\\n', 'data/images/00002_00004_00019.png\\n', 'data/images/00003_00034_00000.png\\n', 'data/images/00001_00047_00017.png\\n', 'data/images/00002_00037_00018.png\\n', 'data/images/00002_00009_00022.png\\n', 'data/images/00001_00017_00025.png\\n', 'data/images/00005_00060_00019.png\\n', 'data/images/00007_00036_00007.png\\n', 'data/images/00007_00008_00020.png\\n', 'data/images/00008_00031_00015.png\\n', 'data/images/00005_00011_00009.png\\n', 'data/images/00008_00037_00014.png\\n', 'data/images/00007_00010_00023.png\\n', 'data/images/00005_00059_00004.png\\n', 'data/images/00002_00066_00005.png\\n', 'data/images/00002_00035_00005.png\\n', 'data/images/00004_00025_00015.png\\n', 'data/images/00002_00017_00018.png\\n', 'data/images/00001_00012_00015.png\\n', 'data/images/00004_00002_00015.png\\n', 'data/images/00001_00048_00005.png\\n', 'data/images/00001_00046_00025.png\\n', 'data/images/00007_00024_00011.png\\n', 'data/images/00001_00026_00006.png\\n', 'data/images/00005_00031_00011.png\\n', 'data/images/00000_00002_00013.png\\n', 'data/images/00004_00022_00016.png\\n', 'data/images/00002_00003_00020.png\\n', 'data/images/00008_00028_00029.png\\n', 'data/images/00004_00029_00018.png\\n', 'data/images/00004_00040_00016.png\\n', 'data/images/00007_00016_00014.png\\n', 'data/images/00003_00034_00027.png\\n', 'data/images/00008_00046_00007.png\\n', 'data/images/00000_00004_00009.png\\n', 'data/images/00005_00037_00022.png\\n', 'data/images/00003_00004_00027.png\\n', 'data/images/00002_00031_00022.png\\n', 'data/images/00001_00047_00004.png\\n', 'data/images/00004_00000_00003.png\\n', 'data/images/00002_00049_00026.png\\n', 'data/images/00001_00057_00019.png\\n', 'data/images/00004_00047_00009.png\\n', 'data/images/00003_00001_00029.png\\n', 'data/images/00008_00001_00003.png\\n', 'data/images/00004_00034_00027.png\\n', 'data/images/00002_00004_00003.png\\n', 'data/images/00007_00042_00022.png\\n', 'data/images/00005_00032_00022.png\\n', 'data/images/00007_00008_00006.png\\n', 'data/images/00001_00054_00024.png\\n', 'data/images/00003_00012_00013.png\\n', 'data/images/00001_00017_00000.png\\n', 'data/images/00003_00013_00023.png\\n', 'data/images/00002_00045_00028.png\\n', 'data/images/00005_00043_00007.png\\n', 'data/images/00003_00043_00012.png\\n', 'data/images/00003_00037_00025.png\\n', 'data/images/00001_00066_00015.png\\n', 'data/images/00004_00038_00005.png\\n', 'data/images/00001_00043_00015.png\\n', 'data/images/00003_00019_00012.png\\n', 'data/images/00002_00065_00010.png\\n', 'data/images/00001_00016_00015.png\\n', 'data/images/00002_00012_00014.png\\n', 'data/images/00007_00003_00008.png\\n', 'data/images/00008_00035_00021.png\\n', 'data/images/00005_00021_00014.png\\n', 'data/images/00008_00044_00017.png\\n', 'data/images/00008_00006_00021.png\\n', 'data/images/00001_00056_00025.png\\n', 'data/images/00001_00064_00022.png\\n', 'data/images/00005_00031_00005.png\\n', 'data/images/00003_00012_00018.png\\n', 'data/images/00005_00017_00025.png\\n', 'data/images/00007_00024_00004.png\\n', 'data/images/00002_00038_00012.png\\n', 'data/images/00005_00021_00022.png\\n', 'data/images/00007_00039_00027.png\\n', 'data/images/00005_00055_00029.png\\n', 'data/images/00001_00061_00006.png\\n', 'data/images/00002_00020_00026.png\\n', 'data/images/00002_00007_00029.png\\n', 'data/images/00008_00046_00024.png\\n', 'data/images/00008_00008_00011.png\\n', 'data/images/00004_00060_00000.png\\n', 'data/images/00002_00019_00029.png\\n', 'data/images/00004_00038_00009.png\\n', 'data/images/00008_00042_00015.png\\n', 'data/images/00002_00066_00014.png\\n', 'data/images/00004_00042_00012.png\\n', 'data/images/00007_00019_00020.png\\n', 'data/images/00001_00027_00028.png\\n', 'data/images/00003_00043_00007.png\\n', 'data/images/00003_00003_00022.png\\n', 'data/images/00002_00070_00009.png\\n', 'data/images/00008_00046_00018.png\\n', 'data/images/00003_00001_00026.png\\n', 'data/images/00007_00015_00000.png\\n', 'data/images/00002_00020_00020.png\\n', 'data/images/00007_00027_00014.png\\n', 'data/images/00007_00011_00010.png\\n', 'data/images/00002_00024_00017.png\\n', 'data/images/00002_00065_00028.png\\n', 'data/images/00005_00015_00016.png\\n', 'data/images/00007_00025_00014.png\\n', 'data/images/00008_00033_00024.png\\n', 'data/images/00003_00000_00002.png\\n', 'data/images/00001_00027_00007.png\\n', 'data/images/00008_00029_00018.png\\n', 'data/images/00001_00066_00011.png\\n', 'data/images/00002_00051_00014.png\\n', 'data/images/00003_00014_00029.png\\n', 'data/images/00002_00000_00011.png\\n', 'data/images/00002_00032_00011.png\\n', 'data/images/00001_00045_00028.png\\n', 'data/images/00008_00037_00018.png\\n', 'data/images/00004_00011_00010.png\\n', 'data/images/00002_00027_00003.png\\n', 'data/images/00001_00055_00012.png\\n', 'data/images/00002_00029_00017.png\\n', 'data/images/00005_00056_00002.png\\n', 'data/images/00005_00017_00021.png\\n', 'data/images/00004_00054_00021.png\\n', 'data/images/00008_00030_00019.png\\n', 'data/images/00004_00036_00010.png\\n', 'data/images/00003_00032_00006.png\\n', 'data/images/00002_00060_00014.png\\n', 'data/images/00004_00036_00019.png\\n', 'data/images/00005_00061_00023.png\\n', 'data/images/00001_00005_00010.png\\n', 'data/images/00007_00028_00022.png\\n', 'data/images/00000_00001_00011.png\\n', 'data/images/00001_00073_00018.png\\n', 'data/images/00004_00005_00012.png\\n', 'data/images/00008_00010_00005.png\\n', 'data/images/00005_00031_00028.png\\n', 'data/images/00003_00028_00002.png\\n', 'data/images/00008_00004_00023.png\\n', 'data/images/00003_00040_00013.png\\n', 'data/images/00002_00016_00004.png\\n', 'data/images/00005_00008_00028.png\\n', 'data/images/00007_00006_00023.png\\n', 'data/images/00001_00013_00000.png\\n', 'data/images/00005_00000_00024.png\\n', 'data/images/00004_00040_00021.png\\n', 'data/images/00005_00031_00027.png\\n', 'data/images/00002_00032_00012.png\\n', 'data/images/00005_00017_00024.png\\n', 'data/images/00004_00043_00014.png\\n', 'data/images/00002_00028_00023.png\\n', 'data/images/00007_00013_00026.png\\n', 'data/images/00004_00028_00011.png\\n', 'data/images/00002_00003_00016.png\\n', 'data/images/00004_00041_00009.png\\n', 'data/images/00002_00005_00023.png\\n', 'data/images/00008_00013_00000.png\\n', 'data/images/00001_00048_00012.png\\n', 'data/images/00004_00004_00023.png\\n', 'data/images/00003_00039_00028.png\\n', 'data/images/00001_00017_00008.png\\n', 'data/images/00002_00020_00004.png\\n', 'data/images/00002_00061_00026.png\\n', 'data/images/00005_00018_00008.png\\n', 'data/images/00003_00036_00021.png\\n', 'data/images/00004_00045_00002.png\\n', 'data/images/00004_00005_00009.png\\n', 'data/images/00005_00001_00029.png\\n', 'data/images/00005_00059_00008.png\\n', 'data/images/00002_00073_00012.png\\n', 'data/images/00002_00044_00002.png\\n', 'data/images/00003_00018_00013.png\\n', 'data/images/00003_00026_00018.png\\n', 'data/images/00001_00008_00001.png\\n', 'data/images/00004_00009_00013.png\\n', 'data/images/00002_00048_00020.png\\n', 'data/images/00003_00004_00028.png\\n', 'data/images/00005_00019_00016.png\\n', 'data/images/00005_00027_00023.png\\n', 'data/images/00002_00035_00011.png\\n', 'data/images/00001_00037_00022.png\\n', 'data/images/00001_00046_00021.png\\n', 'data/images/00005_00005_00019.png\\n', 'data/images/00002_00007_00016.png\\n', 'data/images/00001_00042_00019.png\\n', 'data/images/00001_00049_00027.png\\n', 'data/images/00008_00002_00028.png\\n', 'data/images/00001_00027_00022.png\\n', 'data/images/00005_00035_00016.png\\n', 'data/images/00007_00018_00018.png\\n', 'data/images/00004_00058_00029.png\\n', 'data/images/00002_00026_00024.png\\n', 'data/images/00005_00034_00021.png\\n', 'data/images/00001_00004_00008.png\\n', 'data/images/00001_00031_00027.png\\n', 'data/images/00004_00045_00004.png\\n', 'data/images/00007_00019_00027.png\\n', 'data/images/00003_00039_00029.png\\n', 'data/images/00008_00019_00024.png\\n', 'data/images/00008_00015_00024.png\\n', 'data/images/00001_00010_00016.png\\n', 'data/images/00008_00034_00019.png\\n', 'data/images/00002_00028_00028.png\\n', 'data/images/00005_00019_00022.png\\n', 'data/images/00005_00052_00017.png\\n', 'data/images/00003_00017_00027.png\\n', 'data/images/00002_00068_00020.png\\n', 'data/images/00008_00019_00025.png\\n', 'data/images/00001_00029_00010.png\\n', 'data/images/00003_00044_00019.png\\n', 'data/images/00004_00055_00028.png\\n', 'data/images/00001_00018_00007.png\\n', 'data/images/00004_00046_00028.png\\n', 'data/images/00002_00012_00013.png\\n', 'data/images/00007_00018_00022.png\\n', 'data/images/00002_00024_00011.png\\n', 'data/images/00005_00059_00009.png\\n', 'data/images/00001_00032_00026.png\\n', 'data/images/00004_00021_00006.png\\n', 'data/images/00004_00039_00019.png\\n', 'data/images/00007_00024_00017.png\\n', 'data/images/00002_00050_00028.png\\n', 'data/images/00003_00037_00006.png\\n', 'data/images/00003_00013_00010.png\\n', 'data/images/00004_00019_00005.png\\n', 'data/images/00002_00058_00003.png\\n', 'data/images/00003_00032_00024.png\\n', 'data/images/00003_00036_00010.png\\n', 'data/images/00004_00009_00000.png\\n', 'data/images/00005_00058_00021.png\\n', 'data/images/00001_00071_00020.png\\n', 'data/images/00004_00065_00016.png\\n', 'data/images/00001_00017_00020.png\\n', 'data/images/00007_00030_00027.png\\n', 'data/images/00003_00035_00017.png\\n', 'data/images/00007_00003_00009.png\\n', 'data/images/00001_00025_00023.png\\n', 'data/images/00002_00074_00013.png\\n', 'data/images/00008_00019_00013.png\\n', 'data/images/00002_00031_00027.png\\n', 'data/images/00002_00021_00027.png\\n', 'data/images/00002_00061_00025.png\\n', 'data/images/00007_00011_00025.png\\n', 'data/images/00005_00040_00019.png\\n', 'data/images/00002_00051_00023.png\\n', 'data/images/00002_00035_00018.png\\n', 'data/images/00002_00016_00019.png\\n', 'data/images/00004_00016_00008.png\\n', 'data/images/00002_00042_00019.png\\n', 'data/images/00001_00032_00014.png\\n', 'data/images/00003_00027_00000.png\\n', 'data/images/00004_00000_00023.png\\n', 'data/images/00004_00043_00024.png\\n', 'data/images/00001_00038_00028.png\\n', 'data/images/00004_00015_00028.png\\n', 'data/images/00008_00045_00022.png\\n', 'data/images/00003_00038_00005.png\\n', 'data/images/00004_00051_00007.png\\n', 'data/images/00007_00020_00020.png\\n', 'data/images/00007_00043_00019.png\\n', 'data/images/00002_00061_00007.png\\n', 'data/images/00003_00008_00029.png\\n', 'data/images/00007_00012_00011.png\\n', 'data/images/00005_00008_00006.png\\n', 'data/images/00001_00007_00004.png\\n', 'data/images/00008_00043_00027.png\\n', 'data/images/00005_00023_00010.png\\n', 'data/images/00002_00019_00004.png\\n', 'data/images/00001_00071_00003.png\\n', 'data/images/00008_00001_00012.png\\n', 'data/images/00002_00046_00024.png\\n', 'data/images/00001_00000_00013.png\\n', 'data/images/00002_00029_00015.png\\n', 'data/images/00004_00040_00003.png\\n', 'data/images/00005_00058_00003.png\\n', 'data/images/00005_00003_00025.png\\n', 'data/images/00003_00039_00024.png\\n', 'data/images/00003_00037_00010.png\\n', 'data/images/00002_00059_00002.png\\n', 'data/images/00002_00024_00014.png\\n', 'data/images/00005_00035_00004.png\\n', 'data/images/00004_00063_00023.png\\n', 'data/images/00001_00070_00003.png\\n', 'data/images/00001_00057_00001.png\\n', 'data/images/00001_00059_00005.png\\n', 'data/images/00001_00036_00015.png\\n', 'data/images/00001_00058_00012.png\\n', 'data/images/00008_00023_00016.png\\n', 'data/images/00004_00015_00026.png\\n', 'data/images/00002_00039_00010.png\\n', 'data/images/00001_00050_00009.png\\n', 'data/images/00004_00038_00004.png\\n', 'data/images/00008_00009_00019.png\\n', 'data/images/00001_00028_00013.png\\n', 'data/images/00003_00022_00017.png\\n', 'data/images/00003_00018_00020.png\\n', 'data/images/00002_00045_00014.png\\n', 'data/images/00001_00008_00007.png\\n', 'data/images/00008_00003_00017.png\\n', 'data/images/00002_00011_00017.png\\n', 'data/images/00001_00001_00024.png\\n', 'data/images/00004_00040_00024.png\\n', 'data/images/00001_00018_00009.png\\n', 'data/images/00001_00044_00024.png\\n', 'data/images/00005_00016_00021.png\\n', 'data/images/00001_00019_00011.png\\n', 'data/images/00003_00027_00009.png\\n', 'data/images/00004_00054_00010.png\\n', 'data/images/00001_00067_00024.png\\n', 'data/images/00004_00000_00006.png\\n', 'data/images/00004_00047_00026.png\\n', 'data/images/00001_00003_00011.png\\n', 'data/images/00005_00048_00003.png\\n', 'data/images/00008_00029_00008.png\\n', 'data/images/00005_00039_00025.png\\n', 'data/images/00004_00032_00006.png\\n', 'data/images/00001_00032_00002.png\\n', 'data/images/00004_00045_00015.png\\n', 'data/images/00002_00015_00004.png\\n', 'data/images/00004_00002_00021.png\\n', 'data/images/00004_00003_00018.png\\n', 'data/images/00005_00056_00026.png\\n', 'data/images/00003_00034_00007.png\\n', 'data/images/00001_00050_00016.png\\n', 'data/images/00004_00004_00006.png\\n', 'data/images/00005_00011_00001.png\\n', 'data/images/00004_00030_00015.png\\n', 'data/images/00001_00030_00009.png\\n', 'data/images/00005_00009_00013.png\\n', 'data/images/00005_00022_00027.png\\n', 'data/images/00003_00027_00014.png\\n', 'data/images/00003_00020_00011.png\\n', 'data/images/00002_00056_00020.png\\n', 'data/images/00004_00018_00019.png\\n', 'data/images/00007_00021_00026.png\\n', 'data/images/00002_00068_00008.png\\n', 'data/images/00001_00024_00014.png\\n', 'data/images/00003_00027_00017.png\\n', 'data/images/00004_00050_00026.png\\n', 'data/images/00002_00027_00016.png\\n', 'data/images/00008_00032_00000.png\\n', 'data/images/00001_00069_00026.png\\n', 'data/images/00007_00018_00023.png\\n', 'data/images/00005_00043_00013.png\\n', 'data/images/00001_00002_00023.png\\n', 'data/images/00002_00064_00009.png\\n', 'data/images/00008_00010_00018.png\\n', 'data/images/00005_00043_00004.png\\n', 'data/images/00005_00052_00022.png\\n', 'data/images/00003_00030_00006.png\\n', 'data/images/00003_00019_00016.png\\n', 'data/images/00004_00019_00024.png\\n', 'data/images/00005_00060_00026.png\\n', 'data/images/00004_00003_00019.png\\n', 'data/images/00007_00010_00003.png\\n', 'data/images/00002_00035_00015.png\\n', 'data/images/00002_00073_00008.png\\n', 'data/images/00002_00039_00004.png\\n', 'data/images/00008_00037_00020.png\\n', 'data/images/00003_00045_00021.png\\n', 'data/images/00003_00004_00005.png\\n', 'data/images/00005_00013_00027.png\\n', 'data/images/00007_00015_00013.png\\n', 'data/images/00001_00056_00010.png\\n', 'data/images/00005_00017_00027.png\\n', 'data/images/00000_00006_00015.png\\n', 'data/images/00002_00011_00011.png\\n', 'data/images/00001_00018_00029.png\\n', 'data/images/00008_00018_00026.png\\n', 'data/images/00005_00003_00018.png\\n', 'data/images/00007_00014_00013.png\\n', 'data/images/00005_00025_00022.png\\n', 'data/images/00007_00042_00021.png\\n', 'data/images/00003_00018_00009.png\\n', 'data/images/00004_00034_00015.png\\n', 'data/images/00003_00041_00021.png\\n', 'data/images/00002_00068_00018.png\\n', 'data/images/00007_00045_00024.png\\n', 'data/images/00002_00062_00008.png\\n', 'data/images/00001_00063_00026.png\\n', 'data/images/00002_00064_00025.png\\n', 'data/images/00005_00018_00009.png\\n', 'data/images/00002_00048_00006.png\\n', 'data/images/00000_00000_00016.png\\n', 'data/images/00002_00001_00014.png\\n', 'data/images/00001_00015_00013.png\\n', 'data/images/00002_00022_00018.png\\n', 'data/images/00002_00002_00026.png\\n', 'data/images/00004_00004_00019.png\\n', 'data/images/00001_00073_00028.png\\n', 'data/images/00000_00002_00021.png\\n', 'data/images/00004_00045_00006.png\\n', 'data/images/00005_00023_00009.png\\n', 'data/images/00001_00036_00017.png\\n', 'data/images/00001_00034_00013.png\\n', 'data/images/00004_00007_00021.png\\n', 'data/images/00007_00042_00013.png\\n', 'data/images/00004_00027_00014.png\\n', 'data/images/00004_00006_00025.png\\n', 'data/images/00007_00040_00026.png\\n', 'data/images/00001_00021_00008.png\\n', 'data/images/00005_00030_00014.png\\n', 'data/images/00007_00042_00029.png\\n', 'data/images/00004_00053_00026.png\\n', 'data/images/00001_00066_00027.png\\n', 'data/images/00001_00041_00023.png\\n', 'data/images/00003_00007_00023.png\\n', 'data/images/00002_00069_00028.png\\n', 'data/images/00001_00054_00008.png\\n', 'data/images/00003_00009_00028.png\\n', 'data/images/00007_00033_00009.png\\n', 'data/images/00003_00029_00025.png\\n', 'data/images/00002_00021_00000.png\\n', 'data/images/00003_00013_00006.png\\n', 'data/images/00001_00066_00000.png\\n', 'data/images/00003_00034_00029.png\\n', 'data/images/00001_00067_00013.png\\n', 'data/images/00001_00041_00013.png\\n', 'data/images/00003_00041_00018.png\\n', 'data/images/00008_00038_00011.png\\n', 'data/images/00004_00032_00009.png\\n', 'data/images/00008_00037_00028.png\\n', 'data/images/00002_00013_00019.png\\n', 'data/images/00005_00011_00017.png\\n', 'data/images/00003_00042_00027.png\\n', 'data/images/00001_00028_00014.png\\n', 'data/images/00007_00047_00021.png\\n', 'data/images/00005_00007_00022.png\\n', 'data/images/00002_00025_00018.png\\n', 'data/images/00007_00014_00001.png\\n', 'data/images/00003_00029_00019.png\\n', 'data/images/00001_00059_00004.png\\n', 'data/images/00007_00015_00018.png\\n', 'data/images/00001_00040_00024.png\\n', 'data/images/00005_00036_00017.png\\n', 'data/images/00007_00004_00022.png\\n', 'data/images/00002_00026_00018.png\\n', 'data/images/00002_00021_00021.png\\n', 'data/images/00002_00012_00028.png\\n', 'data/images/00005_00036_00012.png\\n', 'data/images/00004_00051_00021.png\\n', 'data/images/00001_00002_00021.png\\n', 'data/images/00008_00016_00012.png\\n', 'data/images/00005_00037_00025.png\\n', 'data/images/00005_00050_00029.png\\n', 'data/images/00002_00062_00018.png\\n', 'data/images/00008_00003_00021.png\\n', 'data/images/00005_00032_00016.png\\n', 'data/images/00007_00033_00026.png\\n', 'data/images/00008_00037_00016.png\\n', 'data/images/00004_00043_00011.png\\n', 'data/images/00003_00014_00009.png\\n', 'data/images/00003_00004_00012.png\\n', 'data/images/00000_00002_00018.png\\n', 'data/images/00001_00049_00018.png\\n', 'data/images/00007_00023_00004.png\\n', 'data/images/00005_00053_00025.png\\n', 'data/images/00003_00030_00020.png\\n', 'data/images/00001_00026_00005.png\\n', 'data/images/00004_00038_00008.png\\n', 'data/images/00005_00038_00020.png\\n', 'data/images/00007_00019_00005.png\\n', 'data/images/00005_00011_00026.png\\n', 'data/images/00008_00020_00019.png\\n', 'data/images/00004_00011_00006.png\\n', 'data/images/00005_00016_00018.png\\n', 'data/images/00005_00016_00015.png\\n', 'data/images/00005_00056_00017.png\\n', 'data/images/00004_00014_00007.png\\n', 'data/images/00002_00006_00020.png\\n', 'data/images/00002_00049_00023.png\\n', 'data/images/00008_00003_00001.png\\n', 'data/images/00004_00041_00016.png\\n', 'data/images/00005_00004_00003.png\\n', 'data/images/00007_00027_00002.png\\n', 'data/images/00004_00034_00019.png\\n', 'data/images/00007_00010_00029.png\\n', 'data/images/00007_00041_00016.png\\n', 'data/images/00003_00031_00013.png\\n', 'data/images/00002_00037_00002.png\\n', 'data/images/00005_00023_00006.png\\n', 'data/images/00001_00051_00008.png\\n', 'data/images/00007_00006_00016.png\\n', 'data/images/00004_00041_00024.png\\n', 'data/images/00003_00026_00012.png\\n', 'data/images/00008_00006_00015.png\\n', 'data/images/00008_00019_00010.png\\n', 'data/images/00005_00013_00021.png\\n', 'data/images/00002_00067_00008.png\\n', 'data/images/00004_00037_00005.png\\n', 'data/images/00008_00018_00016.png\\n', 'data/images/00004_00052_00006.png\\n', 'data/images/00003_00010_00026.png\\n', 'data/images/00002_00010_00007.png\\n', 'data/images/00005_00009_00029.png\\n', 'data/images/00004_00002_00013.png\\n', 'data/images/00005_00041_00020.png\\n', 'data/images/00008_00001_00023.png\\n', 'data/images/00001_00025_00021.png\\n', 'data/images/00002_00047_00015.png\\n', 'data/images/00001_00014_00016.png\\n', 'data/images/00007_00033_00003.png\\n', 'data/images/00004_00052_00005.png\\n', 'data/images/00003_00024_00001.png\\n', 'data/images/00008_00032_00022.png\\n', 'data/images/00001_00056_00002.png\\n', 'data/images/00002_00065_00014.png\\n', 'data/images/00004_00018_00014.png\\n', 'data/images/00005_00050_00002.png\\n', 'data/images/00007_00026_00016.png\\n', 'data/images/00002_00025_00021.png\\n', 'data/images/00003_00030_00005.png\\n', 'data/images/00004_00004_00001.png\\n', 'data/images/00002_00054_00023.png\\n', 'data/images/00001_00046_00015.png\\n', 'data/images/00002_00019_00008.png\\n', 'data/images/00004_00018_00010.png\\n', 'data/images/00001_00028_00016.png\\n', 'data/images/00005_00060_00020.png\\n', 'data/images/00002_00023_00012.png\\n', 'data/images/00001_00016_00011.png\\n', 'data/images/00007_00041_00014.png\\n', 'data/images/00003_00005_00016.png\\n', 'data/images/00001_00029_00006.png\\n', 'data/images/00005_00008_00005.png\\n', 'data/images/00003_00027_00024.png\\n', 'data/images/00003_00028_00008.png\\n', 'data/images/00005_00012_00024.png\\n', 'data/images/00003_00016_00008.png\\n', 'data/images/00004_00034_00013.png\\n', 'data/images/00001_00016_00009.png\\n', 'data/images/00008_00017_00014.png\\n', 'data/images/00002_00036_00026.png\\n', 'data/images/00003_00039_00014.png\\n', 'data/images/00005_00032_00010.png\\n', 'data/images/00005_00035_00025.png\\n', 'data/images/00001_00021_00018.png\\n', 'data/images/00004_00048_00021.png\\n', 'data/images/00004_00053_00020.png\\n', 'data/images/00005_00047_00027.png\\n', 'data/images/00003_00032_00026.png\\n', 'data/images/00008_00035_00027.png\\n', 'data/images/00008_00045_00026.png\\n', 'data/images/00001_00034_00005.png\\n', 'data/images/00005_00053_00016.png\\n', 'data/images/00004_00013_00005.png\\n', 'data/images/00004_00045_00027.png\\n', 'data/images/00002_00001_00016.png\\n', 'data/images/00004_00034_00020.png\\n', 'data/images/00001_00063_00016.png\\n', 'data/images/00002_00023_00016.png\\n', 'data/images/00002_00053_00008.png\\n', 'data/images/00004_00040_00022.png\\n', 'data/images/00002_00074_00002.png\\n', 'data/images/00002_00030_00020.png\\n', 'data/images/00001_00034_00028.png\\n', 'data/images/00004_00011_00002.png\\n', 'data/images/00005_00017_00018.png\\n', 'data/images/00001_00028_00020.png\\n', 'data/images/00004_00033_00008.png\\n', 'data/images/00002_00010_00015.png\\n', 'data/images/00007_00008_00024.png\\n', 'data/images/00004_00051_00022.png\\n', 'data/images/00005_00009_00027.png\\n', 'data/images/00001_00002_00010.png\\n', 'data/images/00008_00038_00017.png\\n', 'data/images/00001_00037_00008.png\\n', 'data/images/00001_00009_00027.png\\n', 'data/images/00001_00051_00025.png\\n', 'data/images/00003_00013_00024.png\\n', 'data/images/00005_00042_00003.png\\n', 'data/images/00004_00022_00023.png\\n', 'data/images/00003_00032_00011.png\\n', 'data/images/00005_00049_00016.png\\n', 'data/images/00002_00014_00020.png\\n', 'data/images/00001_00035_00020.png\\n', 'data/images/00001_00044_00000.png\\n', 'data/images/00001_00073_00012.png\\n', 'data/images/00003_00029_00016.png\\n', 'data/images/00002_00028_00015.png\\n', 'data/images/00005_00038_00021.png\\n', 'data/images/00004_00002_00028.png\\n', 'data/images/00002_00017_00015.png\\n', 'data/images/00007_00022_00017.png\\n', 'data/images/00002_00044_00013.png\\n', 'data/images/00004_00008_00021.png\\n', 'data/images/00004_00059_00013.png\\n', 'data/images/00001_00070_00027.png\\n', 'data/images/00001_00028_00023.png\\n', 'data/images/00007_00023_00010.png\\n', 'data/images/00005_00051_00002.png\\n', 'data/images/00001_00063_00010.png\\n', 'data/images/00007_00033_00010.png\\n', 'data/images/00001_00072_00021.png\\n', 'data/images/00007_00039_00004.png\\n', 'data/images/00002_00073_00028.png\\n', 'data/images/00001_00021_00023.png\\n', 'data/images/00001_00044_00007.png\\n', 'data/images/00003_00001_00011.png\\n', 'data/images/00005_00061_00029.png\\n', 'data/images/00008_00039_00027.png\\n', 'data/images/00001_00045_00008.png\\n', 'data/images/00001_00050_00008.png\\n', 'data/images/00005_00005_00026.png\\n', 'data/images/00001_00047_00003.png\\n', 'data/images/00005_00022_00020.png\\n', 'data/images/00007_00038_00016.png\\n', 'data/images/00005_00023_00023.png\\n', 'data/images/00001_00000_00027.png\\n', 'data/images/00004_00064_00028.png\\n', 'data/images/00007_00023_00013.png\\n', 'data/images/00004_00003_00026.png\\n', 'data/images/00001_00027_00021.png\\n', 'data/images/00002_00016_00029.png\\n', 'data/images/00003_00039_00020.png\\n', 'data/images/00002_00060_00018.png\\n', 'data/images/00003_00021_00002.png\\n', 'data/images/00002_00016_00012.png\\n', 'data/images/00002_00021_00013.png\\n', 'data/images/00002_00020_00005.png\\n', 'data/images/00001_00058_00008.png\\n', 'data/images/00002_00005_00020.png\\n', 'data/images/00002_00031_00003.png\\n', 'data/images/00001_00026_00009.png\\n', 'data/images/00002_00067_00019.png\\n', 'data/images/00002_00041_00025.png\\n', 'data/images/00001_00004_00020.png\\n', 'data/images/00002_00017_00009.png\\n', 'data/images/00000_00002_00016.png\\n', 'data/images/00008_00022_00021.png\\n', 'data/images/00001_00070_00007.png\\n', 'data/images/00004_00003_00020.png\\n', 'data/images/00007_00045_00008.png\\n', 'data/images/00007_00005_00018.png\\n', 'data/images/00002_00019_00025.png\\n', 'data/images/00001_00047_00025.png\\n', 'data/images/00001_00037_00025.png\\n', 'data/images/00007_00027_00003.png\\n', 'data/images/00008_00000_00009.png\\n', 'data/images/00008_00008_00023.png\\n', 'data/images/00005_00047_00005.png\\n', 'data/images/00008_00013_00024.png\\n', 'data/images/00002_00047_00019.png\\n', 'data/images/00002_00040_00029.png\\n', 'data/images/00004_00041_00028.png\\n', 'data/images/00003_00001_00027.png\\n', 'data/images/00002_00036_00016.png\\n', 'data/images/00001_00018_00003.png\\n', 'data/images/00008_00012_00008.png\\n', 'data/images/00005_00061_00007.png\\n', 'data/images/00002_00058_00008.png\\n', 'data/images/00001_00000_00029.png\\n', 'data/images/00008_00012_00028.png\\n', 'data/images/00002_00059_00015.png\\n', 'data/images/00001_00060_00015.png\\n', 'data/images/00004_00045_00011.png\\n', 'data/images/00005_00049_00020.png\\n', 'data/images/00001_00019_00013.png\\n', 'data/images/00004_00019_00004.png\\n', 'data/images/00007_00029_00021.png\\n', 'data/images/00008_00010_00029.png\\n', 'data/images/00001_00065_00008.png\\n', 'data/images/00007_00014_00010.png\\n', 'data/images/00008_00014_00021.png\\n', 'data/images/00008_00037_00021.png\\n', 'data/images/00004_00056_00016.png\\n', 'data/images/00007_00009_00026.png\\n', 'data/images/00001_00052_00017.png\\n', 'data/images/00005_00057_00012.png\\n', 'data/images/00001_00067_00015.png\\n', 'data/images/00004_00009_00005.png\\n', 'data/images/00001_00048_00009.png\\n', 'data/images/00007_00027_00001.png\\n', 'data/images/00004_00024_00022.png\\n', 'data/images/00003_00030_00025.png\\n', 'data/images/00001_00044_00020.png\\n', 'data/images/00003_00035_00012.png\\n', 'data/images/00002_00034_00010.png\\n', 'data/images/00001_00008_00009.png\\n', 'data/images/00005_00048_00029.png\\n', 'data/images/00007_00018_00019.png\\n', 'data/images/00002_00047_00006.png\\n', 'data/images/00004_00058_00014.png\\n', 'data/images/00005_00059_00010.png\\n', 'data/images/00005_00057_00019.png\\n', 'data/images/00001_00005_00003.png\\n', 'data/images/00003_00020_00020.png\\n', 'data/images/00001_00068_00024.png\\n', 'data/images/00007_00016_00012.png\\n', 'data/images/00007_00012_00007.png\\n', 'data/images/00001_00046_00028.png\\n', 'data/images/00001_00005_00022.png\\n', 'data/images/00005_00011_00016.png\\n', 'data/images/00003_00002_00011.png\\n', 'data/images/00003_00027_00008.png\\n', 'data/images/00004_00026_00029.png\\n', 'data/images/00003_00014_00007.png\\n', 'data/images/00007_00042_00012.png\\n', 'data/images/00001_00032_00010.png\\n', 'data/images/00007_00019_00024.png\\n', 'data/images/00008_00017_00008.png\\n', 'data/images/00002_00060_00028.png\\n', 'data/images/00001_00059_00015.png\\n', 'data/images/00007_00037_00011.png\\n', 'data/images/00007_00027_00015.png\\n', 'data/images/00001_00022_00024.png\\n', 'data/images/00004_00059_00026.png\\n', 'data/images/00003_00021_00024.png\\n', 'data/images/00004_00026_00025.png\\n', 'data/images/00002_00016_00011.png\\n', 'data/images/00003_00005_00015.png\\n', 'data/images/00003_00041_00016.png\\n', 'data/images/00003_00032_00005.png\\n', 'data/images/00001_00013_00028.png\\n', 'data/images/00005_00054_00013.png\\n', 'data/images/00007_00005_00026.png\\n', 'data/images/00001_00024_00021.png\\n', 'data/images/00008_00009_00003.png\\n', 'data/images/00004_00010_00016.png\\n', 'data/images/00003_00046_00021.png\\n', 'data/images/00005_00007_00000.png\\n', 'data/images/00000_00003_00019.png\\n', 'data/images/00002_00065_00013.png\\n', 'data/images/00001_00021_00017.png\\n', 'data/images/00001_00059_00020.png\\n', 'data/images/00002_00003_00002.png\\n', 'data/images/00002_00073_00018.png\\n', 'data/images/00001_00009_00011.png\\n', 'data/images/00005_00046_00000.png\\n', 'data/images/00007_00039_00021.png\\n', 'data/images/00003_00021_00022.png\\n', 'data/images/00001_00026_00021.png\\n', 'data/images/00001_00020_00023.png\\n', 'data/images/00005_00035_00018.png\\n', 'data/images/00001_00055_00013.png\\n', 'data/images/00007_00017_00020.png\\n', 'data/images/00002_00052_00026.png\\n', 'data/images/00001_00034_00002.png\\n', 'data/images/00003_00003_00019.png\\n', 'data/images/00003_00032_00002.png\\n', 'data/images/00001_00071_00013.png\\n', 'data/images/00002_00044_00024.png\\n', 'data/images/00002_00009_00014.png\\n', 'data/images/00004_00056_00025.png\\n', 'data/images/00002_00024_00006.png\\n', 'data/images/00007_00035_00018.png\\n', 'data/images/00001_00054_00028.png\\n', 'data/images/00004_00063_00028.png\\n', 'data/images/00008_00010_00025.png\\n', 'data/images/00004_00009_00026.png\\n', 'data/images/00002_00049_00020.png\\n', 'data/images/00002_00003_00001.png\\n', 'data/images/00002_00071_00018.png\\n', 'data/images/00003_00007_00005.png\\n', 'data/images/00001_00057_00029.png\\n', 'data/images/00008_00011_00021.png\\n', 'data/images/00003_00017_00024.png\\n', 'data/images/00005_00015_00025.png\\n', 'data/images/00005_00044_00008.png\\n', 'data/images/00007_00011_00014.png\\n', 'data/images/00005_00032_00007.png\\n', 'data/images/00003_00034_00025.png\\n', 'data/images/00002_00074_00006.png\\n', 'data/images/00001_00013_00003.png\\n', 'data/images/00008_00017_00013.png\\n', 'data/images/00008_00019_00009.png\\n', 'data/images/00001_00011_00009.png\\n', 'data/images/00001_00054_00025.png\\n', 'data/images/00001_00039_00013.png\\n', 'data/images/00007_00027_00007.png\\n', 'data/images/00001_00034_00018.png\\n', 'data/images/00007_00019_00014.png\\n', 'data/images/00001_00029_00005.png\\n', 'data/images/00002_00024_00025.png\\n', 'data/images/00008_00017_00020.png\\n', 'data/images/00001_00070_00008.png\\n', 'data/images/00004_00033_00020.png\\n', 'data/images/00005_00046_00027.png\\n', 'data/images/00004_00033_00015.png\\n', 'data/images/00004_00018_00006.png\\n', 'data/images/00001_00066_00005.png\\n', 'data/images/00002_00031_00013.png\\n', 'data/images/00008_00029_00014.png\\n', 'data/images/00001_00057_00023.png\\n', 'data/images/00005_00000_00010.png\\n', 'data/images/00002_00064_00015.png\\n', 'data/images/00007_00041_00013.png\\n', 'data/images/00005_00047_00006.png\\n', 'data/images/00004_00040_00004.png\\n', 'data/images/00008_00032_00010.png\\n', 'data/images/00002_00012_00008.png\\n', 'data/images/00001_00058_00010.png\\n', 'data/images/00001_00059_00021.png\\n', 'data/images/00000_00003_00028.png\\n', 'data/images/00004_00000_00020.png\\n', 'data/images/00002_00026_00019.png\\n', 'data/images/00005_00003_00011.png\\n', 'data/images/00003_00016_00025.png\\n', 'data/images/00002_00022_00009.png\\n', 'data/images/00002_00008_00029.png\\n', 'data/images/00008_00004_00019.png\\n', 'data/images/00007_00037_00024.png\\n', 'data/images/00002_00027_00018.png\\n', 'data/images/00002_00070_00000.png\\n', 'data/images/00002_00016_00015.png\\n', 'data/images/00003_00008_00028.png\\n', 'data/images/00007_00032_00001.png\\n', 'data/images/00007_00021_00001.png\\n', 'data/images/00001_00068_00019.png\\n', 'data/images/00001_00063_00011.png\\n', 'data/images/00004_00029_00025.png\\n', 'data/images/00004_00045_00029.png\\n', 'data/images/00001_00026_00019.png\\n', 'data/images/00004_00061_00029.png\\n', 'data/images/00001_00024_00029.png\\n', 'data/images/00002_00035_00006.png\\n', 'data/images/00002_00018_00024.png\\n', 'data/images/00002_00007_00011.png\\n', 'data/images/00005_00049_00017.png\\n', 'data/images/00007_00004_00020.png\\n', 'data/images/00005_00017_00026.png\\n', 'data/images/00004_00037_00026.png\\n', 'data/images/00005_00012_00023.png\\n', 'data/images/00002_00040_00020.png\\n', 'data/images/00001_00060_00012.png\\n', 'data/images/00001_00018_00017.png\\n', 'data/images/00003_00044_00024.png\\n', 'data/images/00003_00026_00013.png\\n', 'data/images/00005_00015_00011.png\\n', 'data/images/00003_00040_00025.png\\n', 'data/images/00007_00029_00006.png\\n', 'data/images/00005_00008_00009.png\\n', 'data/images/00002_00018_00027.png\\n', 'data/images/00002_00000_00013.png\\n', 'data/images/00001_00005_00008.png\\n', 'data/images/00001_00023_00010.png\\n', 'data/images/00001_00026_00003.png\\n', 'data/images/00007_00003_00017.png\\n', 'data/images/00001_00054_00002.png\\n', 'data/images/00005_00046_00017.png\\n', 'data/images/00004_00048_00013.png\\n', 'data/images/00008_00036_00018.png\\n', 'data/images/00001_00044_00015.png\\n', 'data/images/00008_00021_00021.png\\n', 'data/images/00004_00048_00016.png\\n', 'data/images/00008_00004_00013.png\\n', 'data/images/00005_00043_00028.png\\n', 'data/images/00003_00021_00013.png\\n', 'data/images/00005_00004_00009.png\\n', 'data/images/00007_00042_00010.png\\n', 'data/images/00001_00027_00017.png\\n', 'data/images/00004_00012_00014.png\\n', 'data/images/00008_00033_00029.png\\n', 'data/images/00007_00024_00025.png\\n', 'data/images/00001_00021_00004.png\\n', 'data/images/00001_00036_00027.png\\n', 'data/images/00000_00003_00029.png\\n', 'data/images/00003_00030_00026.png\\n', 'data/images/00004_00026_00014.png\\n', 'data/images/00004_00058_00015.png\\n', 'data/images/00004_00048_00005.png\\n', 'data/images/00001_00020_00020.png\\n', 'data/images/00001_00009_00013.png\\n', 'data/images/00001_00022_00026.png\\n', 'data/images/00004_00039_00015.png\\n', 'data/images/00007_00017_00004.png\\n', 'data/images/00008_00003_00000.png\\n', 'data/images/00003_00028_00028.png\\n', 'data/images/00007_00042_00015.png\\n', 'data/images/00007_00012_00023.png\\n', 'data/images/00001_00023_00018.png\\n', 'data/images/00008_00026_00025.png\\n', 'data/images/00003_00003_00018.png\\n', 'data/images/00003_00003_00023.png\\n', 'data/images/00005_00018_00011.png\\n', 'data/images/00002_00031_00014.png\\n', 'data/images/00005_00033_00026.png\\n', 'data/images/00005_00034_00009.png\\n', 'data/images/00005_00047_00011.png\\n', 'data/images/00004_00017_00017.png\\n', 'data/images/00004_00046_00022.png\\n', 'data/images/00001_00014_00025.png\\n', 'data/images/00002_00006_00018.png\\n', 'data/images/00007_00020_00010.png\\n', 'data/images/00005_00046_00016.png\\n', 'data/images/00008_00032_00029.png\\n', 'data/images/00005_00011_00006.png\\n', 'data/images/00007_00018_00013.png\\n', 'data/images/00001_00066_00003.png\\n', 'data/images/00001_00060_00004.png\\n', 'data/images/00002_00043_00018.png\\n', 'data/images/00002_00022_00011.png\\n', 'data/images/00002_00007_00023.png\\n', 'data/images/00001_00001_00029.png\\n', 'data/images/00004_00029_00008.png\\n', 'data/images/00007_00022_00004.png\\n', 'data/images/00005_00041_00029.png\\n', 'data/images/00003_00045_00027.png\\n', 'data/images/00008_00046_00004.png\\n', 'data/images/00007_00004_00024.png\\n', 'data/images/00005_00019_00028.png\\n', 'data/images/00002_00049_00015.png\\n', 'data/images/00001_00026_00020.png\\n', 'data/images/00005_00019_00011.png\\n', 'data/images/00004_00049_00023.png\\n', 'data/images/00004_00034_00009.png\\n', 'data/images/00007_00042_00027.png\\n', 'data/images/00003_00029_00026.png\\n', 'data/images/00007_00003_00027.png\\n', 'data/images/00001_00020_00018.png\\n', 'data/images/00005_00030_00011.png\\n', 'data/images/00005_00031_00015.png\\n', 'data/images/00005_00052_00018.png\\n', 'data/images/00004_00034_00018.png\\n', 'data/images/00003_00013_00007.png\\n', 'data/images/00001_00061_00005.png\\n', 'data/images/00004_00039_00021.png\\n', 'data/images/00005_00000_00014.png\\n', 'data/images/00004_00060_00023.png\\n', 'data/images/00004_00037_00004.png\\n', 'data/images/00008_00000_00023.png\\n', 'data/images/00003_00046_00017.png\\n', 'data/images/00001_00056_00024.png\\n', 'data/images/00002_00043_00027.png\\n', 'data/images/00003_00009_00024.png\\n', 'data/images/00004_00057_00021.png\\n', 'data/images/00003_00001_00025.png\\n', 'data/images/00001_00050_00025.png\\n', 'data/images/00002_00038_00000.png\\n', 'data/images/00007_00010_00014.png\\n', 'data/images/00002_00035_00024.png\\n', 'data/images/00007_00005_00011.png\\n', 'data/images/00001_00061_00003.png\\n', 'data/images/00005_00047_00020.png\\n', 'data/images/00004_00014_00029.png\\n', 'data/images/00002_00020_00019.png\\n', 'data/images/00003_00038_00010.png\\n', 'data/images/00002_00052_00024.png\\n', 'data/images/00007_00036_00025.png\\n', 'data/images/00001_00034_00024.png\\n', 'data/images/00001_00057_00024.png\\n', 'data/images/00005_00061_00027.png\\n', 'data/images/00004_00027_00005.png\\n', 'data/images/00002_00036_00014.png\\n', 'data/images/00004_00049_00025.png\\n', 'data/images/00002_00053_00024.png\\n', 'data/images/00008_00026_00016.png\\n', 'data/images/00004_00005_00016.png\\n', 'data/images/00005_00047_00025.png\\n', 'data/images/00004_00005_00022.png\\n', 'data/images/00001_00009_00005.png\\n', 'data/images/00001_00001_00017.png\\n', 'data/images/00005_00015_00021.png\\n', 'data/images/00002_00050_00022.png\\n', 'data/images/00007_00035_00019.png\\n', 'data/images/00000_00005_00028.png\\n', 'data/images/00004_00027_00021.png\\n', 'data/images/00008_00014_00019.png\\n', 'data/images/00008_00046_00006.png\\n', 'data/images/00004_00001_00019.png\\n', 'data/images/00005_00003_00023.png\\n', 'data/images/00001_00028_00022.png\\n', 'data/images/00004_00019_00028.png\\n', 'data/images/00001_00025_00029.png\\n', 'data/images/00001_00053_00008.png\\n', 'data/images/00004_00042_00008.png\\n', 'data/images/00005_00030_00013.png\\n', 'data/images/00003_00045_00016.png\\n', 'data/images/00005_00043_00001.png\\n', 'data/images/00007_00043_00021.png\\n', 'data/images/00002_00004_00011.png\\n', 'data/images/00002_00025_00029.png\\n', 'data/images/00008_00022_00027.png\\n', 'data/images/00002_00005_00024.png\\n', 'data/images/00004_00059_00012.png\\n', 'data/images/00004_00030_00005.png\\n', 'data/images/00004_00051_00011.png\\n', 'data/images/00001_00048_00010.png\\n', 'data/images/00002_00029_00020.png\\n', 'data/images/00007_00006_00007.png\\n', 'data/images/00007_00047_00005.png\\n', 'data/images/00007_00023_00018.png\\n', 'data/images/00001_00052_00025.png\\n', 'data/images/00008_00008_00026.png\\n', 'data/images/00007_00025_00029.png\\n', 'data/images/00004_00047_00018.png\\n', 'data/images/00002_00022_00000.png\\n', 'data/images/00008_00017_00009.png\\n', 'data/images/00008_00044_00023.png\\n', 'data/images/00001_00056_00019.png\\n', 'data/images/00004_00055_00027.png\\n', 'data/images/00003_00034_00017.png\\n', 'data/images/00002_00018_00022.png\\n', 'data/images/00004_00061_00027.png\\n', 'data/images/00005_00016_00002.png\\n', 'data/images/00003_00040_00026.png\\n', 'data/images/00003_00034_00021.png\\n', 'data/images/00005_00043_00005.png\\n', 'data/images/00004_00000_00000.png\\n', 'data/images/00005_00029_00020.png\\n', 'data/images/00003_00004_00014.png\\n', 'data/images/00002_00056_00014.png\\n', 'data/images/00007_00023_00014.png\\n', 'data/images/00001_00047_00013.png\\n', 'data/images/00005_00035_00024.png\\n', 'data/images/00002_00015_00021.png\\n', 'data/images/00008_00036_00010.png\\n', 'data/images/00001_00000_00009.png\\n', 'data/images/00007_00029_00019.png\\n', 'data/images/00005_00008_00023.png\\n', 'data/images/00002_00068_00013.png\\n', 'data/images/00005_00050_00011.png\\n', 'data/images/00005_00045_00009.png\\n', 'data/images/00005_00013_00009.png\\n', 'data/images/00002_00022_00002.png\\n', 'data/images/00003_00041_00006.png\\n', 'data/images/00002_00036_00020.png\\n', 'data/images/00004_00047_00027.png\\n', 'data/images/00005_00030_00022.png\\n', 'data/images/00001_00039_00012.png\\n', 'data/images/00002_00050_00010.png\\n', 'data/images/00005_00047_00026.png\\n', 'data/images/00002_00068_00003.png\\n', 'data/images/00004_00029_00013.png\\n', 'data/images/00002_00072_00002.png\\n', 'data/images/00008_00046_00021.png\\n', 'data/images/00008_00023_00001.png\\n', 'data/images/00002_00004_00015.png\\n', 'data/images/00004_00061_00022.png\\n', 'data/images/00001_00025_00014.png\\n', 'data/images/00000_00004_00014.png\\n', 'data/images/00008_00044_00020.png\\n', 'data/images/00005_00043_00021.png\\n', 'data/images/00008_00010_00010.png\\n', 'data/images/00004_00053_00008.png\\n', 'data/images/00007_00027_00026.png\\n', 'data/images/00001_00026_00022.png\\n', 'data/images/00004_00009_00024.png\\n', 'data/images/00008_00033_00028.png\\n', 'data/images/00003_00044_00004.png\\n', 'data/images/00003_00028_00024.png\\n', 'data/images/00001_00038_00022.png\\n', 'data/images/00001_00022_00018.png\\n', 'data/images/00008_00005_00028.png\\n', 'data/images/00002_00003_00000.png\\n', 'data/images/00005_00009_00005.png\\n', 'data/images/00005_00016_00008.png\\n', 'data/images/00002_00064_00028.png\\n', 'data/images/00002_00003_00021.png\\n', 'data/images/00004_00014_00011.png\\n', 'data/images/00001_00055_00028.png\\n', 'data/images/00001_00059_00026.png\\n', 'data/images/00002_00054_00007.png\\n', 'data/images/00002_00042_00029.png\\n', 'data/images/00007_00014_00002.png\\n', 'data/images/00002_00013_00025.png\\n', 'data/images/00004_00003_00027.png\\n', 'data/images/00008_00021_00023.png\\n', 'data/images/00001_00019_00010.png\\n', 'data/images/00000_00006_00022.png\\n', 'data/images/00008_00015_00022.png\\n', 'data/images/00005_00007_00007.png\\n', 'data/images/00001_00022_00029.png\\n', 'data/images/00003_00035_00023.png\\n', 'data/images/00004_00036_00001.png\\n', 'data/images/00003_00027_00003.png\\n', 'data/images/00007_00038_00012.png\\n', 'data/images/00001_00023_00014.png\\n', 'data/images/00002_00026_00028.png\\n', 'data/images/00007_00039_00026.png\\n', 'data/images/00008_00020_00011.png\\n', 'data/images/00001_00025_00016.png\\n', 'data/images/00001_00010_00020.png\\n', 'data/images/00004_00004_00009.png\\n', 'data/images/00004_00030_00019.png\\n', 'data/images/00001_00033_00017.png\\n', 'data/images/00004_00048_00017.png\\n', 'data/images/00001_00004_00025.png\\n', 'data/images/00007_00026_00010.png\\n', 'data/images/00001_00023_00019.png\\n', 'data/images/00003_00001_00001.png\\n', 'data/images/00002_00035_00023.png\\n', 'data/images/00005_00017_00002.png\\n', 'data/images/00007_00018_00025.png\\n', 'data/images/00001_00037_00028.png\\n', 'data/images/00002_00053_00025.png\\n', 'data/images/00001_00014_00020.png\\n', 'data/images/00001_00038_00020.png\\n', 'data/images/00002_00023_00026.png\\n', 'data/images/00002_00037_00019.png\\n', 'data/images/00008_00039_00006.png\\n', 'data/images/00003_00008_00013.png\\n', 'data/images/00005_00016_00004.png\\n', 'data/images/00001_00058_00015.png\\n', 'data/images/00004_00063_00010.png\\n', 'data/images/00005_00012_00011.png\\n', 'data/images/00001_00044_00028.png\\n', 'data/images/00004_00031_00014.png\\n', 'data/images/00000_00006_00017.png\\n', 'data/images/00001_00034_00014.png\\n', 'data/images/00005_00043_00011.png\\n', 'data/images/00001_00043_00028.png\\n', 'data/images/00001_00070_00025.png\\n', 'data/images/00001_00056_00008.png\\n', 'data/images/00005_00060_00003.png\\n', 'data/images/00001_00048_00023.png\\n', 'data/images/00004_00056_00026.png\\n', 'data/images/00004_00058_00013.png\\n', 'data/images/00001_00067_00025.png\\n', 'data/images/00008_00043_00023.png\\n', 'data/images/00008_00043_00004.png\\n', 'data/images/00002_00064_00027.png\\n', 'data/images/00002_00061_00018.png\\n', 'data/images/00002_00024_00029.png\\n', 'data/images/00007_00015_00017.png\\n', 'data/images/00003_00012_00027.png\\n', 'data/images/00005_00017_00001.png\\n', 'data/images/00001_00067_00028.png\\n', 'data/images/00001_00011_00014.png\\n', 'data/images/00004_00031_00026.png\\n', 'data/images/00007_00035_00029.png\\n', 'data/images/00001_00005_00029.png\\n', 'data/images/00001_00071_00023.png\\n', 'data/images/00005_00042_00005.png\\n', 'data/images/00001_00000_00023.png\\n', 'data/images/00001_00029_00020.png\\n', 'data/images/00004_00038_00028.png\\n', 'data/images/00004_00055_00003.png\\n', 'data/images/00005_00023_00028.png\\n', 'data/images/00008_00034_00016.png\\n', 'data/images/00001_00068_00001.png\\n', 'data/images/00000_00005_00018.png\\n', 'data/images/00004_00013_00028.png\\n', 'data/images/00004_00004_00020.png\\n', 'data/images/00002_00074_00021.png\\n', 'data/images/00005_00059_00021.png\\n', 'data/images/00002_00054_00020.png\\n', 'data/images/00004_00062_00011.png\\n', 'data/images/00003_00014_00015.png\\n', 'data/images/00002_00037_00014.png\\n', 'data/images/00003_00023_00018.png\\n', 'data/images/00004_00013_00010.png\\n', 'data/images/00005_00042_00017.png\\n', 'data/images/00004_00011_00025.png\\n', 'data/images/00005_00045_00021.png\\n', 'data/images/00001_00044_00011.png\\n', 'data/images/00007_00026_00020.png\\n', 'data/images/00002_00002_00019.png\\n', 'data/images/00002_00015_00015.png\\n', 'data/images/00008_00012_00023.png\\n', 'data/images/00004_00021_00011.png\\n', 'data/images/00007_00031_00029.png\\n', 'data/images/00001_00073_00017.png\\n', 'data/images/00003_00035_00006.png\\n', 'data/images/00002_00020_00007.png\\n', 'data/images/00003_00026_00029.png\\n', 'data/images/00005_00003_00017.png\\n', 'data/images/00002_00034_00024.png\\n', 'data/images/00008_00015_00026.png\\n', 'data/images/00005_00005_00007.png\\n', 'data/images/00001_00016_00010.png\\n', 'data/images/00005_00009_00008.png\\n', 'data/images/00002_00025_00001.png\\n', 'data/images/00007_00041_00004.png\\n', 'data/images/00005_00033_00015.png\\n', 'data/images/00007_00028_00024.png\\n', 'data/images/00001_00061_00004.png\\n', 'data/images/00004_00000_00018.png\\n', 'data/images/00004_00005_00010.png\\n', 'data/images/00002_00023_00023.png\\n', 'data/images/00002_00003_00019.png\\n', 'data/images/00003_00002_00026.png\\n', 'data/images/00005_00036_00019.png\\n', 'data/images/00008_00007_00029.png\\n', 'data/images/00002_00027_00013.png\\n', 'data/images/00001_00036_00023.png\\n', 'data/images/00004_00032_00016.png\\n', 'data/images/00004_00045_00023.png\\n', 'data/images/00005_00012_00004.png\\n', 'data/images/00001_00056_00018.png\\n', 'data/images/00007_00000_00021.png\\n', 'data/images/00004_00000_00016.png\\n', 'data/images/00001_00057_00009.png\\n', 'data/images/00003_00035_00018.png\\n', 'data/images/00001_00039_00008.png\\n', 'data/images/00005_00056_00020.png\\n', 'data/images/00005_00008_00000.png\\n', 'data/images/00004_00033_00029.png\\n', 'data/images/00002_00024_00010.png\\n', 'data/images/00002_00031_00002.png\\n', 'data/images/00004_00000_00009.png\\n', 'data/images/00001_00019_00028.png\\n', 'data/images/00005_00014_00022.png\\n', 'data/images/00004_00050_00002.png\\n', 'data/images/00002_00039_00003.png\\n', 'data/images/00001_00072_00005.png\\n', 'data/images/00005_00036_00026.png\\n', 'data/images/00004_00065_00007.png\\n', 'data/images/00001_00061_00011.png\\n', 'data/images/00001_00022_00002.png\\n', 'data/images/00002_00038_00024.png\\n', 'data/images/00003_00004_00029.png\\n', 'data/images/00001_00045_00009.png\\n', 'data/images/00007_00017_00014.png\\n', 'data/images/00008_00039_00001.png\\n', 'data/images/00002_00000_00014.png\\n', 'data/images/00003_00022_00003.png\\n', 'data/images/00007_00035_00007.png\\n', 'data/images/00004_00045_00012.png\\n', 'data/images/00002_00064_00008.png\\n', 'data/images/00002_00017_00023.png\\n', 'data/images/00001_00041_00009.png\\n', 'data/images/00001_00060_00013.png\\n', 'data/images/00002_00050_00015.png\\n', 'data/images/00007_00039_00020.png\\n', 'data/images/00001_00062_00026.png\\n', 'data/images/00002_00072_00005.png\\n', 'data/images/00004_00014_00003.png\\n', 'data/images/00004_00028_00013.png\\n', 'data/images/00001_00039_00024.png\\n', 'data/images/00008_00026_00029.png\\n', 'data/images/00005_00012_00028.png\\n', 'data/images/00004_00057_00026.png\\n', 'data/images/00004_00015_00004.png\\n', 'data/images/00003_00013_00013.png\\n', 'data/images/00002_00068_00006.png\\n', 'data/images/00005_00027_00019.png\\n', 'data/images/00001_00029_00003.png\\n', 'data/images/00007_00016_00018.png\\n', 'data/images/00001_00022_00020.png\\n', 'data/images/00008_00003_00008.png\\n', 'data/images/00007_00004_00029.png\\n', 'data/images/00005_00019_00023.png\\n', 'data/images/00003_00036_00018.png\\n', 'data/images/00002_00058_00013.png\\n', 'data/images/00001_00034_00025.png\\n', 'data/images/00005_00016_00013.png\\n', 'data/images/00008_00046_00015.png\\n', 'data/images/00004_00032_00015.png\\n', 'data/images/00008_00034_00005.png\\n', 'data/images/00002_00018_00011.png\\n', 'data/images/00007_00020_00024.png\\n', 'data/images/00007_00003_00023.png\\n', 'data/images/00002_00071_00024.png\\n', 'data/images/00008_00041_00008.png\\n', 'data/images/00001_00031_00022.png\\n', 'data/images/00008_00014_00023.png\\n', 'data/images/00001_00005_00025.png\\n', 'data/images/00001_00071_00019.png\\n', 'data/images/00002_00046_00006.png\\n', 'data/images/00007_00019_00029.png\\n', 'data/images/00005_00012_00008.png\\n', 'data/images/00008_00031_00012.png\\n', 'data/images/00007_00012_00025.png\\n', 'data/images/00000_00004_00008.png\\n', 'data/images/00003_00044_00014.png\\n', 'data/images/00002_00053_00014.png\\n', 'data/images/00008_00036_00005.png\\n', 'data/images/00007_00013_00028.png\\n', 'data/images/00007_00021_00021.png\\n', 'data/images/00002_00015_00027.png\\n', 'data/images/00001_00009_00026.png\\n', 'data/images/00001_00010_00023.png\\n', 'data/images/00004_00060_00028.png\\n', 'data/images/00002_00003_00004.png\\n', 'data/images/00003_00026_00026.png\\n', 'data/images/00005_00011_00018.png\\n', 'data/images/00005_00057_00011.png\\n', 'data/images/00001_00007_00025.png\\n', 'data/images/00005_00004_00022.png\\n', 'data/images/00005_00048_00026.png\\n', 'data/images/00007_00037_00005.png\\n', 'data/images/00001_00020_00015.png\\n', 'data/images/00007_00000_00014.png\\n', 'data/images/00002_00055_00013.png\\n', 'data/images/00004_00016_00026.png\\n', 'data/images/00007_00030_00013.png\\n', 'data/images/00004_00031_00023.png\\n', 'data/images/00002_00037_00024.png\\n', 'data/images/00008_00013_00012.png\\n', 'data/images/00008_00033_00027.png\\n', 'data/images/00008_00001_00010.png\\n', 'data/images/00007_00017_00027.png\\n', 'data/images/00002_00009_00017.png\\n', 'data/images/00004_00005_00011.png\\n', 'data/images/00001_00039_00016.png\\n', 'data/images/00005_00005_00020.png\\n', 'data/images/00002_00061_00002.png\\n', 'data/images/00005_00047_00012.png\\n', 'data/images/00001_00065_00026.png\\n', 'data/images/00005_00051_00023.png\\n', 'data/images/00002_00010_00017.png\\n', 'data/images/00004_00044_00024.png\\n', 'data/images/00008_00035_00000.png\\n', 'data/images/00004_00004_00015.png\\n', 'data/images/00003_00003_00005.png\\n', 'data/images/00002_00054_00029.png\\n', 'data/images/00008_00044_00028.png\\n', 'data/images/00002_00019_00002.png\\n', 'data/images/00005_00034_00023.png\\n', 'data/images/00008_00001_00027.png\\n', 'data/images/00001_00040_00019.png\\n', 'data/images/00002_00042_00015.png\\n', 'data/images/00003_00014_00016.png\\n', 'data/images/00001_00017_00021.png\\n', 'data/images/00001_00031_00020.png\\n', 'data/images/00005_00005_00024.png\\n', 'data/images/00005_00040_00011.png\\n', 'data/images/00001_00020_00006.png\\n', 'data/images/00002_00004_00027.png\\n', 'data/images/00002_00065_00006.png\\n', 'data/images/00002_00044_00008.png\\n', 'data/images/00001_00062_00018.png\\n', 'data/images/00005_00015_00027.png\\n', 'data/images/00004_00008_00008.png\\n', 'data/images/00002_00059_00003.png\\n', 'data/images/00008_00039_00019.png\\n', 'data/images/00002_00010_00002.png\\n', 'data/images/00008_00021_00022.png\\n', 'data/images/00004_00021_00014.png\\n', 'data/images/00001_00015_00018.png\\n', 'data/images/00003_00003_00008.png\\n', 'data/images/00002_00040_00014.png\\n', 'data/images/00004_00042_00022.png\\n', 'data/images/00002_00005_00004.png\\n', 'data/images/00001_00049_00006.png\\n', 'data/images/00008_00011_00026.png\\n', 'data/images/00004_00030_00008.png\\n', 'data/images/00002_00010_00006.png\\n', 'data/images/00002_00012_00020.png\\n', 'data/images/00001_00010_00029.png\\n', 'data/images/00007_00037_00007.png\\n', 'data/images/00001_00063_00020.png\\n', 'data/images/00004_00056_00020.png\\n', 'data/images/00003_00021_00016.png\\n', 'data/images/00002_00006_00027.png\\n', 'data/images/00001_00056_00005.png\\n', 'data/images/00002_00023_00028.png\\n', 'data/images/00004_00010_00006.png\\n', 'data/images/00008_00023_00029.png\\n', 'data/images/00001_00048_00021.png\\n', 'data/images/00001_00012_00017.png\\n', 'data/images/00005_00044_00013.png\\n', 'data/images/00004_00062_00026.png\\n', 'data/images/00005_00027_00020.png\\n', 'data/images/00001_00051_00022.png\\n', 'data/images/00001_00064_00009.png\\n', 'data/images/00008_00020_00028.png\\n', 'data/images/00008_00025_00017.png\\n', 'data/images/00007_00000_00026.png\\n', 'data/images/00007_00024_00028.png\\n', 'data/images/00001_00011_00025.png\\n', 'data/images/00007_00044_00029.png\\n', 'data/images/00001_00030_00018.png\\n', 'data/images/00003_00024_00023.png\\n', 'data/images/00001_00068_00014.png\\n', 'data/images/00002_00006_00022.png\\n', 'data/images/00001_00006_00016.png\\n', 'data/images/00002_00073_00007.png\\n', 'data/images/00002_00021_00020.png\\n', 'data/images/00005_00056_00006.png\\n', 'data/images/00003_00030_00029.png\\n', 'data/images/00002_00072_00014.png\\n', 'data/images/00002_00056_00003.png\\n', 'data/images/00001_00062_00016.png\\n', 'data/images/00007_00010_00024.png\\n', 'data/images/00007_00034_00013.png\\n', 'data/images/00003_00036_00028.png\\n', 'data/images/00004_00007_00027.png\\n', 'data/images/00003_00010_00012.png\\n', 'data/images/00005_00057_00015.png\\n', 'data/images/00007_00038_00015.png\\n', 'data/images/00001_00027_00015.png\\n', 'data/images/00005_00029_00022.png\\n', 'data/images/00002_00033_00017.png\\n', 'data/images/00004_00061_00015.png\\n', 'data/images/00007_00005_00016.png\\n', 'data/images/00003_00031_00011.png\\n', 'data/images/00005_00005_00022.png\\n', 'data/images/00001_00042_00014.png\\n', 'data/images/00004_00051_00003.png\\n', 'data/images/00004_00056_00002.png\\n', 'data/images/00003_00034_00014.png\\n', 'data/images/00001_00063_00027.png\\n', 'data/images/00008_00039_00026.png\\n', 'data/images/00007_00010_00015.png\\n', 'data/images/00004_00058_00028.png\\n', 'data/images/00005_00057_00021.png\\n', 'data/images/00001_00054_00018.png\\n', 'data/images/00005_00041_00014.png\\n', 'data/images/00005_00054_00008.png\\n', 'data/images/00001_00058_00007.png\\n', 'data/images/00001_00038_00007.png\\n', 'data/images/00003_00009_00025.png\\n', 'data/images/00001_00011_00002.png\\n', 'data/images/00004_00016_00027.png\\n', 'data/images/00008_00038_00022.png\\n', 'data/images/00002_00065_00001.png\\n', 'data/images/00004_00001_00011.png\\n', 'data/images/00002_00064_00023.png\\n', 'data/images/00002_00028_00017.png\\n', 'data/images/00001_00056_00027.png\\n', 'data/images/00008_00036_00023.png\\n', 'data/images/00002_00004_00012.png\\n', 'data/images/00004_00023_00017.png\\n', 'data/images/00008_00023_00028.png\\n', 'data/images/00004_00063_00022.png\\n', 'data/images/00004_00034_00023.png\\n', 'data/images/00005_00008_00016.png\\n', 'data/images/00007_00039_00028.png\\n', 'data/images/00001_00040_00011.png\\n', 'data/images/00002_00060_00026.png\\n', 'data/images/00003_00000_00029.png\\n', 'data/images/00004_00009_00004.png\\n', 'data/images/00003_00027_00029.png\\n', 'data/images/00008_00015_00012.png\\n', 'data/images/00002_00055_00018.png\\n', 'data/images/00005_00041_00012.png\\n', 'data/images/00004_00061_00011.png\\n', 'data/images/00005_00007_00017.png\\n', 'data/images/00005_00006_00002.png\\n', 'data/images/00001_00028_00010.png\\n', 'data/images/00005_00027_00011.png\\n', 'data/images/00008_00016_00024.png\\n', 'data/images/00002_00033_00018.png\\n', 'data/images/00007_00046_00027.png\\n', 'data/images/00007_00015_00022.png\\n', 'data/images/00008_00007_00018.png\\n', 'data/images/00004_00007_00023.png\\n', 'data/images/00002_00002_00022.png\\n', 'data/images/00005_00037_00017.png\\n', 'data/images/00005_00005_00021.png\\n', 'data/images/00005_00041_00028.png\\n', 'data/images/00005_00031_00008.png\\n', 'data/images/00003_00021_00000.png\\n', 'data/images/00007_00037_00020.png\\n', 'data/images/00007_00010_00022.png\\n', 'data/images/00002_00045_00026.png\\n', 'data/images/00005_00019_00025.png\\n', 'data/images/00003_00036_00014.png\\n', 'data/images/00001_00000_00011.png\\n', 'data/images/00005_00053_00027.png\\n', 'data/images/00001_00050_00021.png\\n', 'data/images/00002_00044_00007.png\\n', 'data/images/00004_00039_00000.png\\n', 'data/images/00002_00039_00015.png\\n', 'data/images/00001_00045_00017.png\\n', 'data/images/00003_00002_00007.png\\n', 'data/images/00002_00006_00001.png\\n', 'data/images/00005_00033_00019.png\\n', 'data/images/00008_00034_00010.png\\n', 'data/images/00007_00028_00027.png\\n', 'data/images/00001_00004_00021.png\\n', 'data/images/00000_00004_00013.png\\n', 'data/images/00004_00042_00026.png\\n', 'data/images/00005_00046_00028.png\\n', 'data/images/00007_00036_00001.png\\n', 'data/images/00008_00023_00023.png\\n', 'data/images/00008_00009_00004.png\\n', 'data/images/00008_00017_00006.png\\n', 'data/images/00002_00040_00022.png\\n', 'data/images/00008_00021_00017.png\\n', 'data/images/00008_00029_00022.png\\n', 'data/images/00004_00035_00017.png\\n', 'data/images/00007_00012_00024.png\\n', 'data/images/00003_00021_00019.png\\n', 'data/images/00002_00062_00002.png\\n', 'data/images/00001_00073_00001.png\\n', 'data/images/00007_00038_00005.png\\n', 'data/images/00007_00041_00025.png\\n', 'data/images/00001_00006_00004.png\\n', 'data/images/00007_00002_00005.png\\n', 'data/images/00007_00021_00007.png\\n', 'data/images/00004_00024_00016.png\\n', 'data/images/00003_00044_00011.png\\n', 'data/images/00002_00025_00017.png\\n', 'data/images/00004_00052_00017.png\\n', 'data/images/00001_00035_00027.png\\n', 'data/images/00002_00035_00019.png\\n', 'data/images/00007_00005_00002.png\\n', 'data/images/00008_00000_00008.png\\n', 'data/images/00004_00057_00020.png\\n', 'data/images/00005_00033_00017.png\\n', 'data/images/00008_00044_00009.png\\n', 'data/images/00004_00007_00024.png\\n', 'data/images/00001_00038_00004.png\\n', 'data/images/00005_00042_00012.png\\n', 'data/images/00002_00011_00025.png\\n', 'data/images/00002_00068_00028.png\\n', 'data/images/00001_00060_00024.png\\n', 'data/images/00005_00042_00001.png\\n', 'data/images/00007_00014_00007.png\\n', 'data/images/00002_00050_00023.png\\n', 'data/images/00004_00028_00004.png\\n', 'data/images/00003_00007_00015.png\\n', 'data/images/00003_00015_00009.png\\n', 'data/images/00007_00045_00025.png\\n', 'data/images/00004_00053_00018.png\\n', 'data/images/00004_00000_00013.png\\n', 'data/images/00002_00043_00015.png\\n', 'data/images/00003_00035_00029.png\\n', 'data/images/00004_00017_00016.png\\n', 'data/images/00002_00014_00016.png\\n', 'data/images/00004_00043_00016.png\\n', 'data/images/00004_00009_00027.png\\n', 'data/images/00003_00044_00013.png\\n', 'data/images/00001_00016_00029.png\\n', 'data/images/00007_00006_00029.png\\n', 'data/images/00007_00007_00011.png\\n', 'data/images/00003_00041_00014.png\\n', 'data/images/00002_00044_00019.png\\n', 'data/images/00001_00005_00009.png\\n', 'data/images/00002_00035_00003.png\\n', 'data/images/00004_00042_00006.png\\n', 'data/images/00001_00033_00018.png\\n', 'data/images/00001_00005_00017.png\\n', 'data/images/00007_00037_00016.png\\n', 'data/images/00008_00019_00019.png\\n', 'data/images/00004_00030_00010.png\\n', 'data/images/00005_00036_00011.png\\n', 'data/images/00003_00029_00027.png\\n', 'data/images/00007_00002_00024.png\\n', 'data/images/00007_00035_00009.png\\n', 'data/images/00003_00031_00023.png\\n', 'data/images/00008_00011_00019.png\\n', 'data/images/00005_00018_00014.png\\n', 'data/images/00001_00011_00023.png\\n', 'data/images/00003_00037_00013.png\\n', 'data/images/00001_00027_00026.png\\n', 'data/images/00007_00045_00023.png\\n', 'data/images/00005_00053_00024.png\\n', 'data/images/00004_00007_00011.png\\n', 'data/images/00004_00023_00016.png\\n', 'data/images/00005_00018_00006.png\\n', 'data/images/00001_00035_00022.png\\n', 'data/images/00003_00019_00019.png\\n', 'data/images/00005_00010_00022.png\\n', 'data/images/00002_00008_00011.png\\n', 'data/images/00001_00064_00006.png\\n', 'data/images/00001_00045_00014.png\\n', 'data/images/00003_00018_00007.png\\n', 'data/images/00002_00030_00008.png\\n', 'data/images/00005_00012_00002.png\\n', 'data/images/00007_00045_00020.png\\n', 'data/images/00007_00014_00019.png\\n', 'data/images/00004_00058_00026.png\\n', 'data/images/00007_00007_00021.png\\n', 'data/images/00008_00008_00021.png\\n', 'data/images/00008_00023_00024.png\\n', 'data/images/00008_00035_00014.png\\n', 'data/images/00004_00016_00009.png\\n', 'data/images/00001_00055_00010.png\\n', 'data/images/00003_00001_00021.png\\n', 'data/images/00008_00020_00026.png\\n', 'data/images/00002_00011_00009.png\\n', 'data/images/00004_00020_00011.png\\n', 'data/images/00004_00026_00027.png\\n', 'data/images/00005_00019_00007.png\\n', 'data/images/00004_00035_00016.png\\n', 'data/images/00004_00035_00013.png\\n', 'data/images/00003_00020_00014.png\\n', 'data/images/00002_00041_00019.png\\n', 'data/images/00004_00027_00012.png\\n', 'data/images/00001_00063_00023.png\\n', 'data/images/00001_00058_00024.png\\n', 'data/images/00008_00022_00009.png\\n', 'data/images/00005_00053_00012.png\\n', 'data/images/00001_00038_00021.png\\n', 'data/images/00005_00050_00020.png\\n', 'data/images/00001_00067_00022.png\\n', 'data/images/00002_00037_00016.png\\n', 'data/images/00001_00044_00003.png\\n', 'data/images/00005_00045_00018.png\\n', 'data/images/00001_00042_00022.png\\n', 'data/images/00003_00041_00022.png\\n', 'data/images/00004_00030_00016.png\\n', 'data/images/00004_00047_00011.png\\n', 'data/images/00004_00002_00002.png\\n', 'data/images/00007_00034_00027.png\\n', 'data/images/00003_00031_00025.png\\n', 'data/images/00003_00016_00020.png\\n', 'data/images/00002_00022_00017.png\\n', 'data/images/00005_00029_00018.png\\n', 'data/images/00004_00045_00010.png\\n', 'data/images/00003_00037_00021.png\\n', 'data/images/00002_00013_00016.png\\n', 'data/images/00003_00001_00013.png\\n', 'data/images/00001_00000_00006.png\\n', 'data/images/00002_00068_00007.png\\n', 'data/images/00001_00071_00018.png\\n', 'data/images/00005_00040_00015.png\\n', 'data/images/00008_00017_00021.png\\n', 'data/images/00007_00046_00011.png\\n', 'data/images/00001_00016_00020.png\\n', 'data/images/00003_00045_00029.png\\n', 'data/images/00002_00010_00012.png\\n', 'data/images/00003_00031_00024.png\\n', 'data/images/00003_00040_00018.png\\n', 'data/images/00001_00062_00028.png\\n', 'data/images/00002_00050_00024.png\\n', 'data/images/00004_00047_00003.png\\n', 'data/images/00002_00055_00019.png\\n', 'data/images/00002_00035_00017.png\\n', 'data/images/00003_00026_00016.png\\n', 'data/images/00005_00053_00007.png\\n', 'data/images/00003_00013_00005.png\\n', 'data/images/00002_00018_00006.png\\n', 'data/images/00002_00062_00015.png\\n', 'data/images/00001_00070_00024.png\\n', 'data/images/00007_00020_00018.png\\n', 'data/images/00005_00029_00002.png\\n', 'data/images/00002_00054_00027.png\\n', 'data/images/00001_00053_00011.png\\n', 'data/images/00002_00042_00020.png\\n', 'data/images/00002_00008_00006.png\\n', 'data/images/00001_00010_00015.png\\n', 'data/images/00007_00022_00022.png\\n', 'data/images/00001_00019_00014.png\\n', 'data/images/00001_00059_00014.png\\n', 'data/images/00007_00044_00025.png\\n', 'data/images/00002_00052_00012.png\\n', 'data/images/00001_00012_00018.png\\n', 'data/images/00003_00025_00023.png\\n', 'data/images/00003_00020_00027.png\\n', 'data/images/00004_00056_00004.png\\n', 'data/images/00002_00011_00022.png\\n', 'data/images/00007_00031_00017.png\\n', 'data/images/00002_00008_00025.png\\n', 'data/images/00002_00074_00025.png\\n', 'data/images/00002_00019_00001.png\\n', 'data/images/00008_00030_00014.png\\n', 'data/images/00005_00029_00026.png\\n', 'data/images/00005_00007_00009.png\\n', 'data/images/00005_00001_00015.png\\n', 'data/images/00004_00064_00018.png\\n', 'data/images/00002_00070_00019.png\\n', 'data/images/00007_00002_00020.png\\n', 'data/images/00002_00053_00012.png\\n', 'data/images/00005_00023_00013.png\\n', 'data/images/00002_00011_00012.png\\n', 'data/images/00001_00003_00016.png\\n', 'data/images/00005_00018_00023.png\\n', 'data/images/00000_00000_00023.png\\n', 'data/images/00000_00005_00012.png\\n', 'data/images/00003_00041_00024.png\\n', 'data/images/00004_00049_00012.png\\n', 'data/images/00003_00010_00029.png\\n', 'data/images/00002_00012_00019.png\\n', 'data/images/00003_00008_00025.png\\n', 'data/images/00002_00062_00003.png\\n', 'data/images/00001_00066_00023.png\\n', 'data/images/00001_00032_00024.png\\n', 'data/images/00001_00053_00003.png\\n', 'data/images/00003_00009_00026.png\\n', 'data/images/00007_00007_00012.png\\n', 'data/images/00001_00028_00017.png\\n', 'data/images/00007_00027_00011.png\\n', 'data/images/00007_00030_00017.png\\n', 'data/images/00002_00060_00015.png\\n', 'data/images/00001_00072_00016.png\\n', 'data/images/00002_00032_00017.png\\n', 'data/images/00001_00025_00022.png\\n', 'data/images/00002_00009_00020.png\\n', 'data/images/00001_00009_00007.png\\n', 'data/images/00002_00071_00017.png\\n', 'data/images/00008_00043_00009.png\\n', 'data/images/00005_00013_00005.png\\n', 'data/images/00004_00046_00025.png\\n', 'data/images/00007_00014_00018.png\\n', 'data/images/00001_00039_00015.png\\n', 'data/images/00001_00005_00028.png\\n', 'data/images/00007_00032_00025.png\\n', 'data/images/00001_00023_00027.png\\n', 'data/images/00002_00069_00021.png\\n', 'data/images/00003_00037_00028.png\\n', 'data/images/00003_00039_00019.png\\n', 'data/images/00004_00038_00001.png\\n', 'data/images/00003_00040_00006.png\\n', 'data/images/00002_00039_00024.png\\n', 'data/images/00002_00042_00023.png\\n', 'data/images/00005_00046_00023.png\\n', 'data/images/00002_00016_00020.png\\n', 'data/images/00001_00039_00019.png\\n', 'data/images/00002_00053_00029.png\\n', 'data/images/00005_00013_00011.png\\n', 'data/images/00001_00033_00024.png\\n', 'data/images/00002_00025_00013.png\\n', 'data/images/00001_00069_00028.png\\n', 'data/images/00003_00034_00010.png\\n', 'data/images/00002_00018_00029.png\\n', 'data/images/00005_00018_00025.png\\n', 'data/images/00001_00073_00013.png\\n', 'data/images/00001_00006_00019.png\\n', 'data/images/00003_00026_00005.png\\n', 'data/images/00003_00017_00004.png\\n', 'data/images/00008_00013_00025.png\\n', 'data/images/00003_00031_00009.png\\n', 'data/images/00003_00000_00027.png\\n', 'data/images/00001_00066_00024.png\\n', 'data/images/00007_00023_00017.png\\n', 'data/images/00005_00023_00008.png\\n', 'data/images/00001_00032_00003.png\\n', 'data/images/00004_00013_00023.png\\n', 'data/images/00004_00021_00004.png\\n', 'data/images/00005_00017_00004.png\\n', 'data/images/00007_00013_00015.png\\n', 'data/images/00005_00012_00015.png\\n', 'data/images/00008_00012_00016.png\\n', 'data/images/00005_00019_00029.png\\n', 'data/images/00005_00047_00023.png\\n', 'data/images/00005_00021_00011.png\\n', 'data/images/00007_00021_00024.png\\n', 'data/images/00003_00027_00004.png\\n', 'data/images/00007_00041_00023.png\\n', 'data/images/00003_00042_00023.png\\n', 'data/images/00001_00011_00013.png\\n', 'data/images/00004_00054_00020.png\\n', 'data/images/00004_00011_00029.png\\n', 'data/images/00002_00064_00016.png\\n', 'data/images/00004_00008_00012.png\\n', 'data/images/00002_00015_00008.png\\n', 'data/images/00003_00017_00025.png\\n', 'data/images/00003_00043_00027.png\\n', 'data/images/00005_00039_00029.png\\n', 'data/images/00002_00024_00028.png\\n', 'data/images/00001_00069_00018.png\\n', 'data/images/00002_00017_00012.png\\n', 'data/images/00002_00056_00027.png\\n', 'data/images/00003_00032_00019.png\\n', 'data/images/00002_00074_00009.png\\n', 'data/images/00004_00031_00028.png\\n', 'data/images/00002_00035_00002.png\\n', 'data/images/00002_00028_00014.png\\n', 'data/images/00001_00022_00004.png\\n', 'data/images/00008_00010_00008.png\\n', 'data/images/00003_00035_00025.png\\n', 'data/images/00007_00023_00011.png\\n', 'data/images/00001_00049_00007.png\\n', 'data/images/00007_00024_00015.png\\n', 'data/images/00003_00035_00015.png\\n', 'data/images/00007_00031_00020.png\\n', 'data/images/00002_00007_00006.png\\n', 'data/images/00003_00038_00012.png\\n', 'data/images/00005_00012_00022.png\\n', 'data/images/00005_00004_00012.png\\n', 'data/images/00002_00064_00006.png\\n', 'data/images/00001_00061_00013.png\\n', 'data/images/00002_00000_00009.png\\n', 'data/images/00001_00038_00011.png\\n', 'data/images/00005_00009_00003.png\\n', 'data/images/00001_00046_00016.png\\n', 'data/images/00001_00070_00010.png\\n', 'data/images/00003_00006_00025.png\\n', 'data/images/00002_00018_00003.png\\n', 'data/images/00004_00039_00016.png\\n', 'data/images/00003_00019_00022.png\\n', 'data/images/00008_00037_00017.png\\n', 'data/images/00000_00006_00019.png\\n', 'data/images/00008_00035_00016.png\\n', 'data/images/00001_00048_00026.png\\n', 'data/images/00001_00043_00012.png\\n', 'data/images/00005_00035_00014.png\\n', 'data/images/00002_00055_00023.png\\n', 'data/images/00001_00036_00014.png\\n', 'data/images/00001_00020_00008.png\\n', 'data/images/00001_00049_00013.png\\n', 'data/images/00002_00064_00003.png\\n', 'data/images/00005_00035_00020.png\\n', 'data/images/00002_00038_00016.png\\n', 'data/images/00008_00033_00016.png\\n', 'data/images/00005_00034_00015.png\\n', 'data/images/00002_00061_00014.png\\n', 'data/images/00001_00039_00006.png\\n', 'data/images/00002_00051_00011.png\\n', 'data/images/00004_00033_00004.png\\n', 'data/images/00002_00046_00025.png\\n', 'data/images/00002_00030_00027.png\\n', 'data/images/00005_00044_00023.png\\n', 'data/images/00001_00060_00027.png\\n', 'data/images/00004_00065_00017.png\\n', 'data/images/00004_00014_00019.png\\n', 'data/images/00005_00019_00006.png\\n', 'data/images/00002_00012_00002.png\\n', 'data/images/00002_00010_00023.png\\n', 'data/images/00001_00058_00017.png\\n', 'data/images/00004_00061_00002.png\\n', 'data/images/00001_00004_00003.png\\n', 'data/images/00002_00042_00016.png\\n', 'data/images/00001_00072_00025.png\\n', 'data/images/00008_00024_00023.png\\n', 'data/images/00001_00046_00010.png\\n', 'data/images/00005_00048_00017.png\\n', 'data/images/00003_00020_00029.png\\n', 'data/images/00007_00003_00028.png\\n', 'data/images/00008_00023_00025.png\\n', 'data/images/00008_00007_00004.png\\n', 'data/images/00004_00038_00002.png\\n', 'data/images/00002_00022_00021.png\\n', 'data/images/00002_00004_00023.png\\n', 'data/images/00007_00031_00014.png\\n', 'data/images/00003_00043_00006.png\\n', 'data/images/00003_00032_00020.png\\n', 'data/images/00003_00038_00011.png\\n', 'data/images/00007_00041_00005.png\\n', 'data/images/00004_00056_00014.png\\n', 'data/images/00008_00009_00018.png\\n', 'data/images/00008_00005_00026.png\\n', 'data/images/00005_00000_00003.png\\n', 'data/images/00002_00039_00027.png\\n', 'data/images/00001_00056_00006.png\\n', 'data/images/00002_00020_00018.png\\n', 'data/images/00004_00034_00026.png\\n', 'data/images/00007_00047_00029.png\\n', 'data/images/00002_00031_00025.png\\n', 'data/images/00002_00030_00001.png\\n', 'data/images/00001_00008_00006.png\\n', 'data/images/00002_00012_00022.png\\n', 'data/images/00002_00073_00016.png\\n', 'data/images/00001_00025_00025.png\\n', 'data/images/00002_00074_00001.png\\n', 'data/images/00003_00000_00014.png\\n', 'data/images/00001_00038_00027.png\\n', 'data/images/00004_00062_00013.png\\n', 'data/images/00004_00063_00008.png\\n', 'data/images/00002_00061_00004.png\\n', 'data/images/00001_00051_00027.png\\n', 'data/images/00005_00010_00027.png\\n', 'data/images/00003_00044_00028.png\\n', 'data/images/00001_00029_00018.png\\n', 'data/images/00002_00047_00022.png\\n', 'data/images/00004_00051_00029.png\\n', 'data/images/00005_00035_00019.png\\n', 'data/images/00001_00023_00021.png\\n', 'data/images/00004_00001_00003.png\\n', 'data/images/00003_00040_00004.png\\n', 'data/images/00004_00056_00021.png\\n', 'data/images/00001_00071_00005.png\\n', 'data/images/00001_00065_00024.png\\n', 'data/images/00008_00033_00021.png\\n', 'data/images/00005_00005_00017.png\\n', 'data/images/00005_00045_00020.png\\n', 'data/images/00002_00073_00009.png\\n', 'data/images/00003_00044_00022.png\\n', 'data/images/00004_00025_00028.png\\n', 'data/images/00001_00045_00019.png\\n', 'data/images/00005_00041_00009.png\\n', 'data/images/00002_00073_00025.png\\n', 'data/images/00008_00013_00005.png\\n', 'data/images/00008_00013_00008.png\\n', 'data/images/00005_00043_00012.png\\n', 'data/images/00004_00053_00009.png\\n', 'data/images/00001_00064_00011.png\\n', 'data/images/00002_00037_00028.png\\n', 'data/images/00005_00004_00011.png\\n', 'data/images/00002_00033_00029.png\\n', 'data/images/00003_00038_00026.png\\n', 'data/images/00002_00024_00000.png\\n', 'data/images/00002_00067_00026.png\\n', 'data/images/00003_00010_00016.png\\n', 'data/images/00003_00007_00020.png\\n', 'data/images/00002_00015_00020.png\\n', 'data/images/00007_00036_00009.png\\n', 'data/images/00003_00022_00021.png\\n', 'data/images/00004_00054_00023.png\\n', 'data/images/00005_00036_00027.png\\n', 'data/images/00004_00048_00004.png\\n', 'data/images/00002_00064_00026.png\\n', 'data/images/00002_00069_00026.png\\n', 'data/images/00004_00057_00016.png\\n', 'data/images/00005_00046_00024.png\\n', 'data/images/00001_00038_00005.png\\n', 'data/images/00007_00006_00015.png\\n', 'data/images/00004_00037_00029.png\\n', 'data/images/00001_00010_00022.png\\n', 'data/images/00004_00052_00029.png\\n', 'data/images/00008_00038_00016.png\\n', 'data/images/00008_00034_00022.png\\n', 'data/images/00008_00030_00025.png\\n', 'data/images/00005_00051_00017.png\\n', 'data/images/00004_00054_00011.png\\n', 'data/images/00003_00040_00016.png\\n', 'data/images/00001_00070_00026.png\\n', 'data/images/00002_00065_00023.png\\n', 'data/images/00005_00019_00012.png\\n', 'data/images/00004_00015_00007.png\\n', 'data/images/00003_00034_00020.png\\n', 'data/images/00001_00036_00016.png\\n', 'data/images/00003_00022_00026.png\\n', 'data/images/00001_00072_00020.png\\n', 'data/images/00002_00036_00024.png\\n', 'data/images/00001_00000_00025.png\\n', 'data/images/00007_00024_00023.png\\n', 'data/images/00003_00000_00026.png\\n', 'data/images/00003_00002_00024.png\\n', 'data/images/00008_00009_00017.png\\n', 'data/images/00001_00050_00014.png\\n', 'data/images/00001_00005_00015.png\\n', 'data/images/00001_00007_00020.png\\n', 'data/images/00008_00035_00020.png\\n', 'data/images/00005_00045_00022.png\\n', 'data/images/00002_00054_00025.png\\n', 'data/images/00004_00015_00003.png\\n', 'data/images/00004_00026_00021.png\\n', 'data/images/00001_00014_00019.png\\n', 'data/images/00001_00070_00029.png\\n', 'data/images/00002_00041_00015.png\\n', 'data/images/00001_00011_00005.png\\n', 'data/images/00002_00058_00015.png\\n', 'data/images/00008_00000_00014.png\\n', 'data/images/00004_00019_00009.png\\n', 'data/images/00005_00058_00014.png\\n', 'data/images/00005_00036_00016.png\\n', 'data/images/00008_00015_00021.png\\n', 'data/images/00005_00036_00024.png\\n', 'data/images/00002_00048_00023.png\\n', 'data/images/00005_00044_00017.png\\n', 'data/images/00005_00005_00028.png\\n', 'data/images/00002_00068_00019.png\\n', 'data/images/00002_00051_00000.png\\n', 'data/images/00001_00029_00021.png\\n', 'data/images/00001_00031_00028.png\\n', 'data/images/00005_00032_00014.png\\n', 'data/images/00002_00018_00001.png\\n', 'data/images/00007_00007_00024.png\\n', 'data/images/00004_00060_00018.png\\n', 'data/images/00000_00003_00011.png\\n', 'data/images/00003_00014_00001.png\\n', 'data/images/00002_00051_00005.png\\n', 'data/images/00001_00070_00023.png\\n', 'data/images/00003_00034_00012.png\\n', 'data/images/00001_00048_00022.png\\n', 'data/images/00007_00047_00018.png\\n', 'data/images/00001_00006_00027.png\\n', 'data/images/00005_00009_00009.png\\n', 'data/images/00005_00049_00001.png\\n', 'data/images/00008_00011_00004.png\\n', 'data/images/00004_00030_00012.png\\n', 'data/images/00004_00000_00010.png\\n', 'data/images/00002_00012_00001.png\\n', 'data/images/00003_00039_00004.png\\n', 'data/images/00001_00038_00006.png\\n', 'data/images/00004_00001_00006.png\\n', 'data/images/00005_00009_00015.png\\n', 'data/images/00004_00028_00003.png\\n', 'data/images/00008_00011_00011.png\\n', 'data/images/00002_00041_00020.png\\n', 'data/images/00004_00032_00025.png\\n', 'data/images/00001_00068_00018.png\\n', 'data/images/00005_00031_00022.png\\n', 'data/images/00002_00020_00000.png\\n', 'data/images/00007_00021_00019.png\\n', 'data/images/00002_00059_00007.png\\n', 'data/images/00001_00020_00014.png\\n', 'data/images/00002_00038_00025.png\\n', 'data/images/00002_00014_00014.png\\n', 'data/images/00004_00009_00012.png\\n', 'data/images/00000_00002_00026.png\\n', 'data/images/00001_00050_00020.png\\n', 'data/images/00004_00014_00021.png\\n', 'data/images/00001_00058_00026.png\\n', 'data/images/00007_00022_00016.png\\n', 'data/images/00008_00029_00027.png\\n', 'data/images/00007_00043_00010.png\\n', 'data/images/00002_00028_00022.png\\n', 'data/images/00004_00027_00027.png\\n', 'data/images/00005_00012_00017.png\\n', 'data/images/00005_00021_00024.png\\n', 'data/images/00003_00016_00013.png\\n', 'data/images/00004_00047_00025.png\\n', 'data/images/00004_00047_00006.png\\n', 'data/images/00007_00026_00029.png\\n', 'data/images/00002_00013_00020.png\\n', 'data/images/00007_00002_00019.png\\n', 'data/images/00004_00033_00028.png\\n', 'data/images/00007_00025_00023.png\\n', 'data/images/00003_00034_00004.png\\n', 'data/images/00005_00030_00016.png\\n', 'data/images/00005_00012_00009.png\\n', 'data/images/00004_00037_00003.png\\n', 'data/images/00003_00045_00015.png\\n', 'data/images/00008_00004_00001.png\\n', 'data/images/00002_00012_00003.png\\n', 'data/images/00002_00072_00013.png\\n', 'data/images/00002_00036_00018.png\\n', 'data/images/00008_00043_00010.png\\n', 'data/images/00007_00047_00026.png\\n', 'data/images/00001_00015_00014.png\\n', 'data/images/00001_00029_00028.png\\n', 'data/images/00002_00010_00029.png\\n', 'data/images/00005_00041_00017.png\\n', 'data/images/00003_00040_00009.png\\n', 'data/images/00002_00001_00019.png\\n', 'data/images/00003_00019_00000.png\\n', 'data/images/00007_00013_00009.png\\n', 'data/images/00005_00004_00023.png\\n', 'data/images/00001_00073_00027.png\\n', 'data/images/00001_00064_00018.png\\n']\n"
          ],
          "name": "stdout"
        }
      ]
    },
    {
      "cell_type": "code",
      "metadata": {
        "colab": {
          "base_uri": "https://localhost:8080/"
        },
        "id": "oha2zRA4BBEk",
        "outputId": "e1e3ba54-7fdb-4d07-c24c-7d93c3a3b1a7"
      },
      "source": [
        "print(len(os.listdir('/content/gdrive/MyDrive/RecogSign/Resized/Resized5')))"
      ],
      "execution_count": null,
      "outputs": [
        {
          "output_type": "stream",
          "text": [
            "781\n"
          ],
          "name": "stdout"
        }
      ]
    },
    {
      "cell_type": "code",
      "metadata": {
        "colab": {
          "base_uri": "https://localhost:8080/"
        },
        "id": "FxVlSN9aF3yp",
        "outputId": "755edc3e-88d8-4488-963a-dd8cefad1d7a"
      },
      "source": [
        "!unzip /content/gdrive/MyDrive/RecogSign/darknet.zip"
      ],
      "execution_count": null,
      "outputs": [
        {
          "output_type": "stream",
          "text": [
            "unzip:  cannot find or open /content/gdrive/MyDrive/RecogSign/darknet.zip, /content/gdrive/MyDrive/RecogSign/darknet.zip.zip or /content/gdrive/MyDrive/RecogSign/darknet.zip.ZIP.\n"
          ],
          "name": "stdout"
        }
      ]
    },
    {
      "cell_type": "code",
      "metadata": {
        "colab": {
          "base_uri": "https://localhost:8080/"
        },
        "id": "cyp0GXaUGZwL",
        "outputId": "c771f44c-9c36-44e3-84ff-105939021f9a"
      },
      "source": [
        "%cd /content/gdrive/MyDrive/RecogSign/darknet\n",
        "# !make\n",
        "# !chmod +x ./darknet"
      ],
      "execution_count": null,
      "outputs": [
        {
          "output_type": "stream",
          "text": [
            "[Errno 2] No such file or directory: '/content/gdrive/MyDrive/RecogSign/darknet'\n",
            "/content\n"
          ],
          "name": "stdout"
        }
      ]
    },
    {
      "cell_type": "code",
      "metadata": {
        "colab": {
          "base_uri": "https://localhost:8080/"
        },
        "id": "KAkQNk9SHGYG",
        "outputId": "2b6e5584-3256-48dd-def6-a34a55690a9a"
      },
      "source": [
        "!ls /content/gdrive/MyDrive/RecogSign/"
      ],
      "execution_count": null,
      "outputs": [
        {
          "output_type": "stream",
          "text": [
            " Annotations\t    Meta.csv\t\t\t   Test.csv\n",
            " backup\t\t    model.f5.data-00000-of-00001   Train\n",
            " checkpoint\t    model.f5.index\t\t   Train.csv\n",
            " darknet\t    model.json\t\t\t   train.txt\n",
            " darknet1\t    NewPreprocessed\t\t   val.txt\n",
            "'darknet (1).zip'   Preprocessed\t\t   YOLO_Format\n",
            " darknet.zip\t    Resized\n",
            " Meta\t\t    Test\n"
          ],
          "name": "stdout"
        }
      ]
    },
    {
      "cell_type": "code",
      "metadata": {
        "id": "Y7vA1o6rOl_L"
      },
      "source": [
        "!ls /content/gdrive/MyDrive/RecogSign/darknet1/darknet/data/images/"
      ],
      "execution_count": null,
      "outputs": []
    },
    {
      "cell_type": "code",
      "metadata": {
        "colab": {
          "base_uri": "https://localhost:8080/"
        },
        "id": "gxIpkk_vTW_M",
        "outputId": "9f4ee0c5-c18f-4175-9e82-61945904ea04"
      },
      "source": [
        "# open both files \n",
        "\n",
        "base_folder = '/content/gdrive/MyDrive/RecogSign/YOLO_Format/'\n",
        "dest_folder = '/content/gdrive/MyDrive/RecogSign/darknet1/darknet/data/labels/'\n",
        "\n",
        "for filen in os.listdir(base_folder):\n",
        "  dest_path = dest_folder + filen\n",
        "  src = open(base_folder + filen, 'r')\n",
        "  dest = open(dest_folder + filen, 'w') \n",
        "  for line in src:\n",
        "    dest.write(line)\n",
        "print(\"done\")"
      ],
      "execution_count": null,
      "outputs": [
        {
          "output_type": "stream",
          "text": [
            "done\n"
          ],
          "name": "stdout"
        }
      ]
    },
    {
      "cell_type": "code",
      "metadata": {
        "colab": {
          "base_uri": "https://localhost:8080/",
          "height": 164
        },
        "id": "82g4CryFXm_F",
        "outputId": "9612948a-781b-4448-ab59-6be4f899e02c"
      },
      "source": [
        "import os\n",
        "print(len(os.listdir('/content/gdrive/MyDrive/RecogSign/darknet1/darknet/data/images/')))"
      ],
      "execution_count": null,
      "outputs": [
        {
          "output_type": "error",
          "ename": "NameError",
          "evalue": "ignored",
          "traceback": [
            "\u001b[0;31m---------------------------------------------------------------------------\u001b[0m",
            "\u001b[0;31mNameError\u001b[0m                                 Traceback (most recent call last)",
            "\u001b[0;32m<ipython-input-1-3418fcd711e2>\u001b[0m in \u001b[0;36m<module>\u001b[0;34m()\u001b[0m\n\u001b[0;32m----> 1\u001b[0;31m \u001b[0mprint\u001b[0m\u001b[0;34m(\u001b[0m\u001b[0mlen\u001b[0m\u001b[0;34m(\u001b[0m\u001b[0mos\u001b[0m\u001b[0;34m.\u001b[0m\u001b[0mlistdir\u001b[0m\u001b[0;34m(\u001b[0m\u001b[0;34m'/content/gdrive/MyDrive/RecogSign/darknet1/darknet/data/images/'\u001b[0m\u001b[0;34m)\u001b[0m\u001b[0;34m)\u001b[0m\u001b[0;34m)\u001b[0m\u001b[0;34m\u001b[0m\u001b[0;34m\u001b[0m\u001b[0m\n\u001b[0m",
            "\u001b[0;31mNameError\u001b[0m: name 'os' is not defined"
          ]
        }
      ]
    }
  ]
}